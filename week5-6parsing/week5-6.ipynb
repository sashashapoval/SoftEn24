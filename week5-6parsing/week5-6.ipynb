{
 "cells": [
  {
   "cell_type": "markdown",
   "metadata": {},
   "source": [
    "![ ](https://1.bp.blogspot.com/-1K2QZ8EF9ic/VM-jFqXTFsI/AAAAAAAAFyQ/UtozSbBm614/w1200-h630-p-k-no-nu/DelMe.jpg)\n",
    "\n",
    "# <center> Web scraping and parsing <br>  </center>\n"
   ]
  },
  {
   "cell_type": "markdown",
   "metadata": {},
   "source": [
    "* [Basics](#basics)\n",
    "* [What if the server is mad at you](#mad)\n",
    "* [API and how to handle it](#api)\n",
    "* [Some tricks](#tips)\n",
    "* [Recommended materials](#recs)"
   ]
  },
  {
   "cell_type": "markdown",
   "metadata": {},
   "source": [
    "# 1. Basics <a name='basics'></a>"
   ]
  },
  {
   "cell_type": "markdown",
   "metadata": {},
   "source": [
    "### In short, it's all about automatic data collection and transformation of downloaded string/binary data into a pretty data structure to work with. \n",
    "\n",
    "Key notions:\n",
    "\n",
    "* **Web scraping** is data collection from websites. In other words, it is a technique used for extracting large amounts of data from web pages, in which the data is retrieved and then stored in a file on your computer or in a database in a table.\n",
    "\n",
    "* **Parsing** (in computer science). In practice, parsing is almost always turning a string, or binary data, into a data structure inside your program. The term is also used to describe a split or separation. Formally speaking, it is a syntactic analysis of the input symbols into its component parts in order to facilitate the writing of compilers and interpreters."
   ]
  },
  {
   "cell_type": "markdown",
   "metadata": {},
   "source": [
    "## What is HTML? \n",
    "\n",
    "**HTML (HyperText Markup Language)**  — is the standard markup language (like LaTeX or Markdown) for documents designed to be displayed in a web browser (Google Chrome, Safari or any other). So, it's a standard language for writing various sites. \n",
    "\n",
    "HTML **tags** are the foundation of the HTML language. Tags are used to delimit the beginning and end of elements in markup.\n",
    "\n",
    "\n",
    "An HTML page is a collection of nested tags. Example of tags:\n",
    "\n",
    "- `<title>` - page title\n",
    "- `<h1> ... <h6>` - headings of different levels\n",
    "- `<p>` - paragraph\n",
    "- `<div>` - a division or a section in a document, it is used as a container for HTML elements\n",
    "- `<table>` - drawing the table\n",
    "- `<tr>` - separator for rows in the table\n",
    "- `<td>` - separator for columns in the table\n",
    "- `<b>` - sets the font to bold\n",
    "- `<i>` - italic text\n",
    "\n",
    "Command `<...>` opens a tag and `</...>` closes it. The tag properties apply to everything in between the two commands. For instance, everuthing in between `<p>` and `</p>` — is a separate paragraph.   \n",
    "\n",
    "Tags form a tree rooted in the `<html>` tag and break the page into different logical pieces. Each tag has its own parents and their descendants (children) - those tags that are nested.\n",
    "\n",
    "Example of HTML-tree:\n",
    "\n",
    "\n",
    "````html\n",
    "<html>\n",
    "    <head> Some regular title </head>\n",
    "    <body>\n",
    "        <div>\n",
    "            The first piece of text. \n",
    "        </div>\n",
    "        <div>\n",
    "            Some text here.\n",
    "                <b>\n",
    "                    This text will be bold. \n",
    "                </b>\n",
    "        </div>\n",
    "        One more piece of text...\n",
    "    </body>\n",
    "</html>\n",
    "````\n",
    "\n",
    "You can work with this html as with text, or as a tree. Traversing this tree is web page parsing. We will just find the nodes we need among all this variety and take information from them!\n",
    "\n",
    "<center>\n",
    "<img src=\"https://raw.githubusercontent.com/hse-econ-data-science/eds_spring_2020/master/sem05_parsing/image/tree.png\" width=\"450\"> "
   ]
  },
  {
   "cell_type": "code",
   "execution_count": 1,
   "metadata": {
    "scrolled": true
   },
   "outputs": [
    {
     "data": {
      "text/plain": [
       "<Response [200]>"
      ]
     },
     "execution_count": 1,
     "metadata": {},
     "output_type": "execute_result"
    }
   ],
   "source": [
    "import requests  \n",
    "\n",
    "url = 'https://www.whitehouse.gov/briefing-room/press-briefings/2022/03/31/background-press-call-by-senior-administration-officials-on-president-bidens-plan-to-respond-to-putins-price-hike-at-the-pump/'\n",
    "response = requests.get(url)\n",
    "response"
   ]
  },
  {
   "cell_type": "markdown",
   "metadata": {},
   "source": [
    "Response 200 means that connection established and data received, everything is wonderful! If you try to navigate to a non-existent page, you can get, for example, the famous 404 error."
   ]
  },
  {
   "cell_type": "code",
   "execution_count": 2,
   "metadata": {},
   "outputs": [
    {
     "data": {
      "text/plain": [
       "<Response [404]>"
      ]
     },
     "execution_count": 2,
     "metadata": {},
     "output_type": "execute_result"
    }
   ],
   "source": [
    "requests.get('https://www.whitehouse.gov/common_sense')"
   ]
  },
  {
   "cell_type": "markdown",
   "metadata": {},
   "source": [
    "Entry of the response is the html markup of the page that we are parsing."
   ]
  },
  {
   "cell_type": "code",
   "execution_count": 3,
   "metadata": {},
   "outputs": [
    {
     "data": {
      "text/plain": [
       "b'<!doctype html>\\n<html class=\"no-js alert__has-cookie\" lang=\"en-US\">\\n<head>\\n\\t<meta charset=\"utf-8\">\\n\\t<meta name=\"google\" content=\"notranslate\">\\n\\t<meta http-equiv=\"X-UA-Compatible\" content=\"IE=edge\">\\n\\t<meta name=\"viewport\" content=\"width=device-width, initial-scale=1\">\\n\\t<link rel=\"profile\" href=\"https://gmpg.org/xfn/11\">\\n\\t\\n\\t<!-- If you\\'re reading this, we need your help building back better. https://usds.gov/ -->\\n<meta name=\\'robots\\' content=\\'index, follow, max-image-preview:large, max-snippet:-1, max-video-preview:-1\\' />\\n\\n\\t<title>Background Press Call by Senior Administration Officials on President Biden&#039;s Plan to Respond to Putin&#039;s Price Hike at the Pump | The White House</title>\\n\\t<link rel=\"canonical\" href=\"https://www.whitehouse.gov/briefing-room/press-briefings/2022/03/31/background-press-call-by-senior-administration-officials-on-president-bidens-plan-to-respond-to-putins-price-hike-at-the-pump/\" />\\n\\t<meta property=\"og:locale\" content=\"en_US\" />\\n\\t<meta property=\"og:type\" c'"
      ]
     },
     "execution_count": 3,
     "metadata": {},
     "output_type": "execute_result"
    }
   ],
   "source": [
    "response.content[:1000]"
   ]
  },
  {
   "cell_type": "markdown",
   "metadata": {},
   "source": [
    "It looks like something hard to work with.\n",
    "\n",
    "The **[`bs4`](https://www.crummy.com/software/BeautifulSoup/)** a.k.a **BeautifulSoup** package was named after a poem about a beautiful soup from Alice in Wonderland. This is a completely magical library that from the raw HTML (or XML) code of the page will give you a structured array of data, by which it is very convenient to search for the necessary tags, classes, attributes, texts and other elements of web pages.\n",
    "\n",
    "<img align=\"center\" src=\"https://raw.githubusercontent.com/hse-econ-data-science/eds_spring_2020/master/sem05_parsing/image/alisa.jpg\" height=\"200\" width=\"200\"> \n"
   ]
  },
  {
   "cell_type": "code",
   "execution_count": 4,
   "metadata": {},
   "outputs": [],
   "source": [
    "from bs4 import BeautifulSoup\n",
    "\n",
    "# parse page into a tree\n",
    "tree = BeautifulSoup(response.content, 'html.parser')"
   ]
  },
  {
   "cell_type": "markdown",
   "metadata": {},
   "source": [
    "The variable `tree` contains the tree of tags that can be examined. "
   ]
  },
  {
   "cell_type": "code",
   "execution_count": 7,
   "metadata": {},
   "outputs": [],
   "source": [
    "#tree"
   ]
  },
  {
   "cell_type": "markdown",
   "metadata": {},
   "source": [
    "You can see the structure of the web-page with the method `prettify()`"
   ]
  },
  {
   "cell_type": "code",
   "execution_count": 5,
   "metadata": {},
   "outputs": [
    {
     "name": "stdout",
     "output_type": "stream",
     "text": [
      "<!DOCTYPE html>\n",
      "<html class=\"no-js alert__has-cookie\" lang=\"en-US\">\n",
      " <head>\n",
      "  <meta charset=\"utf-8\"/>\n",
      "  <meta content=\"notranslate\" name=\"google\"/>\n",
      "  <meta content=\"IE=edge\" http-equiv=\"X-UA-Compatible\"/>\n",
      "  <meta content=\"width=device-width, initial-scale=1\" name=\"viewport\"/>\n",
      "  <link href=\"https://gmpg.org/xfn/11\" rel=\"profile\"/>\n",
      "  <!-- If you're reading this, we need your help building back better. https://usds.gov/ -->\n",
      "  <meta content=\"index, follow, max-image-preview:large, max-snippet:-1, max-video-preview:-1\" name=\"robots\">\n",
      "   <title>\n",
      "    Background Press Call by Senior Administration Officials on President Biden's Plan to Respond to Putin's Price Hike at the Pump | The White House\n",
      "   </title>\n",
      "   <link href=\"https://www.whitehouse.gov/briefing-room/press-briefings/2022/03/31/background-press-call-by-senior-administration-officials-on-president-bidens-plan-to-respond-to-putins-price-hike-at-the-pump/\" rel=\"canonical\">\n",
      "    <meta content=\"en_US\" property=\"og:locale\">\n",
      "     <meta content=\"article\" property=\"og:type\">\n",
      "      <meta content=\"Background Press Call by Senior Administration Officials on President Biden's Plan to Respond to Putin's Price Hike at the Pump | The White House\" property=\"og:title\">\n",
      "       <meta content=\"Via Teleconference 10:51 A.M. EDT MS. SIMONS:  Thank you so much for joining this call.  As a reminder, this call is on background as “senior administration officials” and is not under embargo.      On this call, our senior administration officials will provide an overview on President Biden’s plan to respond to Putin’s price hike at…\" property=\"og:description\"/>\n",
      "       <meta content=\"https://www.whitehouse.gov/briefing-room/press-briefings/2022/03/31/background-press-call-by-senior-administration-officials-on-president-bidens-plan-to-respond-to-putins-price-hike-at-the-pump/\" property=\"og:url\"/>\n",
      "       <meta content=\"The White House\" property=\"og:site_name\"/>\n",
      "       <meta content=\"https://www.facebook.com/WhiteHouse/\" property=\"article:publisher\"/>\n",
      "       <meta content=\"2022-03-31T18:06:30+00:00\" property=\"article:published_time\"/>\n",
      "       <meta content=\"https://www.whitehouse.gov/wp-content/uploads/2021/01/wh_social-share.png\" property=\"og:image\"/>\n",
      "       <meta content=\"1200\" property=\"og:image:width\"/>\n",
      "       <meta content=\"630\" property=\"og:image:height\"/>\n",
      "       <meta content=\"image/png\" property=\"og:image:type\"/>\n",
      "       <meta content=\"The White House\" name=\"author\"/>\n",
      "       <meta content=\"summary_large_image\" name=\"twitter:card\"/>\n",
      "       <meta content=\"@whitehouse\" name=\"twitter:creator\"/>\n",
      "       <meta content=\"@whitehouse\" name=\"twitter:site\"/>\n",
      "       <script type=\"application/ld+json\">\n",
      "        {\"@context\":\"https://schema.org\",\"@graph\":[{\"@type\":\"Article\",\"@id\":\"https://www.whitehouse.gov/briefing-room/press-briefings/2022/03/31/background-press-call-by-senior-administration-officials-on-president-bidens-plan-to-respond-to-putins-price-hike-at-the-pump/#article\",\"isPartOf\":{\"@id\":\"https://www.whitehouse.gov/briefing-room/press-briefings/2022/03/31/background-press-call-by-senior-administration-officials-on-president-bidens-plan-to-respond-to-putins-price-hike-at-the-pump/\"},\"author\":{\"@id\":\"https://www.whitehouse.gov/#organization\"},\"headline\":\"Background Press Call by Senior Administration Officials on President Biden&#8217;s Plan to Respond to Putin&#8217;s Price Hike at the Pump\",\"datePublished\":\"2022-03-31T18:06:30+00:00\",\"dateModified\":\"2022-03-31T18:06:30+00:00\",\"mainEntityOfPage\":{\"@id\":\"https://www.whitehouse.gov/briefing-room/press-briefings/2022/03/31/background-press-call-by-senior-administration-officials-on-president-bidens-plan-to-respond-to-putins-price-hike-at-the-pump/\"},\"wordCount\":4436,\"publisher\":{\"@id\":\"https://www.whitehouse.gov/#organization\"},\"articleSection\":[\"Press Briefings\"],\"inLanguage\":\"en-US\"},{\"@type\":\"WebPage\",\"@id\":\"https://www.whitehouse.gov/briefing-room/press-briefings/2022/03/31/background-press-call-by-senior-administration-officials-on-president-bidens-plan-to-respond-to-putins-price-hike-at-the-pump/\",\"url\":\"https://www.whitehouse.gov/briefing-room/press-briefings/2022/03/31/background-press-call-by-senior-administration-officials-on-president-bidens-plan-to-respond-to-putins-price-hike-at-the-pump/\",\"name\":\"Background Press Call by Senior Administration Officials on President Biden's Plan to Respond to Putin's Price Hike at the Pump | The White House\",\"isPartOf\":{\"@id\":\"https://www.whitehouse.gov/#website\"},\"datePublished\":\"2022-03-31T18:06:30+00:00\",\"dateModified\":\"2022-03-31T18:06:30+00:00\",\"breadcrumb\":{\"@id\":\"https://www.whitehouse.gov/briefing-room/press-briefings/2022/03/31/background-press-call-by-senior-administration-officials-on-president-bidens-plan-to-respond-to-putins-price-hike-at-the-pump/#breadcrumb\"},\"inLanguage\":\"en-US\",\"potentialAction\":[{\"@type\":\"ReadAction\",\"target\":[\"https://www.whitehouse.gov/briefing-room/press-briefings/2022/03/31/background-press-call-by-senior-administration-officials-on-president-bidens-plan-to-respond-to-putins-price-hike-at-the-pump/\"]}]},{\"@type\":\"BreadcrumbList\",\"@id\":\"https://www.whitehouse.gov/briefing-room/press-briefings/2022/03/31/background-press-call-by-senior-administration-officials-on-president-bidens-plan-to-respond-to-putins-price-hike-at-the-pump/#breadcrumb\",\"itemListElement\":[{\"@type\":\"ListItem\",\"position\":1,\"name\":\"Home\",\"item\":\"https://www.whitehouse.gov/\"},{\"@type\":\"ListItem\",\"position\":2,\"name\":\"Press Briefings\",\"item\":\"https://www.whitehouse.gov/briefing-room/press-briefings/\"},{\"@type\":\"ListItem\",\"position\":3,\"name\":\"Background Press Call by Senior Administration Officials on President Biden&#8217;s Plan to Respond to Putin&#8217;s Price Hike at the Pump\"}]},{\"@type\":\"WebSite\",\"@id\":\"https://www.whitehouse.gov/#website\",\"url\":\"https://www.whitehouse.gov/\",\"name\":\"The White House\",\"description\":\"\",\"publisher\":{\"@id\":\"https://www.whitehouse.gov/#organization\"},\"potentialAction\":[{\"@type\":\"SearchAction\",\"target\":{\"@type\":\"EntryPoint\",\"urlTemplate\":\"https://www.whitehouse.gov/?s={search_term_string}\"},\"query-input\":\"required name=search_term_string\"}],\"inLanguage\":\"en-US\"},{\"@type\":\"Organization\",\"@id\":\"https://www.whitehouse.gov/#organization\",\"name\":\"The White House\",\"url\":\"https://www.whitehouse.gov/\",\"logo\":{\"@type\":\"ImageObject\",\"inLanguage\":\"en-US\",\"@id\":\"https://www.whitehouse.gov/#/schema/logo/image/\",\"url\":\"https://www.whitehouse.gov/wp-content/uploads/2021/01/cropped-cropped-wh_favicon.png\",\"contentUrl\":\"https://www.whitehouse.gov/wp-content/uploads/2021/01/cropped-cropped-wh_favicon.png\",\"width\":512,\"height\":512,\"caption\":\"The White House\"},\"image\":{\"@id\":\"https://www.whitehouse.gov/#/schema/logo/image/\"},\"sameAs\":[\"https://www.facebook.com/WhiteHouse/\",\"https://twitter.com/whitehouse\",\"https://www.instagram.com/whitehouse/\",\"https://www.youtube.com/whitehouse\"]}]}\n",
      "       </script>\n",
      "       <link as=\"font\" crossorigin=\"anonymous\" href=\"https://www.whitehouse.gov/wp-content/themes/whitehouse/assets/fonts/Decimal-Book.woff2\" rel=\"preload\" type=\"font/woff2\"/>\n",
      "       <link as=\"font\" crossorigin=\"anonymous\" href=\"https://www.whitehouse.gov/wp-content/themes/whitehouse/assets/fonts/Decimal-Semibold.woff2\" rel=\"preload\" type=\"font/woff2\"/>\n",
      "       <link as=\"font\" crossorigin=\"anonymous\" href=\"https://www.whitehouse.gov/wp-content/themes/whitehouse/assets/fonts/Decimal-Medium_Web.woff2\" rel=\"preload\" type=\"font/woff2\"/>\n",
      "       <link as=\"font\" crossorigin=\"anonymous\" href=\"https://www.whitehouse.gov/wp-content/themes/whitehouse/assets/fonts/Decimal-Bold.woff2\" rel=\"preload\" type=\"font/woff2\"/>\n",
      "       <link as=\"font\" crossorigin=\"anonymous\" href=\"https://www.whitehouse.gov/wp-content/themes/whitehouse/assets/fonts/MercuryTextG2-Semibold-Pro_Web.woff2\" rel=\"preload\" type=\"font/woff2\"/>\n",
      "       <link as=\"font\" crossorigin=\"anonymous\" href=\"https://www.whitehouse.gov/wp-content/themes/whitehouse/assets/fonts/MercurySSm-Book-Pro_Web.woff2\" rel=\"preload\" type=\"font/woff2\"/>\n",
      "       <link as=\"font\" crossorigin=\"anonymous\" href=\"https://www.whitehouse.gov/wp-content/themes/whitehouse/assets/fonts/MercurySSm-Bold-Pro_Web.woff2\" rel=\"preload\" type=\"font/woff2\"/>\n",
      "       <link href=\"https://www.whitehouse.gov/wp-includes/css/dist/block-library/style.min.css?m=1710875768g\" id=\"all-css-0\" media=\"all\" rel=\"stylesheet\" type=\"text/css\">\n",
      "        <style id=\"classic-theme-styles-inline-css\">\n",
      "         /*! This file is auto-generated */\n",
      ".wp-block-button__link{color:#fff;background-color:#32373c;border-radius:9999px;box-shadow:none;text-decoration:none;padding:calc(.667em + 2px) calc(1.333em + 2px);font-size:1.125em}.wp-block-file__button{background:#32373c;color:#fff;text-decoration:none}\n",
      "        </style>\n",
      "        <link href=\"https://www.whitehouse.gov/wp-content/themes/whitehouse/assets/css/style.min.css?m=1710943101g\" id=\"all-css-2\" media=\"all\" rel=\"stylesheet\" type=\"text/css\">\n",
      "         <script src=\"https://www.whitehouse.gov/wp-includes/js/jquery/jquery.min.js?m=1710875769g\" type=\"text/javascript\">\n",
      "         </script>\n",
      "         <link href=\"https://www.googletagmanager.com\" rel=\"preconnect\"/>\n",
      "         <link href=\"https://www.google-analytics.com\" rel=\"preconnect\"/>\n",
      "         <link href=\"/wp-content/images/site.webmanifest\" rel=\"manifest\"/>\n",
      "         <link href=\"/favicon.ico\" rel=\"icon\" sizes=\"any\" type=\"image/x-icon\"/>\n",
      "         <link href=\"/wp-content/images/favicon-32x32.png\" rel=\"icon\" sizes=\"32x32\" type=\"image/png\"/>\n",
      "         <link href=\"/wp-content/images/favicon-16x16.png\" rel=\"icon\" sizes=\"16x16\" type=\"image/png\"/>\n",
      "         <link href=\"/wp-content/images/apple-touch-icon.png\" rel=\"apple-touch-icon\" sizes=\"180x180\"/>\n",
      "         <link color=\"#5bbad5\" href=\"/wp-content/images/safari-pinned-tab.svg\" rel=\"mask-icon\"/>\n",
      "         <meta content=\"The White House\" name=\"apple-mobile-web-app-title\"/>\n",
      "         <meta content=\"The White House\" name=\"application-name\"/>\n",
      "         <script>\n",
      "          /*bundle-header.js*/!function(n){\"function\"==typeof define&&define.amd?define(\"bundleActionnetworkLabels\",n):n()}((function(){\"use strict\";var n=document.documentElement,e=n.style;n.className=n.className.replace(\"no-js\",\"js\");var t=function(){return e.setProperty(\"--vh\",\"\".concat(.01*window.innerHeight,\"px\"))};t(),window.setVHUnit=t;var i=function(){return e.setProperty(\"--scrollbarWidth\",\"\".concat(window.innerWidth-n.clientWidth,\"px\"))};i(),window.setScrollbarWidth=i,window.llItems=[]}));\n",
      "         </script>\n",
      "         <!-- We participate in the US government's analytics program. See the data at analytics.usa.gov. -->\n",
      "         <script async=\"\" id=\"_fed_an_ua_tag\" src=\"https://dap.digitalgov.gov/Universal-Federated-Analytics-Min.js?agency=EOP\">\n",
      "         </script>\n",
      "         <!-- Google Tag Manager -->\n",
      "         <script>\n",
      "          (function(w,d,s,l,i){w[l]=w[l]||[];w[l].push({'gtm.start':\n",
      "new Date().getTime(),event:'gtm.js'});var f=d.getElementsByTagName(s)[0],\n",
      "j=d.createElement(s),dl=l!='dataLayer'?'&l='+l:'';j.async=true;j.src=\n",
      "'https://www.googletagmanager.com/gtm.js?id='+i+dl;f.parentNode.insertBefore(j,f);\n",
      "})(window,document,'script','dataLayer','GTM-MCMPK29');\n",
      "         </script>\n",
      "         <!-- End Google Tag Manager -->\n",
      "        </link>\n",
      "       </link>\n",
      "      </meta>\n",
      "     </meta>\n",
      "    </meta>\n",
      "   </link>\n",
      "  </meta>\n",
      " </head>\n",
      " <body class=\"post-template-default single single-post postid-50193 wp-embed-responsive no-con no-font\">\n",
      "  <!-- Google Tag Manager (noscript) -->\n",
      "  <noscript>\n",
      "   <iframe height=\"0\" src=\"https://www.googletagmanager.com/ns.html?id=GTM-MCMPK29\" style=\"display:none;visibility:hidden\" width=\"0\">\n",
      "   </iframe>\n",
      "  </noscript>\n",
      "  <!-- End Google Tag Manager (noscript) -->\n",
      "  <a class=\"skip-link screen-reader-text\" href=\"#content\">\n",
      "   Skip to content\n",
      "  </a>\n",
      "  <div class=\"alert-bar\">\n",
      "  </div>\n",
      "  <script>\n",
      "   (function(opts){!function(e){\"function\"==typeof define&&define.amd?define(\"bilMap\",e):e()}((function(){\"use strict\";opts||(opts={liveNow:\"Live Now\",route:\"/live.json\",link:\"/live/\"});var e=function(e){var t=document.createElement(\"div\");t.className=\"alert-bar has-link ready-to-alert alert-bar--is-simple alert-bar--is-live\",t.innerHTML='\\n <div class=\"container-fluid\">\\n <a class=\"alert-bar__simple__link\" href=\"'.concat(opts.link,'\">\\n <span class=\"screen-reader-text\">').concat(opts.liveNow?opts.liveNow:\"Live Now\",\": \").concat(e.title,'</span>\\n </a>\\n <p><span aria-hidden=\"true\">').concat(opts.liveNow?opts.liveNow:\"Live Now\",\": \").concat(e.title,\"</span></p>\\n </div>\\n \");var n=document.querySelector(\".alert-bar\");if(n)n.parentNode.replaceChild(t,n);else{var i=document.querySelector(\"#page\");i?i.parentNode.insertBefore(t,i):document.body.insertBefore(t,document.body.firstChild)}},t=function(t){var n=new XMLHttpRequest;n.open(\"GET\",opts.route),n.setRequestHeader(\"Accept\",\"application/json\"),t&&n.setRequestHeader(\"If-Modified-Since\",new Date(t).toGMTString()),n.onload=function(){var t;try{t=JSON.parse(n.responseText)}catch(e){return}e(t),sessionStorage.setItem(\"live\",n.responseText)},n.send()};if(sessionStorage.liveTimestamp&&sessionStorage.live){try{var n=JSON.parse(sessionStorage.live);e(n)}catch(e){}if(sessionStorage.liveTimestamp){var i=Number(sessionStorage.liveTimestamp);Date.now()-i>6e4&&t(i)}}else t()}));})({\"liveNow\":\"Live Now\",\"link\":\"https:\\/\\/www.whitehouse.gov\\/live\\/\",\"route\":\"https:\\/\\/www.whitehouse.gov\\/live.json\"});\n",
      "  </script>\n",
      "  <div class=\"site-wrap\" id=\"page\">\n",
      "   <header class=\"site-header sticky-header cond-inner\" data-js-social-hide=\"\" id=\"masthead\">\n",
      "    <div class=\"site-header__inner\">\n",
      "     <div class=\"container-fluid\">\n",
      "      <div class=\"row site-header__row justify-content-between align-items-stretch\">\n",
      "       <div class=\"site-header__item site-header__main-logo\">\n",
      "        <a class=\"site-header__item_inner\" href=\"https://www.whitehouse.gov/\" rel=\"home\">\n",
      "         <div class=\"desktop__logo\">\n",
      "          <span>\n",
      "           The White House\n",
      "          </span>\n",
      "         </div>\n",
      "         <div class=\"mobile__logo\">\n",
      "          <span class=\"screen-reader-text\">\n",
      "           The White House\n",
      "          </span>\n",
      "          <svg viewbox=\"0 0 1231 180\" xmlns=\"http://www.w3.org/2000/svg\">\n",
      "           <path d=\"M200.9,126h1.5l30-102.8l-18.7-9V4.5h60.7v9.7l-21.7,10.5L200.9,177h-22.5l-39-113.3H138L94.5,177H72L23.2,21.8L0,14.3\n",
      "\t\tV4.5h86.2v9l-20.2,6l30,107.3h0.7l33.7-90l-6-15.8l-18-7.5v-9h80.2v9l-20.2,6.8L200.9,126z\">\n",
      "           </path>\n",
      "           <path d=\"M446.1,21l-22.5-6V4.5h88.5V15l-25.5,6v138.8l25.5,6v9.8h-88.5v-9.8l22.5-6V96h-72v63.8l22.5,6v9.8h-88.5v-9.8l25.5-6V21\n",
      "\t\tl-25.5-6V4.5h89.2V15l-22.5,6v57.8h72V21H446.1z\">\n",
      "           </path>\n",
      "           <path d=\"M577.3,180c-9.7,0-17.2-7.5-17.2-17.2c0-9,7.5-17.2,17.2-17.2c9.7,0,17.2,7.5,17.2,17.2C594.5,171.7,587,180,577.3,180z\">\n",
      "           </path>\n",
      "           <path d=\"M770.7,57.8c-16.5-31.5-32.2-45-56.2-45c-27.7,0-51.7,24.8-51.7,74.2c0,51,24.7,77.2,60.7,77.2c13.5,0,22.5-3.8,32.2-9\n",
      "\t\tv-43.5l-25.5-6V96h74.2v9.8l-22.5,6v66l-8.2,1.5l-13.5-13.5c-13.5,8.2-27,13.5-47.2,13.5c-46.5,0-83.2-33-83.2-86.2\n",
      "\t\tc0-51.8,38.2-92.2,89.2-92.2c16.5,0,30,3.8,40.5,9l8.2-9.8h9l1.5,57L770.7,57.8z\">\n",
      "           </path>\n",
      "           <path d=\"M931.9,179.3c-54,0-83.2-41.2-83.2-89.3c0-48,33-89.2,84.7-89.2c54,0,83.2,41.2,83.2,89.2\n",
      "\t\tC1016.6,138.8,982.9,179.3,931.9,179.3z M929.7,12c-24.7,0-49.5,18-49.5,78c0,60,28.5,78,55.5,78c24.7,0,49.5-24.8,49.5-78\n",
      "\t\tC985.2,36.8,956.7,12,929.7,12z\">\n",
      "           </path>\n",
      "           <path d=\"M1146.3,177h-13.5l-60.7-155.3l-24.7-6.8V4.5h81v9.7l-26.2,6l45,121.5l45-119.3l-20.2-7.5V4.5h59.2v9.7l-22.5,7.5\n",
      "\t\tL1146.3,177z\">\n",
      "           </path>\n",
      "          </svg>\n",
      "         </div>\n",
      "        </a>\n",
      "       </div>\n",
      "       <!-- main-logo -->\n",
      "       <div class=\"center-logo\">\n",
      "        <a class=\"\" href=\"https://www.whitehouse.gov/\" rel=\"home\">\n",
      "         <span class=\"screen-reader-text\">\n",
      "          The White House\n",
      "         </span>\n",
      "         <svg id=\"wh-oval-22\" style=\"enable-background:new 0 0 343 243;\" version=\"1.1\" viewbox=\"0 0 343 243\" x=\"0px\" xml:space=\"preserve\" xmlns=\"http://www.w3.org/2000/svg\" xmlns:xlink=\"http://www.w3.org/1999/xlink\" y=\"0px\">\n",
      "          <style type=\"text/css\">\n",
      "           #wh-oval-22 .st0{fill:#0A2458;}\n",
      "\t#wh-oval-22 .st1{fill-rule:evenodd;clip-rule:evenodd;fill:#FFFFFF;}\n",
      "\t#wh-oval-22 .st2{opacity:0.5;fill:#FFFFFF;}\n",
      "\t#wh-oval-22 .st3{fill:#FFFFFF;}\n",
      "          </style>\n",
      "          <g>\n",
      "           <ellipse class=\"st0\" cx=\"171.5\" cy=\"121.5\" rx=\"168.6\" ry=\"118.7\">\n",
      "           </ellipse>\n",
      "           <path class=\"st1\" d=\"M171.5,229.5c87.3,0,158-48.4,158-108s-70.7-108-158-108s-158,48.4-158,108S84.2,229.5,171.5,229.5z\n",
      "\t\t M290.8,209c-31.1,21.3-73.3,34-119.3,34s-88.2-12.7-119.3-34C21.1,187.8,0,157.1,0,121.5S21.1,55.2,52.2,34\n",
      "\t\tC83.3,12.7,125.5,0,171.5,0s88.2,12.7,119.3,34c31,21.2,52.2,51.9,52.2,87.5S321.8,187.8,290.8,209z\">\n",
      "           </path>\n",
      "          </g>\n",
      "          <g>\n",
      "           <g>\n",
      "            <rect class=\"st2\" height=\"8.5\" width=\"2.7\" x=\"168.3\" y=\"134.4\">\n",
      "            </rect>\n",
      "            <rect class=\"st2\" height=\"8.5\" width=\"2.7\" x=\"168.3\" y=\"143.9\">\n",
      "            </rect>\n",
      "            <rect class=\"st2\" height=\"8.5\" width=\"2.7\" x=\"172\" y=\"143.9\">\n",
      "            </rect>\n",
      "            <rect class=\"st2\" height=\"8.4\" width=\"2.7\" x=\"172\" y=\"134.4\">\n",
      "            </rect>\n",
      "            <path class=\"st2\" d=\"M212.5,92.7h-81.9c-0.6,0-1.1,0.5-1.1,1.1v66c0,0.6,0.5,1.1,1.1,1.1h81.8c0.7,0,1.2-0.5,1.2-1.2v-66\n",
      "\t\t\tC213.6,93.2,213.1,92.7,212.5,92.7z M191.8,118.7c0-0.2,0.1-0.2,0.2-0.3c0.2-0.2,0.4-0.7,0.4-1.2v-7.2c0-0.4-0.2-0.8-0.4-1.2\n",
      "\t\t\tc-0.1-0.1-0.2-0.2-0.2-0.3v-1.4c0-0.2,0.2-0.3,0.3-0.3h9.1c0.2,0,0.3,0.2,0.3,0.3v1.4c0,0.2-0.1,0.2-0.2,0.3\n",
      "\t\t\tc-0.2,0.3-0.4,0.7-0.4,1.2v7.1c0,0.4,0.2,0.8,0.4,1.2c0.1,0.1,0.2,0.2,0.2,0.3v3.2c0,0.2-0.2,0.3-0.3,0.3h-9.1\n",
      "\t\t\tc-0.2,0-0.3-0.2-0.3-0.3V118.7z M166.6,118.7c0-0.2,0.1-0.2,0.2-0.3c0.2-0.2,0.4-0.7,0.4-1.2v-7.1c0-0.4-0.2-0.8-0.4-1.2\n",
      "\t\t\tc-0.1-0.1-0.2-0.2-0.2-0.3v-1.4c0-0.2,0.2-0.3,0.3-0.3h9.1c0.2,0,0.3,0.2,0.3,0.3v1.4c0,0.2-0.1,0.2-0.2,0.3\n",
      "\t\t\tc-0.2,0.2-0.4,0.7-0.4,1.2v7.2c0,0.4,0.2,0.8,0.4,1.2c0.1,0.1,0.2,0.2,0.2,0.3v3.2c0,0.2-0.2,0.3-0.3,0.3h-9.1\n",
      "\t\t\tc-0.2,0-0.3-0.2-0.3-0.3V118.7z M141.5,118.7c0-0.2,0.1-0.2,0.2-0.3c0.2-0.2,0.4-0.7,0.4-1.2v-7.1c0-0.4-0.2-0.8-0.4-1.2\n",
      "\t\t\tc-0.1-0.1-0.2-0.2-0.2-0.3v-1.4c0-0.2,0.2-0.3,0.3-0.3h9.1c0.2,0,0.3,0.2,0.3,0.3v1.4c0,0.2-0.1,0.2-0.2,0.3\n",
      "\t\t\tc-0.2,0.2-0.4,0.7-0.4,1.2v7.2c0,0.4,0.2,0.8,0.4,1.2c0.1,0.1,0.2,0.2,0.2,0.3v3.2c0,0.2-0.2,0.3-0.3,0.3h-9.1\n",
      "\t\t\tc-0.2,0-0.3-0.2-0.3-0.3V118.7z M151.3,131.9c0,0.2-0.1,0.2-0.2,0.3c-0.2,0.2-0.4,0.7-0.4,1.2v8.7c0,0.4,0.2,0.8,0.4,1.2\n",
      "\t\t\tc0.1,0.1,0.2,0.2,0.2,0.3v3.2c0,0.2-0.2,0.3-0.3,0.3h-9.1c-0.2,0-0.3-0.2-0.3-0.3v-3.2c0-0.2,0.1-0.2,0.2-0.3\n",
      "\t\t\tc0.2-0.2,0.4-0.7,0.4-1.2v-8.7c0-0.4-0.2-0.8-0.4-1.2c-0.1-0.1-0.2-0.2-0.2-0.3v-1.4c0-0.2,0.2-0.3,0.3-0.3h9.1\n",
      "\t\t\tc0.2,0,0.3,0.2,0.3,0.3V131.9z M151.8,127.9c-0.1,0.2-0.2,0.2-0.2,0.2h-10c-0.2,0-0.3-0.1-0.4-0.2c-0.1-0.2-0.1-0.4,0.1-0.5\n",
      "\t\t\tc1.5-1.2,3.3-1.9,5.2-1.9c1.9,0,3.7,0.7,5.2,1.9C151.8,127.5,151.9,127.7,151.8,127.9z M176.3,154.1c-3.2,0-6.4,0-9.6,0\n",
      "\t\t\tc-0.2,0-0.5-0.2-0.5-0.5c0-6.9,0-13.7,0-20.7c0.1-6.9,10.4-6.9,10.5,0c0,6.9,0,13.7,0.1,20.7C176.8,153.9,176.5,154.1,176.3,154.1\n",
      "\t\t\tz M201.5,131.9c0,0.2-0.1,0.2-0.2,0.3c-0.2,0.2-0.4,0.7-0.4,1.2v8.7c0,0.4,0.2,0.8,0.4,1.2c0.1,0.1,0.2,0.2,0.2,0.3v3.2\n",
      "\t\t\tc0,0.2-0.2,0.3-0.3,0.3h-9.1c-0.2,0-0.3-0.2-0.3-0.3v-3.2c0-0.2,0.1-0.2,0.2-0.3c0.2-0.2,0.4-0.7,0.4-1.2v-8.7\n",
      "\t\t\tc0-0.4-0.2-0.8-0.4-1.2c-0.1-0.1-0.2-0.2-0.2-0.3v-1.4c0-0.2,0.2-0.3,0.3-0.3h9.1c0.2,0,0.3,0.2,0.3,0.3V131.9z M202,127.9\n",
      "\t\t\tc-0.1,0.2-0.2,0.2-0.2,0.2h-10c-0.2,0-0.3-0.1-0.4-0.2c-0.1-0.2-0.1-0.4,0.1-0.5c1.5-1.2,3.3-1.9,5.2-1.9c1.9,0,3.7,0.7,5.2,1.9\n",
      "\t\t\tC202,127.5,202.1,127.7,202,127.9z\">\n",
      "            </path>\n",
      "           </g>\n",
      "           <path class=\"st3\" d=\"M192.6,72.3l2.4,1h20.3l0.8-1.1c0.2-0.2,0-0.4-0.2-0.4h-23.2C192.4,71.8,192.3,72.3,192.6,72.3z\">\n",
      "           </path>\n",
      "           <path class=\"st3\" d=\"M222.2,79.1v3.1c0,0.2,0.2,0.4,0.3,0.4h7.2c0.2,0,0.3-0.2,0.4-0.4v-3.1l1.2-1.7c0.2-0.2,0-0.6-0.2-0.6h-10\n",
      "\t\tc-0.3,0-0.5,0.3-0.2,0.6L222.2,79.1z\">\n",
      "           </path>\n",
      "           <path class=\"st3\" d=\"M215.1,166.4h-40h-7.3h-39.9c-0.2,0-0.5,0.2-0.5,0.5v3.7c0,0.2,0.2,0.5,0.5,0.5h40h7.3h40\n",
      "\t\tc0.2,0,0.5-0.2,0.5-0.5v-3.7C215.6,166.6,215.4,166.4,215.1,166.4z\">\n",
      "           </path>\n",
      "           <path class=\"st3\" d=\"M197.3,74.3l17.5,6.8c0.2,0.1,0.4-0.1,0.4-0.2v-2.1c0-0.1,0-0.1-0.1-0.2l-0.3-0.5c0-0.1-0.1-0.1-0.1-0.2v-3.7\n",
      "\t\tL197.3,74.3L197.3,74.3z\">\n",
      "           </path>\n",
      "           <path class=\"st3\" d=\"M127.7,73.3H148l2.4-1c0.2-0.1,0.2-0.5-0.1-0.5h-23.2c-0.2,0-0.3,0.2-0.2,0.4L127.7,73.3z\">\n",
      "           </path>\n",
      "           <path class=\"st3\" d=\"M112.8,79.1v3.1c0,0.2,0.2,0.4,0.4,0.4h7.2c0.2,0,0.3-0.2,0.3-0.4v-3.1l1.2-1.7c0.2-0.2,0-0.6-0.2-0.6h-10\n",
      "\t\tc-0.3,0-0.5,0.3-0.2,0.6L112.8,79.1z\">\n",
      "           </path>\n",
      "           <path class=\"st3\" d=\"M293.8,153.5h-79.4c-0.2-0.7-0.5-1.3-0.7-2h-7.8c-0.2,0-0.4,0.2-0.5,0.4c-0.2,0.6-0.4,1.2-0.7,1.8\n",
      "\t\tc-0.2,0.6-0.6,1.2-1,1.7v3.2h-14.1v-3.2c-0.7-1.2-1.2-2.3-1.6-3.6c-0.1-0.2-0.2-0.4-0.5-0.4H180c-0.2,0-0.4,0.2-0.5,0.4\n",
      "\t\tc-0.3,1.2-0.8,2.4-1.6,3.6v3.2h-5h-2.7h-5v-3.2c-0.7-1.1-1.2-2.3-1.6-3.6c-0.1-0.2-0.2-0.4-0.5-0.4h-7.5c-0.2,0-0.4,0.2-0.5,0.4\n",
      "\t\tc-0.3,1.2-0.9,2.4-1.6,3.6v3.2h-14.1v-3.2c-0.3-0.6-0.7-1.2-1-1.7c-0.2-0.6-0.5-1.2-0.7-1.8c-0.1-0.2-0.2-0.4-0.5-0.4h-7.8\n",
      "\t\tc-0.2,0.7-0.4,1.3-0.7,2H49.2c-0.4,0-0.7,0.3-0.7,0.7v6.8c0,0.4,0.3,0.7,0.7,0.7h78.2v2.6c0,0.4,0.3,0.7,0.7,0.7h42.1h2.7H215\n",
      "\t\tc0.4,0,0.7-0.3,0.7-0.7v-2.6h78.2c0.4,0,0.7-0.3,0.7-0.7v-6.8C294.5,153.9,294.2,153.5,293.8,153.5z\">\n",
      "           </path>\n",
      "           <path class=\"st3\" d=\"M128.2,78.3l-0.3,0.5c0,0.1-0.1,0.1-0.1,0.2v2.1c0,0.2,0.2,0.3,0.4,0.2l17.5-6.8h-17.4L128.2,78.3\n",
      "\t\tC128.3,78.2,128.3,78.2,128.2,78.3z\">\n",
      "           </path>\n",
      "           <path class=\"st3\" d=\"M187.5,107.8c0-0.2,0-0.5,0-0.7c0-3.7,0-7.1,0-7.1c0.2-1.2,0.5-2.3,1-3.5H179c0.5,1.1,0.8,2.2,1,3.5V119v3.8\n",
      "\t\tv26.5v0.1c0,0.4,0.3,0.7,0.7,0.7h6.2c0.4,0,0.7-0.3,0.7-0.7c0,0,0-26.1,0-40.4C187.5,108.6,187.5,108.2,187.5,107.8z\">\n",
      "           </path>\n",
      "           <path class=\"st3\" d=\"M163.1,105.6c0.2-6.7,0.5-7.8,1-9h-9.6c0.5,1.1,0.8,2.2,1,3.5c0,0,0,1.1,0,3c0,14.2,0,46.4,0,46.4\n",
      "\t\tc0,0.4,0.3,0.7,0.7,0.7h6.2c0.4,0,0.7-0.3,0.7-0.7v-0.1v-27v-3.3L163.1,105.6L163.1,105.6z\">\n",
      "           </path>\n",
      "           <path class=\"st3\" d=\"M56.4,87.7c0-0.3,0.3-0.7,0.7-0.7h11.6c0.4,0,0.7,0.2,0.7,0.7v2.9c0,0.3-0.3,0.7-0.7,0.7H57.1\n",
      "\t\tc-0.4,0-0.7-0.2-0.7-0.7V87.7z M75.2,87.7c0-0.3,0.3-0.7,0.7-0.7h11.6c0.4,0,0.7,0.2,0.7,0.7v2.9c0,0.3-0.3,0.7-0.7,0.7H75.8\n",
      "\t\tc-0.4,0-0.7-0.2-0.7-0.7L75.2,87.7L75.2,87.7z M93.9,87.7c0-0.3,0.3-0.7,0.7-0.7h11.6c0.4,0,0.7,0.2,0.7,0.7v2.9\n",
      "\t\tc0,0.3-0.3,0.7-0.7,0.7H94.6c-0.4,0-0.7-0.2-0.7-0.7V87.7z M112.6,87.7c0-0.3,0.3-0.7,0.7-0.7h13.5c0.4,0,0.7,0.2,0.7,0.7v1.9h87.8\n",
      "\t\tv-1.8c0-0.3,0.3-0.7,0.7-0.7h13.5c0.4,0,0.7,0.2,0.7,0.7v2.9c0,0.3-0.3,0.7-0.7,0.7H113.3c-0.4,0-0.7-0.2-0.7-0.7V87.7z M135,83.7\n",
      "\t\tl36.5-14.7L208,83.7h-6.1l-15.2-6.1l-15.2-6.1l-15.2,6.1L141,83.7H135z M236.1,87.7c0-0.3,0.3-0.7,0.7-0.7h11.6\n",
      "\t\tc0.4,0,0.7,0.2,0.7,0.7v2.9c0,0.3-0.3,0.7-0.7,0.7h-11.6c-0.4,0-0.7-0.2-0.7-0.7V87.7z M254.8,87.7c0-0.3,0.3-0.7,0.7-0.7h11.6\n",
      "\t\tc0.4,0,0.7,0.2,0.7,0.7v2.9c0,0.3-0.3,0.7-0.7,0.7h-11.6c-0.4,0-0.7-0.2-0.7-0.7V87.7z M273.6,87.7c0-0.3,0.3-0.7,0.7-0.7h11.6\n",
      "\t\tc0.4,0,0.7,0.2,0.7,0.7v2.9c0,0.3-0.3,0.7-0.7,0.7h-11.6c-0.4,0-0.7-0.2-0.7-0.7V87.7z M218.5,127.6l5.2-2.2c0.1,0,0.1,0,0.2,0\n",
      "\t\ts0.1,0,0.2,0l5.2,2.2c0.2,0.1,0.2,0.2,0.2,0.4c0,0.2-0.2,0.2-0.3,0.2h-10.5c-0.2,0-0.3-0.1-0.3-0.2\n",
      "\t\tC218.2,127.8,218.3,127.6,218.5,127.6z M219,118.7c0-0.1,0.1-0.2,0.2-0.3c0.2-0.3,0.4-0.7,0.4-1.2v-7.2c0-0.5-0.2-0.9-0.4-1.2\n",
      "\t\tc-0.1-0.1-0.2-0.2-0.2-0.3v-1.4c0-0.2,0.2-0.3,0.3-0.3h9.1c0.2,0,0.3,0.2,0.3,0.3v1.4c0,0.1-0.1,0.2-0.2,0.3\n",
      "\t\tc-0.2,0.3-0.4,0.7-0.4,1.2v7.1c0,0.5,0.2,0.9,0.4,1.2c0.1,0.1,0.2,0.2,0.2,0.3v3.2c0,0.2-0.2,0.3-0.3,0.3h-9.1\n",
      "\t\tc-0.2,0-0.3-0.2-0.3-0.3V118.7z M237.3,127.4c0.2-0.2,0.3-0.2,0.5-0.4c1.4-1,3-1.5,4.7-1.5c1.9,0,3.7,0.7,5.2,1.9l0.1,0.1\n",
      "\t\tc0.1,0.1,0.1,0.2,0.1,0.3s-0.1,0.2-0.2,0.2c0,0,0,0-0.1,0c0,0,0,0-0.1,0h-0.1h-10c-0.1,0-0.2-0.1-0.2-0.1c-0.1-0.1-0.1-0.1-0.1-0.2\n",
      "\t\tC237.2,127.7,237.2,127.5,237.3,127.4z M237.7,118.7c0-0.1,0.1-0.2,0.2-0.3c0.2-0.3,0.4-0.7,0.4-1.2v-7.2c0-0.5-0.2-0.9-0.4-1.2\n",
      "\t\tc-0.1-0.1-0.2-0.2-0.2-0.3v-1.4c0-0.2,0.2-0.3,0.3-0.3h9.1c0.2,0,0.3,0.2,0.3,0.3v1.4c0,0.1-0.1,0.2-0.2,0.3\n",
      "\t\tc-0.2,0.3-0.4,0.7-0.4,1.2v7.1c0,0.5,0.2,0.9,0.4,1.2c0.1,0.1,0.2,0.2,0.2,0.3v3.2c0,0.2-0.2,0.3-0.3,0.3H238\n",
      "\t\tc-0.2,0-0.3-0.2-0.3-0.3V118.7z M255.9,127.6l5.3-2.2c0.1,0,0.1,0,0.2,0h0.1c0,0,0,0,0.1,0l5.2,2.2c0.1,0,0.1,0.1,0.2,0.1\n",
      "\t\tc0.1,0.1,0.1,0.2,0.1,0.2c0,0.1-0.1,0.2-0.2,0.2c-0.1,0-0.1,0.1-0.2,0.1h-10.5c-0.1,0-0.2,0-0.2-0.1c-0.1,0-0.1-0.1-0.2-0.2V128\n",
      "\t\tC255.7,127.9,255.7,127.7,255.9,127.6z M256.5,118.7c0-0.1,0.1-0.2,0.2-0.3c0.2-0.3,0.4-0.7,0.4-1.2v-7.2c0-0.5-0.2-0.9-0.4-1.2\n",
      "\t\tc-0.1-0.1-0.2-0.2-0.2-0.3v-1.4c0-0.2,0.2-0.3,0.3-0.3h9.1c0.2,0,0.3,0.2,0.3,0.3v1.4c0,0.1-0.1,0.2-0.2,0.3\n",
      "\t\tc-0.2,0.3-0.4,0.7-0.4,1.2v7.1c0,0.5,0.2,0.9,0.4,1.2c0.1,0.1,0.2,0.2,0.2,0.3v3.2c0,0.2-0.2,0.3-0.3,0.3h-9.1\n",
      "\t\tc-0.2,0-0.3-0.2-0.3-0.3V118.7z M274.8,127.4c0.2-0.2,0.3-0.2,0.5-0.4c1.4-1,3-1.5,4.7-1.5c1.9,0,3.7,0.7,5.2,1.9l0.1,0.1\n",
      "\t\tc0.1,0.1,0.1,0.2,0.1,0.3s-0.1,0.2-0.2,0.2c0,0,0,0-0.1,0c0,0,0,0-0.1,0H285h-10c-0.1,0-0.2-0.1-0.2-0.1c-0.1-0.1-0.1-0.1-0.1-0.2\n",
      "\t\tC274.6,127.7,274.7,127.5,274.8,127.4z M275.2,118.7c0-0.1,0.1-0.2,0.2-0.3c0.2-0.3,0.4-0.7,0.4-1.2v-7.2c0-0.5-0.2-0.9-0.4-1.2\n",
      "\t\tc-0.1-0.1-0.2-0.2-0.2-0.3v-1.4c0-0.2,0.2-0.3,0.3-0.3h9.1c0.2,0,0.3,0.2,0.3,0.3v1.4c0,0.1-0.1,0.2-0.2,0.3\n",
      "\t\tc-0.2,0.3-0.4,0.7-0.4,1.2v7.1c0,0.5,0.2,0.9,0.4,1.2c0.1,0.1,0.2,0.2,0.2,0.3v3.2c0,0.2-0.2,0.3-0.3,0.3h-9.1\n",
      "\t\tc-0.2,0-0.3-0.2-0.3-0.3V118.7z M284.9,131.9c0,0.1-0.1,0.2-0.2,0.3c-0.2,0.3-0.4,0.7-0.4,1.2v8.7c0,0.5,0.2,0.9,0.4,1.2\n",
      "\t\tc0.1,0.1,0.2,0.2,0.2,0.3v3.2c0,0.2-0.2,0.3-0.3,0.3h-9.1c-0.2,0-0.3-0.2-0.3-0.3v-3.2c0-0.1,0.1-0.2,0.2-0.3\n",
      "\t\tc0.2-0.3,0.4-0.7,0.4-1.2v-8.7c0-0.5-0.2-0.9-0.4-1.2c-0.1-0.1-0.2-0.2-0.2-0.3v-1.4c0-0.2,0.2-0.3,0.3-0.3h9.1\n",
      "\t\tc0.2,0,0.3,0.2,0.3,0.3V131.9z M266.2,131.9c0,0.1-0.1,0.2-0.2,0.3c-0.2,0.3-0.4,0.7-0.4,1.2v8.7c0,0.5,0.2,0.9,0.4,1.2\n",
      "\t\tc0.1,0.1,0.2,0.2,0.2,0.3v3.2c0,0.2-0.2,0.3-0.3,0.3h-9.1c-0.2,0-0.3-0.2-0.3-0.3v-3.2c0-0.1,0.1-0.2,0.2-0.3\n",
      "\t\tc0.2-0.3,0.4-0.7,0.4-1.2v-8.7c0-0.5-0.2-0.9-0.4-1.2c-0.1-0.1-0.2-0.2-0.2-0.3v-1.4c0-0.2,0.2-0.3,0.3-0.3h9.1\n",
      "\t\tc0.2,0,0.3,0.2,0.3,0.3V131.9z M247.4,131.9c0,0.1-0.1,0.2-0.2,0.3c-0.2,0.3-0.4,0.7-0.4,1.2v8.7c0,0.5,0.2,0.9,0.4,1.2\n",
      "\t\tc0.1,0.1,0.2,0.2,0.2,0.3v3.2c0,0.2-0.2,0.3-0.3,0.3H238c-0.2,0-0.3-0.2-0.3-0.3v-3.2c0-0.1,0.1-0.2,0.2-0.3\n",
      "\t\tc0.2-0.3,0.4-0.7,0.4-1.2v-8.7c0-0.5-0.2-0.9-0.4-1.2c-0.1-0.1-0.2-0.2-0.2-0.3v-1.4c0-0.2,0.2-0.3,0.3-0.3h9.1\n",
      "\t\tc0.2,0,0.3,0.2,0.3,0.3V131.9z M228.7,131.9c0,0.1-0.1,0.2-0.2,0.3c-0.2,0.3-0.4,0.7-0.4,1.2v8.7c0,0.5,0.2,0.9,0.4,1.2\n",
      "\t\tc0.1,0.1,0.2,0.2,0.2,0.3v3.2c0,0.2-0.2,0.3-0.3,0.3h-9.1c-0.2,0-0.3-0.2-0.3-0.3v-3.2c0-0.1,0.1-0.2,0.2-0.3\n",
      "\t\tc0.2-0.3,0.4-0.7,0.4-1.2v-8.7c0-0.5-0.2-0.9-0.4-1.2c-0.1-0.1-0.2-0.2-0.2-0.3v-1.4c0-0.2,0.2-0.3,0.3-0.3h9.1\n",
      "\t\tc0.2,0,0.3,0.2,0.3,0.3V131.9z M124.4,128.3h-10.5c-0.2,0-0.3-0.1-0.3-0.2c0-0.2,0.1-0.3,0.2-0.4l5.2-2.2c0.1,0,0.1,0,0.2,0\n",
      "\t\tc0.1,0,0.1,0,0.2,0l5.2,2.2c0.2,0.1,0.2,0.2,0.2,0.4C124.7,128.2,124.6,128.3,124.4,128.3z M124,131.9c0,0.1-0.1,0.2-0.2,0.3\n",
      "\t\tc-0.2,0.3-0.4,0.7-0.4,1.2v8.7c0,0.5,0.2,0.9,0.4,1.2c0.1,0.1,0.2,0.2,0.2,0.3v3.2c0,0.2-0.2,0.3-0.3,0.3h-9.1\n",
      "\t\tc-0.2,0-0.3-0.2-0.3-0.3v-3.2c0-0.1,0.1-0.2,0.2-0.3c0.2-0.3,0.4-0.7,0.4-1.2v-8.7c0-0.5-0.2-0.9-0.4-1.2c-0.1-0.1-0.2-0.2-0.2-0.3\n",
      "\t\tv-1.4c0-0.2,0.2-0.3,0.3-0.3h9.1c0.2,0,0.3,0.2,0.3,0.3V131.9z M105.8,127.9c0,0.1-0.1,0.1-0.1,0.2l-0.1,0.1\n",
      "\t\tc-0.1,0-0.1,0.1-0.2,0.1h-10c-0.1,0-0.1,0-0.2-0.1c-0.2-0.1-0.2-0.2-0.2-0.2s0-0.2,0-0.3c0,0,0-0.1,0.1-0.1c0,0,0-0.1,0.1-0.1\n",
      "\t\tc0.3-0.3,0.7-0.6,1.2-0.8c0,0,0.1,0,0.1-0.1c1.2-0.7,2.6-1.1,4-1.1c1.9,0,3.7,0.7,5.2,1.9C105.8,127.5,105.9,127.7,105.8,127.9z\n",
      "\t\t M105.3,131.9c0,0.1-0.1,0.2-0.2,0.3c-0.2,0.3-0.4,0.7-0.4,1.2v8.7c0,0.5,0.2,0.9,0.4,1.2c0.1,0.1,0.2,0.2,0.2,0.3v3.2\n",
      "\t\tc0,0.2-0.2,0.3-0.3,0.3h-9.1c-0.2,0-0.3-0.2-0.3-0.3v-3.2c0-0.1,0.1-0.2,0.2-0.3c0.2-0.3,0.4-0.7,0.4-1.2v-8.7\n",
      "\t\tc0-0.5-0.2-0.9-0.4-1.2c-0.1-0.1-0.2-0.2-0.2-0.3v-1.4c0-0.2,0.2-0.3,0.3-0.3h9.1c0.2,0,0.3,0.2,0.3,0.3V131.9z M87.1,128.2\n",
      "\t\tc-0.1,0-0.1,0.1-0.2,0.1H76.4c-0.1,0-0.1,0-0.2,0s-0.2-0.1-0.2-0.2V128c0-0.2,0.1-0.3,0.2-0.4l5.2-2.2c0,0,0,0,0.1,0h0.1\n",
      "\t\tc0.1,0,0.1,0,0.2,0l5.2,2.2c0.2,0.1,0.2,0.2,0.2,0.4C87.2,128.1,87.2,128.2,87.1,128.2z M86.6,131.9c0,0.1-0.1,0.2-0.2,0.3\n",
      "\t\tc-0.2,0.3-0.4,0.7-0.4,1.2v8.7c0,0.5,0.2,0.9,0.4,1.2c0.1,0.1,0.2,0.2,0.2,0.3v3.2c0,0.2-0.2,0.3-0.3,0.3h-9.1\n",
      "\t\tc-0.2,0-0.3-0.2-0.3-0.3v-3.2c0-0.1,0.1-0.2,0.2-0.3c0.2-0.3,0.4-0.7,0.4-1.2v-8.7c0-0.5-0.2-0.9-0.4-1.2c-0.1-0.1-0.2-0.2-0.2-0.3\n",
      "\t\tv-1.4c0-0.2,0.2-0.3,0.3-0.3h9.1c0.2,0,0.3,0.2,0.3,0.3V131.9z M68.4,127.9c0,0.1-0.1,0.2-0.2,0.2c-0.1,0-0.1,0.1-0.2,0.1H58\n",
      "\t\tc0,0,0,0-0.1,0h-0.1c-0.1-0.1-0.2-0.2-0.2-0.2c-0.1-0.2,0-0.3,0.1-0.4c0,0,0,0,0.1-0.1c0.2-0.1,0.2-0.2,0.4-0.3\n",
      "\t\tc0.1-0.1,0.2-0.1,0.2-0.2c0.2-0.1,0.2-0.2,0.4-0.2c0.1-0.1,0.2-0.2,0.4-0.2c1.2-0.6,2.4-0.9,3.7-0.9c1.9,0,3.7,0.7,5.2,1.9\n",
      "\t\tC68.4,127.5,68.4,127.7,68.4,127.9z M67.8,131.9c0,0.1-0.1,0.2-0.2,0.3c-0.2,0.3-0.4,0.7-0.4,1.2v8.7c0,0.5,0.2,0.9,0.4,1.2\n",
      "\t\tc0.1,0.1,0.2,0.2,0.2,0.3v3.2c0,0.2-0.2,0.3-0.3,0.3h-9.1c-0.2,0-0.3-0.2-0.3-0.3v-3.2c0-0.1,0.1-0.2,0.2-0.3\n",
      "\t\tc0.2-0.3,0.4-0.7,0.4-1.2v-8.7c0-0.5-0.2-0.9-0.4-1.2c-0.1-0.1-0.2-0.2-0.2-0.3v-1.4c0-0.2,0.2-0.3,0.3-0.3h9.1\n",
      "\t\tc0.2,0,0.3,0.2,0.3,0.3V131.9z M58.1,118.7c0-0.1,0.1-0.2,0.2-0.3c0.2-0.3,0.4-0.7,0.4-1.2v-7.1c0-0.5-0.2-0.9-0.4-1.2\n",
      "\t\tc-0.1-0.1-0.2-0.2-0.2-0.3v-1.5c0-0.2,0.2-0.3,0.3-0.3h9.1c0.2,0,0.3,0.2,0.3,0.3v1.4c0,0.1-0.1,0.2-0.2,0.3\n",
      "\t\tc-0.2,0.3-0.4,0.7-0.4,1.2v7.2c0,0.5,0.2,0.9,0.4,1.2c0.1,0.1,0.2,0.2,0.2,0.3v3.2c0,0.2-0.2,0.3-0.3,0.3h-9.1\n",
      "\t\tc-0.2,0-0.3-0.2-0.3-0.3L58.1,118.7L58.1,118.7z M76.8,118.7c0-0.1,0.1-0.2,0.2-0.3c0.2-0.3,0.4-0.7,0.4-1.2v-7.1\n",
      "\t\tc0-0.5-0.2-0.9-0.4-1.2c-0.1-0.1-0.2-0.2-0.2-0.3v-1.5c0-0.2,0.2-0.3,0.3-0.3h9.1c0.2,0,0.3,0.2,0.3,0.3v1.4c0,0.1-0.1,0.2-0.2,0.3\n",
      "\t\tc-0.2,0.3-0.4,0.7-0.4,1.2v7.2c0,0.5,0.2,0.9,0.4,1.2c0.1,0.1,0.2,0.2,0.2,0.3v3.2c0,0.2-0.2,0.3-0.3,0.3h-9.1\n",
      "\t\tc-0.2,0-0.3-0.2-0.3-0.3V118.7z M95.6,118.7c0-0.1,0.1-0.2,0.2-0.3c0.2-0.3,0.4-0.7,0.4-1.2v-7.1c0-0.5-0.2-0.9-0.4-1.2\n",
      "\t\tc-0.1-0.1-0.2-0.2-0.2-0.3v-1.5c0-0.2,0.2-0.3,0.3-0.3h9.1c0.2,0,0.3,0.2,0.3,0.3v1.4c0,0.1-0.1,0.2-0.2,0.3\n",
      "\t\tc-0.2,0.3-0.4,0.7-0.4,1.2v7.2c0,0.5,0.2,0.9,0.4,1.2c0.1,0.1,0.2,0.2,0.2,0.3v3.2c0,0.2-0.2,0.3-0.3,0.3h-9.1\n",
      "\t\tc-0.2,0-0.3-0.2-0.3-0.3V118.7z M114.3,118.7c0-0.1,0.1-0.2,0.2-0.3c0.2-0.3,0.4-0.7,0.4-1.2v-7.1c0-0.5-0.2-0.9-0.4-1.2\n",
      "\t\tc-0.1-0.1-0.2-0.2-0.2-0.3v-1.5c0-0.2,0.2-0.3,0.3-0.3h9.1c0.2,0,0.3,0.2,0.3,0.3v1.4c0,0.1-0.1,0.2-0.2,0.3\n",
      "\t\tc-0.2,0.3-0.4,0.7-0.4,1.2v7.2c0,0.5,0.2,0.9,0.4,1.2c0.1,0.1,0.2,0.2,0.2,0.3v3.2c0,0.2-0.2,0.3-0.3,0.3h-9.1\n",
      "\t\tc-0.2,0-0.3-0.2-0.3-0.3V118.7z M49.2,85.9h2.1c0,0,0.1,0,0.1,0.1v8.5c0,0.2,0.2,0.3,0.4,0.3h76.1c0.3,0.6,0.7,1.2,0.9,1.8\n",
      "\t\tc-4.8,0-79.5,0-79.5,0c-0.2,0-0.5,0.2-0.5,0.5v2.4c0,0.3,0.2,0.5,0.5,0.5h80.3c0,0,0,0.7,0,2.2H51.6c-0.2,0-0.2,0.1-0.2,0.2v47.7\n",
      "\t\tc0.2,0,85.2,0,85.2,0c0.4,0,0.7-0.3,0.7-0.7v-0.1c0-0.4,0.1-48.9,0.1-48.9c0-0.3,0-0.4,0-0.4c0.1-0.9,0.3-1.8,0.6-2.7\n",
      "\t\tc0.3-0.9,0.7-1.7,1.2-2.6h29.8h5.2h29.8c0.5,0.8,0.9,1.7,1.2,2.6s0.5,1.7,0.6,2.7c0,0,0,0.2,0,0.4c0,0,0.1,48.5,0.1,48.9v0.1\n",
      "\t\tc0,0.4,0.3,0.7,0.7,0.7l83.1-0.1h0.2h1.6c0.2,0,0.2-0.1,0.2-0.2v-47.4c0-0.2-0.1-0.2-0.2-0.2h-78.1c0-1.3,0-2.1,0-2.2h80.3\n",
      "\t\tc0.3,0,0.5-0.2,0.5-0.5v-2.4c0-0.2-0.2-0.5-0.5-0.5c0,0-74.7,0-79.5,0c0.2-0.6,0.6-1.2,0.9-1.8h76.2c0.2,0,0.4-0.1,0.4-0.3V86\n",
      "\t\tc0,0,0-0.1,0.1-0.1h2.1c0.3,0,0.5-0.2,0.5-0.5v-1.1c0-0.3-0.2-0.5-0.5-0.5H218c-0.3,0-0.7-0.1-1-0.2l-44.7-18.1v-2.9v-0.9\n",
      "\t\tc0.9-0.2,2.2-0.5,3.2-0.2c5.1,1.7,6.2,1.1,6.2,1c-0.9-1.2-0.6-3.9-0.6-3.9c0.3-2.4,0.2-2.9,0.2-3c-0.2,0.1-1.6,0.9-5-0.2\n",
      "\t\tc-1.8-0.6-3.2-0.7-4-0.8c0-0.5-0.4-0.8-0.9-0.8c-0.4,0.1-0.7,0.4-0.7,0.9v10.7l-44.7,18.1c-0.3,0.2-0.7,0.2-1,0.2H49.2\n",
      "\t\tc-0.3,0-0.5,0.2-0.5,0.5v1.1C48.7,85.7,48.9,85.9,49.2,85.9z\">\n",
      "           </path>\n",
      "           <polygon class=\"st3\" points=\"198.6,96.5 171.5,126.9 144.4,96.5 144.4,96.5 144,96.7 171.2,127.3 171.2,127.2 171.7,127.2\n",
      "\t\t171.8,127.3 198.9,96.8 198.9,96.7 \t\">\n",
      "           </polygon>\n",
      "           <path class=\"st3\" d=\"M172.3,125.7h-1.7c-0.4,0-0.6,0.3-0.6,0.6v4.8c0,0.4,0.3,0.6,0.6,0.6h1.7c0.4,0,0.6-0.3,0.6-0.6v-4.8\n",
      "\t\tC172.9,125.9,172.7,125.7,172.3,125.7z\">\n",
      "           </path>\n",
      "          </g>\n",
      "         </svg>\n",
      "        </a>\n",
      "       </div>\n",
      "       <div class=\"site-header__menu-wrap\">\n",
      "        <nav aria-label=\"Primary Navigation\" class=\"col primary-menu over-four-items over-fourty-characters over-fifty-characters\" data-itemcount=\"5\" data-textlength=\"55\">\n",
      "         <ul class=\"mobile-home-link\">\n",
      "          <li class=\"navlink\">\n",
      "           <a aria-current=\"page\" href=\"https://www.whitehouse.gov/\">\n",
      "            Home\n",
      "           </a>\n",
      "          </li>\n",
      "         </ul>\n",
      "         <ul class=\"row menu site-header__item_inner\" id=\"primary-navigation\">\n",
      "          <li class=\"menu-item menu-item-type-post_type menu-item-object-page menu-item-61 navlink top-level-menu-item\" id=\"menu-item-61\">\n",
      "           <a href=\"https://www.whitehouse.gov/administration/\">\n",
      "            Administration\n",
      "           </a>\n",
      "          </li>\n",
      "          <li class=\"menu-item menu-item-type-post_type menu-item-object-page menu-item-64 navlink top-level-menu-item\" id=\"menu-item-64\">\n",
      "           <a href=\"https://www.whitehouse.gov/priorities/\">\n",
      "            Priorities\n",
      "           </a>\n",
      "          </li>\n",
      "          <li class=\"menu-item menu-item-type-post_type menu-item-object-page menu-item-65469 navlink top-level-menu-item\" id=\"menu-item-65469\">\n",
      "           <a href=\"https://www.whitehouse.gov/therecord/\">\n",
      "            The Record\n",
      "           </a>\n",
      "          </li>\n",
      "          <li class=\"menu-item menu-item-type-post_type menu-item-object-page current_page_parent menu-item-2787 navlink top-level-menu-item\" id=\"menu-item-2787\">\n",
      "           <a href=\"https://www.whitehouse.gov/briefing-room/\">\n",
      "            Briefing Room\n",
      "           </a>\n",
      "          </li>\n",
      "          <li class=\"site-id-2 mlp-language-nav-item menu-item menu-item-type-mlp_language menu-item-object-mlp_language menu-item-199 navlink top-level-menu-item\" id=\"menu-item-199\">\n",
      "           <a href=\"https://www.whitehouse.gov/es/\" hreflang=\"es-US\" lang=\"es-US\" rel=\"alternate\">\n",
      "            Español\n",
      "           </a>\n",
      "          </li>\n",
      "         </ul>\n",
      "        </nav>\n",
      "        <div class=\"site-header__menu-wrap__footer\">\n",
      "         <div class=\"site-header__menu-wrap__footer__social\">\n",
      "          <nav aria-label=\"Social Navigation\" class=\"col-xs-12 col-md-6\">\n",
      "           <ul class=\"social-simple\" id=\"social-navigation-footer\">\n",
      "            <li class=\"menu-item menu-item-type-custom menu-item-object-custom menu-item-87 col-auto top-level-menu-item\" id=\"menu-item-87\">\n",
      "             <a class=\"external-link\" href=\"https://www.instagram.com/whitehouse/\" rel=\"noopener noreferrer\" target=\"_blank\">\n",
      "              <svg aria-hidden=\"true\" tabindex=\"-1\" viewbox=\"0 0 21 20\" xmlns=\"http://www.w3.org/2000/svg\">\n",
      "               <path d=\"M6.92773 6.26953C7.90169 5.29557 9.07617 4.80859 10.4512 4.80859C11.8262 4.80859 12.9863 5.29557 13.9316 6.26953C14.9056 7.21484 15.3926 8.375 15.3926 9.75C15.3926 11.125 14.9056 12.2995 13.9316 13.2734C12.9863 14.2188 11.8262 14.6914 10.4512 14.6914C9.07617 14.6914 7.90169 14.2188 6.92773 13.2734C5.98242 12.2995 5.50977 11.125 5.50977 9.75C5.50977 8.375 5.98242 7.21484 6.92773 6.26953ZM8.17383 12.0273C8.80404 12.6576 9.56315 12.9727 10.4512 12.9727C11.3392 12.9727 12.0983 12.6576 12.7285 12.0273C13.3587 11.3971 13.6738 10.638 13.6738 9.75C13.6738 8.86198 13.3587 8.10286 12.7285 7.47266C12.0983 6.84245 11.3392 6.52734 10.4512 6.52734C9.56315 6.52734 8.80404 6.84245 8.17383 7.47266C7.54362 8.10286 7.22852 8.86198 7.22852 9.75C7.22852 10.638 7.54362 11.3971 8.17383 12.0273ZM16.3809 3.82031C16.61 4.02083 16.7246 4.27865 16.7246 4.59375C16.7246 4.90885 16.61 5.18099 16.3809 5.41016C16.1803 5.63932 15.9225 5.75391 15.6074 5.75391C15.2923 5.75391 15.0202 5.63932 14.791 5.41016C14.5618 5.18099 14.4473 4.90885 14.4473 4.59375C14.4473 4.27865 14.5618 4.02083 14.791 3.82031C15.0202 3.59115 15.2923 3.47656 15.6074 3.47656C15.9225 3.47656 16.1803 3.59115 16.3809 3.82031ZM20.0332 5.79688C20.0618 6.57031 20.0762 7.88802 20.0762 9.75C20.0762 11.612 20.0618 12.9297 20.0332 13.7031C19.9473 15.4505 19.4173 16.8112 18.4434 17.7852C17.498 18.7305 16.1517 19.2318 14.4043 19.2891C13.6309 19.3464 12.3132 19.375 10.4512 19.375C8.58919 19.375 7.27148 19.3464 6.49805 19.2891C4.75065 19.2031 3.4043 18.6875 2.45898 17.7422C2.08659 17.3984 1.78581 16.9974 1.55664 16.5391C1.32747 16.0807 1.1556 15.6367 1.04102 15.207C0.955078 14.7773 0.912109 14.276 0.912109 13.7031C0.854818 12.9297 0.826172 11.612 0.826172 9.75C0.826172 7.88802 0.854818 6.55599 0.912109 5.75391C0.998047 4.03516 1.51367 2.70312 2.45898 1.75781C3.4043 0.783854 4.75065 0.253906 6.49805 0.167969C7.27148 0.139323 8.58919 0.125 10.4512 0.125C12.3132 0.125 13.6309 0.139323 14.4043 0.167969C16.1517 0.253906 17.498 0.783854 18.4434 1.75781C19.4173 2.70312 19.9473 4.04948 20.0332 5.79688ZM17.9707 15.4219C18.0566 15.1927 18.1283 14.9062 18.1855 14.5625C18.2428 14.1901 18.2858 13.7604 18.3145 13.2734C18.3431 12.7578 18.3574 12.3424 18.3574 12.0273C18.3574 11.7122 18.3574 11.2682 18.3574 10.6953C18.3574 10.1224 18.3574 9.80729 18.3574 9.75C18.3574 9.66406 18.3574 9.34896 18.3574 8.80469C18.3574 8.23177 18.3574 7.78776 18.3574 7.47266C18.3574 7.15755 18.3431 6.75651 18.3145 6.26953C18.2858 5.75391 18.2428 5.32422 18.1855 4.98047C18.1283 4.60807 18.0566 4.30729 17.9707 4.07812C17.627 3.1901 17.0111 2.57422 16.123 2.23047C15.8939 2.14453 15.5931 2.07292 15.2207 2.01562C14.877 1.95833 14.4473 1.91536 13.9316 1.88672C13.4447 1.85807 13.0436 1.84375 12.7285 1.84375C12.4421 1.84375 11.998 1.84375 11.3965 1.84375C10.8236 1.84375 10.5085 1.84375 10.4512 1.84375C10.3939 1.84375 10.0788 1.84375 9.50586 1.84375C8.93294 1.84375 8.48893 1.84375 8.17383 1.84375C7.85872 1.84375 7.44336 1.85807 6.92773 1.88672C6.44076 1.91536 6.01107 1.95833 5.63867 2.01562C5.29492 2.07292 5.00846 2.14453 4.7793 2.23047C3.89128 2.57422 3.27539 3.1901 2.93164 4.07812C2.8457 4.30729 2.77409 4.60807 2.7168 4.98047C2.65951 5.32422 2.61654 5.75391 2.58789 6.26953C2.55924 6.75651 2.54492 7.15755 2.54492 7.47266C2.54492 7.75911 2.54492 8.20312 2.54492 8.80469C2.54492 9.3776 2.54492 9.69271 2.54492 9.75C2.54492 9.86458 2.54492 10.1367 2.54492 10.5664C2.54492 10.9674 2.54492 11.3112 2.54492 11.5977C2.54492 11.8555 2.54492 12.1992 2.54492 12.6289C2.57357 13.0586 2.60221 13.431 2.63086 13.7461C2.65951 14.0326 2.70247 14.3333 2.75977 14.6484C2.81706 14.9635 2.87435 15.2214 2.93164 15.4219C3.30404 16.3099 3.91992 16.9258 4.7793 17.2695C5.00846 17.3555 5.29492 17.4271 5.63867 17.4844C6.01107 17.5417 6.44076 17.5846 6.92773 17.6133C7.44336 17.6419 7.8444 17.6562 8.13086 17.6562C8.44596 17.6562 8.88997 17.6562 9.46289 17.6562C10.0645 17.6562 10.3939 17.6562 10.4512 17.6562C10.5371 17.6562 10.8522 17.6562 11.3965 17.6562C11.9694 17.6562 12.4134 17.6562 12.7285 17.6562C13.0436 17.6562 13.4447 17.6419 13.9316 17.6133C14.4473 17.5846 14.877 17.5417 15.2207 17.4844C15.5931 17.4271 15.8939 17.3555 16.123 17.2695C17.0111 16.8971 17.627 16.2812 17.9707 15.4219Z\">\n",
      "               </path>\n",
      "              </svg>\n",
      "              <span class=\"screen-reader-text\">\n",
      "               Instagram\n",
      "               <span class=\"screen-reader-text\">\n",
      "                Opens in a new window\n",
      "               </span>\n",
      "              </span>\n",
      "             </a>\n",
      "            </li>\n",
      "            <li class=\"menu-item menu-item-type-custom menu-item-object-custom menu-item-88 col-auto top-level-menu-item\" id=\"menu-item-88\">\n",
      "             <a class=\"external-link\" href=\"https://www.facebook.com/WhiteHouse/\" rel=\"noopener noreferrer\" target=\"_blank\">\n",
      "              <svg aria-hidden=\"true\" tabindex=\"-1\" viewbox=\"0 0 11 19\" xmlns=\"http://www.w3.org/2000/svg\">\n",
      "               <path d=\"M9.72243 10.375H7.08571V18.25H3.57008V10.375H0.722427V7.10547H3.57008V4.64453C3.57008 3.70703 3.74586 2.91016 4.09743 2.25391C4.44899 1.59766 4.94118 1.10547 5.57399 0.777344C6.23024 0.425781 6.98024 0.25 7.82399 0.25C8.19899 0.25 8.59743 0.273438 9.0193 0.320312C9.44118 0.34375 9.7693 0.378906 10.0037 0.425781L10.3552 0.460938V3.23828H8.94899C8.29274 3.23828 7.81227 3.41406 7.50758 3.76562C7.22633 4.09375 7.08571 4.50391 7.08571 4.99609V7.10547H10.2146L9.72243 10.375Z\">\n",
      "               </path>\n",
      "              </svg>\n",
      "              <span class=\"screen-reader-text\">\n",
      "               Facebook\n",
      "               <span class=\"screen-reader-text\">\n",
      "                Opens in a new window\n",
      "               </span>\n",
      "              </span>\n",
      "             </a>\n",
      "            </li>\n",
      "            <li class=\"menu-item menu-item-type-custom menu-item-object-custom menu-item-89 col-auto top-level-menu-item\" id=\"menu-item-89\">\n",
      "             <a class=\"external-link\" href=\"https://twitter.com/whitehouse\" rel=\"noopener noreferrer\" target=\"_blank\">\n",
      "              <svg aria-hidden=\"true\" fill=\"none\" tabindex=\"-1\" viewbox=\"0 0 1200 1227\" xmlns=\"http://www.w3.org/2000/svg\">\n",
      "               <path d=\"M714.163 519.284L1160.89 0H1055.03L667.137 450.887L357.328 0H0L468.492 681.821L0 1226.37H105.866L515.491 750.218L842.672 1226.37H1200L714.137 519.284H714.163ZM569.165 687.828L521.697 619.934L144.011 79.6944H306.615L611.412 515.685L658.88 583.579L1055.08 1150.3H892.476L569.165 687.854V687.828Z\">\n",
      "               </path>\n",
      "              </svg>\n",
      "              <span class=\"screen-reader-text\">\n",
      "               X\n",
      "               <span class=\"screen-reader-text\">\n",
      "                Opens in a new window\n",
      "               </span>\n",
      "              </span>\n",
      "             </a>\n",
      "            </li>\n",
      "            <li class=\"menu-item menu-item-type-custom menu-item-object-custom menu-item-90 col-auto top-level-menu-item\" id=\"menu-item-90\">\n",
      "             <a class=\"external-link\" href=\"https://www.youtube.com/user/whitehouse\" rel=\"noopener noreferrer\" target=\"_blank\">\n",
      "              <svg aria-hidden=\"true\" fill=\"none\" tabindex=\"-1\" viewbox=\"0 0 18 12\" xmlns=\"http://www.w3.org/2000/svg\">\n",
      "               <path d=\"M17.1562 1.90625C16.9688 1.15625 16.375 0.5625 15.6562 0.375C14.3125 0 9 0 9 0C9 0 3.65625 0 2.3125 0.375C1.59375 0.5625 1 1.15625 0.8125 1.90625C0.4375 3.21875 0.4375 6.03125 0.4375 6.03125C0.4375 6.03125 0.4375 8.8125 0.8125 10.1562C1 10.9062 1.59375 11.4688 2.3125 11.6562C3.65625 12 9 12 9 12C9 12 14.3125 12 15.6563 11.6562C16.375 11.4687 16.9688 10.9062 17.1563 10.1562C17.5313 8.8125 17.5312 6.03125 17.5312 6.03125C17.5312 6.03125 17.5312 3.21875 17.1562 1.90625ZM7.25 8.5625L7.25 3.5L11.6875 6.03125L7.25 8.5625Z\">\n",
      "               </path>\n",
      "              </svg>\n",
      "              <span class=\"screen-reader-text\">\n",
      "               YouTube\n",
      "               <span class=\"screen-reader-text\">\n",
      "                Opens in a new window\n",
      "               </span>\n",
      "              </span>\n",
      "             </a>\n",
      "            </li>\n",
      "           </ul>\n",
      "          </nav>\n",
      "          <!-- social -->\n",
      "         </div>\n",
      "         <nav class=\"site-header__menu-wrap__footer__menu\">\n",
      "          <ul class=\"row menu\" id=\"header-secondary\">\n",
      "           <li class=\"menu-item menu-item-type-post_type menu-item-object-page menu-item-109 small-text top-level-menu-item\" id=\"menu-item-109\">\n",
      "            <a href=\"https://www.whitehouse.gov/contact/\">\n",
      "             Contact Us\n",
      "            </a>\n",
      "           </li>\n",
      "           <li class=\"menu-item menu-item-type-post_type menu-item-object-page menu-item-1791 small-text top-level-menu-item\" id=\"menu-item-1791\">\n",
      "            <a href=\"https://www.whitehouse.gov/privacy/\">\n",
      "             Privacy Policy\n",
      "            </a>\n",
      "           </li>\n",
      "           <li class=\"menu-item menu-item-type-post_type menu-item-object-page menu-item-699 small-text top-level-menu-item\" id=\"menu-item-699\">\n",
      "            <a href=\"https://www.whitehouse.gov/copyright/\">\n",
      "             Copyright Policy\n",
      "            </a>\n",
      "           </li>\n",
      "           <li class=\"menu-item menu-item-type-post_type menu-item-object-page menu-item-107 small-text top-level-menu-item\" id=\"menu-item-107\">\n",
      "            <a href=\"https://www.whitehouse.gov/accessibility/\">\n",
      "             Accessibility Statement\n",
      "            </a>\n",
      "           </li>\n",
      "          </ul>\n",
      "         </nav>\n",
      "        </div>\n",
      "       </div>\n",
      "       <!-- site-header-menu-wrap -->\n",
      "       <div class=\"mobile-menu-toggle\">\n",
      "        <button aria-labelledby=\"mm-label\" class=\"mobile-menu-toggle__control js-mobile-menu-control js-open-main-menu\">\n",
      "         <span class=\"hamburger-control__wrapper\">\n",
      "          <span aria-hidden=\"true\" class=\"hamburger-control__top\">\n",
      "           <span class=\"hamburger-control__top__inner\">\n",
      "           </span>\n",
      "          </span>\n",
      "          <span class=\"hamburger-control__title\" id=\"mm-label\">\n",
      "           <span class=\"menu-text\">\n",
      "            Menu\n",
      "           </span>\n",
      "           <span class=\"close-text\">\n",
      "            Close\n",
      "           </span>\n",
      "          </span>\n",
      "          <span aria-hidden=\"true\" class=\"hamburger-control\">\n",
      "           <span class=\"hamburger-control__inner\">\n",
      "           </span>\n",
      "          </span>\n",
      "         </span>\n",
      "        </button>\n",
      "       </div>\n",
      "       <!-- mobile menu toggle -->\n",
      "       <form action=\"https://www.whitehouse.gov/\" class=\"search-form\" method=\"get\" role=\"search\">\n",
      "        <label for=\"search-field-search-id-23\" id=\"search-label-search-id-23\">\n",
      "         <span class=\"screen-reader-text\">\n",
      "          To search this site, enter a search term\n",
      "         </span>\n",
      "        </label>\n",
      "        <button aria-hidden=\"true\" aria-label=\"Close\" class=\"search-close-icon\">\n",
      "         <svg height=\"13\" viewbox=\"0 0 13 13\" width=\"13\" xmlns=\"http://www.w3.org/2000/svg\">\n",
      "          <rect fill=\"black\" height=\"1\" transform=\"rotate(45 1.26074 0)\" width=\"16.2296\" x=\"1.26074\">\n",
      "          </rect>\n",
      "          <rect fill=\"black\" height=\"1\" transform=\"rotate(-45 0.737305 11.5178)\" width=\"16.2296\" x=\"0.737305\" y=\"11.5178\">\n",
      "          </rect>\n",
      "         </svg>\n",
      "        </button>\n",
      "        <button aria-label=\"Search\" class=\"search-icon\">\n",
      "         <svg aria-hidden=\"true\" height=\"34\" tabindex=\"-1\" viewbox=\"0 0 34 34\" width=\"34\" xmlns=\"http://www.w3.org/2000/svg\">\n",
      "          <circle cx=\"17\" cy=\"17\" fill=\"#000\" r=\"17\">\n",
      "          </circle>\n",
      "          <path d=\"M15.75 21.3c1.25 0 2.45-.41 3.43-1.18l3.68 3.68.94-.94-3.68-3.68a5.55 5.55 0 1 0-4.37 2.12Zm0-9.77a4.22 4.22 0 1 1 0 8.44 4.22 4.22 0 0 1 0-8.44Z\" fill=\"#fff\">\n",
      "          </path>\n",
      "         </svg>\n",
      "        </button>\n",
      "        <input aria-labelledby=\"search-label-search-id-23\" aria-required=\"false\" autocapitalize=\"off\" autocomplete=\"off\" class=\"search-field\" id=\"search-field-search-id-23\" name=\"s\" placeholder=\"Search…\" required=\"\" spellcheck=\"false\" type=\"text\"/>\n",
      "        <button aria-hidden=\"true\" class=\"search-submit\">\n",
      "         <svg aria-hidden=\"true\" height=\"68\" tabindex=\"-1\" viewbox=\"0 0 63 68\" width=\"63\" xmlns=\"http://www.w3.org/2000/svg\">\n",
      "          <path d=\"m0 0 63 33.74S.66 67.44 0 68V68l17.06-34L0 0Z\" fill=\"currentColor\">\n",
      "          </path>\n",
      "         </svg>\n",
      "         <span class=\"screen-reader-text\">\n",
      "          Search\n",
      "         </span>\n",
      "        </button>\n",
      "       </form>\n",
      "      </div>\n",
      "     </div>\n",
      "    </div>\n",
      "    <div aria-hidden=\"true\" aria-labelledby=\"dialog2Title\" aria-modal=\"true\" class=\"mobile-overlay mobile-nav-overlay\" role=\"dialog\">\n",
      "     <div class=\"screen-reader-text\">\n",
      "      <h2 id=\"dialog2Title\">\n",
      "       Mobile Menu Overlay\n",
      "      </h2>\n",
      "     </div>\n",
      "     <div class=\"overlay-header\">\n",
      "      <div class=\"overlay-logo\">\n",
      "       <a href=\"https://www.whitehouse.gov/\" rel=\"home\">\n",
      "        <svg id=\"wh-oval-nofill-24\" style=\"enable-background:new 0 0 343 243;\" version=\"1.1\" viewbox=\"0 0 343 243\" x=\"0px\" xml:space=\"preserve\" xmlns=\"http://www.w3.org/2000/svg\" xmlns:xlink=\"http://www.w3.org/1999/xlink\" y=\"0px\">\n",
      "         <style type=\"text/css\">\n",
      "          #wh-oval-nofill-24 .st0{fill-rule:evenodd;clip-rule:evenodd;fill:#0A2458;}\n",
      "\t#wh-oval-nofill-24 .st1{opacity:0.5;fill:#0A2458;}\n",
      "\t#wh-oval-nofill-24 .st2{fill:#0A2458;}\n",
      "         </style>\n",
      "         <path class=\"st0\" d=\"M171.5,229.5c87.3,0,158-48.4,158-108s-70.7-108-158-108s-158,48.4-158,108S84.2,229.5,171.5,229.5z M290.8,209\n",
      "\tc-31.1,21.3-73.3,34-119.3,34s-88.2-12.7-119.3-34C21.1,187.8,0,157.1,0,121.5S21.1,55.2,52.2,34C83.3,12.7,125.5,0,171.5,0\n",
      "\ts88.2,12.7,119.3,34c31,21.2,52.2,51.9,52.2,87.5S321.8,187.8,290.8,209z\">\n",
      "         </path>\n",
      "         <g>\n",
      "          <g>\n",
      "           <rect class=\"st1\" height=\"8.5\" width=\"2.7\" x=\"168.3\" y=\"134.4\">\n",
      "           </rect>\n",
      "           <rect class=\"st1\" height=\"8.5\" width=\"2.7\" x=\"168.3\" y=\"143.9\">\n",
      "           </rect>\n",
      "           <rect class=\"st1\" height=\"8.5\" width=\"2.7\" x=\"172\" y=\"143.9\">\n",
      "           </rect>\n",
      "           <rect class=\"st1\" height=\"8.4\" width=\"2.7\" x=\"172\" y=\"134.4\">\n",
      "           </rect>\n",
      "           <path class=\"st1\" d=\"M212.5,92.7h-81.9c-0.6,0-1.1,0.5-1.1,1.1v66c0,0.6,0.5,1.1,1.1,1.1h81.8c0.7,0,1.2-0.5,1.2-1.2v-66\n",
      "\t\t\tC213.6,93.2,213.1,92.7,212.5,92.7z M191.8,118.7c0-0.2,0.1-0.2,0.2-0.3c0.2-0.2,0.4-0.7,0.4-1.2v-7.2c0-0.4-0.2-0.8-0.4-1.2\n",
      "\t\t\tc-0.1-0.1-0.2-0.2-0.2-0.3v-1.4c0-0.2,0.2-0.3,0.3-0.3h9.1c0.2,0,0.3,0.2,0.3,0.3v1.4c0,0.2-0.1,0.2-0.2,0.3\n",
      "\t\t\tc-0.2,0.3-0.4,0.7-0.4,1.2v7.1c0,0.4,0.2,0.8,0.4,1.2c0.1,0.1,0.2,0.2,0.2,0.3v3.2c0,0.2-0.2,0.3-0.3,0.3h-9.1\n",
      "\t\t\tc-0.2,0-0.3-0.2-0.3-0.3V118.7z M166.6,118.7c0-0.2,0.1-0.2,0.2-0.3c0.2-0.2,0.4-0.7,0.4-1.2v-7.1c0-0.4-0.2-0.8-0.4-1.2\n",
      "\t\t\tc-0.1-0.1-0.2-0.2-0.2-0.3v-1.4c0-0.2,0.2-0.3,0.3-0.3h9.1c0.2,0,0.3,0.2,0.3,0.3v1.4c0,0.2-0.1,0.2-0.2,0.3\n",
      "\t\t\tc-0.2,0.2-0.4,0.7-0.4,1.2v7.2c0,0.4,0.2,0.8,0.4,1.2c0.1,0.1,0.2,0.2,0.2,0.3v3.2c0,0.2-0.2,0.3-0.3,0.3h-9.1\n",
      "\t\t\tc-0.2,0-0.3-0.2-0.3-0.3V118.7z M141.5,118.7c0-0.2,0.1-0.2,0.2-0.3c0.2-0.2,0.4-0.7,0.4-1.2v-7.1c0-0.4-0.2-0.8-0.4-1.2\n",
      "\t\t\tc-0.1-0.1-0.2-0.2-0.2-0.3v-1.4c0-0.2,0.2-0.3,0.3-0.3h9.1c0.2,0,0.3,0.2,0.3,0.3v1.4c0,0.2-0.1,0.2-0.2,0.3\n",
      "\t\t\tc-0.2,0.2-0.4,0.7-0.4,1.2v7.2c0,0.4,0.2,0.8,0.4,1.2c0.1,0.1,0.2,0.2,0.2,0.3v3.2c0,0.2-0.2,0.3-0.3,0.3h-9.1\n",
      "\t\t\tc-0.2,0-0.3-0.2-0.3-0.3V118.7z M151.3,131.9c0,0.2-0.1,0.2-0.2,0.3c-0.2,0.2-0.4,0.7-0.4,1.2v8.7c0,0.4,0.2,0.8,0.4,1.2\n",
      "\t\t\tc0.1,0.1,0.2,0.2,0.2,0.3v3.2c0,0.2-0.2,0.3-0.3,0.3h-9.1c-0.2,0-0.3-0.2-0.3-0.3v-3.2c0-0.2,0.1-0.2,0.2-0.3\n",
      "\t\t\tc0.2-0.2,0.4-0.7,0.4-1.2v-8.7c0-0.4-0.2-0.8-0.4-1.2c-0.1-0.1-0.2-0.2-0.2-0.3v-1.4c0-0.2,0.2-0.3,0.3-0.3h9.1\n",
      "\t\t\tc0.2,0,0.3,0.2,0.3,0.3V131.9z M151.8,127.9c-0.1,0.2-0.2,0.2-0.2,0.2h-10c-0.2,0-0.3-0.1-0.4-0.2c-0.1-0.2-0.1-0.4,0.1-0.5\n",
      "\t\t\tc1.5-1.2,3.3-1.9,5.2-1.9c1.9,0,3.7,0.7,5.2,1.9C151.8,127.5,151.9,127.7,151.8,127.9z M176.3,154.1c-3.2,0-6.4,0-9.6,0\n",
      "\t\t\tc-0.2,0-0.5-0.2-0.5-0.5c0-6.9,0-13.7,0-20.7c0.1-6.9,10.4-6.9,10.5,0c0,6.9,0,13.7,0.1,20.7C176.8,153.9,176.5,154.1,176.3,154.1\n",
      "\t\t\tz M201.5,131.9c0,0.2-0.1,0.2-0.2,0.3c-0.2,0.2-0.4,0.7-0.4,1.2v8.7c0,0.4,0.2,0.8,0.4,1.2c0.1,0.1,0.2,0.2,0.2,0.3v3.2\n",
      "\t\t\tc0,0.2-0.2,0.3-0.3,0.3h-9.1c-0.2,0-0.3-0.2-0.3-0.3v-3.2c0-0.2,0.1-0.2,0.2-0.3c0.2-0.2,0.4-0.7,0.4-1.2v-8.7\n",
      "\t\t\tc0-0.4-0.2-0.8-0.4-1.2c-0.1-0.1-0.2-0.2-0.2-0.3v-1.4c0-0.2,0.2-0.3,0.3-0.3h9.1c0.2,0,0.3,0.2,0.3,0.3V131.9z M202,127.9\n",
      "\t\t\tc-0.1,0.2-0.2,0.2-0.2,0.2h-10c-0.2,0-0.3-0.1-0.4-0.2c-0.1-0.2-0.1-0.4,0.1-0.5c1.5-1.2,3.3-1.9,5.2-1.9c1.9,0,3.7,0.7,5.2,1.9\n",
      "\t\t\tC202,127.5,202.1,127.7,202,127.9z\">\n",
      "           </path>\n",
      "          </g>\n",
      "          <path class=\"st2\" d=\"M192.6,72.3l2.4,1h20.3l0.8-1.1c0.2-0.2,0-0.4-0.2-0.4h-23.2C192.4,71.8,192.3,72.3,192.6,72.3z\">\n",
      "          </path>\n",
      "          <path class=\"st2\" d=\"M222.2,79.1v3.1c0,0.2,0.2,0.4,0.3,0.4h7.2c0.2,0,0.3-0.2,0.4-0.4v-3.1l1.2-1.7c0.2-0.2,0-0.6-0.2-0.6h-10\n",
      "\t\tc-0.3,0-0.5,0.3-0.2,0.6L222.2,79.1z\">\n",
      "          </path>\n",
      "          <path class=\"st2\" d=\"M215.1,166.4h-40h-7.3h-39.9c-0.2,0-0.5,0.2-0.5,0.5v3.7c0,0.2,0.2,0.5,0.5,0.5h40h7.3h40\n",
      "\t\tc0.2,0,0.5-0.2,0.5-0.5v-3.7C215.6,166.6,215.4,166.4,215.1,166.4z\">\n",
      "          </path>\n",
      "          <path class=\"st2\" d=\"M197.3,74.3l17.5,6.8c0.2,0.1,0.4-0.1,0.4-0.2v-2.1c0-0.1,0-0.1-0.1-0.2l-0.3-0.5c0-0.1-0.1-0.1-0.1-0.2v-3.7\n",
      "\t\tL197.3,74.3L197.3,74.3z\">\n",
      "          </path>\n",
      "          <path class=\"st2\" d=\"M127.7,73.3H148l2.4-1c0.2-0.1,0.2-0.5-0.1-0.5h-23.2c-0.2,0-0.3,0.2-0.2,0.4L127.7,73.3z\">\n",
      "          </path>\n",
      "          <path class=\"st2\" d=\"M112.8,79.1v3.1c0,0.2,0.2,0.4,0.4,0.4h7.2c0.2,0,0.3-0.2,0.3-0.4v-3.1l1.2-1.7c0.2-0.2,0-0.6-0.2-0.6h-10\n",
      "\t\tc-0.3,0-0.5,0.3-0.2,0.6L112.8,79.1z\">\n",
      "          </path>\n",
      "          <path class=\"st2\" d=\"M293.8,153.5h-79.4c-0.2-0.7-0.5-1.3-0.7-2h-7.8c-0.2,0-0.4,0.2-0.5,0.4c-0.2,0.6-0.4,1.2-0.7,1.8\n",
      "\t\tc-0.2,0.6-0.6,1.2-1,1.7v3.2h-14.1v-3.2c-0.7-1.2-1.2-2.3-1.6-3.6c-0.1-0.2-0.2-0.4-0.5-0.4H180c-0.2,0-0.4,0.2-0.5,0.4\n",
      "\t\tc-0.3,1.2-0.8,2.4-1.6,3.6v3.2h-5h-2.7h-5v-3.2c-0.7-1.1-1.2-2.3-1.6-3.6c-0.1-0.2-0.2-0.4-0.5-0.4h-7.5c-0.2,0-0.4,0.2-0.5,0.4\n",
      "\t\tc-0.3,1.2-0.9,2.4-1.6,3.6v3.2h-14.1v-3.2c-0.3-0.6-0.7-1.2-1-1.7c-0.2-0.6-0.5-1.2-0.7-1.8c-0.1-0.2-0.2-0.4-0.5-0.4h-7.8\n",
      "\t\tc-0.2,0.7-0.4,1.3-0.7,2H49.2c-0.4,0-0.7,0.3-0.7,0.7v6.8c0,0.4,0.3,0.7,0.7,0.7h78.2v2.6c0,0.4,0.3,0.7,0.7,0.7h42.1h2.7H215\n",
      "\t\tc0.4,0,0.7-0.3,0.7-0.7v-2.6h78.2c0.4,0,0.7-0.3,0.7-0.7v-6.8C294.5,153.9,294.2,153.5,293.8,153.5z\">\n",
      "          </path>\n",
      "          <path class=\"st2\" d=\"M128.2,78.3l-0.3,0.5c0,0.1-0.1,0.1-0.1,0.2v2.1c0,0.2,0.2,0.3,0.4,0.2l17.5-6.8h-17.4L128.2,78.3\n",
      "\t\tC128.3,78.2,128.3,78.2,128.2,78.3z\">\n",
      "          </path>\n",
      "          <path class=\"st2\" d=\"M187.5,107.8c0-0.2,0-0.5,0-0.7c0-3.7,0-7.1,0-7.1c0.2-1.2,0.5-2.3,1-3.5H179c0.5,1.1,0.8,2.2,1,3.5V119v3.8\n",
      "\t\tv26.5v0.1c0,0.4,0.3,0.7,0.7,0.7h6.2c0.4,0,0.7-0.3,0.7-0.7c0,0,0-26.1,0-40.4C187.5,108.6,187.5,108.2,187.5,107.8z\">\n",
      "          </path>\n",
      "          <path class=\"st2\" d=\"M163.1,105.6c0.2-6.7,0.5-7.8,1-9h-9.6c0.5,1.1,0.8,2.2,1,3.5c0,0,0,1.1,0,3c0,14.2,0,46.4,0,46.4\n",
      "\t\tc0,0.4,0.3,0.7,0.7,0.7h6.2c0.4,0,0.7-0.3,0.7-0.7v-0.1v-27v-3.3L163.1,105.6L163.1,105.6z\">\n",
      "          </path>\n",
      "          <path class=\"st2\" d=\"M56.4,87.7c0-0.3,0.3-0.7,0.7-0.7h11.6c0.4,0,0.7,0.2,0.7,0.7v2.9c0,0.3-0.3,0.7-0.7,0.7H57.1\n",
      "\t\tc-0.4,0-0.7-0.2-0.7-0.7V87.7z M75.2,87.7c0-0.3,0.3-0.7,0.7-0.7h11.6c0.4,0,0.7,0.2,0.7,0.7v2.9c0,0.3-0.3,0.7-0.7,0.7H75.8\n",
      "\t\tc-0.4,0-0.7-0.2-0.7-0.7L75.2,87.7L75.2,87.7z M93.9,87.7c0-0.3,0.3-0.7,0.7-0.7h11.6c0.4,0,0.7,0.2,0.7,0.7v2.9\n",
      "\t\tc0,0.3-0.3,0.7-0.7,0.7H94.6c-0.4,0-0.7-0.2-0.7-0.7V87.7z M112.6,87.7c0-0.3,0.3-0.7,0.7-0.7h13.5c0.4,0,0.7,0.2,0.7,0.7v1.9h87.8\n",
      "\t\tv-1.8c0-0.3,0.3-0.7,0.7-0.7h13.5c0.4,0,0.7,0.2,0.7,0.7v2.9c0,0.3-0.3,0.7-0.7,0.7H113.3c-0.4,0-0.7-0.2-0.7-0.7V87.7z M135,83.7\n",
      "\t\tl36.5-14.7L208,83.7h-6.1l-15.2-6.1l-15.2-6.1l-15.2,6.1L141,83.7H135z M236.1,87.7c0-0.3,0.3-0.7,0.7-0.7h11.6\n",
      "\t\tc0.4,0,0.7,0.2,0.7,0.7v2.9c0,0.3-0.3,0.7-0.7,0.7h-11.6c-0.4,0-0.7-0.2-0.7-0.7V87.7z M254.8,87.7c0-0.3,0.3-0.7,0.7-0.7h11.6\n",
      "\t\tc0.4,0,0.7,0.2,0.7,0.7v2.9c0,0.3-0.3,0.7-0.7,0.7h-11.6c-0.4,0-0.7-0.2-0.7-0.7V87.7z M273.6,87.7c0-0.3,0.3-0.7,0.7-0.7h11.6\n",
      "\t\tc0.4,0,0.7,0.2,0.7,0.7v2.9c0,0.3-0.3,0.7-0.7,0.7h-11.6c-0.4,0-0.7-0.2-0.7-0.7V87.7z M218.5,127.6l5.2-2.2c0.1,0,0.1,0,0.2,0\n",
      "\t\ts0.1,0,0.2,0l5.2,2.2c0.2,0.1,0.2,0.2,0.2,0.4c0,0.2-0.2,0.2-0.3,0.2h-10.5c-0.2,0-0.3-0.1-0.3-0.2\n",
      "\t\tC218.2,127.8,218.3,127.6,218.5,127.6z M219,118.7c0-0.1,0.1-0.2,0.2-0.3c0.2-0.3,0.4-0.7,0.4-1.2v-7.2c0-0.5-0.2-0.9-0.4-1.2\n",
      "\t\tc-0.1-0.1-0.2-0.2-0.2-0.3v-1.4c0-0.2,0.2-0.3,0.3-0.3h9.1c0.2,0,0.3,0.2,0.3,0.3v1.4c0,0.1-0.1,0.2-0.2,0.3\n",
      "\t\tc-0.2,0.3-0.4,0.7-0.4,1.2v7.1c0,0.5,0.2,0.9,0.4,1.2c0.1,0.1,0.2,0.2,0.2,0.3v3.2c0,0.2-0.2,0.3-0.3,0.3h-9.1\n",
      "\t\tc-0.2,0-0.3-0.2-0.3-0.3V118.7z M237.3,127.4c0.2-0.2,0.3-0.2,0.5-0.4c1.4-1,3-1.5,4.7-1.5c1.9,0,3.7,0.7,5.2,1.9l0.1,0.1\n",
      "\t\tc0.1,0.1,0.1,0.2,0.1,0.3s-0.1,0.2-0.2,0.2c0,0,0,0-0.1,0c0,0,0,0-0.1,0h-0.1h-10c-0.1,0-0.2-0.1-0.2-0.1c-0.1-0.1-0.1-0.1-0.1-0.2\n",
      "\t\tC237.2,127.7,237.2,127.5,237.3,127.4z M237.7,118.7c0-0.1,0.1-0.2,0.2-0.3c0.2-0.3,0.4-0.7,0.4-1.2v-7.2c0-0.5-0.2-0.9-0.4-1.2\n",
      "\t\tc-0.1-0.1-0.2-0.2-0.2-0.3v-1.4c0-0.2,0.2-0.3,0.3-0.3h9.1c0.2,0,0.3,0.2,0.3,0.3v1.4c0,0.1-0.1,0.2-0.2,0.3\n",
      "\t\tc-0.2,0.3-0.4,0.7-0.4,1.2v7.1c0,0.5,0.2,0.9,0.4,1.2c0.1,0.1,0.2,0.2,0.2,0.3v3.2c0,0.2-0.2,0.3-0.3,0.3H238\n",
      "\t\tc-0.2,0-0.3-0.2-0.3-0.3V118.7z M255.9,127.6l5.3-2.2c0.1,0,0.1,0,0.2,0h0.1c0,0,0,0,0.1,0l5.2,2.2c0.1,0,0.1,0.1,0.2,0.1\n",
      "\t\tc0.1,0.1,0.1,0.2,0.1,0.2c0,0.1-0.1,0.2-0.2,0.2c-0.1,0-0.1,0.1-0.2,0.1h-10.5c-0.1,0-0.2,0-0.2-0.1c-0.1,0-0.1-0.1-0.2-0.2V128\n",
      "\t\tC255.7,127.9,255.7,127.7,255.9,127.6z M256.5,118.7c0-0.1,0.1-0.2,0.2-0.3c0.2-0.3,0.4-0.7,0.4-1.2v-7.2c0-0.5-0.2-0.9-0.4-1.2\n",
      "\t\tc-0.1-0.1-0.2-0.2-0.2-0.3v-1.4c0-0.2,0.2-0.3,0.3-0.3h9.1c0.2,0,0.3,0.2,0.3,0.3v1.4c0,0.1-0.1,0.2-0.2,0.3\n",
      "\t\tc-0.2,0.3-0.4,0.7-0.4,1.2v7.1c0,0.5,0.2,0.9,0.4,1.2c0.1,0.1,0.2,0.2,0.2,0.3v3.2c0,0.2-0.2,0.3-0.3,0.3h-9.1\n",
      "\t\tc-0.2,0-0.3-0.2-0.3-0.3V118.7z M274.8,127.4c0.2-0.2,0.3-0.2,0.5-0.4c1.4-1,3-1.5,4.7-1.5c1.9,0,3.7,0.7,5.2,1.9l0.1,0.1\n",
      "\t\tc0.1,0.1,0.1,0.2,0.1,0.3s-0.1,0.2-0.2,0.2c0,0,0,0-0.1,0c0,0,0,0-0.1,0H285h-10c-0.1,0-0.2-0.1-0.2-0.1c-0.1-0.1-0.1-0.1-0.1-0.2\n",
      "\t\tC274.6,127.7,274.7,127.5,274.8,127.4z M275.2,118.7c0-0.1,0.1-0.2,0.2-0.3c0.2-0.3,0.4-0.7,0.4-1.2v-7.2c0-0.5-0.2-0.9-0.4-1.2\n",
      "\t\tc-0.1-0.1-0.2-0.2-0.2-0.3v-1.4c0-0.2,0.2-0.3,0.3-0.3h9.1c0.2,0,0.3,0.2,0.3,0.3v1.4c0,0.1-0.1,0.2-0.2,0.3\n",
      "\t\tc-0.2,0.3-0.4,0.7-0.4,1.2v7.1c0,0.5,0.2,0.9,0.4,1.2c0.1,0.1,0.2,0.2,0.2,0.3v3.2c0,0.2-0.2,0.3-0.3,0.3h-9.1\n",
      "\t\tc-0.2,0-0.3-0.2-0.3-0.3V118.7z M284.9,131.9c0,0.1-0.1,0.2-0.2,0.3c-0.2,0.3-0.4,0.7-0.4,1.2v8.7c0,0.5,0.2,0.9,0.4,1.2\n",
      "\t\tc0.1,0.1,0.2,0.2,0.2,0.3v3.2c0,0.2-0.2,0.3-0.3,0.3h-9.1c-0.2,0-0.3-0.2-0.3-0.3v-3.2c0-0.1,0.1-0.2,0.2-0.3\n",
      "\t\tc0.2-0.3,0.4-0.7,0.4-1.2v-8.7c0-0.5-0.2-0.9-0.4-1.2c-0.1-0.1-0.2-0.2-0.2-0.3v-1.4c0-0.2,0.2-0.3,0.3-0.3h9.1\n",
      "\t\tc0.2,0,0.3,0.2,0.3,0.3V131.9z M266.2,131.9c0,0.1-0.1,0.2-0.2,0.3c-0.2,0.3-0.4,0.7-0.4,1.2v8.7c0,0.5,0.2,0.9,0.4,1.2\n",
      "\t\tc0.1,0.1,0.2,0.2,0.2,0.3v3.2c0,0.2-0.2,0.3-0.3,0.3h-9.1c-0.2,0-0.3-0.2-0.3-0.3v-3.2c0-0.1,0.1-0.2,0.2-0.3\n",
      "\t\tc0.2-0.3,0.4-0.7,0.4-1.2v-8.7c0-0.5-0.2-0.9-0.4-1.2c-0.1-0.1-0.2-0.2-0.2-0.3v-1.4c0-0.2,0.2-0.3,0.3-0.3h9.1\n",
      "\t\tc0.2,0,0.3,0.2,0.3,0.3V131.9z M247.4,131.9c0,0.1-0.1,0.2-0.2,0.3c-0.2,0.3-0.4,0.7-0.4,1.2v8.7c0,0.5,0.2,0.9,0.4,1.2\n",
      "\t\tc0.1,0.1,0.2,0.2,0.2,0.3v3.2c0,0.2-0.2,0.3-0.3,0.3H238c-0.2,0-0.3-0.2-0.3-0.3v-3.2c0-0.1,0.1-0.2,0.2-0.3\n",
      "\t\tc0.2-0.3,0.4-0.7,0.4-1.2v-8.7c0-0.5-0.2-0.9-0.4-1.2c-0.1-0.1-0.2-0.2-0.2-0.3v-1.4c0-0.2,0.2-0.3,0.3-0.3h9.1\n",
      "\t\tc0.2,0,0.3,0.2,0.3,0.3V131.9z M228.7,131.9c0,0.1-0.1,0.2-0.2,0.3c-0.2,0.3-0.4,0.7-0.4,1.2v8.7c0,0.5,0.2,0.9,0.4,1.2\n",
      "\t\tc0.1,0.1,0.2,0.2,0.2,0.3v3.2c0,0.2-0.2,0.3-0.3,0.3h-9.1c-0.2,0-0.3-0.2-0.3-0.3v-3.2c0-0.1,0.1-0.2,0.2-0.3\n",
      "\t\tc0.2-0.3,0.4-0.7,0.4-1.2v-8.7c0-0.5-0.2-0.9-0.4-1.2c-0.1-0.1-0.2-0.2-0.2-0.3v-1.4c0-0.2,0.2-0.3,0.3-0.3h9.1\n",
      "\t\tc0.2,0,0.3,0.2,0.3,0.3V131.9z M124.4,128.3h-10.5c-0.2,0-0.3-0.1-0.3-0.2c0-0.2,0.1-0.3,0.2-0.4l5.2-2.2c0.1,0,0.1,0,0.2,0\n",
      "\t\tc0.1,0,0.1,0,0.2,0l5.2,2.2c0.2,0.1,0.2,0.2,0.2,0.4C124.7,128.2,124.6,128.3,124.4,128.3z M124,131.9c0,0.1-0.1,0.2-0.2,0.3\n",
      "\t\tc-0.2,0.3-0.4,0.7-0.4,1.2v8.7c0,0.5,0.2,0.9,0.4,1.2c0.1,0.1,0.2,0.2,0.2,0.3v3.2c0,0.2-0.2,0.3-0.3,0.3h-9.1\n",
      "\t\tc-0.2,0-0.3-0.2-0.3-0.3v-3.2c0-0.1,0.1-0.2,0.2-0.3c0.2-0.3,0.4-0.7,0.4-1.2v-8.7c0-0.5-0.2-0.9-0.4-1.2c-0.1-0.1-0.2-0.2-0.2-0.3\n",
      "\t\tv-1.4c0-0.2,0.2-0.3,0.3-0.3h9.1c0.2,0,0.3,0.2,0.3,0.3V131.9z M105.8,127.9c0,0.1-0.1,0.1-0.1,0.2l-0.1,0.1\n",
      "\t\tc-0.1,0-0.1,0.1-0.2,0.1h-10c-0.1,0-0.1,0-0.2-0.1c-0.2-0.1-0.2-0.2-0.2-0.2s0-0.2,0-0.3c0,0,0-0.1,0.1-0.1c0,0,0-0.1,0.1-0.1\n",
      "\t\tc0.3-0.3,0.7-0.6,1.2-0.8c0,0,0.1,0,0.1-0.1c1.2-0.7,2.6-1.1,4-1.1c1.9,0,3.7,0.7,5.2,1.9C105.8,127.5,105.9,127.7,105.8,127.9z\n",
      "\t\t M105.3,131.9c0,0.1-0.1,0.2-0.2,0.3c-0.2,0.3-0.4,0.7-0.4,1.2v8.7c0,0.5,0.2,0.9,0.4,1.2c0.1,0.1,0.2,0.2,0.2,0.3v3.2\n",
      "\t\tc0,0.2-0.2,0.3-0.3,0.3h-9.1c-0.2,0-0.3-0.2-0.3-0.3v-3.2c0-0.1,0.1-0.2,0.2-0.3c0.2-0.3,0.4-0.7,0.4-1.2v-8.7\n",
      "\t\tc0-0.5-0.2-0.9-0.4-1.2c-0.1-0.1-0.2-0.2-0.2-0.3v-1.4c0-0.2,0.2-0.3,0.3-0.3h9.1c0.2,0,0.3,0.2,0.3,0.3V131.9z M87.1,128.2\n",
      "\t\tc-0.1,0-0.1,0.1-0.2,0.1H76.4c-0.1,0-0.1,0-0.2,0s-0.2-0.1-0.2-0.2V128c0-0.2,0.1-0.3,0.2-0.4l5.2-2.2c0,0,0,0,0.1,0h0.1\n",
      "\t\tc0.1,0,0.1,0,0.2,0l5.2,2.2c0.2,0.1,0.2,0.2,0.2,0.4C87.2,128.1,87.2,128.2,87.1,128.2z M86.6,131.9c0,0.1-0.1,0.2-0.2,0.3\n",
      "\t\tc-0.2,0.3-0.4,0.7-0.4,1.2v8.7c0,0.5,0.2,0.9,0.4,1.2c0.1,0.1,0.2,0.2,0.2,0.3v3.2c0,0.2-0.2,0.3-0.3,0.3h-9.1\n",
      "\t\tc-0.2,0-0.3-0.2-0.3-0.3v-3.2c0-0.1,0.1-0.2,0.2-0.3c0.2-0.3,0.4-0.7,0.4-1.2v-8.7c0-0.5-0.2-0.9-0.4-1.2c-0.1-0.1-0.2-0.2-0.2-0.3\n",
      "\t\tv-1.4c0-0.2,0.2-0.3,0.3-0.3h9.1c0.2,0,0.3,0.2,0.3,0.3V131.9z M68.4,127.9c0,0.1-0.1,0.2-0.2,0.2c-0.1,0-0.1,0.1-0.2,0.1H58\n",
      "\t\tc0,0,0,0-0.1,0h-0.1c-0.1-0.1-0.2-0.2-0.2-0.2c-0.1-0.2,0-0.3,0.1-0.4c0,0,0,0,0.1-0.1c0.2-0.1,0.2-0.2,0.4-0.3\n",
      "\t\tc0.1-0.1,0.2-0.1,0.2-0.2c0.2-0.1,0.2-0.2,0.4-0.2c0.1-0.1,0.2-0.2,0.4-0.2c1.2-0.6,2.4-0.9,3.7-0.9c1.9,0,3.7,0.7,5.2,1.9\n",
      "\t\tC68.4,127.5,68.4,127.7,68.4,127.9z M67.8,131.9c0,0.1-0.1,0.2-0.2,0.3c-0.2,0.3-0.4,0.7-0.4,1.2v8.7c0,0.5,0.2,0.9,0.4,1.2\n",
      "\t\tc0.1,0.1,0.2,0.2,0.2,0.3v3.2c0,0.2-0.2,0.3-0.3,0.3h-9.1c-0.2,0-0.3-0.2-0.3-0.3v-3.2c0-0.1,0.1-0.2,0.2-0.3\n",
      "\t\tc0.2-0.3,0.4-0.7,0.4-1.2v-8.7c0-0.5-0.2-0.9-0.4-1.2c-0.1-0.1-0.2-0.2-0.2-0.3v-1.4c0-0.2,0.2-0.3,0.3-0.3h9.1\n",
      "\t\tc0.2,0,0.3,0.2,0.3,0.3V131.9z M58.1,118.7c0-0.1,0.1-0.2,0.2-0.3c0.2-0.3,0.4-0.7,0.4-1.2v-7.1c0-0.5-0.2-0.9-0.4-1.2\n",
      "\t\tc-0.1-0.1-0.2-0.2-0.2-0.3v-1.5c0-0.2,0.2-0.3,0.3-0.3h9.1c0.2,0,0.3,0.2,0.3,0.3v1.4c0,0.1-0.1,0.2-0.2,0.3\n",
      "\t\tc-0.2,0.3-0.4,0.7-0.4,1.2v7.2c0,0.5,0.2,0.9,0.4,1.2c0.1,0.1,0.2,0.2,0.2,0.3v3.2c0,0.2-0.2,0.3-0.3,0.3h-9.1\n",
      "\t\tc-0.2,0-0.3-0.2-0.3-0.3L58.1,118.7L58.1,118.7z M76.8,118.7c0-0.1,0.1-0.2,0.2-0.3c0.2-0.3,0.4-0.7,0.4-1.2v-7.1\n",
      "\t\tc0-0.5-0.2-0.9-0.4-1.2c-0.1-0.1-0.2-0.2-0.2-0.3v-1.5c0-0.2,0.2-0.3,0.3-0.3h9.1c0.2,0,0.3,0.2,0.3,0.3v1.4c0,0.1-0.1,0.2-0.2,0.3\n",
      "\t\tc-0.2,0.3-0.4,0.7-0.4,1.2v7.2c0,0.5,0.2,0.9,0.4,1.2c0.1,0.1,0.2,0.2,0.2,0.3v3.2c0,0.2-0.2,0.3-0.3,0.3h-9.1\n",
      "\t\tc-0.2,0-0.3-0.2-0.3-0.3V118.7z M95.6,118.7c0-0.1,0.1-0.2,0.2-0.3c0.2-0.3,0.4-0.7,0.4-1.2v-7.1c0-0.5-0.2-0.9-0.4-1.2\n",
      "\t\tc-0.1-0.1-0.2-0.2-0.2-0.3v-1.5c0-0.2,0.2-0.3,0.3-0.3h9.1c0.2,0,0.3,0.2,0.3,0.3v1.4c0,0.1-0.1,0.2-0.2,0.3\n",
      "\t\tc-0.2,0.3-0.4,0.7-0.4,1.2v7.2c0,0.5,0.2,0.9,0.4,1.2c0.1,0.1,0.2,0.2,0.2,0.3v3.2c0,0.2-0.2,0.3-0.3,0.3h-9.1\n",
      "\t\tc-0.2,0-0.3-0.2-0.3-0.3V118.7z M114.3,118.7c0-0.1,0.1-0.2,0.2-0.3c0.2-0.3,0.4-0.7,0.4-1.2v-7.1c0-0.5-0.2-0.9-0.4-1.2\n",
      "\t\tc-0.1-0.1-0.2-0.2-0.2-0.3v-1.5c0-0.2,0.2-0.3,0.3-0.3h9.1c0.2,0,0.3,0.2,0.3,0.3v1.4c0,0.1-0.1,0.2-0.2,0.3\n",
      "\t\tc-0.2,0.3-0.4,0.7-0.4,1.2v7.2c0,0.5,0.2,0.9,0.4,1.2c0.1,0.1,0.2,0.2,0.2,0.3v3.2c0,0.2-0.2,0.3-0.3,0.3h-9.1\n",
      "\t\tc-0.2,0-0.3-0.2-0.3-0.3V118.7z M49.2,85.9h2.1c0,0,0.1,0,0.1,0.1v8.5c0,0.2,0.2,0.3,0.4,0.3h76.1c0.3,0.6,0.7,1.2,0.9,1.8\n",
      "\t\tc-4.8,0-79.5,0-79.5,0c-0.2,0-0.5,0.2-0.5,0.5v2.4c0,0.3,0.2,0.5,0.5,0.5h80.3c0,0,0,0.7,0,2.2H51.6c-0.2,0-0.2,0.1-0.2,0.2v47.7\n",
      "\t\tc0.2,0,85.2,0,85.2,0c0.4,0,0.7-0.3,0.7-0.7v-0.1c0-0.4,0.1-48.9,0.1-48.9c0-0.3,0-0.4,0-0.4c0.1-0.9,0.3-1.8,0.6-2.7\n",
      "\t\tc0.3-0.9,0.7-1.7,1.2-2.6h29.8h5.2h29.8c0.5,0.8,0.9,1.7,1.2,2.6s0.5,1.7,0.6,2.7c0,0,0,0.2,0,0.4c0,0,0.1,48.5,0.1,48.9v0.1\n",
      "\t\tc0,0.4,0.3,0.7,0.7,0.7l83.1-0.1h0.2h1.6c0.2,0,0.2-0.1,0.2-0.2v-47.4c0-0.2-0.1-0.2-0.2-0.2h-78.1c0-1.3,0-2.1,0-2.2h80.3\n",
      "\t\tc0.3,0,0.5-0.2,0.5-0.5v-2.4c0-0.2-0.2-0.5-0.5-0.5c0,0-74.7,0-79.5,0c0.2-0.6,0.6-1.2,0.9-1.8h76.2c0.2,0,0.4-0.1,0.4-0.3V86\n",
      "\t\tc0,0,0-0.1,0.1-0.1h2.1c0.3,0,0.5-0.2,0.5-0.5v-1.1c0-0.3-0.2-0.5-0.5-0.5H218c-0.3,0-0.7-0.1-1-0.2l-44.7-18.1v-2.9v-0.9\n",
      "\t\tc0.9-0.2,2.2-0.5,3.2-0.2c5.1,1.7,6.2,1.1,6.2,1c-0.9-1.2-0.6-3.9-0.6-3.9c0.3-2.4,0.2-2.9,0.2-3c-0.2,0.1-1.6,0.9-5-0.2\n",
      "\t\tc-1.8-0.6-3.2-0.7-4-0.8c0-0.5-0.4-0.8-0.9-0.8c-0.4,0.1-0.7,0.4-0.7,0.9v10.7l-44.7,18.1c-0.3,0.2-0.7,0.2-1,0.2H49.2\n",
      "\t\tc-0.3,0-0.5,0.2-0.5,0.5v1.1C48.7,85.7,48.9,85.9,49.2,85.9z\">\n",
      "          </path>\n",
      "          <polygon class=\"st2\" points=\"198.6,96.5 171.5,126.9 144.4,96.5 144.4,96.5 144,96.7 171.2,127.3 171.2,127.2 171.7,127.2\n",
      "\t\t171.8,127.3 198.9,96.8 198.9,96.7 \t\">\n",
      "          </polygon>\n",
      "          <path class=\"st2\" d=\"M172.3,125.7h-1.7c-0.4,0-0.6,0.3-0.6,0.6v4.8c0,0.4,0.3,0.6,0.6,0.6h1.7c0.4,0,0.6-0.3,0.6-0.6v-4.8\n",
      "\t\tC172.9,125.9,172.7,125.7,172.3,125.7z\">\n",
      "          </path>\n",
      "         </g>\n",
      "        </svg>\n",
      "       </a>\n",
      "      </div>\n",
      "     </div>\n",
      "     <div class=\"mobile-overlay__inner\" tabindex=\"-1\">\n",
      "      <div class=\"container\">\n",
      "       <div class=\"row\">\n",
      "        <div class=\"mobile-nav-menus\">\n",
      "         <div class=\"menu-left\">\n",
      "          <nav aria-label=\"Primary Navigation\" class=\"primary-mobile-menu\">\n",
      "           <ul class=\"menu primary-menu\" id=\"menu-primary-expanded-navigation\">\n",
      "            <li class=\"menu-item menu-item-type-post_type menu-item-object-page menu-item-has-children menu-item-69 top-level-menu-item\" id=\"menu-item-69\">\n",
      "             <a href=\"https://www.whitehouse.gov/administration/\">\n",
      "              Administration\n",
      "             </a>\n",
      "             <button aria-expanded=\"false\" class=\"dropdown-trigger\">\n",
      "              <svg fill=\"none\" height=\"68\" viewbox=\"0 0 63 68\" width=\"63\" xmlns=\"http://www.w3.org/2000/svg\">\n",
      "               <path d=\"M0.00171813 0L63 33.7444C63 33.7444 0.660551 67.4376 0.00520349 67.9931L0.00171813 68C-0.0014293 68 -0.000243773 67.9977 0.00520349 67.9931L17.0642 34L0.00171813 0Z\" fill=\"black\">\n",
      "               </path>\n",
      "              </svg>\n",
      "              <span class=\"screen-reader-text\">\n",
      "               Show submenu for “Administration””\n",
      "              </span>\n",
      "             </button>\n",
      "             <ul class=\"sub-menu\">\n",
      "              <li class=\"menu-item menu-item-type-post_type menu-item-object-page menu-item-802\" id=\"menu-item-802\">\n",
      "               <a href=\"https://www.whitehouse.gov/administration/president-biden/\">\n",
      "                President Joe Biden\n",
      "               </a>\n",
      "              </li>\n",
      "              <li class=\"menu-item menu-item-type-post_type menu-item-object-page menu-item-803\" id=\"menu-item-803\">\n",
      "               <a href=\"https://www.whitehouse.gov/administration/vice-president-harris/\">\n",
      "                Vice President Kamala Harris\n",
      "               </a>\n",
      "              </li>\n",
      "              <li class=\"menu-item menu-item-type-post_type menu-item-object-page menu-item-804\" id=\"menu-item-804\">\n",
      "               <a href=\"https://www.whitehouse.gov/administration/dr-jill-biden/\">\n",
      "                First Lady Dr. Jill Biden\n",
      "               </a>\n",
      "              </li>\n",
      "              <li class=\"menu-item menu-item-type-post_type menu-item-object-page menu-item-805\" id=\"menu-item-805\">\n",
      "               <a href=\"https://www.whitehouse.gov/administration/douglas-emhoff/\">\n",
      "                Second Gentleman Douglas Emhoff\n",
      "               </a>\n",
      "              </li>\n",
      "              <li class=\"menu-item menu-item-type-post_type menu-item-object-page menu-item-806\" id=\"menu-item-806\">\n",
      "               <a href=\"https://www.whitehouse.gov/administration/cabinet/\">\n",
      "                The Cabinet\n",
      "               </a>\n",
      "              </li>\n",
      "             </ul>\n",
      "            </li>\n",
      "            <li class=\"menu-item menu-item-type-post_type menu-item-object-page menu-item-has-children menu-item-68 top-level-menu-item\" id=\"menu-item-68\">\n",
      "             <a href=\"https://www.whitehouse.gov/administration/executive-office-of-the-president/\">\n",
      "              Executive Offices\n",
      "             </a>\n",
      "             <button aria-expanded=\"false\" class=\"dropdown-trigger\">\n",
      "              <svg fill=\"none\" height=\"68\" viewbox=\"0 0 63 68\" width=\"63\" xmlns=\"http://www.w3.org/2000/svg\">\n",
      "               <path d=\"M0.00171813 0L63 33.7444C63 33.7444 0.660551 67.4376 0.00520349 67.9931L0.00171813 68C-0.0014293 68 -0.000243773 67.9977 0.00520349 67.9931L17.0642 34L0.00171813 0Z\" fill=\"black\">\n",
      "               </path>\n",
      "              </svg>\n",
      "              <span class=\"screen-reader-text\">\n",
      "               Show submenu for “Executive Offices””\n",
      "              </span>\n",
      "             </button>\n",
      "             <ul class=\"sub-menu\">\n",
      "              <li class=\"menu-item menu-item-type-post_type menu-item-object-eop_cea menu-item-59315\" id=\"menu-item-59315\">\n",
      "               <a href=\"https://www.whitehouse.gov/cea/\">\n",
      "                Council of Economic Advisers\n",
      "               </a>\n",
      "              </li>\n",
      "              <li class=\"menu-item menu-item-type-post_type menu-item-object-eop_ceq menu-item-59320\" id=\"menu-item-59320\">\n",
      "               <a href=\"https://www.whitehouse.gov/ceq/\">\n",
      "                Council on Environmental Quality\n",
      "               </a>\n",
      "              </li>\n",
      "              <li class=\"menu-item menu-item-type-post_type menu-item-object-eop_dpc menu-item-59324\" id=\"menu-item-59324\">\n",
      "               <a href=\"https://www.whitehouse.gov/dpc/\">\n",
      "                Domestic Policy Council\n",
      "               </a>\n",
      "              </li>\n",
      "              <li class=\"menu-item menu-item-type-post_type menu-item-object-eop_gpc menu-item-59328\" id=\"menu-item-59328\">\n",
      "               <a href=\"https://www.whitehouse.gov/gpc/\">\n",
      "                Gender Policy Council\n",
      "               </a>\n",
      "              </li>\n",
      "              <li class=\"menu-item menu-item-type-post_type menu-item-object-eop_nec menu-item-59334\" id=\"menu-item-59334\">\n",
      "               <a href=\"https://www.whitehouse.gov/nec/\">\n",
      "                National Economic Council\n",
      "               </a>\n",
      "              </li>\n",
      "              <li class=\"menu-item menu-item-type-post_type menu-item-object-eop_nsc menu-item-59339\" id=\"menu-item-59339\">\n",
      "               <a href=\"https://www.whitehouse.gov/nsc/\">\n",
      "                National Security Council\n",
      "               </a>\n",
      "              </li>\n",
      "              <li class=\"menu-item menu-item-type-post_type menu-item-object-eop_nspc menu-item-59345\" id=\"menu-item-59345\">\n",
      "               <a href=\"https://www.whitehouse.gov/spacecouncil/\">\n",
      "                National Space Council\n",
      "               </a>\n",
      "              </li>\n",
      "              <li class=\"menu-item menu-item-type-post_type menu-item-object-eop_iga menu-item-59350\" id=\"menu-item-59350\">\n",
      "               <a href=\"https://www.whitehouse.gov/iga/\">\n",
      "                Office of Intergovernmental Affairs\n",
      "               </a>\n",
      "              </li>\n",
      "              <li class=\"menu-item menu-item-type-post_type menu-item-object-eop_omb menu-item-59355\" id=\"menu-item-59355\">\n",
      "               <a href=\"https://www.whitehouse.gov/omb/\">\n",
      "                Office of Management and Budget\n",
      "               </a>\n",
      "              </li>\n",
      "              <li class=\"menu-item menu-item-type-post_type menu-item-object-eop_oncd menu-item-59359\" id=\"menu-item-59359\">\n",
      "               <a href=\"https://www.whitehouse.gov/oncd/\">\n",
      "                Office of the National Cyber Director\n",
      "               </a>\n",
      "              </li>\n",
      "              <li class=\"menu-item menu-item-type-post_type menu-item-object-eop_ondcp menu-item-59308\" id=\"menu-item-59308\">\n",
      "               <a href=\"https://www.whitehouse.gov/ondcp/\">\n",
      "                Office of National Drug Control Policy\n",
      "               </a>\n",
      "              </li>\n",
      "              <li class=\"menu-item menu-item-type-post_type menu-item-object-eop_ope menu-item-59363\" id=\"menu-item-59363\">\n",
      "               <a href=\"https://www.whitehouse.gov/ope/\">\n",
      "                Office of Public Engagement\n",
      "               </a>\n",
      "              </li>\n",
      "              <li class=\"menu-item menu-item-type-post_type menu-item-object-eop_ostp menu-item-55745\" id=\"menu-item-55745\">\n",
      "               <a href=\"https://www.whitehouse.gov/ostp/\">\n",
      "                Office of Science and Technology Policy\n",
      "               </a>\n",
      "              </li>\n",
      "              <li class=\"menu-item menu-item-type-post_type menu-item-object-eop_ustr menu-item-59369\" id=\"menu-item-59369\">\n",
      "               <a href=\"https://www.whitehouse.gov/ustr/\">\n",
      "                Office of the United States Trade Representative\n",
      "               </a>\n",
      "              </li>\n",
      "              <li class=\"menu-item menu-item-type-post_type menu-item-object-eop_odcp menu-item-59373\" id=\"menu-item-59373\">\n",
      "               <a href=\"https://www.whitehouse.gov/cpo/\">\n",
      "                Climate Policy Office\n",
      "               </a>\n",
      "              </li>\n",
      "              <li class=\"menu-item menu-item-type-post_type menu-item-object-eop_ppo menu-item-59378\" id=\"menu-item-59378\">\n",
      "               <a href=\"https://www.whitehouse.gov/ppo/\">\n",
      "                Presidential Personnel Office\n",
      "               </a>\n",
      "              </li>\n",
      "             </ul>\n",
      "            </li>\n",
      "            <li class=\"menu-item menu-item-type-post_type menu-item-object-page menu-item-65 top-level-menu-item\" id=\"menu-item-65\">\n",
      "             <a href=\"https://www.whitehouse.gov/priorities/\">\n",
      "              Priorities\n",
      "             </a>\n",
      "            </li>\n",
      "           </ul>\n",
      "           <ul class=\"menu primary-menu\">\n",
      "            <li class=\"menu-item menu-item-type-post_type menu-item-object-page current_page_parent menu-item-2783 top-level-menu-item\" id=\"menu-item-2783\">\n",
      "             <a href=\"https://www.whitehouse.gov/briefing-room/\">\n",
      "              Briefing Room\n",
      "             </a>\n",
      "            </li>\n",
      "            <li class=\"menu-item menu-item-type-post_type menu-item-object-page menu-item-has-children menu-item-42 top-level-menu-item\" id=\"menu-item-42\">\n",
      "             <a href=\"https://www.whitehouse.gov/about-the-white-house/\">\n",
      "              The White House\n",
      "             </a>\n",
      "             <button aria-expanded=\"false\" class=\"dropdown-trigger\">\n",
      "              <svg fill=\"none\" height=\"68\" viewbox=\"0 0 63 68\" width=\"63\" xmlns=\"http://www.w3.org/2000/svg\">\n",
      "               <path d=\"M0.00171813 0L63 33.7444C63 33.7444 0.660551 67.4376 0.00520349 67.9931L0.00171813 68C-0.0014293 68 -0.000243773 67.9977 0.00520349 67.9931L17.0642 34L0.00171813 0Z\" fill=\"black\">\n",
      "               </path>\n",
      "              </svg>\n",
      "              <span class=\"screen-reader-text\">\n",
      "               Show submenu for “The White House””\n",
      "              </span>\n",
      "             </button>\n",
      "             <ul class=\"sub-menu\">\n",
      "              <li class=\"menu-item menu-item-type-post_type menu-item-object-page menu-item-45\" id=\"menu-item-45\">\n",
      "               <a href=\"https://www.whitehouse.gov/about-the-white-house/presidents/\">\n",
      "                Presidents\n",
      "               </a>\n",
      "              </li>\n",
      "              <li class=\"menu-item menu-item-type-post_type menu-item-object-page menu-item-812\" id=\"menu-item-812\">\n",
      "               <a href=\"https://www.whitehouse.gov/about-the-white-house/first-families/\">\n",
      "                First Families\n",
      "               </a>\n",
      "              </li>\n",
      "              <li class=\"menu-item menu-item-type-post_type menu-item-object-page menu-item-44\" id=\"menu-item-44\">\n",
      "               <a href=\"https://www.whitehouse.gov/about-the-white-house/the-grounds/\">\n",
      "                The Grounds\n",
      "               </a>\n",
      "              </li>\n",
      "              <li class=\"menu-item menu-item-type-post_type menu-item-object-page menu-item-43\" id=\"menu-item-43\">\n",
      "               <a href=\"https://www.whitehouse.gov/about-the-white-house/our-government/\">\n",
      "                Our Government\n",
      "               </a>\n",
      "              </li>\n",
      "             </ul>\n",
      "            </li>\n",
      "            <li class=\"menu-item menu-item-type-post_type menu-item-object-page menu-item-has-children menu-item-72 top-level-menu-item\" id=\"menu-item-72\">\n",
      "             <a href=\"https://www.whitehouse.gov/get-involved/\">\n",
      "              Get Involved\n",
      "             </a>\n",
      "             <button aria-expanded=\"false\" class=\"dropdown-trigger\">\n",
      "              <svg fill=\"none\" height=\"68\" viewbox=\"0 0 63 68\" width=\"63\" xmlns=\"http://www.w3.org/2000/svg\">\n",
      "               <path d=\"M0.00171813 0L63 33.7444C63 33.7444 0.660551 67.4376 0.00520349 67.9931L0.00171813 68C-0.0014293 68 -0.000243773 67.9977 0.00520349 67.9931L17.0642 34L0.00171813 0Z\" fill=\"black\">\n",
      "               </path>\n",
      "              </svg>\n",
      "              <span class=\"screen-reader-text\">\n",
      "               Show submenu for “Get Involved””\n",
      "              </span>\n",
      "             </button>\n",
      "             <ul class=\"sub-menu\">\n",
      "              <li class=\"menu-item menu-item-type-post_type menu-item-object-page menu-item-86\" id=\"menu-item-86\">\n",
      "               <a href=\"https://www.whitehouse.gov/get-involved/write-or-call/\">\n",
      "                Write or Call The White House\n",
      "               </a>\n",
      "              </li>\n",
      "              <li class=\"menu-item menu-item-type-post_type menu-item-object-page menu-item-813\" id=\"menu-item-813\">\n",
      "               <a href=\"https://www.whitehouse.gov/get-involved/join-us/\">\n",
      "                Join Us\n",
      "               </a>\n",
      "              </li>\n",
      "              <li class=\"menu-item menu-item-type-post_type menu-item-object-page menu-item-814\" id=\"menu-item-814\">\n",
      "               <a href=\"https://www.whitehouse.gov/get-involved/fellows/\">\n",
      "                White House Fellows\n",
      "               </a>\n",
      "              </li>\n",
      "              <li class=\"menu-item menu-item-type-post_type menu-item-object-page menu-item-54646\" id=\"menu-item-54646\">\n",
      "               <a href=\"https://www.whitehouse.gov/get-involved/internships/white-house-internship-program/\">\n",
      "                White House Internship Program\n",
      "               </a>\n",
      "              </li>\n",
      "             </ul>\n",
      "            </li>\n",
      "           </ul>\n",
      "           <ul class=\"menu primary-menu\">\n",
      "            <li class=\"menu-item menu-item-type-post_type menu-item-object-page menu-item-65470 top-level-menu-item\" id=\"menu-item-65470\">\n",
      "             <a href=\"https://www.whitehouse.gov/therecord/\">\n",
      "              The Record\n",
      "             </a>\n",
      "            </li>\n",
      "            <li class=\"menu-item menu-item-type-post_type menu-item-object-page menu-item-54645 top-level-menu-item\" id=\"menu-item-54645\">\n",
      "             <a href=\"https://www.whitehouse.gov/disclosures/\">\n",
      "              Disclosures\n",
      "             </a>\n",
      "            </li>\n",
      "            <li class=\"site-id-2 mlp-language-nav-item menu-item menu-item-type-mlp_language menu-item-object-mlp_language menu-item-1799 top-level-menu-item\" id=\"menu-item-1799\">\n",
      "             <a href=\"https://www.whitehouse.gov/es/\" hreflang=\"es-US\" lang=\"es-US\" rel=\"alternate\">\n",
      "              Español\n",
      "             </a>\n",
      "            </li>\n",
      "           </ul>\n",
      "          </nav>\n",
      "          <!-- .main-mobile-menu -->\n",
      "         </div>\n",
      "         <div class=\"menu-right\">\n",
      "          <nav aria-label=\"Secondary Navigation\" class=\"secondary-mobile-menu\">\n",
      "           <ul class=\"menu secondary-menu\" id=\"secondary-navigation-overlay\">\n",
      "            <li class=\"menu-item menu-item-type-post_type menu-item-object-page menu-item-109 top-level-menu-item\">\n",
      "             <a href=\"https://www.whitehouse.gov/contact/\">\n",
      "              Contact Us\n",
      "             </a>\n",
      "            </li>\n",
      "            <li class=\"menu-item menu-item-type-post_type menu-item-object-page menu-item-1791 top-level-menu-item\">\n",
      "             <a href=\"https://www.whitehouse.gov/privacy/\">\n",
      "              Privacy Policy\n",
      "             </a>\n",
      "            </li>\n",
      "            <li class=\"menu-item menu-item-type-post_type menu-item-object-page menu-item-699 top-level-menu-item\">\n",
      "             <a href=\"https://www.whitehouse.gov/copyright/\">\n",
      "              Copyright Policy\n",
      "             </a>\n",
      "            </li>\n",
      "            <li class=\"menu-item menu-item-type-post_type menu-item-object-page menu-item-107 top-level-menu-item\">\n",
      "             <a href=\"https://www.whitehouse.gov/accessibility/\">\n",
      "              Accessibility Statement\n",
      "             </a>\n",
      "            </li>\n",
      "           </ul>\n",
      "          </nav>\n",
      "          <!-- .secondary -->\n",
      "          <div class=\"site-header__menu-wrap__footer__social\">\n",
      "           <nav aria-label=\"Social Navigation\" class=\"col-xs-12\">\n",
      "            <ul class=\"social-simple\" id=\"social-navigation\">\n",
      "             <li class=\"menu-item menu-item-type-custom menu-item-object-custom menu-item-87 col-auto top-level-menu-item\">\n",
      "              <a class=\"external-link\" href=\"https://www.instagram.com/whitehouse/\" rel=\"noopener noreferrer\" target=\"_blank\">\n",
      "               <svg aria-hidden=\"true\" tabindex=\"-1\" viewbox=\"0 0 21 20\" xmlns=\"http://www.w3.org/2000/svg\">\n",
      "                <path d=\"M6.92773 6.26953C7.90169 5.29557 9.07617 4.80859 10.4512 4.80859C11.8262 4.80859 12.9863 5.29557 13.9316 6.26953C14.9056 7.21484 15.3926 8.375 15.3926 9.75C15.3926 11.125 14.9056 12.2995 13.9316 13.2734C12.9863 14.2188 11.8262 14.6914 10.4512 14.6914C9.07617 14.6914 7.90169 14.2188 6.92773 13.2734C5.98242 12.2995 5.50977 11.125 5.50977 9.75C5.50977 8.375 5.98242 7.21484 6.92773 6.26953ZM8.17383 12.0273C8.80404 12.6576 9.56315 12.9727 10.4512 12.9727C11.3392 12.9727 12.0983 12.6576 12.7285 12.0273C13.3587 11.3971 13.6738 10.638 13.6738 9.75C13.6738 8.86198 13.3587 8.10286 12.7285 7.47266C12.0983 6.84245 11.3392 6.52734 10.4512 6.52734C9.56315 6.52734 8.80404 6.84245 8.17383 7.47266C7.54362 8.10286 7.22852 8.86198 7.22852 9.75C7.22852 10.638 7.54362 11.3971 8.17383 12.0273ZM16.3809 3.82031C16.61 4.02083 16.7246 4.27865 16.7246 4.59375C16.7246 4.90885 16.61 5.18099 16.3809 5.41016C16.1803 5.63932 15.9225 5.75391 15.6074 5.75391C15.2923 5.75391 15.0202 5.63932 14.791 5.41016C14.5618 5.18099 14.4473 4.90885 14.4473 4.59375C14.4473 4.27865 14.5618 4.02083 14.791 3.82031C15.0202 3.59115 15.2923 3.47656 15.6074 3.47656C15.9225 3.47656 16.1803 3.59115 16.3809 3.82031ZM20.0332 5.79688C20.0618 6.57031 20.0762 7.88802 20.0762 9.75C20.0762 11.612 20.0618 12.9297 20.0332 13.7031C19.9473 15.4505 19.4173 16.8112 18.4434 17.7852C17.498 18.7305 16.1517 19.2318 14.4043 19.2891C13.6309 19.3464 12.3132 19.375 10.4512 19.375C8.58919 19.375 7.27148 19.3464 6.49805 19.2891C4.75065 19.2031 3.4043 18.6875 2.45898 17.7422C2.08659 17.3984 1.78581 16.9974 1.55664 16.5391C1.32747 16.0807 1.1556 15.6367 1.04102 15.207C0.955078 14.7773 0.912109 14.276 0.912109 13.7031C0.854818 12.9297 0.826172 11.612 0.826172 9.75C0.826172 7.88802 0.854818 6.55599 0.912109 5.75391C0.998047 4.03516 1.51367 2.70312 2.45898 1.75781C3.4043 0.783854 4.75065 0.253906 6.49805 0.167969C7.27148 0.139323 8.58919 0.125 10.4512 0.125C12.3132 0.125 13.6309 0.139323 14.4043 0.167969C16.1517 0.253906 17.498 0.783854 18.4434 1.75781C19.4173 2.70312 19.9473 4.04948 20.0332 5.79688ZM17.9707 15.4219C18.0566 15.1927 18.1283 14.9062 18.1855 14.5625C18.2428 14.1901 18.2858 13.7604 18.3145 13.2734C18.3431 12.7578 18.3574 12.3424 18.3574 12.0273C18.3574 11.7122 18.3574 11.2682 18.3574 10.6953C18.3574 10.1224 18.3574 9.80729 18.3574 9.75C18.3574 9.66406 18.3574 9.34896 18.3574 8.80469C18.3574 8.23177 18.3574 7.78776 18.3574 7.47266C18.3574 7.15755 18.3431 6.75651 18.3145 6.26953C18.2858 5.75391 18.2428 5.32422 18.1855 4.98047C18.1283 4.60807 18.0566 4.30729 17.9707 4.07812C17.627 3.1901 17.0111 2.57422 16.123 2.23047C15.8939 2.14453 15.5931 2.07292 15.2207 2.01562C14.877 1.95833 14.4473 1.91536 13.9316 1.88672C13.4447 1.85807 13.0436 1.84375 12.7285 1.84375C12.4421 1.84375 11.998 1.84375 11.3965 1.84375C10.8236 1.84375 10.5085 1.84375 10.4512 1.84375C10.3939 1.84375 10.0788 1.84375 9.50586 1.84375C8.93294 1.84375 8.48893 1.84375 8.17383 1.84375C7.85872 1.84375 7.44336 1.85807 6.92773 1.88672C6.44076 1.91536 6.01107 1.95833 5.63867 2.01562C5.29492 2.07292 5.00846 2.14453 4.7793 2.23047C3.89128 2.57422 3.27539 3.1901 2.93164 4.07812C2.8457 4.30729 2.77409 4.60807 2.7168 4.98047C2.65951 5.32422 2.61654 5.75391 2.58789 6.26953C2.55924 6.75651 2.54492 7.15755 2.54492 7.47266C2.54492 7.75911 2.54492 8.20312 2.54492 8.80469C2.54492 9.3776 2.54492 9.69271 2.54492 9.75C2.54492 9.86458 2.54492 10.1367 2.54492 10.5664C2.54492 10.9674 2.54492 11.3112 2.54492 11.5977C2.54492 11.8555 2.54492 12.1992 2.54492 12.6289C2.57357 13.0586 2.60221 13.431 2.63086 13.7461C2.65951 14.0326 2.70247 14.3333 2.75977 14.6484C2.81706 14.9635 2.87435 15.2214 2.93164 15.4219C3.30404 16.3099 3.91992 16.9258 4.7793 17.2695C5.00846 17.3555 5.29492 17.4271 5.63867 17.4844C6.01107 17.5417 6.44076 17.5846 6.92773 17.6133C7.44336 17.6419 7.8444 17.6562 8.13086 17.6562C8.44596 17.6562 8.88997 17.6562 9.46289 17.6562C10.0645 17.6562 10.3939 17.6562 10.4512 17.6562C10.5371 17.6562 10.8522 17.6562 11.3965 17.6562C11.9694 17.6562 12.4134 17.6562 12.7285 17.6562C13.0436 17.6562 13.4447 17.6419 13.9316 17.6133C14.4473 17.5846 14.877 17.5417 15.2207 17.4844C15.5931 17.4271 15.8939 17.3555 16.123 17.2695C17.0111 16.8971 17.627 16.2812 17.9707 15.4219Z\">\n",
      "                </path>\n",
      "               </svg>\n",
      "               <span class=\"screen-reader-text\">\n",
      "                Instagram\n",
      "                <span class=\"screen-reader-text\">\n",
      "                 Opens in a new window\n",
      "                </span>\n",
      "               </span>\n",
      "              </a>\n",
      "             </li>\n",
      "             <li class=\"menu-item menu-item-type-custom menu-item-object-custom menu-item-88 col-auto top-level-menu-item\">\n",
      "              <a class=\"external-link\" href=\"https://www.facebook.com/WhiteHouse/\" rel=\"noopener noreferrer\" target=\"_blank\">\n",
      "               <svg aria-hidden=\"true\" tabindex=\"-1\" viewbox=\"0 0 11 19\" xmlns=\"http://www.w3.org/2000/svg\">\n",
      "                <path d=\"M9.72243 10.375H7.08571V18.25H3.57008V10.375H0.722427V7.10547H3.57008V4.64453C3.57008 3.70703 3.74586 2.91016 4.09743 2.25391C4.44899 1.59766 4.94118 1.10547 5.57399 0.777344C6.23024 0.425781 6.98024 0.25 7.82399 0.25C8.19899 0.25 8.59743 0.273438 9.0193 0.320312C9.44118 0.34375 9.7693 0.378906 10.0037 0.425781L10.3552 0.460938V3.23828H8.94899C8.29274 3.23828 7.81227 3.41406 7.50758 3.76562C7.22633 4.09375 7.08571 4.50391 7.08571 4.99609V7.10547H10.2146L9.72243 10.375Z\">\n",
      "                </path>\n",
      "               </svg>\n",
      "               <span class=\"screen-reader-text\">\n",
      "                Facebook\n",
      "                <span class=\"screen-reader-text\">\n",
      "                 Opens in a new window\n",
      "                </span>\n",
      "               </span>\n",
      "              </a>\n",
      "             </li>\n",
      "             <li class=\"menu-item menu-item-type-custom menu-item-object-custom menu-item-89 col-auto top-level-menu-item\">\n",
      "              <a class=\"external-link\" href=\"https://twitter.com/whitehouse\" rel=\"noopener noreferrer\" target=\"_blank\">\n",
      "               <svg aria-hidden=\"true\" fill=\"none\" tabindex=\"-1\" viewbox=\"0 0 1200 1227\" xmlns=\"http://www.w3.org/2000/svg\">\n",
      "                <path d=\"M714.163 519.284L1160.89 0H1055.03L667.137 450.887L357.328 0H0L468.492 681.821L0 1226.37H105.866L515.491 750.218L842.672 1226.37H1200L714.137 519.284H714.163ZM569.165 687.828L521.697 619.934L144.011 79.6944H306.615L611.412 515.685L658.88 583.579L1055.08 1150.3H892.476L569.165 687.854V687.828Z\">\n",
      "                </path>\n",
      "               </svg>\n",
      "               <span class=\"screen-reader-text\">\n",
      "                X\n",
      "                <span class=\"screen-reader-text\">\n",
      "                 Opens in a new window\n",
      "                </span>\n",
      "               </span>\n",
      "              </a>\n",
      "             </li>\n",
      "             <li class=\"menu-item menu-item-type-custom menu-item-object-custom menu-item-90 col-auto top-level-menu-item\">\n",
      "              <a class=\"external-link\" href=\"https://www.youtube.com/user/whitehouse\" rel=\"noopener noreferrer\" target=\"_blank\">\n",
      "               <svg aria-hidden=\"true\" fill=\"none\" tabindex=\"-1\" viewbox=\"0 0 18 12\" xmlns=\"http://www.w3.org/2000/svg\">\n",
      "                <path d=\"M17.1562 1.90625C16.9688 1.15625 16.375 0.5625 15.6562 0.375C14.3125 0 9 0 9 0C9 0 3.65625 0 2.3125 0.375C1.59375 0.5625 1 1.15625 0.8125 1.90625C0.4375 3.21875 0.4375 6.03125 0.4375 6.03125C0.4375 6.03125 0.4375 8.8125 0.8125 10.1562C1 10.9062 1.59375 11.4688 2.3125 11.6562C3.65625 12 9 12 9 12C9 12 14.3125 12 15.6563 11.6562C16.375 11.4687 16.9688 10.9062 17.1563 10.1562C17.5313 8.8125 17.5312 6.03125 17.5312 6.03125C17.5312 6.03125 17.5312 3.21875 17.1562 1.90625ZM7.25 8.5625L7.25 3.5L11.6875 6.03125L7.25 8.5625Z\">\n",
      "                </path>\n",
      "               </svg>\n",
      "               <span class=\"screen-reader-text\">\n",
      "                YouTube\n",
      "                <span class=\"screen-reader-text\">\n",
      "                 Opens in a new window\n",
      "                </span>\n",
      "               </span>\n",
      "              </a>\n",
      "             </li>\n",
      "            </ul>\n",
      "           </nav>\n",
      "           <!-- social -->\n",
      "          </div>\n",
      "          <div class=\"address\">\n",
      "           <p>\n",
      "            <strong>\n",
      "             The White House\n",
      "            </strong>\n",
      "            <br/>\n",
      "            1600 Pennsylvania Ave NW\n",
      "            <br/>\n",
      "            Washington, DC 20500\n",
      "           </p>\n",
      "          </div>\n",
      "         </div>\n",
      "        </div>\n",
      "        <!-- .mobile-nav-menus -->\n",
      "       </div>\n",
      "       <!-- .row -->\n",
      "      </div>\n",
      "      <!-- .container -->\n",
      "     </div>\n",
      "     <!-- .main-mobile-menu-inner -->\n",
      "     <img alt=\"\" class=\"svgloader\" onload=\"var c=this;!window.fetch?window.llItems.push(c):fetch(c.currentSrc||c.src).then(function(x){return x.text();}).then(function(svgText){c.outerHTML = svgText;});\" src=\"https://www.whitehouse.gov/wp-content/themes/whitehouse/assets/img/wh-outline.svg\"/>\n",
      "    </div>\n",
      "    <!-- .menuOverlay -->\n",
      "   </header>\n",
      "   <main class=\"site-main\" id=\"content\">\n",
      "    <article class=\"post-50193 post type-post status-publish hentry category-press-briefings\">\n",
      "     <header class=\"topper social-hide topper-primary topper-single topper--no-eyebrow topper--no-deck\" id=\"topper-25\">\n",
      "      <form action=\"https://www.whitehouse.gov/\" class=\"search-form\" method=\"get\" role=\"search\">\n",
      "       <label for=\"search-field-search-id-26\" id=\"search-label-search-id-26\">\n",
      "        <span class=\"screen-reader-text\">\n",
      "         To search this site, enter a search term\n",
      "        </span>\n",
      "       </label>\n",
      "       <button aria-hidden=\"true\" aria-label=\"Close\" class=\"search-close-icon\">\n",
      "        <svg height=\"13\" viewbox=\"0 0 13 13\" width=\"13\" xmlns=\"http://www.w3.org/2000/svg\">\n",
      "         <rect fill=\"black\" height=\"1\" transform=\"rotate(45 1.26074 0)\" width=\"16.2296\" x=\"1.26074\">\n",
      "         </rect>\n",
      "         <rect fill=\"black\" height=\"1\" transform=\"rotate(-45 0.737305 11.5178)\" width=\"16.2296\" x=\"0.737305\" y=\"11.5178\">\n",
      "         </rect>\n",
      "        </svg>\n",
      "       </button>\n",
      "       <button aria-label=\"Search\" class=\"search-icon\">\n",
      "        <svg aria-hidden=\"true\" height=\"34\" tabindex=\"-1\" viewbox=\"0 0 34 34\" width=\"34\" xmlns=\"http://www.w3.org/2000/svg\">\n",
      "         <circle cx=\"17\" cy=\"17\" fill=\"#000\" r=\"17\">\n",
      "         </circle>\n",
      "         <path d=\"M15.75 21.3c1.25 0 2.45-.41 3.43-1.18l3.68 3.68.94-.94-3.68-3.68a5.55 5.55 0 1 0-4.37 2.12Zm0-9.77a4.22 4.22 0 1 1 0 8.44 4.22 4.22 0 0 1 0-8.44Z\" fill=\"#fff\">\n",
      "         </path>\n",
      "        </svg>\n",
      "       </button>\n",
      "       <input aria-labelledby=\"search-label-search-id-26\" aria-required=\"false\" autocapitalize=\"off\" autocomplete=\"off\" class=\"search-field\" id=\"search-field-search-id-26\" name=\"s\" placeholder=\"Search…\" required=\"\" spellcheck=\"false\" type=\"text\"/>\n",
      "       <button aria-hidden=\"true\" class=\"search-submit\">\n",
      "        <svg aria-hidden=\"true\" height=\"68\" tabindex=\"-1\" viewbox=\"0 0 63 68\" width=\"63\" xmlns=\"http://www.w3.org/2000/svg\">\n",
      "         <path d=\"m0 0 63 33.74S.66 67.44 0 68V68l17.06-34L0 0Z\" fill=\"currentColor\">\n",
      "         </path>\n",
      "        </svg>\n",
      "        <span class=\"screen-reader-text\">\n",
      "         Search\n",
      "        </span>\n",
      "       </button>\n",
      "      </form>\n",
      "      <div class=\"container\">\n",
      "       <div class=\"row justify-content-center\">\n",
      "        <div class=\"col-md-10 col-lg-8 col\">\n",
      "         <div class=\"topper__date shared-meta\" data-beat=\"3\" data-beat-topper=\"3\">\n",
      "          <time class=\"posted-on entry-date published updated\" datetime=\"2022-03-31T14:06:30-04:00\">\n",
      "           March 31, 2022\n",
      "          </time>\n",
      "         </div>\n",
      "         <h1 class=\"page-title topper__title news\" data-beat=\"1\" data-beat-topper=\"1\">\n",
      "          Background Press Call by Senior Administration Officials on President\n",
      "          <span class=\"dewidow\">\n",
      "          </span>\n",
      "          Biden’s Plan to Respond to Putin’s Price Hike at the\n",
      "          <span class=\"dewidow\">\n",
      "          </span>\n",
      "          Pump\n",
      "         </h1>\n",
      "         <nav aria-label=\"Breadcrumbs\" class=\"wh-breadcrumbs\" data-beat=\"3\" data-beat-topper=\"3\">\n",
      "          <ol class=\"wh-breadcrumbs__wrap\">\n",
      "           <li class=\"wh-breadcrumb wh-breadcrumb--home\">\n",
      "            <span class=\"wh-breadcrumb__text ui-label-base\" title=\"Home\">\n",
      "             <span class=\"screen-reader-text\">\n",
      "              Home\n",
      "             </span>\n",
      "             <svg aria-hidden=\"true\" height=\"16\" viewbox=\"0 0 34 16\" width=\"34\" xmlns=\"http://www.w3.org/2000/svg\">\n",
      "              <path d=\"m15.85 13.12-.04-4.57-.03-2.25c.02-.16.14-.32.2-.47h-1.3c.06.15.18.31.2.47l-.01 1.04-.06 5.79c0 .06.04.1.1.1h.84a.1.1 0 0 0 .1-.1v-.01Z\">\n",
      "              </path>\n",
      "              <path d=\"m15.44 8.14-.57-.73v.16l.52.6.05-.03ZM18.6 8.17l.53-.6V7.4l-.57.73.05.03Z\">\n",
      "              </path>\n",
      "              <path d=\"M19.13 7.34V6.3c.01-.16.13-.32.2-.47H18c.07.15.19.31.2.47l-.02 2.25-.04 4.57v.01c0 .06.04.1.1.1h.84a.1.1 0 0 0 .1-.1l-.06-5.79ZM11.1 3.33l-.06.06V3.7c0 .03.02.05.04.04l2.4-.94H11.1v.54Z\">\n",
      "              </path>\n",
      "              <path d=\"M1.13 4.62c0-.04.04-.08.1-.08h1.58c.06 0 .1.04.1.08v.4c0 .05-.04.1-.1.1H1.23c-.06 0-.1-.05-.1-.1v-.4Zm2.6 0c0-.04.05-.08.1-.08h1.59c.05 0 .1.04.1.08v.4c0 .05-.05.1-.1.1H3.84c-.06 0-.1-.05-.1-.1v-.4Zm2.61 0c0-.04.05-.08.1-.08h1.58c.06 0 .1.04.1.08v.4c0 .05-.04.1-.1.1H6.44c-.05 0-.1-.05-.1-.1v-.4Zm2.61 0c0-.04.05-.08.1-.08h1.84c.06 0 .1.04.1.08v.26h12v-.26c0-.04.05-.08.1-.08h1.85c.05 0 .1.04.1.08v.4c0 .05-.04.1-.1.1H9.05c-.05 0-.1-.05-.1-.1v-.4Zm3.06-.55 4.99-2 4.99 2h-.83l-2.09-.83L17 2.41l-2.08.83-2.08.84H12l.01-.01Zm13.87.55c0-.04.04-.08.1-.08h1.58c.05 0 .1.04.1.08v.4c0 .05-.05.1-.1.1h-1.58c-.06 0-.1-.05-.1-.1v-.4Zm2.6 0c0-.04.05-.08.1-.08h1.58c.06 0 .1.04.1.08v.4c0 .05-.04.1-.1.1h-1.58c-.05 0-.1-.05-.1-.1v-.4Zm2.61 0c0-.04.05-.08.1-.08h1.59c.05 0 .1.04.1.08v.4c0 .05-.05.1-.1.1h-1.59c-.05 0-.1-.05-.1-.1v-.4ZM.1 4.37h.28l.01.01v1.16c0 .03.02.04.05.04h10.59c.04.08.15.17.19.25H.1a.07.07 0 0 0-.06.07v.33c0 .04.03.07.07.07h11.23l-.06 6.83c0 .06.04.1.1.1h.84a.1.1 0 0 0 .1-.1v-.01l-.06-6.82c.01-.12.04-.25.08-.37.05-.12.17-.24.24-.35h8.85c.07.11.19.23.23.35.04.12.07.24.09.37l-.06 6.82v.01c0 .06.04.1.1.1h.84a.1.1 0 0 0 .1-.1l-.07-6.82H33.9c.04 0 .07-.04.07-.08V5.9a.07.07 0 0 0-.06-.07H22.79c.03-.08.14-.16.19-.24h10.58c.03 0 .06-.02.06-.05V4.38h.28c.05 0 .08-.04.08-.08v-.15a.07.07 0 0 0-.08-.07H23.35c-.05 0-.1-.01-.14-.03L17.13 1.6v-.52c.12-.04.3-.07.43-.02.7.23.85.14.86.14-.13-.17-.08-.54-.08-.54.04-.34.02-.4.02-.41-.03.01-.23.13-.69-.02-.25-.08-.43-.1-.55-.11A.12.12 0 0 0 17 0c-.06 0-.1.06-.1.12V1.6l-6.1 2.46a.4.4 0 0 1-.14.03H.1a.07.07 0 0 0-.07.07v.15c0 .04.03.07.07.07Z\">\n",
      "              </path>\n",
      "              <path d=\"M11.02 2.66h2.77l.33-.14c.04-.01.03-.07-.01-.07h-3.17c-.03 0-.05.04-.03.06l.11.15ZM23.93 3.44v.42c0 .03.02.06.05.06h1c.02 0 .04-.03.04-.06v-.42l.17-.22a.05.05 0 0 0-.03-.08H23.8c-.04 0-.07.04-.04.08l.17.22ZM19.88 2.52l.33.14h2.77l.12-.15c.02-.03 0-.06-.03-.06H19.9c-.04 0-.05.05-.02.07ZM20.53 2.8l2.38.93c.03.01.06 0 .06-.03v-.28l-.02-.02-.04-.07-.01-.02V2.8h-2.37ZM8.98 3.44v.42c0 .03.02.06.05.06h1c.02 0 .04-.03.04-.06v-.42l.18-.22c.02-.04 0-.08-.04-.08H8.85c-.04 0-.06.04-.04.08l.17.22ZM22.97 15.26H11.04a.06.06 0 0 0-.07.07v.4c0 .04.03.07.07.07h11.92c.04 0 .07-.03.07-.07v-.4c0-.04-.03-.07-.06-.07ZM33.9 13.7H22.87a1.95 1.95 0 0 1-.1-.29H21.7a.07.07 0 0 0-.07.06 1.45 1.45 0 0 1-.22.48v.39h-1.94v-.39c-.1-.15-.17-.32-.21-.48a.07.07 0 0 0-.07-.06h-1.02a.07.07 0 0 0-.07.06 1.7 1.7 0 0 1-.22.48v.39H16.12v-.39c-.1-.15-.17-.32-.22-.48a.07.07 0 0 0-.07-.06h-1.01a.07.07 0 0 0-.07.06c-.05.16-.12.33-.22.48v.39h-1.94v-.39a1.68 1.68 0 0 1-.22-.48.07.07 0 0 0-.07-.06h-1.07c-.02.1-.05.19-.1.28H.1a.1.1 0 0 0-.1.1v.92c0 .06.04.1.1.1h10.87v.17c0 .05.04.1.1.1H22.93a.1.1 0 0 0 .1-.1v-.17H33.9a.1.1 0 0 0 .1-.1v-.92a.1.1 0 0 0-.1-.1ZM13.1 8.41h.44v.79h-.44V8.4Zm0-.83h.44v.8h-.44v-.8Zm.49.83h.44v.79h-.44V8.4Zm0-.83h.44v.8h-.44v-.8Zm-.68 1.26a.06.06 0 0 0-.01.04v.44c0 .02.02.04.04.04h1.25c.02 0 .04-.02.04-.04v-.44c0-.02 0-.03-.02-.04a.23.23 0 0 1-.05-.15v-.83c0-.06.02-.12.05-.16a.06.06 0 0 0 .02-.04v-.2c0-.02-.02-.04-.04-.04h-1.25c-.02 0-.04.02-.04.04v.2c0 .02 0 .03.02.04.03.04.05.1.05.16v.83a.2.2 0 0 1-.06.15ZM14.03 11.54h-.44v-.92h.44v.92Zm0 .97h-.44v-.92h.44v.92Zm-.49-.97h-.44v-.92h.44v.92Zm0 .97h-.44v-.92h.44v.92Zm.67-1.76a.06.06 0 0 0 .02-.05v-.2c0-.02-.02-.04-.04-.04h-1.25c-.02 0-.04.02-.04.04v.2c0 .02 0 .03.02.04.03.04.05.1.05.15v1.05c0 .06-.02.12-.06.16a.06.06 0 0 0-.01.04v.48c0 .03.02.05.04.05h1.25c.02 0 .04-.02.04-.05v-.48c0-.02 0-.03-.02-.04a.23.23 0 0 1-.05-.16V10.9c0-.05.02-.1.05-.14ZM20.9 8.37h-.44v-.79h.44v.79Zm0 .83h-.44v-.79h.44v.79Zm-.48-.83h-.44v-.79h.44v.79Zm0 .83h-.44v-.79h.44v.79Zm.67-1.5a.06.06 0 0 0 .02-.04v-.2c0-.02-.02-.04-.05-.04h-1.24c-.03 0-.05.02-.05.04v.2l.02.04c.04.04.06.1.06.16v.83a.2.2 0 0 1-.06.15.06.06 0 0 0-.02.04v.44c0 .02.02.04.05.04h1.24c.02 0 .04-.02.04-.04v-.44l-.01-.04a.23.23 0 0 1-.06-.15v-.83c0-.06.02-.12.06-.16ZM20.9 11.54h-.44v-.92h.44v.92Zm0 .97h-.44v-.92h.44v.92Zm-.48-.97h-.44v-.92h.44v.92Zm0 .97h-.44v-.92h.44v.92Zm.67-1.76a.06.06 0 0 0 .02-.05v-.2c0-.02-.02-.04-.05-.04h-1.24c-.03 0-.05.02-.05.04v.2l.02.04c.04.04.06.1.06.15v1.05c0 .06-.02.12-.06.16a.06.06 0 0 0-.02.04v.48c0 .03.02.05.05.05h1.24c.02 0 .04-.02.04-.05v-.48l-.01-.04a.23.23 0 0 1-.06-.16V10.9c0-.05.02-.1.06-.14Z\">\n",
      "              </path>\n",
      "              <path d=\"M17.47 12.27h-.45v-1.18h.45v1.18Zm0 1.26h-.45v-1.21h.45v1.2Zm-.5-1.26h-.44v-1.18h.45v1.18Zm0 1.26h-.44v-1.21h.45v1.2Zm-.45-2.58v-.5a.66.66 0 0 0-.22.5v2.68c0 .04.03.07.06.07h1.27c.04 0 .06-.03.06-.07v-2.68a.66.66 0 0 0-.2-.5v.5h-.97ZM2.15 8.42h.44v.78h-.44v-.78Zm0-.83h.44v.79h-.44v-.79Zm.48.83h.44v.78h-.44v-.78Zm0-.83h.44v.79h-.44v-.79Zm-.67 1.25a.06.06 0 0 0-.02.04v.45c0 .02.02.04.04.04h1.25c.02 0 .04-.02.04-.04v-.45l-.01-.04a.23.23 0 0 1-.06-.15v-.83c0-.06.02-.11.06-.15a.06.06 0 0 0 .02-.04v-.2c0-.03-.03-.05-.05-.05H1.98c-.02 0-.04.02-.04.04v.2c0 .02 0 .04.02.05.03.03.06.09.06.15v.83a.2.2 0 0 1-.06.15ZM4.5 8.42h.45v.78H4.5v-.78Zm0-.83h.45v.79H4.5v-.79Zm.49.83h.44v.78h-.44v-.78Zm0-.83h.44v.79h-.44v-.79Zm-.67 1.25a.06.06 0 0 0-.02.04v.45c0 .02.02.04.04.04H5.6c.02 0 .04-.02.04-.04v-.45l-.01-.04a.23.23 0 0 1-.06-.15v-.83c0-.06.02-.11.06-.15a.06.06 0 0 0 .02-.04v-.2c0-.03-.03-.05-.05-.05H4.34c-.02 0-.04.02-.04.04v.2c0 .02 0 .04.02.05.04.03.06.09.06.15v.83a.2.2 0 0 1-.06.15ZM6.87 8.42h.44v.78h-.44v-.78Zm0-.83h.44v.79h-.44v-.79Zm.48.83h.44v.78h-.44v-.78Zm0-.83h.44v.79h-.44v-.79Zm-.68 1.25a.06.06 0 0 0-.01.04v.45c0 .02.02.04.04.04h1.25c.02 0 .04-.02.04-.04v-.45c0-.01 0-.03-.02-.04a.23.23 0 0 1-.05-.15v-.83c0-.06.02-.11.05-.15A.06.06 0 0 0 8 7.67v-.2c0-.03-.02-.05-.04-.05H6.7c-.02 0-.04.02-.04.04v.2c0 .02 0 .04.02.05.03.03.05.09.05.15v.83a.2.2 0 0 1-.06.15ZM9.23 8.42h.44v.78h-.44v-.78Zm0-.83h.44v.79h-.44v-.79Zm.48.83h.44v.78h-.44v-.78Zm0-.83h.44v.79h-.44v-.79Zm-.67 1.25a.06.06 0 0 0-.02.04v.45c0 .02.02.04.04.04h1.25c.02 0 .04-.02.04-.04v-.45l-.01-.04a.23.23 0 0 1-.06-.15v-.83c0-.06.02-.11.06-.15a.06.06 0 0 0 .02-.04v-.2c0-.03-.03-.05-.05-.05H9.06c-.02 0-.04.02-.04.04v.2c0 .02 0 .04.02.05.03.03.06.09.06.15v.83c0 .06-.02.11-.06.15ZM3.07 11.55h-.44v-.92h.44v.92Zm0 .96h-.44v-.92h.44v.92Zm-.48-.96h-.44v-.92h.44v.92Zm0 .96h-.44v-.92h.44v.92Zm.67-1.76a.06.06 0 0 0 .02-.04v-.2c0-.03-.03-.04-.05-.04H1.98c-.02 0-.04.01-.04.04v.2c0 .02 0 .03.02.04.03.04.06.1.06.15v1.05c0 .06-.03.12-.06.16a.06.06 0 0 0-.02.04v.48c0 .02.02.04.04.04h1.25c.02 0 .04-.02.04-.04v-.48l-.01-.04a.23.23 0 0 1-.06-.16V10.9c0-.06.02-.11.06-.15ZM5.43 11.55h-.44v-.92h.44v.92Zm0 .96h-.44v-.92h.44v.92Zm-.48-.96H4.5v-.92h.45v.92Zm0 .96H4.5v-.92h.45v.92Zm.67-1.76a.06.06 0 0 0 .02-.04v-.2c0-.03-.03-.04-.05-.04H4.34c-.02 0-.04.01-.04.04v.2c0 .02 0 .03.02.04.04.04.06.1.06.15v1.05c0 .06-.02.12-.06.16a.06.06 0 0 0-.02.04v.48c0 .02.02.04.04.04H5.6c.02 0 .04-.02.04-.04v-.48l-.01-.04a.23.23 0 0 1-.06-.16V10.9c0-.06.02-.11.06-.15ZM7.8 11.55h-.45v-.92h.44v.92Zm0 .96h-.45v-.92h.44v.92Zm-.49-.96h-.44v-.92h.44v.92Zm0 .96h-.44v-.92h.44v.92Zm.67-1.76a.06.06 0 0 0 .02-.04v-.2c0-.03-.02-.04-.05-.04H6.71c-.03 0-.05.01-.05.04v.2l.02.04c.04.04.06.1.06.15v1.05c0 .06-.02.12-.06.16a.06.06 0 0 0-.02.04v.48c0 .02.02.04.05.04h1.24c.02 0 .05-.02.05-.04v-.48l-.02-.04a.23.23 0 0 1-.06-.16V10.9c0-.06.02-.11.06-.15ZM10.15 11.55h-.44v-.92h.44v.92Zm0 .96h-.44v-.92h.44v.92Zm-.48-.96h-.44v-.92h.44v.92Zm0 .96h-.44v-.92h.44v.92Zm.67-1.76a.06.06 0 0 0 .02-.04v-.2c0-.03-.03-.04-.05-.04H9.06c-.02 0-.04.01-.04.04v.2c0 .02 0 .03.02.04.03.04.06.1.06.15v1.05c0 .06-.03.12-.06.16a.06.06 0 0 0-.02.04v.48c0 .02.02.04.04.04h1.25c.02 0 .04-.02.04-.04v-.48l-.01-.04a.23.23 0 0 1-.06-.16V10.9c0-.06.02-.11.06-.15ZM31.85 8.37h-.44v-.79h.44v.79Zm0 .83h-.44v-.79h.44v.79Zm-.49-.83h-.44v-.79h.44v.79Zm0 .83h-.44v-.79h.44v.79Zm.68-1.5a.06.06 0 0 0 .01-.04v-.2c0-.02-.02-.04-.04-.04h-1.25c-.02 0-.04.02-.04.04v.2c0 .02 0 .03.02.04.03.04.05.1.05.16v.83c0 .06-.02.1-.05.15l-.02.04v.44c0 .02.02.04.05.04H32c.02 0 .04-.02.04-.04v-.44l-.01-.04a.2.2 0 0 1-.06-.15v-.83a.2.2 0 0 1 .06-.16ZM29.49 8.37h-.44v-.79h.44v.79Zm0 .83h-.44v-.79h.44v.79ZM29 8.37h-.44v-.79H29v.79Zm0 .83h-.44v-.79H29v.79Zm.68-1.5a.06.06 0 0 0 .02-.04v-.2c0-.02-.03-.04-.05-.04H28.4c-.02 0-.04.02-.04.04v.2c0 .02 0 .03.02.04.03.04.06.1.06.16v.83c0 .06-.03.1-.06.15l-.02.04v.44c0 .02.02.04.05.04h1.24c.02 0 .05-.02.05-.04v-.44l-.02-.04a.2.2 0 0 1-.06-.15v-.83c0-.06.02-.12.06-.16ZM27.13 8.37h-.44v-.79h.44v.79Zm0 .83h-.44v-.79h.44v.79Zm-.49-.83h-.44v-.79h.44v.79Zm0 .83h-.44v-.79h.44v.79Zm.67-1.5a.06.06 0 0 0 .02-.04v-.2c0-.02-.02-.04-.04-.04h-1.25c-.02 0-.04.02-.04.04v.2c0 .02 0 .03.02.04.03.04.05.1.05.16v.83c0 .06-.02.1-.05.15l-.02.04v.44c0 .02.02.04.04.04h1.25c.02 0 .04-.02.04-.04v-.44l-.01-.04a.2.2 0 0 1-.06-.15v-.83c0-.06.02-.12.05-.16ZM24.76 8.37h-.44v-.79h.44v.79Zm0 .83h-.44v-.79h.44v.79Zm-.48-.83h-.44v-.79h.44v.79Zm0 .83h-.44v-.79h.44v.79Zm.68-1.5a.06.06 0 0 0 .01-.04v-.2c0-.02-.02-.04-.04-.04h-1.25c-.02 0-.04.02-.04.04v.2c0 .02 0 .03.02.04.03.04.05.1.05.16v.83c0 .06-.02.1-.05.15l-.02.04v.44c0 .02.02.04.04.04h1.25c.02 0 .04-.02.04-.04v-.44l-.01-.04a.2.2 0 0 1-.06-.15v-.83a.2.2 0 0 1 .06-.16ZM31.85 11.54h-.44v-.92h.44v.92Zm0 .97h-.44v-.92h.44v.92Zm-.49-.97h-.44v-.92h.44v.92Zm0 .97h-.44v-.92h.44v.92Zm.68-1.76a.06.06 0 0 0 .01-.05v-.2c0-.02-.02-.04-.04-.04h-1.25c-.02 0-.04.02-.04.04v.2c0 .02 0 .03.02.04.03.04.05.1.05.15v1.05c0 .06-.02.12-.05.16l-.02.04v.48c0 .03.02.05.05.05H32c.02 0 .04-.02.04-.05v-.48l-.01-.04a.21.21 0 0 1-.06-.16V10.9a.2.2 0 0 1 .06-.14ZM29.49 11.54h-.44v-.92h.44v.92Zm0 .97h-.44v-.92h.44v.92Zm-.49-.97h-.44v-.92H29v.92Zm0 .97h-.44v-.92H29v.92Zm.68-1.76a.06.06 0 0 0 .02-.05v-.2c0-.02-.03-.04-.05-.04H28.4c-.02 0-.04.02-.04.04v.2c0 .02 0 .03.02.04.03.04.06.1.06.15v1.05c0 .06-.03.12-.06.16l-.02.04v.48c0 .03.02.05.05.05h1.24c.02 0 .05-.02.05-.05v-.48l-.02-.04a.21.21 0 0 1-.06-.16V10.9c0-.05.02-.1.06-.14ZM27.13 11.54h-.44v-.92h.44v.92Zm0 .97h-.44v-.92h.44v.92Zm-.49-.97h-.44v-.92h.44v.92Zm0 .97h-.44v-.92h.44v.92Zm.67-1.76a.06.06 0 0 0 .02-.05v-.2c0-.02-.02-.04-.04-.04h-1.25c-.02 0-.04.02-.04.04v.2c0 .02 0 .03.02.04.03.04.05.1.05.15v1.05c0 .06-.02.12-.05.16l-.02.04v.48c0 .03.02.05.04.05h1.25c.02 0 .04-.02.04-.05v-.48l-.01-.04a.21.21 0 0 1-.06-.16V10.9c0-.05.02-.1.05-.14ZM24.77 11.54h-.44v-.92h.44v.92Zm0 .97h-.44v-.92h.44v.92Zm-.49-.97h-.44v-.92h.44v.92Zm0 .97h-.44v-.92h.44v.92Zm.68-1.76a.06.06 0 0 0 .01-.05v-.2c0-.02-.02-.04-.04-.04h-1.25c-.02 0-.04.02-.04.04v.2c0 .02 0 .03.02.04.03.04.05.1.05.15v1.05c0 .06-.02.12-.05.16l-.02.04v.48c0 .03.02.05.04.05h1.25c.02 0 .04-.02.04-.05v-.48l-.01-.04a.21.21 0 0 1-.06-.16V10.9a.2.2 0 0 1 .06-.14ZM17.47 8.37h-.44v-.79h.44v.79Zm0 .83h-.44v-.79h.44v.79ZM17 8.37h-.44v-.79h.44v.79Zm0 .83h-.44v-.79h.44v.79Zm3.65-3.37-1.5 1.73-.53.6-.05-.02.58-.73 1.24-1.58h-.06l-1.18 1.52-.94 1.2-.52.66v-.34l-.02-.04a.23.23 0 0 1-.06-.15v-.83c0-.06.03-.11.06-.15a.06.06 0 0 0 .02-.04v-.2c0-.03-.02-.05-.04-.05h-1.25c-.02 0-.05.02-.05.04v.2l.02.05c.04.04.06.1.06.15v.83a.2.2 0 0 1-.06.15.06.06 0 0 0-.02.04v.36l-.53-.69-.94-1.2-1.18-1.51h-.06l1.24 1.58.57.72-.05.04-.52-.6-1.5-1.74h-.07l1.56 1.8.95 1.1 1.02 1.18h.04l-.43-.55h1.12l-.43.55h.04l.48-.55.02-.03.52-.6.95-1.1 1.56-1.8h-.06Z\">\n",
      "              </path>\n",
      "              <path d=\"M17.2 10.8c0 .04-.04.06-.07.06h-.26c-.03 0-.05-.03-.05-.05v-.77c0-.03.02-.06.05-.06h.26c.04 0 .06.03.06.06v.77Zm-.58-.77c0-.03.02-.05.05-.05h.04c.03 0 .06.03.06.05v.77c0 .03-.03.05-.06.05h-.04c-.03 0-.05-.02-.05-.05v-.77Zm.77.78c0 .03-.03.05-.06.05h-.04c-.03 0-.06-.03-.06-.05v-.77c0-.03.03-.06.06-.06h.04c.03 0 .06.03.06.06v.77Zm-.25-.9H16.51v1.04h.97V9.92h-.35ZM3.32 10.22c.01-.01 0-.03-.01-.04-.2-.13-.45-.2-.7-.2-.26 0-.5.07-.7.2-.02.01-.02.03-.01.04 0 .02.02.03.04.03h1.33c.02 0 .04-.01.05-.03ZM5.71 10.23c0-.02 0-.03-.02-.04l-.7-.22h-.04l-.7.22c-.03 0-.03.02-.03.04l.04.02h1.4c.03 0 .05-.01.05-.02ZM8.04 10.22c.01-.01 0-.03-.01-.04-.2-.13-.44-.2-.7-.2-.26 0-.5.07-.7.2-.02.01-.02.03-.01.04 0 .02.02.03.04.03H8c.03 0 .04-.01.05-.03ZM10.43 10.23c.01-.02 0-.03-.02-.04l-.7-.22h-.04l-.7.22c-.02 0-.03.02-.03.04l.04.02h1.4c.03 0 .05-.01.05-.02ZM30.67 10.22c.01.02.03.03.05.03h1.33c.02 0 .04-.01.05-.03 0-.01 0-.03-.02-.04-.19-.13-.44-.2-.7-.2-.25 0-.5.07-.7.2-.01 0-.02.03 0 .04ZM28.28 10.23l.04.02h1.4c.03 0 .04-.01.05-.02 0-.02 0-.03-.03-.04l-.7-.22H29l-.7.22-.02.04ZM25.96 10.22c0 .02.02.03.04.03h1.33c.02 0 .04-.01.05-.03l-.01-.04c-.2-.13-.45-.2-.7-.2-.26 0-.5.07-.7.2-.02 0-.02.03-.01.04ZM23.56 10.23l.04.02H25l.05-.02c0-.02-.01-.03-.03-.04l-.7-.22h-.04l-.7.22c-.02 0-.03.02-.02.04ZM21.15 10.22l-.01-.04c-.2-.13-.45-.2-.7-.2-.26 0-.5.07-.7.2-.02.01-.02.03-.01.04 0 .02.02.03.04.03h1.33c.03 0 .04-.01.05-.03ZM14.28 10.22c0-.01 0-.03-.02-.04-.2-.13-.44-.2-.7-.2-.25 0-.5.07-.7.2-.01.01-.02.03 0 .04 0 .02.02.03.04.03h1.33c.02 0 .04-.01.05-.03Z\">\n",
      "              </path>\n",
      "              <path d=\"M10.5 6.7v-.09a.04.04 0 0 0-.03-.03H.42a.04.04 0 0 0-.04.03v6.76c0 .02.02.04.04.04h10.05c.02 0 .04-.02.04-.04v-.09a.04.04 0 0 0-.04-.03H1.1a.04.04 0 0 1-.04-.04V6.77c0-.02.02-.03.04-.03h9.38c.02 0 .04-.02.04-.03ZM33.58 6.58H23.53a.04.04 0 0 0-.04.03v.1c0 .01.02.03.04.03h9.38c.02 0 .04.02.04.04V13.22c0 .01-.02.03-.04.03h-9.38a.04.04 0 0 0-.04.04v.09c0 .02.02.03.04.03h10.05c.02 0 .04-.01.04-.03V6.6c0-.02-.02-.03-.04-.03Z\">\n",
      "              </path>\n",
      "             </svg>\n",
      "            </span>\n",
      "           </li>\n",
      "           <li class=\"wh-breadcrumb\">\n",
      "            <a class=\"wh-breadcrumb__link ui-label-base\" href=\"https://www.whitehouse.gov/briefing-room/\">\n",
      "             Briefing Room\n",
      "            </a>\n",
      "           </li>\n",
      "           <li class=\"wh-breadcrumb\">\n",
      "            <a class=\"wh-breadcrumb__link ui-label-base\" href=\"https://www.whitehouse.gov/briefing-room/press-briefings/\" rel=\"category tag\">\n",
      "             Press Briefings\n",
      "            </a>\n",
      "           </li>\n",
      "          </ol>\n",
      "         </nav>\n",
      "        </div>\n",
      "       </div>\n",
      "      </div>\n",
      "     </header>\n",
      "     <section class=\"body-content\">\n",
      "      <div class=\"container\">\n",
      "       <div class=\"row\">\n",
      "        <p class=\"has-text-align-center\">\n",
      "         Via Teleconference\n",
      "        </p>\n",
      "        <p>\n",
      "         10:51 A.M. EDT\n",
      "        </p>\n",
      "        <p>\n",
      "         MS. SIMONS:  Thank you so much for joining this call.  As a reminder, this call is on background as “senior administration officials” and is not under embargo.\n",
      "         <br/>\n",
      "         <br/>\n",
      "         On this call, our senior administration officials will provide an overview on President Biden’s plan to respond to Putin’s price hike at the pump.  We will take some questions at the end.\n",
      "         <br/>\n",
      "         <br/>\n",
      "         Not for reporting but for your awareness, the speakers on the call today are [senior administration official], [senior administration official], and [senior administration official].\n",
      "         <br/>\n",
      "         <br/>\n",
      "         With that, I will now turn it over to [senior administration official].\n",
      "         <br/>\n",
      "         <br/>\n",
      "         SENIOR ADMINISTRATION OFFICIAL:  Great.  Thanks so much for everyone joining.  The President will be speaking this afternoon on the effect of Putin’s price hike on gas prices for American families.\n",
      "         <br/>\n",
      "         <br/>\n",
      "         Prices at the pump right now are up almost $1 since Vladimir Putin accelerated his military buildup in January.  That’s because Russian oil now is coming off the market.  The United States banned the import of Russian oil, which Republicans and Democrats in Congress called for and supported.  It was the right thing to do.\n",
      "         <br/>\n",
      "         <br/>\n",
      "         And as the United States and others aren’t buying Russian oil, supply is dropping and the price has increased.\n",
      "         <br/>\n",
      "         <br/>\n",
      "         The President has said from the start that standing up to Putin’s aggression would never be painless, but he is committed to doing everything he can to help American families.  That’s why today he is announcing a two-part plan to bring American families relief.\n",
      "         <br/>\n",
      "         <br/>\n",
      "         Part one involves immediately increasing the supply of oil as a wartime bridge to greater domestic production.  Part two is charting a path towards real American energy independence by accelerating the clean energy transition so that we are no longer reliant on foreign oil.\n",
      "         <br/>\n",
      "         <br/>\n",
      "         Starting with part one, which is about immediately increasing supply: The fact is that there is nothing standing in the way of domestic oil production, which is expected to increase by a million barrels a day this year alone.\n",
      "         <br/>\n",
      "         <br/>\n",
      "         U.S. oil companies are recording their largest profits in years and can put those profits toward productive use.  While some companies have already announced they are increasing immediate production, too many are choosing right now to make extraordinary profits without investing in more supply.\n",
      "         <br/>\n",
      "         <br/>\n",
      "         That’s why, today, the President is proposing a “use it or lose it” policy to incentivize companies to produce more in the short term with the resources they already have.\n",
      "         <br/>\n",
      "         <br/>\n",
      "         Right now, the oil and gas industry is sitting on more than 9,000 unused but approved permits for production on federal lands and more than 12 million unused acres.\n",
      "         <br/>\n",
      "         <br/>\n",
      "         Congress should make companies pay fees on unused wells on federal lands and on acres of public land that they are sitting on without producing.\n",
      "         <br/>\n",
      "         <br/>\n",
      "         You know, the industry has indicated that they can get online an additional million barrels per day this year, as I said.  That is something that we need, that they should be doing.  But we know it will take months, not days, for that production to come online, including through the kinds of measures the President is laying out today to encourage additional production.\n",
      "         <br/>\n",
      "         <br/>\n",
      "         We need a bridge to that additional supply.  That’s why the President is announcing a historic release of a million barrels a day for the next six months from the Strategic Petroleum Reserve.\n",
      "         <br/>\n",
      "         <br/>\n",
      "         That release will immediately shore up global supplies.  These barrels will be a wartime bridge to additional U.S. production and other production that we expect later this year.\n",
      "         <br/>\n",
      "         <br/>\n",
      "         Importantly, from rev- — with revenues from that sale, we’ll restock the reserve when prices are lower.  And the Department of Energy already has that authority.  That can also incentivize the additional production we need this year, knowing that those purchases will occur in the future at a lower price when we’re through this emergency.\n",
      "         <br/>\n",
      "         <br/>\n",
      "         This release is being coordinated with allies and partners around the world.  Together, our combined efforts will supply well over 1 million barrels per day to the market.\n",
      "         <br/>\n",
      "         <br/>\n",
      "         This will be the largest release from reserves over time that has been done, so it is a historic release.\n",
      "         <br/>\n",
      "         <br/>\n",
      "         These actions will increase our immediate supply and help us meet the immediate emergency and address the lack of supply as a result of Putin’s actions.\n",
      "         <br/>\n",
      "         <br/>\n",
      "         The second part of President Biden’s plan is to declare real American energy independence for the long term so that Americans aren’t subject to the kind of volatility in the oil market and at the pump that we now see due to Putin’s actions.\n",
      "         <br/>\n",
      "         <br/>\n",
      "         I’ll now turn it over to [senior administration official] to talk more about that.\n",
      "         <br/>\n",
      "         <br/>\n",
      "         SENIOR ADMINISTRATION OFFICIAL:  Great.  Thanks, [senior administration official].  And thanks, everybody.\n",
      "         <br/>\n",
      "         <br/>\n",
      "         Look, President Biden knows that the path to real American energy independence depends on reducing our reliance on foreign oil and on fossil fuels, and that the path to that energy security runs through clean energy.\n",
      "         <br/>\n",
      "         <br/>\n",
      "         That’s why President Biden is calling on Congress to pass his landmark plan to speed the transition to a cleaner energy future made here in the United States of America.\n",
      "         <br/>\n",
      "         <br/>\n",
      "         Implementing the President’s climate plans would save Americans more than $900 a year in gasoline from the adoption of electric and hydrogen vehicles.  It would save Americans $500 a year by increasing the use of clean electricity to power homes, not only on the grid but in the household as well — technologies like heat pumps and solar and storage.\n",
      "         <br/>\n",
      "         <br/>\n",
      "         And altogether, this would create millions of good-paying union jobs — jobs that cannot be outsourced.\n",
      "         <br/>\n",
      "         <br/>\n",
      "         Together, these actions would move us towards freeing ourselves from dependence on fossil fuels and, certainly, on sourcing outside of North America.\n",
      "        </p>\n",
      "        <p>\n",
      "         And President Biden, of course, is not waiting on Congress to take action, and this week alone is illustrative of that push to achieve real American energy independence.\n",
      "        </p>\n",
      "        <p>\n",
      "         One example of that, that he will announce today, is taking the next step in using the Defense Production Act by issuing an authorization for use of the DPA to secure American supplies of the critical materials needed to boost our clean energy economy.  That is specifically focused on the procurement of the tools needed to build batteries here in the United States — batteries that will go into electric vehicles, batteries that will help us support a cleaner electricity grid.  And all of this to be done in a way that respects and really sets the best — the highest standards on labor, on environment, on engagement with communities, and with Tribal Nations.\n",
      "        </p>\n",
      "        <p>\n",
      "         Second, he will make $3.2 billion available to states, Tribes, and territories for the weatherization of homes through the Bipartisan Infrastructure Law.  That’s 10x the amount of historic funding levels that will help electrify and make efficient homes all around the country.\n",
      "        </p>\n",
      "        <p>\n",
      "         The third is advancing a set of strong energy efficiency standards designed to lower consumer and small-business costs.  These are the appliance efficiency and equipment efficiency standards set by the Department of Energy.  The President will talk about the 100 actions that his administration will take by the end of this year that will save families $100 annually through more efficiency in these appliances and equipment.\n",
      "        </p>\n",
      "        <p>\n",
      "         And finally, he will talk about the upcoming finalization of new fuel economy standards for cars and trucks that will save drivers money at the pump through more efficient vehicles — combining more production here at home in the short run to meet the emergency situation that [senior administration official] described, with a strategy that drives a reduced dependence on fossil fuels and an increased production of homemade clean energy means more energy security.  That is what real American energy independence is all about, and that’s the plan the President will speak to today.\n",
      "        </p>\n",
      "        <p>\n",
      "         MS. SIMONS:  All right.  Thank you so much, [senior administration officials].\n",
      "        </p>\n",
      "        <p>\n",
      "         We’ll now take some questions.  If you can use the “raise hand” feature, we’ll try and get to as many of you as we can in our allotted time.\n",
      "        </p>\n",
      "        <p>\n",
      "         The first question will go to Justin Sink at Bloomberg.\n",
      "        </p>\n",
      "        <p>\n",
      "         Q    Hey, guys, can you hear me?\n",
      "        </p>\n",
      "        <p>\n",
      "         MS. SIMONS:  Yep.\n",
      "        </p>\n",
      "        <p>\n",
      "         Q    Great.  So, I have two quick questions.  The first was how you guys were planning to deal with the Jones Act to move this amount of product.  And the second was if you had any more details on the partner release of strategic oil that would be part of this.  Is it coordinated through the IEA?  Do you have a sense of how much and how soon we would see those sort of additional releases from partners?\n",
      "        </p>\n",
      "        <p>\n",
      "         SENIOR ADMINISTRATION OFFICIAL:  Sure.  So, I’ll take that — the first question and then turn it over to [senior administration official].\n",
      "        </p>\n",
      "        <p>\n",
      "         When it comes to the Jones Act, the administration is obviously releasing a historic amount of oil through this action by the President — over the next six months, a million barrels a day.  We are also committed to fully complying with the Jones Act and the President’s Made in America commitment.\n",
      "        </p>\n",
      "        <p>\n",
      "         A sizable portion of the release of a million barrels a day will be carried by pipeline.  In fact, in the most recent reserve drawdown, the vast majority of the sales, 85 percent, were delivered via pipeline, while 15 percent have been slated for shipment by sea.\n",
      "        </p>\n",
      "        <p>\n",
      "         However, shipping is likely to also be needed to transport oil to parts of the country not serviced by pipelines.  Based upon the support offered by American carriers and labor unions, we expect the Jones Act-qualified vessels will be available to meet those needs.\n",
      "        </p>\n",
      "        <p>\n",
      "         However, given the historic volumes we plan to release, it is also possible that Jones Act-qualified vessels may not always be available to carry additional shipments in a timely manner.\n",
      "        </p>\n",
      "        <p>\n",
      "         When that is the case, the administration stands ready to promptly process Jones Act waiver requests to ensure orderly and timely delivery of oil.  Several agencies have already coordinated to make this process work smoothly.  We will be receiving requests seven days a week, and we will work to process any waiver requests quickly with the goal of providing a response within two days.\n",
      "        </p>\n",
      "        <p>\n",
      "         On your second question, I’ll now turn it over to [senior administration official].\n",
      "        </p>\n",
      "        <p>\n",
      "         SENIOR ADMINISTRATION OFFICIAL:  Thanks so much.  I really appreciate the question.  Regarding working with partners and allies, this is an effort and a cadence we’ve been doing for the last several weeks and months.\n",
      "        </p>\n",
      "        <p>\n",
      "         Just most recently, the President was in Europe, where he talked about the importance of energy supply with his G7 counterparts.  And earlier this week, we gave a readout of the call he had with the Quint, where he again — once again, they discussed the importance of ensuring energy supply in the markets.\n",
      "        </p>\n",
      "        <p>\n",
      "         And so, regarding the collective action and actions taken with other countries, as you all know, the United States has a much larger reserve than other countries.  And the President has said he would not hesitate to act to protect Americans from Putin’s price hike.\n",
      "        </p>\n",
      "        <p>\n",
      "         I will not speak to what other countries will do, but I will note that tomorrow there is a meeting of the International Energy Agency to further discuss collaborative efforts to address energy markets and supply, and we will not prejudge those outcomes.\n",
      "        </p>\n",
      "        <p>\n",
      "         MS. SIMONS:  Next question will go to Weijia Jiang from CBS News.\n",
      "        </p>\n",
      "        <p>\n",
      "         Q    Thank you so much, and thanks for taking my question.  To better understand how this latest release is going to bring down gas prices, can you share what the deficit is in the global market supply of oil since the U.S. and other nations sanctioned Russian oil?  In other words, every day, how many millions of oil — barrels of oil have been removed from the market supply?\n",
      "        </p>\n",
      "        <p>\n",
      "         And then, just more basically, you know, once this release is triggered, how quickly could that actually have an impact on U.S. gas prices?  Thank you.\n",
      "        </p>\n",
      "        <p>\n",
      "         SENIOR ADMINISTRATION OFFICIAL:  Yeah.  So, to take your question — so, thanks for the questions.\n",
      "        </p>\n",
      "        <p>\n",
      "         First, when it comes to the effect on global supply, what we know is that there is reduced global supply right now.  Obviously, outside analysts have given us sort of a range of estimates of the reduction in supply.  We know, for instance, that, you know, across points of last year, the United States was importing 700,000 barrels per day of crude and petroleum product from Russia; we obviously have now banned those imports.\n",
      "        </p>\n",
      "        <p>\n",
      "         What we know is that there is a lack of supply and that the kind of action that the President is taking today, this historic action — the million barrels per day that will be released from the reserve over the next six months as we see a ramp-up in U.S. production and production elsewhere — will be very important in helping to address that lack of supply.\n",
      "        </p>\n",
      "        <p>\n",
      "         When it comes to, you know, how quickly will this translate into relief: You know, obviously, we’ve seen, even overnight, markets responding to the initial news of a reserve release — where we’ve seen, you know, with a reduction in the oil price.\n",
      "        </p>\n",
      "        <p>\n",
      "         But we’re not focused right now on sort of the immediate, short-term price movements.  What we’re focused on is a real challenge we have.  You know, looking ahead with Russian supply coming off the market, we want to address that lack of supply.  We know and believe that that will then translate into helping to provide relief to American consumers.  We think that this historic release from the reserve will be an important step in that direction, will have meaningful effects.  And then, in combination with actions by other countries taken around the world, it will mean we will have well in excess of a million barrels per day being released from reserves around the world in response.\n",
      "        </p>\n",
      "        <p>\n",
      "         MR. SIMONS:  Next, we’ll go to Jeremy Diamond.\n",
      "        </p>\n",
      "        <p>\n",
      "         Q    Hey, thanks very much for doing this.  Just to follow up on Weijia’s question, you just said that you think this release will be an important step in the direction of helping to reduce gas prices.  But do you not have an estimate of how quickly that will happen or by how much Americans can expect to see their gas prices reduced, say in three months from now or six months from now?\n",
      "        </p>\n",
      "        <p>\n",
      "         And then secondly, what are your plans in terms of replenishing the Strategic Petroleum Reserve?  Thanks.\n",
      "        </p>\n",
      "        <p>\n",
      "         SENIOR ADMINISTRATION OFFICIAL:  Yeah.  So, what we — where we’re focused is a structural challenge right now in the oil market as a result of Putin’s actions.  We know that there is too little supply to meet demand, as Russian oil was coming off the market.  Obviously, United States banned Russian imports; others also are not purchasing.  We know that there’s a reduction in supply.  And we are focused on the difference, that deficit between supply and demand, and that this historic action — a million barrels per day — will help to address that in coordination with other countries around the world.\n",
      "        </p>\n",
      "        <p>\n",
      "         You know, when it comes to the particular price effects, there is good evidence from studies of prior reserve releases that it can have significant effects in that sort of interim period, that short-term period, in order to provide relief.  That’s where we’re focused.  This is a bridge towards greater supply coming on the market from production both in the United States and elsewhere.\n",
      "        </p>\n",
      "        <p>\n",
      "         When it comes to the refilling, restocking the reserves, all of the funds that will be attained by the Department of Energy as a result of the sale of this oil will then go to restocking the reserve.  That is an authority that the Department of Energy already has; that’s how they can deploy those funds.  We expect that to occur.  Once the oil price has come down, we are no longer in an emergency.  You know, I direct you to the Department of Energy for more details on that.\n",
      "        </p>\n",
      "        <p>\n",
      "         The final thing I would say: You know, our commitment to restocking the reserve in order for it to be ready for future emergencies also can have good effects right now.  It can encourage the additional production we need right now in order to respond to Putin’s action.  So there really is a double benefit, both making sure that we are ready for future emergencies and also encouraging the production we need immediately in order to respond to Putin’s actions.\n",
      "        </p>\n",
      "        <p>\n",
      "         MS. SIMONS:  Next, we’ll go to Josh Boak from the Associated Press.\n",
      "        </p>\n",
      "        <p>\n",
      "         Q    Thanks so much again for doing this.  You’ve released — you’ve had two prior releases from the Strategic Reserve.  And you’re describing this release, which is much larger as a bridge.  Has the administration had talks or conversations with oil companies to ensure that the increased production will be out there and that this will be a bridge, since this also would reduce prices and presumably some of the incentives to pump more?\n",
      "        </p>\n",
      "        <p>\n",
      "         SENIOR ADMINISTRATION OFFICIAL:  Yeah, appreciate the question, Josh.  So, the President has had discussions with leaders in the industry.  Senior administration officials have been closely monitoring and also in discussions with the industry as well.\n",
      "        </p>\n",
      "        <p>\n",
      "         You know, as I said, we believe that the industry needs to step up, it needs to do more, it needs to be investing in additional production.\n",
      "        </p>\n",
      "        <p>\n",
      "         There are companies out there that have said they are; that are doing the right thing right now in increasing production.  You know, that’s where, for instance, the million barrels a day that we — in additional production that we expect this year comes from.\n",
      "        </p>\n",
      "        <p>\n",
      "         However, there are also companies out there that haven’t said that.  And, in fact, you know, some leaders in the industry who have said that it doesn’t matter where the price point is, they’re not going to produce more; they’re instead focused on returning dividends and other distributions to shareholders and their owners.\n",
      "        </p>\n",
      "        <p>\n",
      "         We don’t think that’s the right thing.  We think these companies need to be stepping up, given the moment that we are in.  There are some that have.  And obviously — and I think you’ll hear the President say today: There is nothing standing in their way.  There are, you know, thousands of unused\n",
      "        </p>\n",
      "        <p>\n",
      "         permits right now out there.  There are the acres that aren’t being developed and they should be, given the current moment.\n",
      "        </p>\n",
      "        <p>\n",
      "         When it comes to the reserve and its effect on incentives, we do think that this is a bridge.  And this is a discussion we’re having with the industry, but we — and I want to focus on, you know, two aspects of it.  It, obviously, can help address the real lack of supply that exists right now — that difference between supply and demand as a result of Putin’s actions.\n",
      "        </p>\n",
      "        <p>\n",
      "         But we are committed, as I said, to restocking the Strategic Petroleum Reserve.  Once we’re through this emergency and prices are down, our commitment to do that then provides an important signal to the market that, you know, additional production should be coming online, in part because the government will be purchasing that oil to restock the reserve, looking ahead to prepare for future emergencies.\n",
      "        </p>\n",
      "        <p>\n",
      "         MS. SIMONS:  And next we’ll go to Kayla Tausche from CNBC.\n",
      "        </p>\n",
      "        <p>\n",
      "         Q    Hi, guys.  Thank you so much for doing this.  I just wanted to ask for a little bit of clarification on the 1 million barrels.  It looks, from the release, like the 1 million barrel total is the U.S. and allies combined.  But I know it was also just said that other allies and the IEA would be discussing this at a meeting tomorrow and that their policy positions might not be final.  So, could you just clarify that the 1 million barrels is specifically from the U.S. reserves?\n",
      "        </p>\n",
      "        <p>\n",
      "         SENIOR ADMINISTRATION OFFICIAL:  Yes, the United States will be releasing 1 million barrels per day, on average, for the next six months, and that will come from U.S. reserves.  In combination with releases from other countries around the world, we expect it to be well in excess of 1 million barrels per day.\n",
      "        </p>\n",
      "        <p>\n",
      "         MS. SIMONS:  Next, James Politi from the Financial Times.\n",
      "        </p>\n",
      "        <p>\n",
      "         Q    Thank you very much.  I was just wondering, will there be any consequences for U.S. energy producers that don’t step up in this moment and produce more oil?  What would those consequences be?\n",
      "        </p>\n",
      "        <p>\n",
      "         And in terms of the price for repurchasing and restocking the reserve, is that — you know, are you thinking a particular price where you could say, okay, well, it’s low enough now that we can buy; that it’s time to kind of shift?\n",
      "        </p>\n",
      "        <p>\n",
      "         And finally, what’s the state of the discussion with the Saudis?  And should we be expecting them to increase production later this year as part of getting well over a million barrels per day?\n",
      "        </p>\n",
      "        <p>\n",
      "         SENIOR ADMINISTRATION OFFICIAL:  So, first, when it comes to the industry, we do think that there should be\n",
      "        </p>\n",
      "        <p>\n",
      "         consequences if you’re sitting on unused approved permits for production on federal lands and also undeveloped acres of land that have been leased.  That’s why the President will today call for a “use it or lose it” policy that will charge companies if they’re sitting on — on wells that aren’t producing and leases that they’re not developing.  We think that can help encourage additional production this year.\n",
      "        </p>\n",
      "        <p>\n",
      "         The — and I’m forgetting what your second question was.  Sorry.\n",
      "        </p>\n",
      "        <p>\n",
      "         We might’ve lo- — we can — and I can — I remember your last question was on the OPEC, and I can turn it over for — to [senior administration official] to respond to that.\n",
      "        </p>\n",
      "        <p>\n",
      "         SENIOR ADMINISTRATION OFFICIAL:  Great.  So, regarding your OPEC/Saudi question, as you know, OPEC took a decision this morning, and we will not — you know, OPEC Plus will make the decisions as it always has, and we continue to be in touch with relevant OPEC Plus partners on energy security and supply.\n",
      "        </p>\n",
      "        <p>\n",
      "         The President has been clear that he will act, if needed, to provide additional oil supply to calm turbulent markets.  And when there’s an oil disruption, such as the one that we’re facing today, we know that consumers need relief now and that’s why the President has acted.\n",
      "        </p>\n",
      "        <p>\n",
      "         And I’m — I’m remembering the second question was on restocking the reserves.  The bottom line is we are committed to doing so when the — when prices come down, both to prepare for future emergencies and also to provide the right signal to the market now.\n",
      "        </p>\n",
      "        <p>\n",
      "         We’ll defer to the Department of Energy on exactly how we’re going — on exactly the execution of that.  But that is our strong commitment and an authority that the Department of Energy has.\n",
      "        </p>\n",
      "        <p>\n",
      "         MS. SIMONS:  And we’ll do one final question.  Timothy Gardner from Reuters.\n",
      "        </p>\n",
      "        <p>\n",
      "         Q    Thank you.  Two questions.  First, when exactly will we see the first million barrels of this release come to markets?  And secondly, could you — obviously, with\n",
      "        </p>\n",
      "        <p>\n",
      "         Saudi Arabia and UAE and others playing a very important role in oil markets, can you say when this plan was communicated to them?\n",
      "        </p>\n",
      "        <p>\n",
      "         SENIOR ADMINISTRATION OFFICIAL:  So, on the first question, the barrels will be coming to market very soon, so we’re already releasing barrels from the previous releases.  We expect the Department of Energy to soon issue a notice, which would put additional — the additional barrels on the market starting in the month of May — for May delivery.  And we’ll defer — we’ll refer you to them for additional operational details.  But these barrels will be coming on the market very, very soon, and we expect a notice of sale that would begin making them available in the month of May.\n",
      "        </p>\n",
      "        <p>\n",
      "         And on the question around consultations, we’ll turn it over to [senior administration official].\n",
      "        </p>\n",
      "        <p>\n",
      "         SENIOR ADMINISTRATION OFFICIAL:  Thank you.  As we’ve always done, we’ve always been in touch with relevant OPEC partners on energy security and supply.  And I’ve had those conversations over the last several weeks.\n",
      "        </p>\n",
      "        <p>\n",
      "         MS. SIMONS:  All right.  Thanks to everyone so much for joining.  Please feel free to send me your questions.  We will do our best to get you an answer.\n",
      "        </p>\n",
      "        <p>\n",
      "         And I hope everyone has a great day and tunes into the President’s remarks this afternoon.  Thank you.\n",
      "        </p>\n",
      "        <p>\n",
      "         11:18 A.M. EDT\n",
      "        </p>\n",
      "       </div>\n",
      "      </div>\n",
      "     </section>\n",
      "    </article>\n",
      "    <nav class=\"next-prev container\">\n",
      "     <div class=\"row\">\n",
      "      <div class=\"next-prev__next col next-prev__next--post\">\n",
      "       <a class=\"overlay-link\" href=\"https://www.whitehouse.gov/briefing-room/presidential-actions/2022/03/31/memorandum-on-presidential-determination-pursuant-to-section-303-of-the-defense-production-act-of-1950-as-amended/\">\n",
      "        <span class=\"screen-reader-text\">\n",
      "         Next Post: Memorandum on Presidential Determination Pursuant to Section 303 of the Defense Production Act of 1950, as amended\n",
      "        </span>\n",
      "       </a>\n",
      "       <span class=\"next-prev__title h2\">\n",
      "        Memorandum on Presidential Determination Pursuant to Section 303 of the Defense Production Act of 1950, as\n",
      "        <span class=\"dewidow\">\n",
      "        </span>\n",
      "        amended\n",
      "       </span>\n",
      "       <div class=\"next-prev__meta shared-meta\">\n",
      "        <time class=\"posted-on entry-date published updated\" datetime=\"2022-03-31T14:11:05-04:00\">\n",
      "         March 31, 2022\n",
      "        </time>\n",
      "        <span class=\"separator\">\n",
      "         •\n",
      "        </span>\n",
      "        <span class=\"tax-links cat-links\">\n",
      "         Presidential Actions\n",
      "        </span>\n",
      "       </div>\n",
      "       <div class=\"link-icon-wrapper\">\n",
      "        <span class=\"next-prev__link link link__arrow\">\n",
      "         Next\n",
      "         <span class=\"screen-reader-text\">\n",
      "          Post\n",
      "         </span>\n",
      "         <svg aria-hidden=\"true\" height=\"68\" tabindex=\"-1\" viewbox=\"0 0 63 68\" width=\"63\" xmlns=\"http://www.w3.org/2000/svg\">\n",
      "          <path d=\"m0 0 63 33.74S.66 67.44 0 68V68l17.06-34L0 0Z\" fill=\"currentColor\">\n",
      "          </path>\n",
      "         </svg>\n",
      "        </span>\n",
      "       </div>\n",
      "      </div>\n",
      "      <!-- .next-post -->\n",
      "     </div>\n",
      "    </nav>\n",
      "    <section class=\"bottomcta\">\n",
      "     <div class=\"container\">\n",
      "      <div class=\"row\">\n",
      "       <div class=\"bottomcta-wrapper\">\n",
      "        <div class=\"bottomcta-logo\">\n",
      "         <img alt=\"\" class=\"svgloader\" onload=\"var c=this;!window.fetch?window.llItems.push(c):fetch(c.currentSrc||c.src).then(function(x){return x.text();}).then(function(svgText){c.outerHTML = svgText;});\" src=\"https://www.whitehouse.gov/wp-content/themes/whitehouse/assets/img/bottomcta-logo.svg\"/>\n",
      "        </div>\n",
      "        <div class=\"col-xs-2 col-md-8 bottomcta__form\">\n",
      "         <div class=\"bottomcta__form__inner\">\n",
      "          <div class=\"bottomcta__form__inner__wrapper\">\n",
      "           <div id=\"mc_embed_signup\">\n",
      "            <h2 class=\"h4alt\">\n",
      "             Stay Connected\n",
      "            </h2>\n",
      "            <form action=\"https://whitehouse.us19.list-manage.com/subscribe/post?u=c97630621baff8c44fe607661&amp;id=01c3fdf5ca\" id=\"mc_embed_signup_form\" method=\"POST\" name=\"mc-embed-signup-form\" target=\"_blank\">\n",
      "             <fieldset>\n",
      "              <legend class=\"screen-reader-text\">\n",
      "               Sign Up\n",
      "              </legend>\n",
      "              <div class=\"mc-field-group email\">\n",
      "               <label for=\"mce-EMAIL\">\n",
      "                Email Address\n",
      "                <sup aria-hidden=\"true\">\n",
      "                 *\n",
      "                </sup>\n",
      "                <span class=\"screen-reader-text\">\n",
      "                 Required\n",
      "                </span>\n",
      "               </label>\n",
      "               <input class=\"required email\" id=\"mce-EMAIL\" name=\"EMAIL\" placeholder=\"example@example.com\" required=\"\" type=\"email\" value=\"\"/>\n",
      "              </div>\n",
      "              <div class=\"mc-field-group zip\">\n",
      "               <label for=\"mce-ZIPCODE\">\n",
      "                ZIP Code\n",
      "               </label>\n",
      "               <input class=\"\" id=\"mce-ZIPCODE\" maxlength=\"5\" name=\"ZIPCODE\" placeholder=\"ZIP Code\" required=\"\" type=\"text\" value=\"\"/>\n",
      "              </div>\n",
      "              <div aria-hidden=\"true\" style=\"position: absolute; left: -5000px;\">\n",
      "               <!-- real people should not fill this in and expect good things - do not remove this or risk form bot signups-->\n",
      "               <label for=\"mce-8cafb01033\">\n",
      "                Please leave blank.\n",
      "               </label>\n",
      "               <input id=\"mce-8cafb01033\" name=\"b_4da4828d48b4efa4fc1138955_8cafb01033\" tabindex=\"-1\" type=\"text\" value=\"\"/>\n",
      "              </div>\n",
      "              <div style=\"display: none\">\n",
      "               <input name=\"SIGNUP\" type=\"hidden\" value=\"\"/>\n",
      "               <input name=\"SIGNUP_SRC\" type=\"hidden\" value=\"\"/>\n",
      "               <input name=\"LANGUAGE\" type=\"hidden\" value=\"en\"/>\n",
      "              </div>\n",
      "              <div class=\"clear submit-wrapper\">\n",
      "               <input class=\"button\" id=\"mc-embedded-subscribe\" name=\"subscribe\" type=\"submit\" value=\"Sign Up\"/>\n",
      "              </div>\n",
      "             </fieldset>\n",
      "             <div class=\"success-message deck--md\">\n",
      "              <p>\n",
      "               We'll be in touch with the latest information on how President Biden and his administration are working for the American people, as well as ways you can get involved and help our country build back better.\n",
      "              </p>\n",
      "             </div>\n",
      "            </form>\n",
      "           </div>\n",
      "           <p class=\"bottomcta__community mobile-only\">\n",
      "            <a href=\"https://my.community.com/potus?t=Hello%20Mr.%20President%20%F0%9F%87%BA%F0%9F%87%B8\" rel=\"noopener noreferer\" target=\"_blank\">\n",
      "             Opt in to send and receive text messages from President Biden.\n",
      "            </a>\n",
      "           </p>\n",
      "          </div>\n",
      "         </div>\n",
      "        </div>\n",
      "       </div>\n",
      "      </div>\n",
      "     </div>\n",
      "    </section>\n",
      "    <aside class=\"social-nav shares-simple behind\">\n",
      "     <div class=\"small-text shares-simple__title\">\n",
      "      Share\n",
      "     </div>\n",
      "     <ul class=\"menu shares-simple__list\">\n",
      "      <li class=\"shares-simple__item shares-simple__item--facebook\">\n",
      "       <a class=\"social-pop\" href=\"https://www.facebook.com/sharer.php?u=https://www.whitehouse.gov/briefing-room/press-briefings/2022/03/31/background-press-call-by-senior-administration-officials-on-president-bidens-plan-to-respond-to-putins-price-hike-at-the-pump/?utm_source=facebook&amp;t=Background%20Press%20Call%20by%20Senior%20Administration%20Officials%20on%20President%20Biden’s%20Plan%20to%20Respond%20to%20Putin’s%20Price%20Hike%20at%20the%20Pump\" rel=\"noopener noreferer\" tabindex=\"-1\" target=\"_blank\">\n",
      "        <span class=\"screen-reader-text\">\n",
      "         Share this page on Facebook\n",
      "        </span>\n",
      "        <span aria-hidden=\"true\">\n",
      "         <svg aria-hidden=\"true\" tabindex=\"-1\" viewbox=\"0 0 11 19\" xmlns=\"http://www.w3.org/2000/svg\">\n",
      "          <path d=\"M9.72243 10.375H7.08571V18.25H3.57008V10.375H0.722427V7.10547H3.57008V4.64453C3.57008 3.70703 3.74586 2.91016 4.09743 2.25391C4.44899 1.59766 4.94118 1.10547 5.57399 0.777344C6.23024 0.425781 6.98024 0.25 7.82399 0.25C8.19899 0.25 8.59743 0.273438 9.0193 0.320312C9.44118 0.34375 9.7693 0.378906 10.0037 0.425781L10.3552 0.460938V3.23828H8.94899C8.29274 3.23828 7.81227 3.41406 7.50758 3.76562C7.22633 4.09375 7.08571 4.50391 7.08571 4.99609V7.10547H10.2146L9.72243 10.375Z\">\n",
      "          </path>\n",
      "         </svg>\n",
      "        </span>\n",
      "       </a>\n",
      "      </li>\n",
      "      <!-- .facebook -->\n",
      "      <li class=\"shares-simple__item shares-simple__item--x\">\n",
      "       <a class=\"social-pop\" href=\"https://twitter.com/intent/tweet?via=whitehouse&amp;url=https://www.whitehouse.gov/briefing-room/press-briefings/2022/03/31/background-press-call-by-senior-administration-officials-on-president-bidens-plan-to-respond-to-putins-price-hike-at-the-pump/?utm_source=twitter&amp;text=Background%20Press%20Call%20by%20Senior%20Administration%20Officials%20on%20President%20Biden’s%20Plan%20to%20Respond%20to%20Putin’s%20Price%20Hike%20at%20the%20Pump\" rel=\"noopener noreferer\" tabindex=\"-1\" target=\"_blank\">\n",
      "        <span class=\"screen-reader-text\">\n",
      "         Share this page on X\n",
      "        </span>\n",
      "        <span aria-hidden=\"true\">\n",
      "         <svg aria-hidden=\"true\" fill=\"none\" tabindex=\"-1\" viewbox=\"0 0 1200 1227\" xmlns=\"http://www.w3.org/2000/svg\">\n",
      "          <path d=\"M714.163 519.284L1160.89 0H1055.03L667.137 450.887L357.328 0H0L468.492 681.821L0 1226.37H105.866L515.491 750.218L842.672 1226.37H1200L714.137 519.284H714.163ZM569.165 687.828L521.697 619.934L144.011 79.6944H306.615L611.412 515.685L658.88 583.579L1055.08 1150.3H892.476L569.165 687.854V687.828Z\">\n",
      "          </path>\n",
      "         </svg>\n",
      "        </span>\n",
      "       </a>\n",
      "      </li>\n",
      "      <!-- .x -->\n",
      "      <li class=\"shares-simple__item shares-simple__item--copy-link\">\n",
      "       <a class=\"js-click-to-copy\" role=\"button\" tabindex=\"-1\" title=\"Click to copy the page URL\">\n",
      "        <span class=\"js-click-to-copy-link screen-reader-text\">\n",
      "         https://www.whitehouse.gov/briefing-room/press-briefings/2022/03/31/background-press-call-by-senior-administration-officials-on-president-bidens-plan-to-respond-to-putins-price-hike-at-the-pump/?utm_source=link\n",
      "        </span>\n",
      "        <span aria-hidden=\"true\" class=\"link-icon\">\n",
      "         <svg aria-hidden=\"true\" fill=\"none\" height=\"51\" tabindex=\"-1\" viewbox=\"0 0 51 51\" width=\"51\" xmlns=\"http://www.w3.org/2000/svg\">\n",
      "          <path d=\"M46.0634 2.86257C40.4108 -1.57396 32.1413 -0.758049 27.4831 4.64738L23.5577 9.18589C22.3539 10.5627 22.5633 12.6025 23.9764 13.7754C25.3896 14.9483 27.4831 14.7443 28.6869 13.3674L32.6123 8.77794C34.9676 6.02423 39.1547 5.66727 41.981 7.96202C42.0333 8.01302 42.0856 8.06401 42.138 8.06401C44.8073 10.4608 45.0689 14.4893 42.7137 17.192L34.5489 26.779L34.4965 26.881C34.0778 27.3909 33.5544 27.7989 32.9787 28.1559C30.2571 29.7877 26.7504 29.3287 24.6045 27.085C23.3484 25.7591 21.2548 25.7081 19.894 26.932C18.5332 28.1559 18.4809 30.1957 19.737 31.5215C22.825 34.7342 27.3261 36.213 31.7749 35.4481C32.4553 35.3461 33.1357 35.1421 33.7638 34.9381C36.0667 34.1732 38.1602 32.7964 39.7304 30.9606L47.8429 21.4756C50.1981 18.7219 51.2973 15.2032 50.9309 11.6336C50.5645 8.21699 48.785 5.05533 46.0634 2.86257Z\">\n",
      "          </path>\n",
      "          <path d=\"M22.0399 37.9978L18.5332 42.0774C16.2303 44.8311 12.0955 45.29 9.2169 43.1483C6.33827 40.9555 5.81488 36.8759 8.11779 34.0202C8.17013 33.9692 8.17013 33.9183 8.22246 33.8673L16.492 24.2293L16.5443 24.1783C16.963 23.6683 17.4864 23.2604 18.0621 22.9034C20.5221 21.4246 23.6101 21.6286 25.8083 23.4134C26.07 23.6174 26.2793 23.8723 26.541 24.0763C27.1691 24.7902 28.1112 25.1982 29.1056 25.1982C30.0477 25.1982 30.9898 24.7392 31.5655 24.0253L31.6179 23.9743C32.6647 22.7504 32.6647 20.9656 31.5655 19.7928C26.698 14.4893 18.2715 13.9794 12.7236 18.7219C12.2002 19.1808 11.7292 19.6398 11.3105 20.1497L3.09327 29.7367C-1.56488 35.1931 -0.884479 43.2503 4.61109 47.8908C7.28037 50.1345 10.7871 51.2564 14.3461 50.9504C14.7648 50.8994 15.1835 50.8484 15.6022 50.7975C18.7949 50.2365 21.6735 48.6557 23.7147 46.2589L27.2214 42.1794C28.4252 40.8025 28.2159 38.7627 26.8027 37.5899C25.3372 36.468 23.1913 36.621 22.0399 37.9978Z\">\n",
      "          </path>\n",
      "         </svg>\n",
      "        </span>\n",
      "        <span aria-hidden=\"true\" class=\"check-icon\" title=\"Copied!\">\n",
      "         <svg aria-hidden=\"true\" role=\"img\" tabindex=\"-1\" viewbox=\"0 0 1792 1792\" xmlns=\"http://www.w3.org/2000/svg\">\n",
      "          <path d=\"M1671 566q0 40-28 68l-724 724-136 136q-28 28-68 28t-68-28l-136-136-362-362q-28-28-28-68t28-68l136-136q28-28 68-28t68 28l294 295 656-657q28-28 68-28t68 28l136 136q28 28 28 68z\">\n",
      "          </path>\n",
      "         </svg>\n",
      "        </span>\n",
      "       </a>\n",
      "      </li>\n",
      "      <!-- .copy-link -->\n",
      "     </ul>\n",
      "    </aside>\n",
      "    <!-- .social-nav -->\n",
      "   </main>\n",
      "   <!-- .site-main -->\n",
      "   <footer class=\"site-footer body-copy social-hide\" data-js-social-hide=\"\" id=\"colophon\">\n",
      "    <div class=\"seal-icon-wrapper\">\n",
      "     <img alt=\"\" class=\"svgloader\" onload=\"var c=this;!window.fetch?window.llItems.push(c):fetch(c.currentSrc||c.src).then(function(x){return x.text();}).then(function(svgText){c.outerHTML = svgText;});\" src=\"https://www.whitehouse.gov/wp-content/themes/whitehouse/assets/img/footer-seal.svg\"/>\n",
      "    </div>\n",
      "    <div class=\"container\">\n",
      "     <div class=\"row\">\n",
      "      <div class=\"footer-wrapper\">\n",
      "       <section class=\"justify-content-center footer-navigation-section primary-footer-navigation\" id=\"primary-footer-menu-section\">\n",
      "        <nav aria-label=\"Primary Footer Navigation\" class=\"primary col col-xs-12 col-md-12 col-lg-10\">\n",
      "         <ul class=\"menu\" id=\"primary-navigation-footer\">\n",
      "          <li class=\"menu-item menu-item-type-custom menu-item-object-custom menu-item-home menu-item-91 col navlink top-level-menu-item\" id=\"menu-item-91\">\n",
      "           <a href=\"https://www.whitehouse.gov/\">\n",
      "            Home\n",
      "           </a>\n",
      "          </li>\n",
      "          <li class=\"menu-item menu-item-type-post_type menu-item-object-page menu-item-98 col navlink top-level-menu-item\" id=\"menu-item-98\">\n",
      "           <a href=\"https://www.whitehouse.gov/administration/\">\n",
      "            The Administration\n",
      "           </a>\n",
      "          </li>\n",
      "          <li class=\"menu-item menu-item-type-post_type menu-item-object-page menu-item-2215 col navlink top-level-menu-item\" id=\"menu-item-2215\">\n",
      "           <a href=\"https://www.whitehouse.gov/administration/executive-office-of-the-president/\">\n",
      "            Executive Offices\n",
      "           </a>\n",
      "          </li>\n",
      "          <li class=\"menu-item menu-item-type-post_type menu-item-object-page menu-item-93 col navlink top-level-menu-item\" id=\"menu-item-93\">\n",
      "           <a href=\"https://www.whitehouse.gov/priorities/\">\n",
      "            Priorities\n",
      "           </a>\n",
      "          </li>\n",
      "          <li class=\"menu-item menu-item-type-post_type menu-item-object-page menu-item-65471 col navlink top-level-menu-item\" id=\"menu-item-65471\">\n",
      "           <a href=\"https://www.whitehouse.gov/therecord/\">\n",
      "            The Record\n",
      "           </a>\n",
      "          </li>\n",
      "          <li class=\"menu-item menu-item-type-post_type menu-item-object-page current_page_parent menu-item-2785 col navlink top-level-menu-item\" id=\"menu-item-2785\">\n",
      "           <a href=\"https://www.whitehouse.gov/briefing-room/\">\n",
      "            Briefing Room\n",
      "           </a>\n",
      "          </li>\n",
      "          <li class=\"menu-item menu-item-type-post_type menu-item-object-page menu-item-92 col navlink top-level-menu-item\" id=\"menu-item-92\">\n",
      "           <a href=\"https://www.whitehouse.gov/about-the-white-house/\">\n",
      "            The White House\n",
      "           </a>\n",
      "          </li>\n",
      "          <li class=\"menu-item menu-item-type-post_type menu-item-object-page menu-item-65472 col navlink top-level-menu-item\" id=\"menu-item-65472\">\n",
      "           <a href=\"https://www.whitehouse.gov/disclosures/\">\n",
      "            Disclosures\n",
      "           </a>\n",
      "          </li>\n",
      "          <li class=\"menu-item menu-item-type-post_type menu-item-object-page menu-item-96 col navlink top-level-menu-item\" id=\"menu-item-96\">\n",
      "           <a href=\"https://www.whitehouse.gov/get-involved/\">\n",
      "            Get Involved\n",
      "           </a>\n",
      "          </li>\n",
      "          <li class=\"site-id-2 mlp-language-nav-item menu-item menu-item-type-mlp_language menu-item-object-mlp_language menu-item-1801 col navlink top-level-menu-item\" id=\"menu-item-1801\">\n",
      "           <a href=\"https://www.whitehouse.gov/es/\" hreflang=\"es-US\" lang=\"es-US\" rel=\"alternate\">\n",
      "            Español\n",
      "           </a>\n",
      "          </li>\n",
      "         </ul>\n",
      "        </nav>\n",
      "        <!-- .primary -->\n",
      "       </section>\n",
      "       <!-- #primary-footer-menu-section -->\n",
      "       <div class=\"footer-right\">\n",
      "        <section class=\"justify-content-center footer-navigation-section secondary-footer-navigation\">\n",
      "         <nav aria-label=\"Secondary Footer Navigation\" class=\"footer-secondary col-xs-12 col-md-12 col-lg-10\">\n",
      "          <ul class=\"menu\" id=\"footer-secondary\">\n",
      "           <li class=\"menu-item menu-item-type-post_type menu-item-object-page menu-item-54640 col small-text top-level-menu-item\" id=\"menu-item-54640\">\n",
      "            <a href=\"https://www.whitehouse.gov/contact/\">\n",
      "             Contact Us\n",
      "            </a>\n",
      "           </li>\n",
      "           <li class=\"menu-item menu-item-type-post_type menu-item-object-page menu-item-54641 col small-text top-level-menu-item\" id=\"menu-item-54641\">\n",
      "            <a href=\"https://www.whitehouse.gov/privacy/\">\n",
      "             Privacy Policy\n",
      "            </a>\n",
      "           </li>\n",
      "           <li class=\"menu-item menu-item-type-post_type menu-item-object-page menu-item-54642 col small-text top-level-menu-item\" id=\"menu-item-54642\">\n",
      "            <a href=\"https://www.whitehouse.gov/copyright/\">\n",
      "             Copyright Policy\n",
      "            </a>\n",
      "           </li>\n",
      "           <li class=\"menu-item menu-item-type-post_type menu-item-object-page menu-item-54643 col small-text top-level-menu-item\" id=\"menu-item-54643\">\n",
      "            <a href=\"https://www.whitehouse.gov/accessibility/\">\n",
      "             Accessibility Statement\n",
      "            </a>\n",
      "           </li>\n",
      "          </ul>\n",
      "         </nav>\n",
      "         <!-- .footer-secondary -->\n",
      "        </section>\n",
      "        <div class=\"social-and-address\">\n",
      "         <div class=\"footer__social\">\n",
      "          <nav aria-label=\"Social Navigation\" class=\"col-xs-12\">\n",
      "           <ul class=\"social-simple\" id=\"footer-social-navigation\">\n",
      "            <li class=\"menu-item menu-item-type-custom menu-item-object-custom menu-item-87 col-auto top-level-menu-item\">\n",
      "             <a class=\"external-link\" href=\"https://www.instagram.com/whitehouse/\" rel=\"noopener noreferrer\" target=\"_blank\">\n",
      "              <svg aria-hidden=\"true\" tabindex=\"-1\" viewbox=\"0 0 21 20\" xmlns=\"http://www.w3.org/2000/svg\">\n",
      "               <path d=\"M6.92773 6.26953C7.90169 5.29557 9.07617 4.80859 10.4512 4.80859C11.8262 4.80859 12.9863 5.29557 13.9316 6.26953C14.9056 7.21484 15.3926 8.375 15.3926 9.75C15.3926 11.125 14.9056 12.2995 13.9316 13.2734C12.9863 14.2188 11.8262 14.6914 10.4512 14.6914C9.07617 14.6914 7.90169 14.2188 6.92773 13.2734C5.98242 12.2995 5.50977 11.125 5.50977 9.75C5.50977 8.375 5.98242 7.21484 6.92773 6.26953ZM8.17383 12.0273C8.80404 12.6576 9.56315 12.9727 10.4512 12.9727C11.3392 12.9727 12.0983 12.6576 12.7285 12.0273C13.3587 11.3971 13.6738 10.638 13.6738 9.75C13.6738 8.86198 13.3587 8.10286 12.7285 7.47266C12.0983 6.84245 11.3392 6.52734 10.4512 6.52734C9.56315 6.52734 8.80404 6.84245 8.17383 7.47266C7.54362 8.10286 7.22852 8.86198 7.22852 9.75C7.22852 10.638 7.54362 11.3971 8.17383 12.0273ZM16.3809 3.82031C16.61 4.02083 16.7246 4.27865 16.7246 4.59375C16.7246 4.90885 16.61 5.18099 16.3809 5.41016C16.1803 5.63932 15.9225 5.75391 15.6074 5.75391C15.2923 5.75391 15.0202 5.63932 14.791 5.41016C14.5618 5.18099 14.4473 4.90885 14.4473 4.59375C14.4473 4.27865 14.5618 4.02083 14.791 3.82031C15.0202 3.59115 15.2923 3.47656 15.6074 3.47656C15.9225 3.47656 16.1803 3.59115 16.3809 3.82031ZM20.0332 5.79688C20.0618 6.57031 20.0762 7.88802 20.0762 9.75C20.0762 11.612 20.0618 12.9297 20.0332 13.7031C19.9473 15.4505 19.4173 16.8112 18.4434 17.7852C17.498 18.7305 16.1517 19.2318 14.4043 19.2891C13.6309 19.3464 12.3132 19.375 10.4512 19.375C8.58919 19.375 7.27148 19.3464 6.49805 19.2891C4.75065 19.2031 3.4043 18.6875 2.45898 17.7422C2.08659 17.3984 1.78581 16.9974 1.55664 16.5391C1.32747 16.0807 1.1556 15.6367 1.04102 15.207C0.955078 14.7773 0.912109 14.276 0.912109 13.7031C0.854818 12.9297 0.826172 11.612 0.826172 9.75C0.826172 7.88802 0.854818 6.55599 0.912109 5.75391C0.998047 4.03516 1.51367 2.70312 2.45898 1.75781C3.4043 0.783854 4.75065 0.253906 6.49805 0.167969C7.27148 0.139323 8.58919 0.125 10.4512 0.125C12.3132 0.125 13.6309 0.139323 14.4043 0.167969C16.1517 0.253906 17.498 0.783854 18.4434 1.75781C19.4173 2.70312 19.9473 4.04948 20.0332 5.79688ZM17.9707 15.4219C18.0566 15.1927 18.1283 14.9062 18.1855 14.5625C18.2428 14.1901 18.2858 13.7604 18.3145 13.2734C18.3431 12.7578 18.3574 12.3424 18.3574 12.0273C18.3574 11.7122 18.3574 11.2682 18.3574 10.6953C18.3574 10.1224 18.3574 9.80729 18.3574 9.75C18.3574 9.66406 18.3574 9.34896 18.3574 8.80469C18.3574 8.23177 18.3574 7.78776 18.3574 7.47266C18.3574 7.15755 18.3431 6.75651 18.3145 6.26953C18.2858 5.75391 18.2428 5.32422 18.1855 4.98047C18.1283 4.60807 18.0566 4.30729 17.9707 4.07812C17.627 3.1901 17.0111 2.57422 16.123 2.23047C15.8939 2.14453 15.5931 2.07292 15.2207 2.01562C14.877 1.95833 14.4473 1.91536 13.9316 1.88672C13.4447 1.85807 13.0436 1.84375 12.7285 1.84375C12.4421 1.84375 11.998 1.84375 11.3965 1.84375C10.8236 1.84375 10.5085 1.84375 10.4512 1.84375C10.3939 1.84375 10.0788 1.84375 9.50586 1.84375C8.93294 1.84375 8.48893 1.84375 8.17383 1.84375C7.85872 1.84375 7.44336 1.85807 6.92773 1.88672C6.44076 1.91536 6.01107 1.95833 5.63867 2.01562C5.29492 2.07292 5.00846 2.14453 4.7793 2.23047C3.89128 2.57422 3.27539 3.1901 2.93164 4.07812C2.8457 4.30729 2.77409 4.60807 2.7168 4.98047C2.65951 5.32422 2.61654 5.75391 2.58789 6.26953C2.55924 6.75651 2.54492 7.15755 2.54492 7.47266C2.54492 7.75911 2.54492 8.20312 2.54492 8.80469C2.54492 9.3776 2.54492 9.69271 2.54492 9.75C2.54492 9.86458 2.54492 10.1367 2.54492 10.5664C2.54492 10.9674 2.54492 11.3112 2.54492 11.5977C2.54492 11.8555 2.54492 12.1992 2.54492 12.6289C2.57357 13.0586 2.60221 13.431 2.63086 13.7461C2.65951 14.0326 2.70247 14.3333 2.75977 14.6484C2.81706 14.9635 2.87435 15.2214 2.93164 15.4219C3.30404 16.3099 3.91992 16.9258 4.7793 17.2695C5.00846 17.3555 5.29492 17.4271 5.63867 17.4844C6.01107 17.5417 6.44076 17.5846 6.92773 17.6133C7.44336 17.6419 7.8444 17.6562 8.13086 17.6562C8.44596 17.6562 8.88997 17.6562 9.46289 17.6562C10.0645 17.6562 10.3939 17.6562 10.4512 17.6562C10.5371 17.6562 10.8522 17.6562 11.3965 17.6562C11.9694 17.6562 12.4134 17.6562 12.7285 17.6562C13.0436 17.6562 13.4447 17.6419 13.9316 17.6133C14.4473 17.5846 14.877 17.5417 15.2207 17.4844C15.5931 17.4271 15.8939 17.3555 16.123 17.2695C17.0111 16.8971 17.627 16.2812 17.9707 15.4219Z\">\n",
      "               </path>\n",
      "              </svg>\n",
      "              <span class=\"screen-reader-text\">\n",
      "               Instagram\n",
      "               <span class=\"screen-reader-text\">\n",
      "                Opens in a new window\n",
      "               </span>\n",
      "              </span>\n",
      "             </a>\n",
      "            </li>\n",
      "            <li class=\"menu-item menu-item-type-custom menu-item-object-custom menu-item-88 col-auto top-level-menu-item\">\n",
      "             <a class=\"external-link\" href=\"https://www.facebook.com/WhiteHouse/\" rel=\"noopener noreferrer\" target=\"_blank\">\n",
      "              <svg aria-hidden=\"true\" tabindex=\"-1\" viewbox=\"0 0 11 19\" xmlns=\"http://www.w3.org/2000/svg\">\n",
      "               <path d=\"M9.72243 10.375H7.08571V18.25H3.57008V10.375H0.722427V7.10547H3.57008V4.64453C3.57008 3.70703 3.74586 2.91016 4.09743 2.25391C4.44899 1.59766 4.94118 1.10547 5.57399 0.777344C6.23024 0.425781 6.98024 0.25 7.82399 0.25C8.19899 0.25 8.59743 0.273438 9.0193 0.320312C9.44118 0.34375 9.7693 0.378906 10.0037 0.425781L10.3552 0.460938V3.23828H8.94899C8.29274 3.23828 7.81227 3.41406 7.50758 3.76562C7.22633 4.09375 7.08571 4.50391 7.08571 4.99609V7.10547H10.2146L9.72243 10.375Z\">\n",
      "               </path>\n",
      "              </svg>\n",
      "              <span class=\"screen-reader-text\">\n",
      "               Facebook\n",
      "               <span class=\"screen-reader-text\">\n",
      "                Opens in a new window\n",
      "               </span>\n",
      "              </span>\n",
      "             </a>\n",
      "            </li>\n",
      "            <li class=\"menu-item menu-item-type-custom menu-item-object-custom menu-item-89 col-auto top-level-menu-item\">\n",
      "             <a class=\"external-link\" href=\"https://twitter.com/whitehouse\" rel=\"noopener noreferrer\" target=\"_blank\">\n",
      "              <svg aria-hidden=\"true\" fill=\"none\" tabindex=\"-1\" viewbox=\"0 0 1200 1227\" xmlns=\"http://www.w3.org/2000/svg\">\n",
      "               <path d=\"M714.163 519.284L1160.89 0H1055.03L667.137 450.887L357.328 0H0L468.492 681.821L0 1226.37H105.866L515.491 750.218L842.672 1226.37H1200L714.137 519.284H714.163ZM569.165 687.828L521.697 619.934L144.011 79.6944H306.615L611.412 515.685L658.88 583.579L1055.08 1150.3H892.476L569.165 687.854V687.828Z\">\n",
      "               </path>\n",
      "              </svg>\n",
      "              <span class=\"screen-reader-text\">\n",
      "               X\n",
      "               <span class=\"screen-reader-text\">\n",
      "                Opens in a new window\n",
      "               </span>\n",
      "              </span>\n",
      "             </a>\n",
      "            </li>\n",
      "            <li class=\"menu-item menu-item-type-custom menu-item-object-custom menu-item-90 col-auto top-level-menu-item\">\n",
      "             <a class=\"external-link\" href=\"https://www.youtube.com/user/whitehouse\" rel=\"noopener noreferrer\" target=\"_blank\">\n",
      "              <svg aria-hidden=\"true\" fill=\"none\" tabindex=\"-1\" viewbox=\"0 0 18 12\" xmlns=\"http://www.w3.org/2000/svg\">\n",
      "               <path d=\"M17.1562 1.90625C16.9688 1.15625 16.375 0.5625 15.6562 0.375C14.3125 0 9 0 9 0C9 0 3.65625 0 2.3125 0.375C1.59375 0.5625 1 1.15625 0.8125 1.90625C0.4375 3.21875 0.4375 6.03125 0.4375 6.03125C0.4375 6.03125 0.4375 8.8125 0.8125 10.1562C1 10.9062 1.59375 11.4688 2.3125 11.6562C3.65625 12 9 12 9 12C9 12 14.3125 12 15.6563 11.6562C16.375 11.4687 16.9688 10.9062 17.1563 10.1562C17.5313 8.8125 17.5312 6.03125 17.5312 6.03125C17.5312 6.03125 17.5312 3.21875 17.1562 1.90625ZM7.25 8.5625L7.25 3.5L11.6875 6.03125L7.25 8.5625Z\">\n",
      "               </path>\n",
      "              </svg>\n",
      "              <span class=\"screen-reader-text\">\n",
      "               YouTube\n",
      "               <span class=\"screen-reader-text\">\n",
      "                Opens in a new window\n",
      "               </span>\n",
      "              </span>\n",
      "             </a>\n",
      "            </li>\n",
      "           </ul>\n",
      "          </nav>\n",
      "          <!-- social -->\n",
      "         </div>\n",
      "         <!-- .footer__social -->\n",
      "         <p class=\"address\">\n",
      "          <strong>\n",
      "           The White House\n",
      "          </strong>\n",
      "          <br/>\n",
      "          1600 Pennsylvania Ave NW\n",
      "          <br/>\n",
      "          Washington, DC 20500\n",
      "         </p>\n",
      "         <!-- .address -->\n",
      "         <a class=\"wh-logo-link\" href=\"https://www.whitehouse.gov/\" rel=\"home\">\n",
      "          <span class=\"screen-reader-text\">\n",
      "           WH.gov\n",
      "          </span>\n",
      "          <svg viewbox=\"0 0 1231 180\" xmlns=\"http://www.w3.org/2000/svg\">\n",
      "           <path d=\"M200.9,126h1.5l30-102.8l-18.7-9V4.5h60.7v9.7l-21.7,10.5L200.9,177h-22.5l-39-113.3H138L94.5,177H72L23.2,21.8L0,14.3\n",
      "\t\tV4.5h86.2v9l-20.2,6l30,107.3h0.7l33.7-90l-6-15.8l-18-7.5v-9h80.2v9l-20.2,6.8L200.9,126z\">\n",
      "           </path>\n",
      "           <path d=\"M446.1,21l-22.5-6V4.5h88.5V15l-25.5,6v138.8l25.5,6v9.8h-88.5v-9.8l22.5-6V96h-72v63.8l22.5,6v9.8h-88.5v-9.8l25.5-6V21\n",
      "\t\tl-25.5-6V4.5h89.2V15l-22.5,6v57.8h72V21H446.1z\">\n",
      "           </path>\n",
      "           <path d=\"M577.3,180c-9.7,0-17.2-7.5-17.2-17.2c0-9,7.5-17.2,17.2-17.2c9.7,0,17.2,7.5,17.2,17.2C594.5,171.7,587,180,577.3,180z\">\n",
      "           </path>\n",
      "           <path d=\"M770.7,57.8c-16.5-31.5-32.2-45-56.2-45c-27.7,0-51.7,24.8-51.7,74.2c0,51,24.7,77.2,60.7,77.2c13.5,0,22.5-3.8,32.2-9\n",
      "\t\tv-43.5l-25.5-6V96h74.2v9.8l-22.5,6v66l-8.2,1.5l-13.5-13.5c-13.5,8.2-27,13.5-47.2,13.5c-46.5,0-83.2-33-83.2-86.2\n",
      "\t\tc0-51.8,38.2-92.2,89.2-92.2c16.5,0,30,3.8,40.5,9l8.2-9.8h9l1.5,57L770.7,57.8z\">\n",
      "           </path>\n",
      "           <path d=\"M931.9,179.3c-54,0-83.2-41.2-83.2-89.3c0-48,33-89.2,84.7-89.2c54,0,83.2,41.2,83.2,89.2\n",
      "\t\tC1016.6,138.8,982.9,179.3,931.9,179.3z M929.7,12c-24.7,0-49.5,18-49.5,78c0,60,28.5,78,55.5,78c24.7,0,49.5-24.8,49.5-78\n",
      "\t\tC985.2,36.8,956.7,12,929.7,12z\">\n",
      "           </path>\n",
      "           <path d=\"M1146.3,177h-13.5l-60.7-155.3l-24.7-6.8V4.5h81v9.7l-26.2,6l45,121.5l45-119.3l-20.2-7.5V4.5h59.2v9.7l-22.5,7.5\n",
      "\t\tL1146.3,177z\">\n",
      "           </path>\n",
      "          </svg>\n",
      "         </a>\n",
      "        </div>\n",
      "       </div>\n",
      "       <!-- .footer-right -->\n",
      "      </div>\n",
      "      <!-- .footer-wrapper -->\n",
      "     </div>\n",
      "     <!-- .row -->\n",
      "    </div>\n",
      "    <!-- .container -->\n",
      "   </footer>\n",
      "   <!-- #colophon -->\n",
      "  </div>\n",
      "  <!-- #page -->\n",
      "  <div class=\"scroll-to-top\">\n",
      "   <a class=\"scroll-read-more\" href=\"#content\">\n",
      "    <div class=\"scroll-to-top__inner\">\n",
      "     <span class=\"screen-reader-text\">\n",
      "      Scroll to Top\n",
      "     </span>\n",
      "     <svg aria-labelledby=\"scroll-to-top-svg-title\" role=\"img\" viewbox=\"0 0 11.3 28\" xmlns=\"http://www.w3.org/2000/svg\">\n",
      "      <title id=\"scroll-to-top-svg-title\">\n",
      "       Scroll to Top\n",
      "      </title>\n",
      "      <path d=\"M5.6,0L0,14l5-2.5V28h1.3V11.5l5,2.5C11.3,14.1,5.6,0,5.6,0z\">\n",
      "      </path>\n",
      "     </svg>\n",
      "    </div>\n",
      "    <span class=\"small-text scroll-to-top__dirtext\">\n",
      "     Top\n",
      "    </span>\n",
      "   </a>\n",
      "  </div>\n",
      "  <script id=\"theme_js-js-extra\">\n",
      "   var emailSignupL10n = {\"fakeOrInvalid\":\"This email address looks fake or invalid. Please enter a real email address.\",\"tooManySignups\":\"Email address has too many recent signup requests.\",\"defaultError\":\"There was an error processing your email.\"};\n",
      "  </script>\n",
      "  <script src=\"https://www.whitehouse.gov/wp-content/themes/whitehouse/assets/js/script.min.js?m=1710943101g\" type=\"text/javascript\">\n",
      "  </script>\n",
      " </body>\n",
      "</html>\n",
      "\n"
     ]
    }
   ],
   "source": [
    "from bs4 import BeautifulSoup\n",
    "tree = BeautifulSoup(response.content, 'html.parser')\n",
    "\n",
    "print(tree.prettify())"
   ]
  },
  {
   "cell_type": "code",
   "execution_count": 6,
   "metadata": {},
   "outputs": [
    {
     "data": {
      "text/plain": [
       "<title>Background Press Call by Senior Administration Officials on President Biden's Plan to Respond to Putin's Price Hike at the Pump | The White House</title>"
      ]
     },
     "execution_count": 6,
     "metadata": {},
     "output_type": "execute_result"
    }
   ],
   "source": [
    "tree.html.head.title"
   ]
  },
  {
   "cell_type": "markdown",
   "metadata": {},
   "source": [
    "You can get the text out of the place where we wandered using the `text` method."
   ]
  },
  {
   "cell_type": "code",
   "execution_count": 7,
   "metadata": {},
   "outputs": [
    {
     "data": {
      "text/plain": [
       "\"Background Press Call by Senior Administration Officials on President Biden's Plan to Respond to Putin's Price Hike at the Pump | The White House\""
      ]
     },
     "execution_count": 7,
     "metadata": {},
     "output_type": "execute_result"
    }
   ],
   "source": [
    "tree.html.head.title.text"
   ]
  },
  {
   "cell_type": "code",
   "execution_count": 16,
   "metadata": {},
   "outputs": [
    {
     "data": {
      "text/plain": [
       "bs4.element.Tag"
      ]
     },
     "execution_count": 16,
     "metadata": {},
     "output_type": "execute_result"
    }
   ],
   "source": [
    "type(tree.html.head.title.text)"
   ]
  },
  {
   "cell_type": "markdown",
   "metadata": {},
   "source": [
    "You can work with text as with a string using classical Python methods."
   ]
  },
  {
   "cell_type": "code",
   "execution_count": 17,
   "metadata": {},
   "outputs": [
    {
     "data": {
      "text/plain": [
       "['Background',\n",
       " 'Press',\n",
       " 'Call',\n",
       " 'by',\n",
       " 'Senior',\n",
       " 'Administration',\n",
       " 'Officials',\n",
       " 'on',\n",
       " 'President',\n",
       " \"Biden's\",\n",
       " 'Plan',\n",
       " 'to',\n",
       " 'Respond',\n",
       " 'to',\n",
       " \"Putin's\",\n",
       " 'Price',\n",
       " 'Hike',\n",
       " 'at',\n",
       " 'the',\n",
       " 'Pump',\n",
       " '|',\n",
       " 'The',\n",
       " 'White',\n",
       " 'House']"
      ]
     },
     "execution_count": 17,
     "metadata": {},
     "output_type": "execute_result"
    }
   ],
   "source": [
    "header = tree.html.head.title.text\n",
    "header.split(' ')"
   ]
  },
  {
   "cell_type": "markdown",
   "metadata": {},
   "source": [
    "Let's scrap and parse section about leaders on the website The Economist and study _other useful commands_"
   ]
  },
  {
   "cell_type": "code",
   "execution_count": 8,
   "metadata": {},
   "outputs": [],
   "source": [
    "import requests  \n",
    "from bs4 import BeautifulSoup\n",
    "url = 'https://www.economist.com/leaders/?page=1'\n",
    "response = requests.get(url)\n",
    "\n",
    "html_tree = BeautifulSoup(response.content, 'html.parser')\n"
   ]
  },
  {
   "cell_type": "code",
   "execution_count": 9,
   "metadata": {},
   "outputs": [
    {
     "data": {
      "text/plain": [
       "<title>Leaders | The Economist</title>"
      ]
     },
     "execution_count": 9,
     "metadata": {},
     "output_type": "execute_result"
    }
   ],
   "source": [
    "html_tree.html.head.title"
   ]
  },
  {
   "cell_type": "code",
   "execution_count": 3,
   "metadata": {},
   "outputs": [
    {
     "data": {
      "text/plain": [
       "<title>Leaders | The Economist</title>"
      ]
     },
     "execution_count": 3,
     "metadata": {},
     "output_type": "execute_result"
    }
   ],
   "source": [
    "html_tree.title"
   ]
  },
  {
   "cell_type": "code",
   "execution_count": 4,
   "metadata": {},
   "outputs": [
    {
     "data": {
      "text/plain": [
       "bs4.element.Tag"
      ]
     },
     "execution_count": 4,
     "metadata": {},
     "output_type": "execute_result"
    }
   ],
   "source": [
    "type(html_tree.title)"
   ]
  },
  {
   "cell_type": "code",
   "execution_count": 5,
   "metadata": {},
   "outputs": [
    {
     "data": {
      "text/plain": [
       "'Leaders | The Economist'"
      ]
     },
     "execution_count": 5,
     "metadata": {},
     "output_type": "execute_result"
    }
   ],
   "source": [
    "html_tree.title.text"
   ]
  },
  {
   "cell_type": "code",
   "execution_count": 7,
   "metadata": {},
   "outputs": [
    {
     "data": {
      "text/plain": [
       "'Leaders | The Economist'"
      ]
     },
     "execution_count": 7,
     "metadata": {},
     "output_type": "execute_result"
    }
   ],
   "source": [
    "html_tree.title.string"
   ]
  },
  {
   "cell_type": "code",
   "execution_count": 27,
   "metadata": {},
   "outputs": [
    {
     "data": {
      "text/plain": [
       "'title'"
      ]
     },
     "execution_count": 27,
     "metadata": {},
     "output_type": "execute_result"
    }
   ],
   "source": [
    "html_tree.title.name"
   ]
  },
  {
   "cell_type": "code",
   "execution_count": 8,
   "metadata": {},
   "outputs": [
    {
     "data": {
      "text/plain": [
       "'head'"
      ]
     },
     "execution_count": 8,
     "metadata": {},
     "output_type": "execute_result"
    }
   ],
   "source": [
    "html_tree.title.parent.name"
   ]
  },
  {
   "cell_type": "code",
   "execution_count": 9,
   "metadata": {},
   "outputs": [
    {
     "data": {
      "text/plain": [
       "103"
      ]
     },
     "execution_count": 9,
     "metadata": {},
     "output_type": "execute_result"
    }
   ],
   "source": [
    "len(html_tree.find_all('a'))"
   ]
  },
  {
   "cell_type": "code",
   "execution_count": 12,
   "metadata": {},
   "outputs": [
    {
     "data": {
      "text/plain": [
       "(bs4.element.ResultSet, bs4.element.Tag)"
      ]
     },
     "execution_count": 12,
     "metadata": {},
     "output_type": "execute_result"
    }
   ],
   "source": [
    "type(html_tree.find_all('a')), type(html_tree.find_all('a')[0])"
   ]
  },
  {
   "cell_type": "code",
   "execution_count": 13,
   "metadata": {},
   "outputs": [
    {
     "data": {
      "text/plain": [
       "[<a class=\"ds-skip-to-content\" href=\"#content\">Skip to content</a>,\n",
       " <a aria-expanded=\"false\" class=\"ds-menu-disclosure\" data-menu-is-open=\"false\" data-test-id=\"Menu link\" href=\"#\" id=\"menu-button\" type=\"menu-nav\" url=\"#sections\"><svg viewbox=\"0 0 24 24\" xmlns=\"http://www.w3.org/2000/svg\"><g fill=\"none\" fill-rule=\"evenodd\" id=\"icon-menu-disclosure\"><path d=\"M0 0h24v24H0z\"></path><path class=\"path-foreground\" d=\"M3 18h18v-2H3v2zm0-5h18v-2H3v2zm0-7v2h18V6H3z\" fill=\"#0D0D0D\" fill-rule=\"nonzero\"></path></g></svg>Menu</a>,\n",
       " <a class=\"weekly-edition-link ds-navigation-link\" href=\"/weeklyedition\"><span>Weekly edition</span></a>,\n",
       " <a class=\"the-world-in-brief-link ds-navigation-link\" href=\"https://www.economist.com/the-world-in-brief\"><span>The world in brief</span></a>]"
      ]
     },
     "execution_count": 13,
     "metadata": {},
     "output_type": "execute_result"
    }
   ],
   "source": [
    "html_tree.find_all('a')[1:5]"
   ]
  },
  {
   "cell_type": "markdown",
   "metadata": {},
   "source": [
    "One common task is extracting all the URLs found within a page’s `<a>` tags:\n",
    "```python\n",
    "for a in html_tree.find_all('a'):\n",
    "    print(a.get('href'))\n",
    "```"
   ]
  },
  {
   "cell_type": "markdown",
   "metadata": {},
   "source": [
    "### Extracting the link from the a-tag"
   ]
  },
  {
   "cell_type": "code",
   "execution_count": 21,
   "metadata": {},
   "outputs": [
    {
     "name": "stdout",
     "output_type": "stream",
     "text": [
      "#content; <a class=\"ds-skip-to-content\" href=\"#content\">Skip to content</a>\n",
      "#; <a aria-expanded=\"false\" class=\"ds-menu-disclosure\" data-menu-is-open=\"false\" data-test-id=\"Menu link\" href=\"#\" id=\"menu-button\" type=\"menu-nav\" url=\"#sections\"><svg viewbox=\"0 0 24 24\" xmlns=\"http://www.w3.org/2000/svg\"><g fill=\"none\" fill-rule=\"evenodd\" id=\"icon-menu-disclosure\"><path d=\"M0 0h24v24H0z\"></path><path class=\"path-foreground\" d=\"M3 18h18v-2H3v2zm0-5h18v-2H3v2zm0-7v2h18V6H3z\" fill=\"#0D0D0D\" fill-rule=\"nonzero\"></path></g></svg>Menu</a>\n",
      "/weeklyedition; <a class=\"weekly-edition-link ds-navigation-link\" href=\"/weeklyedition\"><span>Weekly edition</span></a>\n",
      "https://www.economist.com/the-world-in-brief; <a class=\"the-world-in-brief-link ds-navigation-link\" href=\"https://www.economist.com/the-world-in-brief\"><span>The world in brief</span></a>\n",
      "#; <a class=\"ds-navigation-disclosure--icon ds-navigation-disclosure--icon-search ds-navigation-disclosure\" href=\"#\" type=\"search-form\">Search<svg viewbox=\"0 0 24 24\" xmlns=\"http://www.w3.org/2000/svg\"><g fill=\"none\" fill-rule=\"evenodd\"><path class=\"path-foreground\" d=\"M7.41 8.59L12 13.17l4.59-4.58L18 10l-6 6-6-6z\" fill=\"#0D0D0D\" fill-rule=\"nonzero\"></path><path d=\"M0 0h24v24H0z\"></path></g></svg></a>\n",
      "/api/auth/login; <a class=\"ds-navigation-link\" href=\"/api/auth/login\"><span>Log in</span></a>\n",
      "/ukraine-crisis; <a class=\"ds-navigation-link ds-navigation-link--inverse\" href=\"/ukraine-crisis\"><span>War in Ukraine</span></a>\n",
      "/recession; <a class=\"ds-navigation-link ds-navigation-link--inverse\" href=\"/recession\"><span>Recession watch</span></a>\n",
      "/president-joe-biden; <a class=\"ds-navigation-link ds-navigation-link--inverse\" href=\"/president-joe-biden\"><span>US politics</span></a>\n",
      "/climate-change; <a class=\"ds-navigation-link ds-navigation-link--inverse\" href=\"/climate-change\"><span>Climate change</span></a>\n",
      "/coronavirus-pandemic; <a class=\"ds-navigation-link ds-navigation-link--inverse\" href=\"/coronavirus-pandemic\"><span>Coronavirus</span></a>\n",
      "/economics-a-to-z; <a class=\"ds-navigation-link ds-navigation-link--inverse\" href=\"/economics-a-to-z\"><span>A-Z of economics</span></a>\n",
      "/big-mac-index; <a class=\"ds-navigation-link ds-navigation-link--inverse\" href=\"/big-mac-index\"><span>Big Mac index</span></a>\n",
      "/1843; <a class=\"ds-navigation-link ds-navigation-link--inverse\" href=\"/1843\"><span>1843 magazine</span></a>\n",
      "/the-world-this-week; <a class=\"ds-navigation-link ds-navigation-link--inverse\" href=\"/the-world-this-week\"><span>The world this week</span></a>\n",
      "/leaders; <a class=\"ds-navigation-link ds-navigation-link--inverse\" href=\"/leaders\"><span>Leaders</span></a>\n",
      "/letters; <a class=\"ds-navigation-link ds-navigation-link--inverse\" href=\"/letters\"><span>Letters</span></a>\n",
      "/by-invitation; <a class=\"ds-navigation-link ds-navigation-link--inverse\" href=\"/by-invitation\"><span>By Invitation</span></a>\n",
      "/briefing; <a class=\"ds-navigation-link ds-navigation-link--inverse\" href=\"/briefing\"><span>Briefing</span></a>\n",
      "/united-states; <a class=\"ds-navigation-link ds-navigation-link--inverse\" href=\"/united-states\"><span>United States</span></a>\n",
      "/the-americas; <a class=\"ds-navigation-link ds-navigation-link--inverse\" href=\"/the-americas\"><span>The Americas</span></a>\n",
      "/asia; <a class=\"ds-navigation-link ds-navigation-link--inverse\" href=\"/asia\"><span>Asia</span></a>\n",
      "/china; <a class=\"ds-navigation-link ds-navigation-link--inverse\" href=\"/china\"><span>China</span></a>\n",
      "/middle-east-and-africa; <a class=\"ds-navigation-link ds-navigation-link--inverse\" href=\"/middle-east-and-africa\"><span>Middle East &amp; Africa</span></a>\n",
      "/europe; <a class=\"ds-navigation-link ds-navigation-link--inverse\" href=\"/europe\"><span>Europe</span></a>\n",
      "/britain; <a class=\"ds-navigation-link ds-navigation-link--inverse\" href=\"/britain\"><span>Britain</span></a>\n",
      "/international; <a class=\"ds-navigation-link ds-navigation-link--inverse\" href=\"/international\"><span>International</span></a>\n",
      "/business; <a class=\"ds-navigation-link ds-navigation-link--inverse\" href=\"/business\"><span>Business</span></a>\n",
      "/finance-and-economics; <a class=\"ds-navigation-link ds-navigation-link--inverse\" href=\"/finance-and-economics\"><span>Finance &amp; economics</span></a>\n",
      "/science-and-technology; <a class=\"ds-navigation-link ds-navigation-link--inverse\" href=\"/science-and-technology\"><span>Science &amp; technology</span></a>\n",
      "/culture; <a class=\"ds-navigation-link ds-navigation-link--inverse\" href=\"/culture\"><span>Culture</span></a>\n",
      "/economic-and-financial-indicators; <a class=\"ds-navigation-link ds-navigation-link--inverse\" href=\"/economic-and-financial-indicators\"><span>Economic &amp; financial indicators</span></a>\n",
      "/graphic-detail; <a class=\"ds-navigation-link ds-navigation-link--inverse\" href=\"/graphic-detail\"><span>Graphic detail</span></a>\n",
      "/the-economist-explains; <a class=\"ds-navigation-link ds-navigation-link--inverse\" href=\"/the-economist-explains\"><span>The Economist explains</span></a>\n",
      "/obituary; <a class=\"ds-navigation-link ds-navigation-link--inverse\" href=\"/obituary\"><span>Obituary</span></a>\n",
      "/special-reports; <a class=\"ds-navigation-link ds-navigation-link--inverse\" href=\"/special-reports\"><span>Special reports</span></a>\n",
      "/technology-quarterly; <a class=\"ds-navigation-link ds-navigation-link--inverse\" href=\"/technology-quarterly\"><span>Technology Quarterly</span></a>\n",
      "/the-world-ahead; <a class=\"ds-navigation-link ds-navigation-link--inverse\" href=\"/the-world-ahead\"><span>The World Ahead</span></a>\n",
      "/essay; <a class=\"ds-navigation-link ds-navigation-link--inverse\" href=\"/essay\"><span>Essay</span></a>\n",
      "/schools-brief; <a class=\"ds-navigation-link ds-navigation-link--inverse\" href=\"/schools-brief\"><span>Schools brief</span></a>\n",
      "/the-economist-reads; <a class=\"ds-navigation-link ds-navigation-link--inverse\" href=\"/the-economist-reads\"><span>The Economist reads</span></a>\n",
      "/summer-reads-2022; <a class=\"ds-navigation-link ds-navigation-link--inverse\" href=\"/summer-reads-2022\"><span>Summer reads</span></a>\n",
      "/christmas-specials; <a class=\"ds-navigation-link ds-navigation-link--inverse\" href=\"/christmas-specials\"><span>Christmas Specials</span></a>\n",
      "/newsletters; <a class=\"ds-navigation-link ds-navigation-link--inverse\" href=\"/newsletters\"><span>Newsletters</span></a>\n",
      "/podcasts; <a class=\"ds-navigation-link ds-navigation-link--inverse\" href=\"/podcasts\"><span>Podcasts</span></a>\n",
      "/films; <a class=\"ds-navigation-link ds-navigation-link--inverse\" href=\"/films\"><span>Films</span></a>\n",
      "https://subscriberevents.economist.com; <a class=\"ds-navigation-link ds-navigation-link--inverse\" href=\"https://subscriberevents.economist.com\"><span>Subscriber events</span></a>\n",
      "/get-the-app; <a class=\"ds-navigation-link ds-navigation-link--inverse\" href=\"/get-the-app\"><span>The Economist app</span></a>\n",
      "https://education.economist.com; <a class=\"ds-navigation-link ds-navigation-link--inverse\" href=\"https://education.economist.com\"><span>Online courses</span></a>\n",
      "/api/my-account; <a class=\"ds-navigation-link\" href=\"/api/my-account\"><span>My Economist</span></a>\n",
      "/saved-stories; <a class=\"ds-navigation-link\" href=\"/saved-stories\"><span>Saved stories</span></a>\n",
      "/api/auth/logout; <a class=\"ds-navigation-link\" href=\"/api/auth/logout\"><span>Log out</span></a>\n",
      "/saved-stories; <a class=\"ds-navigation-link\" href=\"/saved-stories\"><span>Saved stories</span></a>\n",
      "/api/my-account; <a class=\"ds-navigation-link\" href=\"/api/my-account\"><span>Account</span></a>\n",
      "/api/auth/logout; <a class=\"ds-navigation-link\" href=\"/api/auth/logout\"><span>Log out</span></a>\n",
      "/leaders/2023/03/23/how-the-eu-should-respond-to-american-subsidies; <a href=\"/leaders/2023/03/23/how-the-eu-should-respond-to-american-subsidies\">How the EU should respond to American subsidies</a>\n",
      "/leaders/2023/03/23/the-trouble-with-emmanuel-macrons-pension-victory; <a href=\"/leaders/2023/03/23/the-trouble-with-emmanuel-macrons-pension-victory\">The trouble with Emmanuel Macron’s pension victory</a>\n",
      "/leaders/2023/03/23/the-machinery-structure-and-output-of-the-british-state-need-reform; <a href=\"/leaders/2023/03/23/the-machinery-structure-and-output-of-the-british-state-need-reform\">The machinery, structure and output of the British state need reform</a>\n",
      "/leaders/2023/03/23/as-video-games-grow-they-are-eating-the-media; <a href=\"/leaders/2023/03/23/as-video-games-grow-they-are-eating-the-media\">As video games grow, they are eating the media</a>\n",
      "/leaders/2023/03/23/the-world-according-to-xi; <a href=\"/leaders/2023/03/23/the-world-according-to-xi\">The world according to Xi</a>\n",
      "/leaders/2023/03/22/central-banks-face-an-excruciating-trade-off; <a href=\"/leaders/2023/03/22/central-banks-face-an-excruciating-trade-off\">Central banks face an excruciating trade-off</a>\n",
      "/leaders/2023/03/16/why-america-is-going-to-look-more-like-texas; <a href=\"/leaders/2023/03/16/why-america-is-going-to-look-more-like-texas\">Why America is going to look more like Texas</a>\n",
      "/leaders/2023/03/16/ron-desantis-emboldens-vladimir-putin; <a href=\"/leaders/2023/03/16/ron-desantis-emboldens-vladimir-putin\">Ron DeSantis emboldens Vladimir Putin</a>\n",
      "/leaders/2023/03/16/the-aukus-pact-is-a-model-for-western-allies; <a href=\"/leaders/2023/03/16/the-aukus-pact-is-a-model-for-western-allies\">The AUKUS pact is a model for Western allies</a>\n",
      "/leaders/2023/03/16/will-bibi-break-israel; <a href=\"/leaders/2023/03/16/will-bibi-break-israel\">Will Bibi break Israel?</a>\n",
      "/leaders/2023/03/16/whats-wrong-with-the-banks; <a href=\"/leaders/2023/03/16/whats-wrong-with-the-banks\">What’s wrong with the banks</a>\n",
      "/leaders/2023/03/15/jeremy-hunts-budget-is-better-at-diagnosis-than-treatment; <a href=\"/leaders/2023/03/15/jeremy-hunts-budget-is-better-at-diagnosis-than-treatment\">Jeremy Hunt’s budget is better at diagnosis than treatment</a>\n",
      "None; <a aria-disabled=\"true\" aria-label=\"Go to the previous page, 1\" class=\"ds-pagination__nav-link\" rel=\"previous\"><span aria-hidden=\"true\">Previous</span></a>\n",
      "?page=2; <a aria-label=\"Go to page 2\" class=\"ds-pagination__item-link\" data-value=\"2\" href=\"?page=2\"><span aria-hidden=\"true\">2</span></a>\n",
      "?page=595; <a aria-label=\"Go to page 595\" class=\"ds-pagination__item-link\" data-value=\"595\" href=\"?page=595\"><span aria-hidden=\"true\">595</span></a>\n",
      "?page=2; <a aria-label=\"Go to the next page, 2\" class=\"ds-pagination__nav-link\" href=\"?page=2\" rel=\"next\"><span aria-hidden=\"true\">Next</span></a>\n",
      "https://www.economist.com/api/auth/subscribe?path=%2FDE%2FECOM-Section%2FHoliday20%2FFooter; <a class=\"ds-navigation-link ds-navigation-link--secondary ds-navigation-link--major ds-navigation-link--inverse\" href=\"https://www.economist.com/api/auth/subscribe?path=%2FDE%2FECOM-Section%2FHoliday20%2FFooter\"><span>Subscribe</span></a>\n",
      "https://www.economist.com/group-subscriptions/; <a class=\"ds-navigation-link ds-navigation-link--secondary ds-navigation-link--major ds-navigation-link--inverse\" href=\"https://www.economist.com/group-subscriptions/\"><span>Group subscriptions</span></a>\n",
      "https://rights.economist.com/; <a class=\"ds-navigation-link ds-navigation-link--secondary ds-navigation-link--major ds-navigation-link--inverse\" href=\"https://rights.economist.com/\"><span>Reuse our content</span></a>\n",
      "https://www.economist.com/frequently-asked-questions; <a class=\"ds-navigation-link ds-navigation-link--secondary ds-navigation-link--major ds-navigation-link--inverse\" href=\"https://www.economist.com/frequently-asked-questions\"><span>The Trust Project</span></a>\n",
      "https://myaccount.economist.com/s/help; <a class=\"ds-navigation-link ds-navigation-link--secondary ds-navigation-link--major ds-navigation-link--inverse\" href=\"https://myaccount.economist.com/s/help\"><span>Help and contact us</span></a>\n",
      "https://www.facebook.com/theeconomist; <a class=\"ds-share-link ds-share-link--inverse\" href=\"https://www.facebook.com/theeconomist\"><svg height=\"32\" viewbox=\"-1 -1 34 34\" width=\"32\"><title>Facebook</title><g fill=\"none\" fill-rule=\"evenodd\"><circle class=\"path-background\" cx=\"16\" cy=\"16\" fill=\"#333\" r=\"16\"></circle><path class=\"path-foreground\" d=\"M17.49 26v-9.123h2.95l.44-3.555h-3.39v-2.27c0-1.03.276-1.731 1.697-1.731H21V6.14A23.34 23.34 0 0 0 18.359 6c-2.614 0-4.403 1.657-4.403 4.7v2.622H11v3.555h2.956V26h3.535z\" fill=\"#FFF\" fill-rule=\"nonzero\"></path></g></svg></a>\n",
      "https://www.instagram.com/theeconomist; <a class=\"ds-share-link ds-share-link--inverse\" href=\"https://www.instagram.com/theeconomist\"><svg height=\"32\" viewbox=\"-1 -1 34 34\" width=\"32\"><title>Instagram</title><defs><path d=\"M0 .006h19.994v19.992H0z\" id=\"a\"></path></defs><g fill=\"none\" fill-rule=\"evenodd\" id=\"share-instagram\"><circle class=\"path-background\" cx=\"16\" cy=\"16\" fill=\"#333\" r=\"16\"></circle><g transform=\"translate(6 6)\"><mask fill=\"#fff\" id=\"b\"><use xlink:href=\"#a\"></use></mask><path class=\"path-foreground\" d=\"M9.997.006c-2.715 0-3.056.012-4.122.06-1.064.049-1.79.218-2.426.465a4.9 4.9 0 0 0-1.771 1.153 4.9 4.9 0 0 0-1.153 1.77C.278 4.092.109 4.818.06 5.882.012 6.948 0 7.288 0 10.003s.012 3.056.06 4.122c.049 1.064.218 1.79.465 2.426a4.9 4.9 0 0 0 1.153 1.771 4.9 4.9 0 0 0 1.77 1.153c.636.247 1.363.416 2.427.465 1.066.048 1.407.06 4.122.06s3.055-.012 4.122-.06c1.064-.049 1.79-.218 2.426-.465a4.9 4.9 0 0 0 1.77-1.153 4.9 4.9 0 0 0 1.154-1.77c.247-.636.416-1.363.465-2.427.048-1.066.06-1.407.06-4.122s-.012-3.055-.06-4.122c-.049-1.064-.218-1.79-.465-2.426a4.9 4.9 0 0 0-1.153-1.77A4.9 4.9 0 0 0 16.546.53c-.637-.247-1.363-.416-2.427-.465-1.067-.048-1.407-.06-4.122-.06zm0 1.802c2.67 0 2.985.01 4.04.058.974.044 1.503.207 1.856.344.466.181.8.398 1.15.748.349.35.566.683.747 1.15.137.352.3.88.344 1.856.048 1.054.058 1.37.058 4.04 0 2.668-.01 2.985-.058 4.039-.044.974-.207 1.504-.344 1.856-.181.467-.398.8-.748 1.15-.35.35-.683.566-1.15.747-.352.137-.88.3-1.856.344-1.054.049-1.37.059-4.04.059-2.669 0-2.985-.01-4.039-.059-.974-.044-1.504-.207-1.856-.344a3.097 3.097 0 0 1-1.15-.748 3.097 3.097 0 0 1-.747-1.149c-.137-.352-.3-.882-.344-1.856-.049-1.054-.059-1.37-.059-4.04s.01-2.985.059-4.04c.044-.974.207-1.503.344-1.856.181-.466.398-.8.748-1.15.35-.349.682-.566 1.149-.747.352-.137.882-.3 1.856-.344 1.054-.048 1.37-.058 4.04-.058z\" fill=\"#FFF\" mask=\"url(#b)\"></path></g><path class=\"path-foreground\" d=\"M15.997 19.335a3.332 3.332 0 1 1 0-6.664 3.332 3.332 0 0 1 0 6.664zm0-8.465a5.133 5.133 0 1 0 0 10.267 5.133 5.133 0 0 0 0-10.267zM22.533 10.667a1.2 1.2 0 1 1-2.4 0 1.2 1.2 0 0 1 2.4 0\" fill=\"#FFF\"></path></g></svg></a>\n",
      "https://www.twitter.com/theeconomist; <a class=\"ds-share-link ds-share-link--inverse\" href=\"https://www.twitter.com/theeconomist\"><svg height=\"32\" viewbox=\"-1 -1 34 34\" width=\"32\"><title>Twitter</title><g fill=\"none\" fill-rule=\"evenodd\"><circle class=\"path-background\" cx=\"16\" cy=\"16\" fill=\"#333\" r=\"16\"></circle><path class=\"path-foreground\" d=\"M12.29 24c7.547 0 11.675-5.771 11.675-10.776 0-.164 0-.327-.012-.49A8.024 8.024 0 0 0 26 10.774a8.73 8.73 0 0 1-2.357.596c.857-.474 1.498-1.218 1.804-2.095a8.65 8.65 0 0 1-2.605.919c-1.272-1.248-3.293-1.554-4.93-.745-1.637.808-2.483 2.53-2.063 4.2-3.3-.153-6.373-1.592-8.457-3.958-1.09 1.73-.533 3.945 1.27 5.056a4.335 4.335 0 0 1-1.862-.474v.048c0 1.803 1.377 3.356 3.292 3.713a4.429 4.429 0 0 1-1.853.065c.538 1.542 2.078 2.6 3.834 2.63-1.453 1.054-3.248 1.626-5.096 1.624-.327 0-.653-.018-.977-.054a12.334 12.334 0 0 0 6.29 1.698\" fill=\"#FFF\"></path></g></svg></a>\n",
      "https://www.linkedin.com/company/the-economist; <a class=\"ds-share-link ds-share-link--inverse\" href=\"https://www.linkedin.com/company/the-economist\"><svg height=\"32\" viewbox=\"-1 -1 34 34\" width=\"32\"><title>LinkedIn</title><g fill=\"none\" fill-rule=\"evenodd\"><circle class=\"path-background\" cx=\"16\" cy=\"16\" fill=\"#333\" r=\"16\"></circle><path class=\"path-foreground\" d=\"M25 24h-3.728v-5.847c0-1.395-.025-3.188-1.938-3.188-1.942 0-2.239 1.519-2.239 3.087V24h-3.728V11.977h3.579v1.642h.05c.497-.945 1.714-1.941 3.53-1.941 3.777 0 4.474 2.49 4.474 5.727V24zM9.163 10.333A2.165 2.165 0 0 1 7 8.166C7 6.971 7.968 6 9.163 6c1.193 0 2.162.97 2.162 2.166s-.969 2.167-2.162 2.167zM7.297 24h3.73V11.977h-3.73V24z\" fill=\"#FFF\"></path></g></svg></a>\n",
      "https://www.youtube.com/user/economistmagazine; <a class=\"ds-share-link ds-share-link--inverse\" href=\"https://www.youtube.com/user/economistmagazine\"><svg height=\"32\" viewbox=\"-1 -1 34 34\" width=\"32\"><title>YouTube</title><g fill=\"none\" fill-rule=\"evenodd\" id=\"share-youtube\"><circle class=\"path-background\" cx=\"16\" cy=\"16\" fill=\"#333\" r=\"16\"></circle><path class=\"path-foreground\" d=\"M25.582 11.186C26 12.746 26 16 26 16s0 3.254-.418 4.814a2.504 2.504 0 0 1-1.768 1.768C22.254 23 16 23 16 23s-6.254 0-7.814-.418a2.504 2.504 0 0 1-1.768-1.768C6 19.254 6 16 6 16s0-3.254.418-4.814c.23-.86.908-1.538 1.768-1.768C9.746 9 16 9 16 9s6.254 0 7.814.418c.86.23 1.538.908 1.768 1.768zm-11.515 7.772l5.196-3-5.196-3v6z\" fill=\"#FFF\"></path></g></svg></a>\n",
      "https://www.economist.com/rss; <a class=\"ds-share-link ds-share-link--inverse\" href=\"https://www.economist.com/rss\"><svg height=\"32\" viewbox=\"-1 -1 34 34\" width=\"32\"><title>RSS</title><g fill=\"none\" fill-rule=\"evenodd\" id=\"share-rss\"><circle class=\"path-background\" cx=\"16\" cy=\"16\" fill=\"#333\" r=\"16\"></circle><circle class=\"path-foreground\" cx=\"11.453\" cy=\"21.052\" fill=\"#FFF\" r=\"2.453\"></circle><path class=\"path-foreground\" d=\"M9 6v3.184c7.909 0 14.321 6.412 14.321 14.321h3.184C26.505 13.841 18.664 6 9 6zm0 6.367v3.184c4.387 0 7.954 3.566 7.954 7.954h3.183c0-6.154-4.983-11.137-11.137-11.137z\" fill=\"#FFF\" fill-rule=\"nonzero\"></path></g></svg></a>\n",
      "https://www.economistgroup.com/about-us; <a class=\"ds-navigation-link ds-navigation-link--secondary ds-navigation-link--inverse\" href=\"https://www.economistgroup.com/about-us\"><span>About</span></a>\n",
      "https://impact.economist.com/; <a class=\"ds-navigation-link ds-navigation-link--secondary ds-navigation-link--inverse\" href=\"https://impact.economist.com/\"><span>Advertise</span></a>\n",
      "https://www.economistgroup.com/group-news; <a class=\"ds-navigation-link ds-navigation-link--secondary ds-navigation-link--inverse\" href=\"https://www.economistgroup.com/group-news\"><span>Press centre</span></a>\n",
      "https://www.economistgroup.com/; <a class=\"ds-navigation-link ds-navigation-link--secondary ds-navigation-link--inverse\" href=\"https://www.economistgroup.com/\"><span>The Economist Group</span></a>\n",
      "https://www.eiu.com/n/; <a class=\"ds-navigation-link ds-navigation-link--secondary ds-navigation-link--inverse\" href=\"https://www.eiu.com/n/\"><span>Economist Intelligence</span></a>\n",
      "https://impact.economist.com/; <a class=\"ds-navigation-link ds-navigation-link--secondary ds-navigation-link--inverse\" href=\"https://impact.economist.com/\"><span>Economist Impact</span></a>\n",
      "https://events.economist.com/?RefID=e.com-home&utm_source=e.com&utm_medium=website&utm_campaign=group-aff&utm_content=footer-link; <a class=\"ds-navigation-link ds-navigation-link--secondary ds-navigation-link--inverse\" href=\"https://events.economist.com/?RefID=e.com-home&amp;utm_source=e.com&amp;utm_medium=website&amp;utm_campaign=group-aff&amp;utm_content=footer-link\"><span>Economist Events</span></a>\n",
      "https://www.economistgroup.com/careers; <a class=\"ds-navigation-link ds-navigation-link--secondary ds-navigation-link--inverse\" href=\"https://www.economistgroup.com/careers\"><span>Working Here</span></a>\n",
      "https://education.economist.com; <a class=\"ds-navigation-link ds-navigation-link--secondary ds-navigation-link--inverse\" href=\"https://education.economist.com\"><span>Economist Education Courses</span></a>\n",
      "https://whichmba.economist.com/; <a class=\"ds-navigation-link ds-navigation-link--secondary ds-navigation-link--inverse\" href=\"https://whichmba.economist.com/\"><span>Which MBA?</span></a>\n",
      "http://jobs.economist.com/; <a class=\"ds-navigation-link ds-navigation-link--secondary ds-navigation-link--inverse\" href=\"http://jobs.economist.com/\"><span>Executive Jobs</span></a>\n",
      "https://execed.economist.com; <a class=\"ds-navigation-link ds-navigation-link--secondary ds-navigation-link--inverse\" href=\"https://execed.economist.com\"><span>Executive Education Navigator</span></a>\n",
      "https://www.economistgroup.com/terms-of-use; <a class=\"ds-navigation-link ds-navigation-link--secondary ds-navigation-link--minor ds-navigation-link--inverse\" href=\"https://www.economistgroup.com/terms-of-use\"><span>Terms of Use</span></a>\n",
      "https://www.economistgroup.com/privacy-policy; <a class=\"ds-navigation-link ds-navigation-link--secondary ds-navigation-link--minor ds-navigation-link--inverse\" href=\"https://www.economistgroup.com/privacy-policy\"><span>Privacy</span></a>\n",
      "https://www.economistgroup.com/cookies-policy; <a class=\"ds-navigation-link ds-navigation-link--secondary ds-navigation-link--minor ds-navigation-link--inverse\" href=\"https://www.economistgroup.com/cookies-policy\"><span>Cookie Policy</span></a>\n",
      "#; <a class=\"js-cmp-manage-cookies ds-navigation-link ds-navigation-link--secondary ds-navigation-link--minor ds-navigation-link--inverse\" href=\"#\"><span>Manage Cookies</span></a>\n",
      "https://www.economistgroup.com/accessibility-policy; <a class=\"ds-navigation-link ds-navigation-link--secondary ds-navigation-link--minor ds-navigation-link--inverse\" href=\"https://www.economistgroup.com/accessibility-policy\"><span>Accessibility</span></a>\n",
      "https://www.economistgroup.com/esg/modern-slavery-act-statement; <a class=\"ds-navigation-link ds-navigation-link--secondary ds-navigation-link--minor ds-navigation-link--inverse\" href=\"https://www.economistgroup.com/esg/modern-slavery-act-statement\"><span>Modern Slavery Statement</span></a>\n",
      "https://www.economist.com/sitemap; <a class=\"ds-navigation-link ds-navigation-link--secondary ds-navigation-link--minor ds-navigation-link--inverse\" href=\"https://www.economist.com/sitemap\"><span>Sitemap</span></a>\n",
      "https://www.economist.com/privacyportal; <a class=\"ds-navigation-link ds-navigation-link--secondary ds-navigation-link--minor ds-navigation-link--inverse\" href=\"https://www.economist.com/privacyportal\"><span>California: Do Not Sell My Personal Information</span></a>\n"
     ]
    }
   ],
   "source": [
    "for a in html_tree.find_all('a')[1:200]:\n",
    "    print(a.get('href'), a, sep = '; ')\n"
   ]
  },
  {
   "cell_type": "markdown",
   "metadata": {},
   "source": [
    "### Detailed specification of the a-tag\n",
    "\n",
    "* `find_all()` : the second argument is the dictionary that specifies an additional condition"
   ]
  },
  {
   "cell_type": "markdown",
   "metadata": {},
   "source": [
    "__Visual check__:\n",
    "The links that we are looking for (and only they) contain the specific structure started with _/leaders/20_ . We introduce the corresponding search"
   ]
  },
  {
   "cell_type": "code",
   "execution_count": 10,
   "metadata": {},
   "outputs": [
    {
     "data": {
      "text/plain": [
       "94"
      ]
     },
     "execution_count": 10,
     "metadata": {},
     "output_type": "execute_result"
    }
   ],
   "source": [
    "articles = html_tree.find_all('a', {'class' : 'ds-navigation-link'})\n",
    "len(articles)"
   ]
  },
  {
   "cell_type": "markdown",
   "metadata": {},
   "source": [
    "> the `class` attribute is treated as a set; you match against individual elements listed in the attribute. Then, e.g., `<a class=\"ds-navigation-link ds-navigation-link--inverse\">` matches the above search pattern. This follows the HTML standard."
   ]
  },
  {
   "cell_type": "markdown",
   "metadata": {},
   "source": [
    "You can access the dictionary of attributes directly as `.attrs`:"
   ]
  },
  {
   "cell_type": "code",
   "execution_count": 11,
   "metadata": {},
   "outputs": [
    {
     "data": {
      "text/plain": [
       "{'class': ['ds-navigation-link', 'ds-navigation-link--inverse'],\n",
       " 'href': '/climate-change'}"
      ]
     },
     "execution_count": 11,
     "metadata": {},
     "output_type": "execute_result"
    }
   ],
   "source": [
    "articles[10].attrs"
   ]
  },
  {
   "cell_type": "code",
   "execution_count": 16,
   "metadata": {},
   "outputs": [
    {
     "data": {
      "text/plain": [
       "<a class=\"ds-navigation-link ds-navigation-link--inverse\" href=\"/1843\"><span>1843 magazine</span></a>"
      ]
     },
     "execution_count": 16,
     "metadata": {},
     "output_type": "execute_result"
    }
   ],
   "source": [
    "articles[10]"
   ]
  },
  {
   "cell_type": "code",
   "execution_count": 17,
   "metadata": {},
   "outputs": [
    {
     "data": {
      "text/plain": [
       "('/1843', '1843 magazine')"
      ]
     },
     "execution_count": 17,
     "metadata": {},
     "output_type": "execute_result"
    }
   ],
   "source": [
    "articles[10].get('href'), articles[10].text"
   ]
  },
  {
   "cell_type": "markdown",
   "metadata": {},
   "source": [
    "The object obtained after the search also has the bs4 structure. Therefore, we can continue to search for the objects we need already in it."
   ]
  },
  {
   "cell_type": "code",
   "execution_count": 42,
   "metadata": {},
   "outputs": [
    {
     "data": {
      "text/plain": [
       "bs4.element.Tag"
      ]
     },
     "execution_count": 42,
     "metadata": {},
     "output_type": "execute_result"
    }
   ],
   "source": [
    "type(articles[0])"
   ]
  },
  {
   "cell_type": "markdown",
   "metadata": {},
   "source": [
    "Note that there are at least two methods for searching: `find` and `find_all`. If several elements on the page have the specified address, then the `find` method will return only the very first one. To find all elements with this address, you need to use the `find_all` method. A list will be displayed at the exit.\n",
    "\n",
    "In addition to content, tags often have attributes. For example, an article title has an `href` attribute. The `<span>` tag is an inline container used to mark up a part of a text, but never mind. "
   ]
  },
  {
   "cell_type": "code",
   "execution_count": 12,
   "metadata": {},
   "outputs": [
    {
     "data": {
      "text/plain": [
       "<a class=\"weekly-edition-link ds-navigation-link\" href=\"/weeklyedition\"><span>Weekly edition</span></a>"
      ]
     },
     "execution_count": 12,
     "metadata": {},
     "output_type": "execute_result"
    }
   ],
   "source": [
    "articles[0]"
   ]
  },
  {
   "cell_type": "code",
   "execution_count": 13,
   "metadata": {},
   "outputs": [
    {
     "data": {
      "text/plain": [
       "59"
      ]
     },
     "execution_count": 13,
     "metadata": {},
     "output_type": "execute_result"
    }
   ],
   "source": [
    "articles_extra = html_tree.find_all('a', {'class' : 'ds-navigation-link ds-navigation-link--inverse'})\n",
    "len(articles_extra)"
   ]
  },
  {
   "cell_type": "markdown",
   "metadata": {},
   "source": [
    "You also can get this attribute:"
   ]
  },
  {
   "cell_type": "markdown",
   "metadata": {},
   "source": [
    "And by these attributes, you can search for parts of the page that interest us."
   ]
  },
  {
   "cell_type": "code",
   "execution_count": 14,
   "metadata": {},
   "outputs": [
    {
     "data": {
      "text/plain": [
       "[<span>Weekly edition</span>]"
      ]
     },
     "execution_count": 14,
     "metadata": {},
     "output_type": "execute_result"
    }
   ],
   "source": [
    "articles[0].find_all('span')"
   ]
  },
  {
   "cell_type": "code",
   "execution_count": 15,
   "metadata": {},
   "outputs": [
    {
     "name": "stdout",
     "output_type": "stream",
     "text": [
      "<a aria-expanded=\"false\" class=\"ds-menu-disclosure\" data-menu-is-open=\"false\" data-test-id=\"Menu link\" href=\"#\" id=\"menu-button\" type=\"menu-nav\" url=\"#sections\"><svg viewbox=\"0 0 24 24\" xmlns=\"http://www.w3.org/2000/svg\"><g fill=\"none\" fill-rule=\"evenodd\" id=\"icon-menu-disclosure\"><path d=\"M0 0h24v24H0z\"></path><path class=\"path-foreground\" d=\"M3 18h18v-2H3v2zm0-5h18v-2H3v2zm0-7v2h18V6H3z\" fill=\"#0D0D0D\" fill-rule=\"nonzero\"></path></g></svg>Menu</a> \n",
      "\n",
      "<path d=\"M0 0h24v24H0z\"></path>\n",
      "<path class=\"path-foreground\" d=\"M3 18h18v-2H3v2zm0-5h18v-2H3v2zm0-7v2h18V6H3z\" fill=\"#0D0D0D\" fill-rule=\"nonzero\"></path>\n"
     ]
    }
   ],
   "source": [
    "articles_new = html_tree.find_all('a', {'class' : 'ds-menu-disclosure'})\n",
    "#articles_new[0].text\n",
    "paths = articles_new[0].find_all('path')\n",
    "print(articles_new[0], '\\n')\n",
    "for path in paths:\n",
    "    print(path)"
   ]
  },
  {
   "cell_type": "markdown",
   "metadata": {},
   "source": [
    "That's it."
   ]
  },
  {
   "cell_type": "markdown",
   "metadata": {},
   "source": [
    "## Task: Extract links to articles from this page\n",
    "\n",
    "* Can we use the detailed search to solve the problem?\n",
    "* At the moment of writing these notes, the answer is negative. The corresponding lines do not contain a specific class. Instead, they contain the specific pattern of the link structure"
   ]
  },
  {
   "cell_type": "code",
   "execution_count": 18,
   "metadata": {},
   "outputs": [
    {
     "name": "stdout",
     "output_type": "stream",
     "text": [
      "Why XL Bully dogs should be banned everywhere; /leaders/2024/03/25/why-xl-bully-dogs-should-be-banned-everywhere\n",
      "The hidden costs of Biden’s steel protectionism; /leaders/2024/03/21/the-hidden-costs-of-bidens-steel-protectionism\n",
      "At a moment of military might, Israel looks deeply vulnerable; /leaders/2024/03/21/at-a-moment-of-military-might-israel-looks-deeply-vulnerable\n",
      "Britain is the best place in Europe to be an immigrant; /leaders/2024/03/21/britain-is-the-best-place-in-europe-to-be-an-immigrant\n",
      "America’s Supreme Court should reject the challenge to abortion drugs; /leaders/2024/03/20/americas-supreme-court-should-reject-the-challenge-to-abortion-drugs\n",
      "Why Japan’s economy remains a warning to others; /leaders/2024/03/19/why-japans-economy-remains-a-warning-to-others\n",
      "Oil’s endgame could be highly disruptive; /leaders/2024/03/14/oils-endgame-could-be-highly-disruptive\n",
      "The Gulf’s scramble for Africa is reshaping the continent; /leaders/2024/03/14/the-gulfs-scramble-for-africa-is-reshaping-the-continent\n",
      "Making sense of the gulf between young men and women; /leaders/2024/03/14/making-sense-of-the-gulf-between-young-men-and-women\n",
      "Rogue Russia threatens the world, not just Ukraine; /leaders/2024/03/14/rogue-russia-threatens-the-world-not-just-ukraine\n",
      "America’s extraordinary economy keeps defying the pessimists; /leaders/2024/03/14/americas-extraordinary-economy-keeps-defying-the-pessimists\n",
      "Time for TikTok to cut its ties to China; /leaders/2024/03/12/time-for-tiktok-to-cut-its-ties-to-china\n"
     ]
    }
   ],
   "source": [
    "links = html_tree.find_all('a')\n",
    "for link in links:\n",
    "    link_href = link.get('href')\n",
    "    if link_href is not None and link_href.find('leaders/') >= 0:\n",
    "        print(link.text, link.get('href'), sep = '; ')\n"
   ]
  },
  {
   "cell_type": "markdown",
   "metadata": {},
   "source": [
    "__Minor comment__:\n",
    "`link.get('href')` returned `None` in my experiment. That is why an additional check is performed within the `if`-statement in the above code"
   ]
  },
  {
   "cell_type": "markdown",
   "metadata": {},
   "source": [
    "## Example: code collecting articles\n",
    "\n",
    "Please note that all articles on the site are on different pages. If you click them, you will notice that the `page` attribute will change in the url link. So, if we want to collect all the articles in this section about leaders, we need to create a bunch of links with different `page` inside the loop. When you download data from more complex sites, the link often has a huge number of attributes that govern the search results.\n",
    "\n",
    "Let's write the code that collects articles as a function. At the entrance, it will receive the number of the page to be downloaded. "
   ]
  },
  {
   "cell_type": "code",
   "execution_count": 23,
   "metadata": {},
   "outputs": [],
   "source": [
    "def get_page(p: int):\n",
    "    # link \n",
    "    url = 'https://www.economist.com/leaders/?page={}'.format(p)\n",
    "    \n",
    "    # make a request to the server\n",
    "    response = requests.get(url)\n",
    "    \n",
    "    # build a tree\n",
    "    tree = BeautifulSoup(response.content, 'html.parser')\n",
    "    \n",
    "    # find everything we wanted\n",
    "    articles = tree.find_all('a')\n",
    "    #articles = tree.find_all('a', {'class' : 'ds-navigation-link'})\n",
    "    \n",
    "    all_headers = []\n",
    "    \n",
    "    for article in articles:\n",
    "        #all_headers.append({'title': article.text, 'href': article.get('href')})\n",
    "        article_href = article.get('href')\n",
    "        if article_href is not None and article_href.find('leaders/') >= 0:\n",
    "            #print(article.text, article.get('href'), sep = '; ')\n",
    "            all_headers.append({'title': article.text, 'href': article_href})\n",
    "                     \n",
    "    return all_headers"
   ]
  },
  {
   "cell_type": "markdown",
   "metadata": {},
   "source": [
    "Loop over all pages\n"
   ]
  },
  {
   "cell_type": "code",
   "execution_count": 25,
   "metadata": {},
   "outputs": [
    {
     "name": "stdout",
     "output_type": "stream",
     "text": [
      "[{'title': 'How the EU should respond to American subsidies', 'href': '/leaders/2023/03/23/how-the-eu-should-respond-to-american-subsidies'}, {'title': 'The trouble with Emmanuel Macron’s pension victory', 'href': '/leaders/2023/03/23/the-trouble-with-emmanuel-macrons-pension-victory'}, {'title': 'The machinery, structure and output of the British state need reform', 'href': '/leaders/2023/03/23/the-machinery-structure-and-output-of-the-british-state-need-reform'}, {'title': 'As video games grow, they are eating the media', 'href': '/leaders/2023/03/23/as-video-games-grow-they-are-eating-the-media'}, {'title': 'The world according to Xi', 'href': '/leaders/2023/03/23/the-world-according-to-xi'}]\n"
     ]
    }
   ],
   "source": [
    "all_headers = get_page(1)\n",
    "print(all_headers[:5])"
   ]
  },
  {
   "cell_type": "markdown",
   "metadata": {},
   "source": [
    "## Progress bar\n",
    "\n",
    "* Hours of hard work would go into vain if our program becomes unresponsive during execution. Often we come across large datasets or longer loops that takes a long while to complete such as in Data Scraping.\n",
    "\n",
    "* While these commands are executing and massive loops are being processed behind the screen, it seems like an eternity of waiting time till the whole process is completed. Thus, Creating a Progress Bar would solve this problem.\n",
    "\n",
    "* Progress Bars would help us to look at the progress of our execution and to manage our anxiety levels.\n",
    "\n",
    "`tqdm` is a library in Python which is used for creating Progress Meters or Progress Bars. `tqdm` got its name from the Arabic name taqaddum which means ‘progress’.\n",
    "\n",
    "Implementing `tqdm` can be done effortlessly in our loops, functions or even Pandas. Progress bars are pretty useful in Python because:\n",
    "\n",
    "1. One can see if the Kernal is still working\n",
    "\n",
    "2. Progress Bars are visually appealing to the eyes\n",
    "\n",
    "3. It gives Code Execution Time and Estimated Time for the code to complete which would help while working on huge datasets\n"
   ]
  },
  {
   "cell_type": "markdown",
   "metadata": {},
   "source": [
    "### Installation (if required)\n",
    "\n",
    "`!pip install tqdm`\n",
    "\n",
    "`!pip install time`\n",
    "\n",
    "```python\n",
    "#with conda within the jupyter cell\n",
    "!conda install -c conda-forge tqdm\n",
    "!conda install -c conda-forge time\n",
    "```\n",
    "\n",
    "### Import the Libraries \n",
    "\n",
    "````python\n",
    "from tqdm import tqdm\n",
    "import time\n",
    "````\n",
    "\n",
    "### Using tqdm() \n",
    "\n",
    "Now we will use the function tqdm() on a simple program with a _for loop_\n",
    "\n",
    "````python\n",
    "for i in tqdm(range(20)):\n",
    "    time.sleep(0.5)\n",
    "````\n",
    "\n",
    "Here i is the variable that takes a value of the number 0 to 19 during each iteration. During each iteration, the system will sleep for 0.5 seconds before moving to the next iteration.\n",
    "\n",
    "The complete code would look like this:\n",
    "````python\n",
    "from tqdm import tqdm\n",
    "import time\n",
    "for i in tqdm(range(20)):\n",
    "    time.sleep(0.5)\n",
    "````\n",
    "\n",
    "### Using tqdm_notebook( )\n",
    "\n",
    "Unlike the `tqdm(`), `tqdm_notebook()` gives a coloured version of progress bars. It has 3 sets of colour by default.\n",
    "\n",
    "A moving __Blue Bar__ shows for a process undergoing, a stable __Green Bar__ shows that the process is completed, A __Red Bar__ shows that process is being stopped. Interestingly, like the tqdm(), tqdm_notebook() too has a straightforward way of implementation.\n",
    "\n",
    "````python\n",
    "from tqdm.notebook import tqdm_notebook\n",
    "import time\n",
    "for i in tqdm_notebook(range(10)):\n",
    "    time.sleep(0.5)\n",
    "````\n"
   ]
  },
  {
   "cell_type": "code",
   "execution_count": 19,
   "metadata": {},
   "outputs": [
    {
     "name": "stderr",
     "output_type": "stream",
     "text": [
      "100%|██████████████████████████████████████████████████████████████████████████████████| 20/20 [00:10<00:00,  1.96it/s]\n"
     ]
    }
   ],
   "source": [
    "from tqdm import tqdm\n",
    "import time\n",
    "for i in tqdm(range(20)):\n",
    "    time.sleep(0.5)\n"
   ]
  },
  {
   "cell_type": "code",
   "execution_count": 20,
   "metadata": {},
   "outputs": [
    {
     "data": {
      "application/vnd.jupyter.widget-view+json": {
       "model_id": "e6c39bd24c344c76b1e341b9ad37d349",
       "version_major": 2,
       "version_minor": 0
      },
      "text/plain": [
       "  0%|          | 0/20 [00:00<?, ?it/s]"
      ]
     },
     "metadata": {},
     "output_type": "display_data"
    }
   ],
   "source": [
    "from tqdm.notebook import tqdm_notebook\n",
    "import time\n",
    "for i in tqdm_notebook(range(20)):\n",
    "    time.sleep(0.5)\n"
   ]
  },
  {
   "cell_type": "markdown",
   "metadata": {},
   "source": [
    "__TASK__\n",
    "\n",
    "Find the links gathered within the html-code split into several pages\n",
    "\n",
    "Problem: How can we select the links\n",
    "\n",
    "The solution is prepared above. We select the links based on its structure in `get_page()` function\n",
    "\n",
    "My code uses the progress bar from __tqdm.notebook__ library. You may use __tqdm__ instead"
   ]
  },
  {
   "cell_type": "code",
   "execution_count": 21,
   "metadata": {},
   "outputs": [],
   "source": [
    "from tqdm import tqdm"
   ]
  },
  {
   "cell_type": "code",
   "execution_count": 24,
   "metadata": {},
   "outputs": [
    {
     "data": {
      "application/vnd.jupyter.widget-view+json": {
       "model_id": "c9e8cf86061d49ac95f2ecbe3de7de33",
       "version_major": 2,
       "version_minor": 0
      },
      "text/plain": [
       "  0%|          | 0/9 [00:00<?, ?it/s]"
      ]
     },
     "metadata": {},
     "output_type": "display_data"
    }
   ],
   "source": [
    "from tqdm.notebook import tqdm_notebook\n",
    "info = []\n",
    "\n",
    "for page in tqdm_notebook(range(1, 10)):\n",
    "    info.extend(get_page(page))"
   ]
  },
  {
   "cell_type": "code",
   "execution_count": 25,
   "metadata": {},
   "outputs": [
    {
     "name": "stdout",
     "output_type": "stream",
     "text": [
      "Why XL Bully dogs should be banned everywhere /leaders/2024/03/25/why-xl-bully-dogs-should-be-banned-everywhere\n",
      "The hidden costs of Biden’s steel protectionism /leaders/2024/03/21/the-hidden-costs-of-bidens-steel-protectionism\n",
      "At a moment of military might, Israel looks deeply vulnerable /leaders/2024/03/21/at-a-moment-of-military-might-israel-looks-deeply-vulnerable\n",
      "Britain is the best place in Europe to be an immigrant /leaders/2024/03/21/britain-is-the-best-place-in-europe-to-be-an-immigrant\n",
      "America’s Supreme Court should reject the challenge to abortion drugs /leaders/2024/03/20/americas-supreme-court-should-reject-the-challenge-to-abortion-drugs\n",
      "Why Japan’s economy remains a warning to others /leaders/2024/03/19/why-japans-economy-remains-a-warning-to-others\n",
      "Oil’s endgame could be highly disruptive /leaders/2024/03/14/oils-endgame-could-be-highly-disruptive\n",
      "The Gulf’s scramble for Africa is reshaping the continent /leaders/2024/03/14/the-gulfs-scramble-for-africa-is-reshaping-the-continent\n",
      "Making sense of the gulf between young men and women /leaders/2024/03/14/making-sense-of-the-gulf-between-young-men-and-women\n",
      "Rogue Russia threatens the world, not just Ukraine /leaders/2024/03/14/rogue-russia-threatens-the-world-not-just-ukraine\n"
     ]
    }
   ],
   "source": [
    "for line in info[:10]:\n",
    "    print(line['title'], line['href'])"
   ]
  },
  {
   "cell_type": "markdown",
   "metadata": {},
   "source": [
    "## Transformation to a table with _pandas_"
   ]
  },
  {
   "cell_type": "code",
   "execution_count": 26,
   "metadata": {},
   "outputs": [
    {
     "data": {
      "text/html": [
       "<div>\n",
       "<style scoped>\n",
       "    .dataframe tbody tr th:only-of-type {\n",
       "        vertical-align: middle;\n",
       "    }\n",
       "\n",
       "    .dataframe tbody tr th {\n",
       "        vertical-align: top;\n",
       "    }\n",
       "\n",
       "    .dataframe thead th {\n",
       "        text-align: right;\n",
       "    }\n",
       "</style>\n",
       "<table border=\"1\" class=\"dataframe\">\n",
       "  <thead>\n",
       "    <tr style=\"text-align: right;\">\n",
       "      <th></th>\n",
       "      <th>title</th>\n",
       "      <th>href</th>\n",
       "    </tr>\n",
       "  </thead>\n",
       "  <tbody>\n",
       "    <tr>\n",
       "      <th>0</th>\n",
       "      <td>Why XL Bully dogs should be banned everywhere</td>\n",
       "      <td>/leaders/2024/03/25/why-xl-bully-dogs-should-b...</td>\n",
       "    </tr>\n",
       "    <tr>\n",
       "      <th>1</th>\n",
       "      <td>The hidden costs of Biden’s steel protectionism</td>\n",
       "      <td>/leaders/2024/03/21/the-hidden-costs-of-bidens...</td>\n",
       "    </tr>\n",
       "    <tr>\n",
       "      <th>2</th>\n",
       "      <td>At a moment of military might, Israel looks de...</td>\n",
       "      <td>/leaders/2024/03/21/at-a-moment-of-military-mi...</td>\n",
       "    </tr>\n",
       "    <tr>\n",
       "      <th>3</th>\n",
       "      <td>Britain is the best place in Europe to be an i...</td>\n",
       "      <td>/leaders/2024/03/21/britain-is-the-best-place-...</td>\n",
       "    </tr>\n",
       "    <tr>\n",
       "      <th>4</th>\n",
       "      <td>America’s Supreme Court should reject the chal...</td>\n",
       "      <td>/leaders/2024/03/20/americas-supreme-court-sho...</td>\n",
       "    </tr>\n",
       "  </tbody>\n",
       "</table>\n",
       "</div>"
      ],
      "text/plain": [
       "                                               title  \\\n",
       "0      Why XL Bully dogs should be banned everywhere   \n",
       "1    The hidden costs of Biden’s steel protectionism   \n",
       "2  At a moment of military might, Israel looks de...   \n",
       "3  Britain is the best place in Europe to be an i...   \n",
       "4  America’s Supreme Court should reject the chal...   \n",
       "\n",
       "                                                href  \n",
       "0  /leaders/2024/03/25/why-xl-bully-dogs-should-b...  \n",
       "1  /leaders/2024/03/21/the-hidden-costs-of-bidens...  \n",
       "2  /leaders/2024/03/21/at-a-moment-of-military-mi...  \n",
       "3  /leaders/2024/03/21/britain-is-the-best-place-...  \n",
       "4  /leaders/2024/03/20/americas-supreme-court-sho...  "
      ]
     },
     "execution_count": 26,
     "metadata": {},
     "output_type": "execute_result"
    }
   ],
   "source": [
    "import pandas as pd\n",
    "\n",
    "df = pd.DataFrame(info)\n",
    "df.head()"
   ]
  },
  {
   "cell_type": "markdown",
   "metadata": {},
   "source": [
    "By the way, if you follow the link to the article itself, there will be a lot of additional information about it. For instance, you can go through all the links and download all texts from them."
   ]
  },
  {
   "cell_type": "markdown",
   "metadata": {},
   "source": [
    "# 2. What if the server is mad at you <a name='mad'></a>\n",
    "\n",
    "* You decided to collect some data for yourself\n",
    "* The server is not happy with the automatic request attack\n",
    "* Error 403, 404, 504, $ \\ldots $\n",
    "* Captcha, registration requirements\n",
    "* Messages that suspicious traffic has been detected from your device\n",
    "\n",
    "<center>\n",
    "<img src=\"https://cdn5.vectorstock.com/i/1000x1000/39/89/kawaii-cute-angry-computer-technology-vector-16553989.jpg\" width=\"250\"> "
   ]
  },
  {
   "cell_type": "markdown",
   "metadata": {},
   "source": [
    "## а) be patient \n",
    "\n",
    "Too frequent requests annoy the server. Put time delays between them."
   ]
  },
  {
   "cell_type": "code",
   "execution_count": null,
   "metadata": {},
   "outputs": [],
   "source": [
    "import time\n",
    "time.sleep(3) # the pause between requests "
   ]
  },
  {
   "cell_type": "markdown",
   "metadata": {},
   "source": [
    "## b) be like a human\n",
    "\n",
    "\n",
    "A normal person's request through a browser looks like this:\n",
    "\n",
    "<center>\n",
    "<img src=\"https://raw.githubusercontent.com/hse-econ-data-science/eds_spring_2020/master/sem05_parsing/image/browser_get.png\" width=\"600\"> \n",
    "    \n",
    "The request from python looks like this: \n",
    "\n",
    "<center>\n",
    "<img src=\"https://raw.githubusercontent.com/hse-econ-data-science/eds_spring_2020/master/sem05_parsing/image/python_get.jpg\" width=\"250\"> \n",
    " \n",
    "Fortunately, no one forbids us to pretend to be human and show off the server by generating a fake user agent. There are many libraries that cope with this task, for example, <a href = \"https://pypi.org/project/fake-useragent/\">fake-useragent</a>. When a method is called from various pieces, a random combination of the operating system will be generated, specifications and browser versions that can be passed to the request:"
   ]
  },
  {
   "cell_type": "code",
   "execution_count": 133,
   "metadata": {},
   "outputs": [
    {
     "name": "stdout",
     "output_type": "stream",
     "text": [
      "Requirement already satisfied: fake-useragent in c:\\users\\user\\anaconda3\\lib\\site-packages (1.1.1)\n",
      "Requirement already satisfied: importlib-resources>=5.0 in c:\\users\\user\\anaconda3\\lib\\site-packages (from fake-useragent) (5.12.0)\n",
      "Requirement already satisfied: zipp>=3.1.0 in c:\\users\\user\\anaconda3\\lib\\site-packages (from importlib-resources>=5.0->fake-useragent) (3.7.0)\n"
     ]
    }
   ],
   "source": [
    "#!pip install fake-useragent\n",
    "#!pip3 install --upgrade fake-useragent\n",
    "#!conda install fake-useragent"
   ]
  },
  {
   "cell_type": "markdown",
   "metadata": {},
   "source": [
    "Reload your jupyter notebook."
   ]
  },
  {
   "cell_type": "code",
   "execution_count": 80,
   "metadata": {},
   "outputs": [
    {
     "data": {
      "text/plain": [
       "'Mozilla/5.0 (X11; U; Linux i686; en-US) AppleWebKit/534.10 (KHTML, like Gecko) Chrome/8.0.551.0 Safari/534.10'"
      ]
     },
     "execution_count": 80,
     "metadata": {},
     "output_type": "execute_result"
    }
   ],
   "source": [
    "from fake_useragent import UserAgent\n",
    "ua = UserAgent()\n",
    "#ua.ie\n",
    "ua.chrome"
   ]
  },
  {
   "cell_type": "markdown",
   "metadata": {},
   "source": [
    "For example, https://knowyourmeme.com/ will not want to let python into itself and will give a 403 error. It is issued by the server if it is available and capable of processing requests, but for some personal reasons refuses to do so."
   ]
  },
  {
   "cell_type": "code",
   "execution_count": 138,
   "metadata": {},
   "outputs": [],
   "source": [
    "import requests"
   ]
  },
  {
   "cell_type": "code",
   "execution_count": 90,
   "metadata": {},
   "outputs": [
    {
     "data": {
      "text/plain": [
       "<Response [200]>"
      ]
     },
     "execution_count": 90,
     "metadata": {},
     "output_type": "execute_result"
    }
   ],
   "source": [
    "url = 'https://knowyourmeme.com/'\n",
    "\n",
    "response = requests.get(url)\n",
    "response"
   ]
  },
  {
   "cell_type": "markdown",
   "metadata": {},
   "source": [
    "If you generate a User-Agent, the problem is gone."
   ]
  },
  {
   "cell_type": "code",
   "execution_count": 81,
   "metadata": {},
   "outputs": [
    {
     "data": {
      "text/plain": [
       "<Response [200]>"
      ]
     },
     "execution_count": 81,
     "metadata": {},
     "output_type": "execute_result"
    }
   ],
   "source": [
    "response = requests.get(url, headers={'User-Agent': UserAgent().chrome})\n",
    "response"
   ]
  },
  {
   "cell_type": "markdown",
   "metadata": {},
   "source": [
    "**Another example**: If you want to parse the CIAN, it will start giving you a captcha. One of the workarounds: change IP through Tor. However, for almost every request from Tor, CIAN will raise a captcha. If you add `User_Agent` to the request, then the captcha will appear much less often."
   ]
  },
  {
   "cell_type": "markdown",
   "metadata": {},
   "source": [
    "## c) communicate through intermediaries\n",
    "\n",
    "<center>\n",
    "<img src=\"https://raw.githubusercontent.com/hse-econ-data-science/eds_spring_2020/master/sem05_parsing/image/proxy.jpeg\" width=\"300\"> "
   ]
  },
  {
   "cell_type": "markdown",
   "metadata": {},
   "source": [
    "Look at your ip-address without a proxy."
   ]
  },
  {
   "cell_type": "code",
   "execution_count": 82,
   "metadata": {},
   "outputs": [
    {
     "name": "stdout",
     "output_type": "stream",
     "text": [
      "{'origin': '212.191.80.164'}\n"
     ]
    }
   ],
   "source": [
    "r = requests.get('https://httpbin.org/ip')\n",
    "print(r.json())"
   ]
  },
  {
   "cell_type": "markdown",
   "metadata": {},
   "source": [
    "The proxy changes the matter"
   ]
  },
  {
   "cell_type": "code",
   "execution_count": 151,
   "metadata": {},
   "outputs": [],
   "source": [
    "proxies = {\n",
    "    'http': 'http://46.30.188.54',\n",
    "    'https': 'https://46.30.188.54'\n",
    "}\n",
    "\n",
    "r = requests.get('https://httpbin.org/ip', proxies=proxies)\n",
    "#r = requests.get('https://httpbin.org/ip', proxies=proxies)\n",
    "\n",
    "print(r.json())"
   ]
  },
  {
   "cell_type": "markdown",
   "metadata": {},
   "source": [
    "The request worked a little longer, the IP address changed. Most of the proxies you'll find work bad. Sometimes the request takes a very long time and it is more profitable to drop it and try another proxy. This can be configured with the `timeout` option. For example, if the server does not respond for a second, the code will crash."
   ]
  },
  {
   "cell_type": "code",
   "execution_count": null,
   "metadata": {},
   "outputs": [],
   "source": [
    "import requests\n",
    "requests.get('http://www.google.com', timeout=1)"
   ]
  },
  {
   "cell_type": "markdown",
   "metadata": {},
   "source": [
    "There are quite a few interesting features for requests. You can find them in [a guide.](https://requests.readthedocs.io/en/master/user/advanced/)\n"
   ]
  },
  {
   "cell_type": "markdown",
   "metadata": {},
   "source": [
    "# 3. API  <a name='api'></a>\n",
    "\n",
    "__API (Application Programming Interface)__ — this is a ready-made code that you can insert into your code! Many services, including Google and Vkontakte, provide their own ready-made solutions for your development.\n",
    "\n",
    "Examples: \n",
    "\n",
    "* [API Twitter](https://developer.twitter.com/en/docs.html) \n",
    "* [API YouTube](https://developers.google.com/youtube/v3/)\n",
    "* [API Google Maps](https://developers.google.com/maps/documentation/) \n",
    "* [Aviasales](https://www.aviasales.ru/API)\n",
    "* [Yandex Translate](https://yandex.ru/dev/translate/)"
   ]
  },
  {
   "cell_type": "markdown",
   "metadata": {},
   "source": [
    "## 3.2 API Google maps\n",
    "\n",
    "A map API may be needed for various semi-geographic surveys. For example, we want to test the hypothesis that good coffee raises the price of an apartment. We want to take the number of coffee shops in the vicinity as one of the regressors. This number of coffee shops must be taken from somewhere. You can use Google Maps. \n",
    "\n",
    "It all starts again with [getting the key] (https://developers.google.com/maps/documentation/directions/start) It's much simpler. Follow the link, click Get started, agree with everything except payment. We get the access key, save it in a file next to the notebook."
   ]
  },
  {
   "cell_type": "code",
   "execution_count": 153,
   "metadata": {},
   "outputs": [],
   "source": [
    "# upload your token\n",
    "with open('google_token.txt') as f:\n",
    "    google_token = f.read()"
   ]
  },
  {
   "cell_type": "markdown",
   "metadata": {},
   "source": [
    "We form a link for a request according to the behests [documentation] (https://developers.google.com/maps/documentation) and receive a response in the form of JSON."
   ]
  },
  {
   "cell_type": "code",
   "execution_count": null,
   "metadata": {},
   "outputs": [],
   "source": [
    "mainpage = 'https://maps.googleapis.com/maps/api/place/nearbysearch/json?'\n",
    "\n",
    "location = '51.781840, 19.485776'\n",
    "radius = '3000'\n",
    "keyword = 'coffee' # coffee shop\n",
    "\n",
    "parameters = 'location='+location+'&radius='+radius+'&keyword='+keyword+'&language=ru-Ru'+'&key='+ google_token\n",
    "\n",
    "itog_url = mainpage + parameters \n",
    "itog_url"
   ]
  },
  {
   "cell_type": "code",
   "execution_count": null,
   "metadata": {},
   "outputs": [],
   "source": [
    "response = requests.get(itog_url)\n",
    "\n",
    "response.json()['results'][0]"
   ]
  },
  {
   "cell_type": "markdown",
   "metadata": {},
   "source": [
    "From json on the corresponding keys, we drag the most interesting. For example, the names of coffee shops:"
   ]
  },
  {
   "cell_type": "code",
   "execution_count": null,
   "metadata": {},
   "outputs": [],
   "source": [
    "[item['name'] for item in response.json()['results']]"
   ]
  },
  {
   "cell_type": "markdown",
   "metadata": {},
   "source": [
    "# Tips: <a name='tips'></a>\n",
    "\n",
    "### Tip 1:  Use `try-except`\n",
    "\n",
    "This construction allows python to do something else in case of an error or ignore it. For example, we want to find the logarithm of all numbers in a list:"
   ]
  },
  {
   "cell_type": "code",
   "execution_count": 83,
   "metadata": {},
   "outputs": [
    {
     "name": "stdout",
     "output_type": "stream",
     "text": [
      "0.0\n",
      "0.6931471805599453\n",
      "1.0986122886681098\n"
     ]
    },
    {
     "ename": "ValueError",
     "evalue": "math domain error",
     "output_type": "error",
     "traceback": [
      "\u001b[1;31m---------------------------------------------------------------------------\u001b[0m",
      "\u001b[1;31mValueError\u001b[0m                                Traceback (most recent call last)",
      "\u001b[1;32m~\\AppData\\Local\\Temp/ipykernel_10676/3254436914.py\u001b[0m in \u001b[0;36m<cell line: 5>\u001b[1;34m()\u001b[0m\n\u001b[0;32m      4\u001b[0m \u001b[1;33m\u001b[0m\u001b[0m\n\u001b[0;32m      5\u001b[0m \u001b[1;32mfor\u001b[0m \u001b[0mitem\u001b[0m \u001b[1;32min\u001b[0m \u001b[0ma\u001b[0m\u001b[1;33m:\u001b[0m\u001b[1;33m\u001b[0m\u001b[1;33m\u001b[0m\u001b[0m\n\u001b[1;32m----> 6\u001b[1;33m     \u001b[0mprint\u001b[0m\u001b[1;33m(\u001b[0m\u001b[0mlog\u001b[0m\u001b[1;33m(\u001b[0m\u001b[0mitem\u001b[0m\u001b[1;33m)\u001b[0m\u001b[1;33m)\u001b[0m\u001b[1;33m\u001b[0m\u001b[1;33m\u001b[0m\u001b[0m\n\u001b[0m",
      "\u001b[1;31mValueError\u001b[0m: math domain error"
     ]
    }
   ],
   "source": [
    "from math import log \n",
    "\n",
    "a = [1,2,3,-1,-5,10,3]\n",
    "\n",
    "for item in a:\n",
    "    print(log(item))"
   ]
  },
  {
   "cell_type": "markdown",
   "metadata": {},
   "source": [
    "It does not work since the logarithm of negative numbers cannot be calculated. To prevent the code from crashing when an error occurs, we can change it a little:"
   ]
  },
  {
   "cell_type": "code",
   "execution_count": 84,
   "metadata": {},
   "outputs": [
    {
     "name": "stdout",
     "output_type": "stream",
     "text": [
      "0.0\n",
      "0.6931471805599453\n",
      "1.0986122886681098\n",
      "I can't\n",
      "I can't\n",
      "2.302585092994046\n",
      "1.0986122886681098\n"
     ]
    }
   ],
   "source": [
    "from math import log \n",
    "\n",
    "a = [1,2,3,-1,-5,10,3]\n",
    "\n",
    "for item in a:\n",
    "    try:\n",
    "        print(log(item))  # try logarithm\n",
    "    except:\n",
    "        print(\"I can't\") # if fails, return this"
   ]
  },
  {
   "cell_type": "markdown",
   "metadata": {},
   "source": [
    "How to use this for parsing?  Suppose we set the parser to download prices at night, it ran for an hour and crashed. It would be nice if the code ignored this error and continued working further."
   ]
  },
  {
   "cell_type": "markdown",
   "metadata": {},
   "source": [
    "### Tip 2:  pd.read_html\n",
    "\n",
    "If a table is hidden among the tags `<tr>` and `<td>` on the page that you have parsed, most often you can pick it up without writing a loop that will iterate over all columns and rows. `Pd.read_html` will help with this. For example, this is how you can pick [a table from the Central Bank website] (https://cbr.ru/currency_base/daily/)"
   ]
  },
  {
   "cell_type": "code",
   "execution_count": null,
   "metadata": {},
   "outputs": [],
   "source": [
    "import pandas as pd\n",
    "\n",
    "df = pd.read_html('https://cbr.ru/currency_base/daily/', header=None)[0]\n",
    "df.head()"
   ]
  },
  {
   "cell_type": "markdown",
   "metadata": {},
   "source": [
    "The team tries to collect all the tablets from the web page into an array. If you want, you can first find the desired table through bs4, and then parse it:"
   ]
  },
  {
   "cell_type": "code",
   "execution_count": null,
   "metadata": {},
   "outputs": [],
   "source": [
    "resp = requests.get('https://cbr.ru/currency_base/daily/')\n",
    "tree = BeautifulSoup(resp.content, 'html.parser')\n",
    "\n",
    "# find a table\n",
    "table = tree.find_all('table', {'class' : 'data'})[0]\n",
    "\n",
    "# parse it\n",
    "df = pd.read_html(str(table), header=None)[0]\n",
    "df.head()"
   ]
  },
  {
   "cell_type": "markdown",
   "metadata": {},
   "source": [
    "### Tip 3:  Use tqdm\n",
    "\n",
    "> The code has been running for an hour. I have no idea when it will finish. It would be cool to know how long I have to wait ... \n",
    "\n",
    "If you have such a thought in your head, install it: `` 'conda install tqdm' '"
   ]
  },
  {
   "cell_type": "code",
   "execution_count": null,
   "metadata": {},
   "outputs": [],
   "source": [
    "from tqdm import tqdm_notebook\n",
    "\n",
    "a = list(range(30))\n",
    "\n",
    "for i in tqdm_notebook(a):\n",
    "    time.sleep(1)"
   ]
  },
  {
   "cell_type": "markdown",
   "metadata": {},
   "source": [
    "### Tip 4:  parallel computing\n",
    "\n",
    "If the server is not very configured to ban you, you can parallelize your requests to it. The easiest way to do this is with the `joblib` library."
   ]
  },
  {
   "cell_type": "code",
   "execution_count": 3,
   "metadata": {},
   "outputs": [
    {
     "name": "stderr",
     "output_type": "stream",
     "text": [
      "C:\\Users\\User\\AppData\\Local\\Temp/ipykernel_11636/3762086881.py:10: TqdmDeprecationWarning: This function will be removed in tqdm==5.0.0\n",
      "Please use `tqdm.notebook.tqdm` instead of `tqdm.tqdm_notebook`\n",
      "  for item in tqdm_notebook(range(10)))   # objects to be applied to\n"
     ]
    },
    {
     "data": {
      "application/vnd.jupyter.widget-view+json": {
       "model_id": "0e0f3defd4234d2bb1868721b445a981",
       "version_major": 2,
       "version_minor": 0
      },
      "text/plain": [
       "  0%|          | 0/10 [00:00<?, ?it/s]"
      ]
     },
     "metadata": {},
     "output_type": "display_data"
    }
   ],
   "source": [
    "from joblib import Parallel, delayed\n",
    "from tqdm import tqdm_notebook\n",
    "\n",
    "def simple_function(x):\n",
    "    return x**2\n",
    "\n",
    "nj = -1 # use all cores\n",
    "result = Parallel(n_jobs=nj)(\n",
    "                delayed(simple_function)(item)          # function to apply\n",
    "                for item in tqdm_notebook(range(10)))   # objects to be applied to"
   ]
  },
  {
   "cell_type": "markdown",
   "metadata": {},
   "source": [
    "This is actually not the most efficient way to parallelize in python. It consumes a lot of memory and is slower than [multiprocessing.](https://docs.python.org/3/library/multiprocessing.html). But you only need to write two lines of code."
   ]
  },
  {
   "cell_type": "markdown",
   "metadata": {},
   "source": [
    "###  More tips: \n",
    "\n",
    "* **Save what you parse as you download!** Put the code that saves the file right inside the loop!\n",
    "* When the code fails in the middle of downloading, it is not necessary to run it from the start. Just save the piece that has already been downloaded and run the code from the crashed step.\n",
    "* Adding a loop to traverse references inside a function is not a good idea. Let's say you want to download $100$ links. The function should return to the output the objects that were downloaded. It fails at the $50$th object. Of course, the function does not return what has already been downloaded. Everything that you've been downloading - you lose. It should be executed again. Why? Because the function has its own namespace. If you did it in a loop, then you could save the first $50$ of objects that are already inside the list, and then continue the download.\n",
    "* You can navigate the html-page using `xpath`. It is designed so that you can quickly find some elements inside the html page. [You can read more here.](Https://devhints.io/xpath)\n",
    "* Don't be lazy to read the documentation. You can learn many useful things from it."
   ]
  },
  {
   "cell_type": "markdown",
   "metadata": {},
   "source": [
    "### Tasks\n",
    "\n",
    "Work with [webpage](https://www.math.uni.lodz.pl/en/)\n",
    "\n",
    "* Print the title of the webpage. Print an error message if the title does not exist\n",
    "* Print all links that exist within `<a href> </a>` blocks\n"
   ]
  },
  {
   "cell_type": "markdown",
   "metadata": {},
   "source": [
    "### Further reading\n",
    "\n",
    "[A Practical Introduction to Web Scraping in Python](https://realpython.com/python-web-scraping-practical-introduction/)"
   ]
  },
  {
   "cell_type": "markdown",
   "metadata": {},
   "source": [
    "   "
   ]
  }
 ],
 "metadata": {
  "kernelspec": {
   "display_name": "Python 3 (ipykernel)",
   "language": "python",
   "name": "python3"
  },
  "language_info": {
   "codemirror_mode": {
    "name": "ipython",
    "version": 3
   },
   "file_extension": ".py",
   "mimetype": "text/x-python",
   "name": "python",
   "nbconvert_exporter": "python",
   "pygments_lexer": "ipython3",
   "version": "3.9.18"
  },
  "toc": {
   "base_numbering": 1,
   "nav_menu": {},
   "number_sections": true,
   "sideBar": true,
   "skip_h1_title": true,
   "title_cell": "Table of Contents",
   "title_sidebar": "Contents",
   "toc_cell": false,
   "toc_position": {},
   "toc_section_display": true,
   "toc_window_display": false
  }
 },
 "nbformat": 4,
 "nbformat_minor": 2
}
