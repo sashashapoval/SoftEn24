{
 "cells": [
  {
   "cell_type": "markdown",
   "id": "fc0c1073",
   "metadata": {},
   "source": [
    "This is the information about time in Berlin\n",
    "\n",
    "```python\n",
    "{\"abbreviation\":\"CET\",\"client_ip\":\"217.96.175.172\",\"datetime\":\"2024-03-25T22:23:52.719975+01:00\",\"day_of_week\":1,\"day_of_year\":85,\"dst\":false,\"dst_from\":null,\"dst_offset\":0,\"dst_until\":null,\"raw_offset\":3600,\"timezone\":\"Europe/Berlin\",\"unixtime\":1711401832,\"utc_datetime\":\"2024-03-25T21:23:52.719975+00:00\",\"utc_offset\":\"+01:00\",\"week_number\":13}\n",
    "```\n",
    "extract date and time\n"
   ]
  },
  {
   "cell_type": "markdown",
   "id": "37ed0ed9",
   "metadata": {},
   "source": [
    "> Can we assign the data to a dictionary?"
   ]
  },
  {
   "cell_type": "markdown",
   "id": "8760e6dd",
   "metadata": {},
   "source": [
    "* Let's use a string"
   ]
  },
  {
   "cell_type": "code",
   "execution_count": 39,
   "id": "2f70386b",
   "metadata": {},
   "outputs": [],
   "source": [
    "info = '\"abbreviation\":\"CET\",\"client_ip\":\"217.96.175.172\",\"datetime\":\"2024-03-25T22:23:52.719975+01:00\",\"day_of_week\":1,\"day_of_year\":85,\"dst\":false,\"dst_from\":null,\"dst_offset\":0,\"dst_until\":null,\"raw_offset\":3600,\"timezone\":\"Europe/Berlin\",\"unixtime\":1711401832,\"utc_datetime\":\"2024-03-25T21:23:52.719975+00:00\",\"utc_offset\":\"+01:00\",\"week_number\":13}'"
   ]
  },
  {
   "cell_type": "markdown",
   "id": "289526a7",
   "metadata": {},
   "source": [
    "* Replace `False` for `false` and `None` for `null`"
   ]
  },
  {
   "cell_type": "markdown",
   "id": "53c67036",
   "metadata": {},
   "source": [
    "<details>\n",
    "  <summary><span style = \"font-weight:bold; color:blue;\"><u><li>Answer: </li></u></span>\n",
    "  </summary>\n",
    "  \n",
    "  <code>\n",
    "info = info.replace('false', 'False').replace('null', 'None')  </code>\n",
    "    \n",
    "</details>"
   ]
  },
  {
   "cell_type": "markdown",
   "id": "a30f30b5",
   "metadata": {},
   "source": [
    "* Split `info` into pairs by `,`"
   ]
  },
  {
   "cell_type": "code",
   "execution_count": 41,
   "id": "124791ed",
   "metadata": {},
   "outputs": [],
   "source": [
    "info_pair = info.split(',')"
   ]
  },
  {
   "cell_type": "markdown",
   "id": "ed4b9b5d",
   "metadata": {},
   "source": [
    "<details>\n",
    "  <summary><span style = \"font-weight:bold; color:blue;\"><u><li>Question: </li></u></span><span><li>Take the first element of `info_pair` and create a dictionary where the key and the value are taken from the pair</li><br><li>Can you eliminate the extra quotation marks?</li></span>\n",
    "  </summary>\n",
    "  \n",
    "  <code>\n",
    "singles = info_pair[0].split(':')\n",
    "dct = {}\n",
    "dct[singles[0]] = singles[1]\n",
    "dct  </code>\n",
    "    \n",
    "</details>"
   ]
  },
  {
   "cell_type": "markdown",
   "id": "d09791cd",
   "metadata": {},
   "source": [
    "* Transform the data to dictionary"
   ]
  },
  {
   "cell_type": "markdown",
   "id": "6f8ad3c3",
   "metadata": {},
   "source": [
    "* verify that `dct['day_of_year']` is string\n",
    "\n",
    "`type(dct['day_of_year'])`"
   ]
  },
  {
   "cell_type": "markdown",
   "id": "8ee31acc",
   "metadata": {},
   "source": [
    "* Convert integer values to __int__\n",
    "* Think of using __try:__ block"
   ]
  },
  {
   "cell_type": "markdown",
   "id": "b5b52dcc",
   "metadata": {},
   "source": [
    "<details>\n",
    "  <summary><span style = \"font-weight:bold; color:blue;\"><u><li>Answer: </li></u></span>\n",
    "  </summary>\n",
    "  \n",
    "  <code>\n",
    "for key, value in dct.items():\n",
    "    try:\n",
    "        dct[key] = int(dct[key])\n",
    "    except:\n",
    "        pass\n",
    "  </code>  \n",
    "</details>"
   ]
  },
  {
   "cell_type": "markdown",
   "id": "cca39a8d",
   "metadata": {},
   "source": [
    "* Verify that the conversion is done"
   ]
  },
  {
   "cell_type": "markdown",
   "id": "47040e83",
   "metadata": {},
   "source": [
    "Honestly, we could do this task in a line.\n",
    "\n",
    "> Save the data as a json file and read it as json with the __json__ library\n",
    "\n",
    "```python\n",
    "import json\n",
    "\n",
    "with open('time_Berlin_data.json', 'r') as f:\n",
    "    data = json.load(f)\n",
    "    print(data)\n",
    "```"
   ]
  },
  {
   "cell_type": "code",
   "execution_count": 48,
   "id": "7eaf351c",
   "metadata": {},
   "outputs": [
    {
     "data": {
      "text/plain": [
       "'22:23:52'"
      ]
     },
     "execution_count": 48,
     "metadata": {},
     "output_type": "execute_result"
    }
   ],
   "source": [
    "data['datetime'][11:19]"
   ]
  },
  {
   "cell_type": "code",
   "execution_count": null,
   "id": "0e7edaab",
   "metadata": {},
   "outputs": [],
   "source": []
  }
 ],
 "metadata": {
  "kernelspec": {
   "display_name": "Python 3 (ipykernel)",
   "language": "python",
   "name": "python3"
  },
  "language_info": {
   "codemirror_mode": {
    "name": "ipython",
    "version": 3
   },
   "file_extension": ".py",
   "mimetype": "text/x-python",
   "name": "python",
   "nbconvert_exporter": "python",
   "pygments_lexer": "ipython3",
   "version": "3.9.18"
  },
  "toc": {
   "base_numbering": 1,
   "nav_menu": {},
   "number_sections": true,
   "sideBar": true,
   "skip_h1_title": false,
   "title_cell": "Table of Contents",
   "title_sidebar": "Contents",
   "toc_cell": false,
   "toc_position": {},
   "toc_section_display": true,
   "toc_window_display": false
  }
 },
 "nbformat": 4,
 "nbformat_minor": 5
}
