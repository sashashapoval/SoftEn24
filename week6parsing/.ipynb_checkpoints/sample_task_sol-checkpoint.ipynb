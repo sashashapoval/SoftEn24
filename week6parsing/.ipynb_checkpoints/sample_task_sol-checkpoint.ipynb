{
 "cells": [
  {
   "cell_type": "markdown",
   "id": "20f4a2f1",
   "metadata": {},
   "source": [
    "This is the information about time in Berlin\n",
    "\n",
    "```python\n",
    "{\"abbreviation\":\"CET\",\"client_ip\":\"217.96.175.172\",\"datetime\":\"2024-03-25T22:23:52.719975+01:00\",\"day_of_week\":1,\"day_of_year\":85,\"dst\":false,\"dst_from\":null,\"dst_offset\":0,\"dst_until\":null,\"raw_offset\":3600,\"timezone\":\"Europe/Berlin\",\"unixtime\":1711401832,\"utc_datetime\":\"2024-03-25T21:23:52.719975+00:00\",\"utc_offset\":\"+01:00\",\"week_number\":13}\n",
    "```\n",
    "extract date and time\n"
   ]
  },
  {
   "cell_type": "markdown",
   "id": "82989def",
   "metadata": {},
   "source": [
    "> Can we assign the data to a dictionary?"
   ]
  },
  {
   "cell_type": "markdown",
   "id": "2b79a3bd",
   "metadata": {},
   "source": [
    "* Let's use a string"
   ]
  },
  {
   "cell_type": "code",
   "execution_count": 39,
   "id": "47375425",
   "metadata": {},
   "outputs": [],
   "source": [
    "info = '\"abbreviation\":\"CET\",\"client_ip\":\"217.96.175.172\",\"datetime\":\"2024-03-25T22:23:52.719975+01:00\",\"day_of_week\":1,\"day_of_year\":85,\"dst\":false,\"dst_from\":null,\"dst_offset\":0,\"dst_until\":null,\"raw_offset\":3600,\"timezone\":\"Europe/Berlin\",\"unixtime\":1711401832,\"utc_datetime\":\"2024-03-25T21:23:52.719975+00:00\",\"utc_offset\":\"+01:00\",\"week_number\":13}'"
   ]
  },
  {
   "cell_type": "markdown",
   "id": "85a20e01",
   "metadata": {},
   "source": [
    "* Replace `False` for `false` and `None` for `null`"
   ]
  },
  {
   "cell_type": "markdown",
   "id": "277f279d",
   "metadata": {},
   "source": [
    "<details>\n",
    "  <summary><span style = \"font-weight:bold; color:blue;\"><u><li>Answer: </li></u></span>\n",
    "  </summary>\n",
    "  \n",
    "  <code>\n",
    "info = info.replace('false', 'False').replace('null', 'None')  </code>\n",
    "    \n",
    "</details>"
   ]
  },
  {
   "cell_type": "code",
   "execution_count": 40,
   "id": "2f2e1944",
   "metadata": {},
   "outputs": [
    {
     "data": {
      "text/plain": [
       "135"
      ]
     },
     "execution_count": 40,
     "metadata": {},
     "output_type": "execute_result"
    }
   ],
   "source": [
    "info = info.replace('false', 'False').replace('null', 'None')\n",
    "info.find('False')"
   ]
  },
  {
   "cell_type": "markdown",
   "id": "a79a9156",
   "metadata": {},
   "source": [
    "* Split `info` into pairs by `,`"
   ]
  },
  {
   "cell_type": "code",
   "execution_count": 41,
   "id": "782db25e",
   "metadata": {},
   "outputs": [],
   "source": [
    "info_pair = info.split(',')"
   ]
  },
  {
   "cell_type": "markdown",
   "id": "b368da0b",
   "metadata": {},
   "source": [
    "<details>\n",
    "  <summary><span style = \"font-weight:bold; color:blue;\"><u><li>Question: </li></u></span><span><li>Take the first element of `info_pair` and create a dictionary where the key and the value are taken from the pair</li><br><li>Can you eliminate the extra quotation marks?</li></span>\n",
    "  </summary>\n",
    "  \n",
    "  <code>\n",
    "singles = info_pair[0].split(':')\n",
    "dct = {}\n",
    "dct[singles[0]] = singles[1]\n",
    "dct  </code>\n",
    "    \n",
    "</details>"
   ]
  },
  {
   "cell_type": "code",
   "execution_count": 42,
   "id": "58c39f8a",
   "metadata": {},
   "outputs": [
    {
     "data": {
      "text/plain": [
       "{'\"abbreviation\"': '\"CET\"'}"
      ]
     },
     "execution_count": 42,
     "metadata": {},
     "output_type": "execute_result"
    }
   ],
   "source": [
    "singles = info_pair[0].split(':')\n",
    "dct = {}\n",
    "dct[singles[0]] = singles[1]\n",
    "dct"
   ]
  },
  {
   "cell_type": "markdown",
   "id": "794d1158",
   "metadata": {},
   "source": [
    "* Transform the data to dictionary"
   ]
  },
  {
   "cell_type": "code",
   "execution_count": 43,
   "id": "92e91dad",
   "metadata": {},
   "outputs": [
    {
     "data": {
      "text/plain": [
       "{'abbreviation': '\"CET\"',\n",
       " 'client_ip': '\"217.96.175.172\"',\n",
       " 'datetime': '\"2024-03-25T22',\n",
       " 'day_of_week': '1',\n",
       " 'day_of_year': '85',\n",
       " 'dst': 'False',\n",
       " 'dst_from': 'None',\n",
       " 'dst_offset': '0',\n",
       " 'dst_until': 'None',\n",
       " 'raw_offset': '3600',\n",
       " 'timezone': '\"Europe/Berlin\"',\n",
       " 'unixtime': '1711401832',\n",
       " 'utc_datetime': '\"2024-03-25T21',\n",
       " 'utc_offset': '\"+01',\n",
       " 'week_number': '13}'}"
      ]
     },
     "execution_count": 43,
     "metadata": {},
     "output_type": "execute_result"
    }
   ],
   "source": [
    "dct = {}\n",
    "for pair in info_pair:\n",
    "    try:\n",
    "        singles = pair.split(':')\n",
    "        dct[singles[0][1:-1]] = singles[1]\n",
    "        #[1:-1] slicing eliminates outer extra quotation marks\n",
    "    except:\n",
    "        pass\n",
    "dct"
   ]
  },
  {
   "cell_type": "markdown",
   "id": "d6dd79f1",
   "metadata": {},
   "source": [
    "* verify that `dct['day_of_year']` is string\n",
    "\n",
    "`type(dct['day_of_year'])`"
   ]
  },
  {
   "cell_type": "code",
   "execution_count": 44,
   "id": "564cc126",
   "metadata": {},
   "outputs": [
    {
     "data": {
      "text/plain": [
       "str"
      ]
     },
     "execution_count": 44,
     "metadata": {},
     "output_type": "execute_result"
    }
   ],
   "source": [
    "type(dct['day_of_year'])"
   ]
  },
  {
   "cell_type": "markdown",
   "id": "8f40c994",
   "metadata": {},
   "source": [
    "* Convert integer values to __int__\n",
    "* Think of using __try:__ block"
   ]
  },
  {
   "cell_type": "markdown",
   "id": "c8495173",
   "metadata": {},
   "source": [
    "<details>\n",
    "  <summary><span style = \"font-weight:bold; color:blue;\"><u><li>Answer: </li></u></span>\n",
    "  </summary>\n",
    "  \n",
    "  <code>\n",
    "for key, value in dct.items():\n",
    "    try:\n",
    "        dct[key] = int(dct[key])\n",
    "    except:\n",
    "        pass\n",
    "  </code>  \n",
    "</details>"
   ]
  },
  {
   "cell_type": "code",
   "execution_count": 45,
   "id": "d9725c49",
   "metadata": {},
   "outputs": [
    {
     "data": {
      "text/plain": [
       "{'abbreviation': '\"CET\"',\n",
       " 'client_ip': '\"217.96.175.172\"',\n",
       " 'datetime': '\"2024-03-25T22',\n",
       " 'day_of_week': 1,\n",
       " 'day_of_year': 85,\n",
       " 'dst': 'False',\n",
       " 'dst_from': 'None',\n",
       " 'dst_offset': 0,\n",
       " 'dst_until': 'None',\n",
       " 'raw_offset': 3600,\n",
       " 'timezone': '\"Europe/Berlin\"',\n",
       " 'unixtime': 1711401832,\n",
       " 'utc_datetime': '\"2024-03-25T21',\n",
       " 'utc_offset': '\"+01',\n",
       " 'week_number': '13}'}"
      ]
     },
     "execution_count": 45,
     "metadata": {},
     "output_type": "execute_result"
    }
   ],
   "source": [
    "for key, value in dct.items():\n",
    "    try:\n",
    "        dct[key] = int(dct[key])\n",
    "    except:\n",
    "        pass\n",
    "dct"
   ]
  },
  {
   "cell_type": "markdown",
   "id": "170c9c76",
   "metadata": {},
   "source": [
    "* Verify that the conversion is done"
   ]
  },
  {
   "cell_type": "code",
   "execution_count": 46,
   "id": "75b49531",
   "metadata": {},
   "outputs": [
    {
     "data": {
      "text/plain": [
       "int"
      ]
     },
     "execution_count": 46,
     "metadata": {},
     "output_type": "execute_result"
    }
   ],
   "source": [
    "type(dct['day_of_year'])"
   ]
  },
  {
   "cell_type": "markdown",
   "id": "8768b832",
   "metadata": {},
   "source": [
    "Honestly, we could do this task in a line.\n",
    "\n",
    "> Save the data as a json file and read it as json with the __json__ library\n",
    "\n",
    "```\n",
    "import json\n",
    "\n",
    "with open('time_Berlin_data.json', 'r') as f:\n",
    "    data = json.load(f)\n",
    "    print(data)\n",
    "```"
   ]
  },
  {
   "cell_type": "code",
   "execution_count": 47,
   "id": "30738f64",
   "metadata": {},
   "outputs": [
    {
     "name": "stdout",
     "output_type": "stream",
     "text": [
      "{'abbreviation': 'CET', 'client_ip': '217.96.175.172', 'datetime': '2024-03-25T22:23:52.719975+01:00', 'day_of_week': 1, 'day_of_year': 85, 'dst': False, 'dst_from': None, 'dst_offset': 0, 'dst_until': None, 'raw_offset': 3600, 'timezone': 'Europe/Berlin', 'unixtime': 1711401832, 'utc_datetime': '2024-03-25T21:23:52.719975+00:00', 'utc_offset': '+01:00', 'week_number': 13}\n"
     ]
    }
   ],
   "source": [
    "import json\n",
    "\n",
    "with open('time_Berlin_data.json', 'r') as f:\n",
    "    data = json.load(f)\n",
    "    print(data)"
   ]
  },
  {
   "cell_type": "code",
   "execution_count": 48,
   "id": "538c9c46",
   "metadata": {},
   "outputs": [
    {
     "data": {
      "text/plain": [
       "'22:23:52'"
      ]
     },
     "execution_count": 48,
     "metadata": {},
     "output_type": "execute_result"
    }
   ],
   "source": [
    "data['datetime'][11:19]"
   ]
  },
  {
   "cell_type": "code",
   "execution_count": null,
   "id": "996ec3f1",
   "metadata": {},
   "outputs": [],
   "source": []
  }
 ],
 "metadata": {
  "kernelspec": {
   "display_name": "Python 3 (ipykernel)",
   "language": "python",
   "name": "python3"
  },
  "language_info": {
   "codemirror_mode": {
    "name": "ipython",
    "version": 3
   },
   "file_extension": ".py",
   "mimetype": "text/x-python",
   "name": "python",
   "nbconvert_exporter": "python",
   "pygments_lexer": "ipython3",
   "version": "3.9.18"
  },
  "toc": {
   "base_numbering": 1,
   "nav_menu": {},
   "number_sections": true,
   "sideBar": true,
   "skip_h1_title": false,
   "title_cell": "Table of Contents",
   "title_sidebar": "Contents",
   "toc_cell": false,
   "toc_position": {},
   "toc_section_display": true,
   "toc_window_display": false
  }
 },
 "nbformat": 4,
 "nbformat_minor": 5
}
