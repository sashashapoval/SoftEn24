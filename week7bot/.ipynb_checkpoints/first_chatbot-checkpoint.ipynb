{
 "cells": [
  {
   "cell_type": "code",
   "execution_count": null,
   "metadata": {},
   "outputs": [],
   "source": [
    "#<link rel=\"stylesheet\" href=\"../css/style.css\">\n",
    "\n",
    "from IPython.display import HTML\n",
    "HTML('''\n",
    "<script>\n",
    "code_show=false;\n",
    "function code_toggle(){\n",
    "    if(code_show){$('.prompt, .output_stderr, .output_error').hide();}\n",
    "    else{$('.prompt, .output_stderr, .output_error').show();}\n",
    "    code_show=!code_show;\n",
    "}\n",
    "function initialize(){\n",
    "    var output=$('.output_subarea.output_text.output_stream.output_stdout');\n",
    "    $.merge(output,$('.output_subarea.output_text.output_result'));\n",
    "    code_toggle();\n",
    "}\n",
    "$(document).ready(initialize);\n",
    "</script>\n",
    "Click <a href=\"javascript:code_toggle()\">here</a> to show/hide codes in this notebook.\n",
    "''')"
   ]
  },
  {
   "cell_type": "markdown",
   "metadata": {},
   "source": [
    "## Preparation\n",
    "__Installation of the libarary__\n",
    "<br>\n",
    "pip install pytelegrambotapi\n",
    "## Warning\n",
    "__Do NOT install telebot__"
   ]
  },
  {
   "cell_type": "markdown",
   "metadata": {},
   "source": [
    "## Creating new bot with BotFather\n",
    "__Go to <url>https://t.me/BotFather</url>__\n",
    "<br>\n",
    "__Follow instructions__\n",
    "<br>\n",
    "__Do not forget to save token and name to file credentials.py__\n",
    "<br>\n",
    "When creating the bot you will see something like this:\n",
    "\n",
    "<div> <img src=\"create_bot_example.jpg\" alt=\"Create_bot_example\" style=\"height: 120mm;\"/></div> "
   ]
  },
  {
   "cell_type": "code",
   "execution_count": null,
   "metadata": {},
   "outputs": [],
   "source": [
    "!pip install pyTelegramBotAPI"
   ]
  },
  {
   "cell_type": "code",
   "execution_count": null,
   "metadata": {},
   "outputs": [],
   "source": [
    "#This block contains magic, which should be used\n",
    "#Prepare file credentials.py of the form\n",
    "#bot_token = \"1930966075:AAHS7UujisibF1aEX6f_81hba_kQq_8kIRd\"\n",
    "#bot_user_name = \"NAME\"\n",
    "#URL = \"the heroku app link that we will create later\"import telebot\n",
    "import logging\n",
    "import telebot\n",
    "from credentials import bot_token, bot_user_name, URL\n",
    "bot = telebot.TeleBot(bot_token)\n",
    "telebot.logger.setLevel(logging.DEBUG) # Outputs debug messages to console.\n"
   ]
  },
  {
   "cell_type": "markdown",
   "metadata": {},
   "source": [
    "## First bot\n",
    "__Write \"Hello world\" as a start message__"
   ]
  },
  {
   "cell_type": "code",
   "execution_count": null,
   "metadata": {},
   "outputs": [],
   "source": [
    "#name of the bot imported from credentials.py\n",
    "bot_user_name"
   ]
  },
  {
   "cell_type": "code",
   "execution_count": null,
   "metadata": {},
   "outputs": [],
   "source": [
    "#\"Hello world\" at the start\n",
    "import telebot\n",
    "from credentials import bot_token, bot_user_name, URL\n",
    "bot = telebot.TeleBot(bot_token)\n",
    "\n",
    "@bot.message_handler(commands=['start'])\n",
    "def start(message):\n",
    "    bot.send_message(message.chat.id, 'Hello world!')\n",
    "\n",
    "#make the pot run \"forever\" (the code has not been uploaded to the server)\n",
    "bot.polling()\n"
   ]
  },
  {
   "cell_type": "markdown",
   "metadata": {},
   "source": [
    "### Explanation\n",
    "\n",
    "* The communication with the bot is organized through the variable `bot` (the token is yours).\n",
    "* Decorator `@message_handler` reacts on the input messages\n",
    "* Message is an object that contains the information about the request. Useful fields:\n",
    "    * `message.chat.id` is the identificator of the chat\n",
    "    * `message.from_user.id` is the identificator of the sender\n",
    "    * `message.text` is the text of the message\n",
    "* Function `send_message()` requires two arguments. They are the identificator of the chat and the text to send in our example. Both are taken from the input message."
   ]
  },
  {
   "cell_type": "markdown",
   "metadata": {},
   "source": [
    "## Echo bot. Reference point \n",
    "1. Explain what the bot does in response to /start\n",
    "2. Provide a simple help as a response to /help\n",
    "2. Echo the other messages: copy the received message as a reply to the sender\n",
    "4. In contrast to the previous code, the welcome message is sent to the last sender (which seems to be a better idea)"
   ]
  },
  {
   "cell_type": "code",
   "execution_count": null,
   "metadata": {},
   "outputs": [],
   "source": [
    "import telebot\n",
    "from credentials import bot_token, bot_user_name, URL\n",
    "bot = telebot.TeleBot(bot_token)\n",
    "@bot.message_handler(commands=['start'])\n",
    "def show_start(message):\n",
    "    bot.send_message(message.chat.id, \"Hello! This is bot. I echo messages. For help type /help\")\n",
    "\n",
    "@bot.message_handler(commands=['help'])\n",
    "def show_help(message):\n",
    "    #send_message requires two arguments:\n",
    "    #the address to whom the message is sent and the message\n",
    "    bot.send_message(message.from_user.id, \"Type a message and you get it back\")\n",
    "\n",
    "# Process the other user requests that are NOT the commands listed above\n",
    "@bot.message_handler(content_types=['text'])\n",
    "def get_text_messages(message):\n",
    "    bot.send_message(message.from_user.id, message.text)\n",
    "    print(message, message.from_user)\n",
    "\n",
    "bot.polling()\n"
   ]
  },
  {
   "cell_type": "markdown",
   "metadata": {},
   "source": [
    "### Explanation\n",
    "* First you list all commands\n",
    "* Then you describe the processing of all other messages"
   ]
  },
  {
   "cell_type": "markdown",
   "metadata": {},
   "source": [
    "## Send Images\n",
    "\n",
    "* we extend the previous code by adding the command that sends an image\n",
    "\n",
    "<details>\n",
    "  <summary><span style = \"font-weight:bold; color:blue;\"><u><li>Where a new command should be placed?</u></span>\n",
    "  </summary>\n",
    "  \n",
    "  * prior to <span style = \"background-color:#E5E4E2;\">@bot.message_handler(content_types=['text'])</span>\n",
    "</details>"
   ]
  },
  {
   "cell_type": "code",
   "execution_count": null,
   "metadata": {},
   "outputs": [],
   "source": [
    "import telebot\n",
    "from credentials import bot_token, bot_user_name, URL\n",
    "bot = telebot.TeleBot(bot_token)\n",
    "@bot.message_handler(commands=['start'])\n",
    "def show_start(message):\n",
    "    bot.send_message(message.from_user.id, \"Hello! This is bot. I echo messages. For help type /help\")\n",
    "\n",
    "@bot.message_handler(commands=['help'])\n",
    "def show_help(message):\n",
    "    #send_message requires two arguments:\n",
    "    #the address to whom the message is sent and the message\n",
    "    bot.send_message(message.from_user.id, \"Type a message and you get it back\")\n",
    "    bot.send_message(message.from_user.id, \"/send_photo requests for an image\")\n",
    "\n",
    "# Send image (static url is preferable than the local name)\n",
    "@bot.message_handler(commands=['send_photo'])\n",
    "def show_send_photo(message):\n",
    "    #photo_url =  \"https://lh3.googleusercontent.com/p/AF1QipNzZQl1j736PT2-ouBFzRM8rJI7JThpOPz3Hu0s=s1360-w1360-h1020\"\n",
    "    photo_url = \"https://drive.google.com/file/d/17BW9wmtfTVltb1lZ9bEE_1ZMcG1H3RTZ/view?usp=sharing\"\n",
    "    bot.send_photo(message.from_user.id, photo=photo_url, caption='My favorite!')\n",
    "\n",
    "# Process the other user requests that are NOT the commands listed above\n",
    "@bot.message_handler(content_types=['text'])\n",
    "def get_text_messages(message):\n",
    "    bot.send_message(message.from_user.id, message.text)\n",
    "\n",
    "bot.polling()\n"
   ]
  },
  {
   "cell_type": "markdown",
   "metadata": {},
   "source": [
    "## Simple Parcing\n",
    "__Find a word within a website__"
   ]
  },
  {
   "cell_type": "code",
   "execution_count": null,
   "metadata": {},
   "outputs": [],
   "source": [
    "#auxilary function\n",
    "#regular expression: https://docs.python.org/3/library/re.html\n",
    "def fnd_word_in_website(url, strtmp, is_err=False):\n",
    "    fndin = []\n",
    "    try:\n",
    "        response = requests.get(url)\n",
    "        html = response.text\n",
    "    except Exception:\n",
    "        is_err = True\n",
    "    else: #Find the indices of occurrences with library Regular Expressions (re)\n",
    "        fndin = [m.start() for m in re.finditer(strtmp, html)]\n",
    "        #https://docs.python.org/3/library/re.html#re.finditer\n",
    "    return len(fndin), is_err #return the number of occurrence\n"
   ]
  },
  {
   "cell_type": "code",
   "execution_count": null,
   "metadata": {},
   "outputs": [],
   "source": [
    "import requests #https://realpython.com/python-requests/\n",
    "import re\n",
    "import telebot\n",
    "from credentials import bot_token, bot_user_name, URL\n",
    "bot = telebot.TeleBot(bot_token)\n",
    "@bot.message_handler(commands=['start'])#Process /start\n",
    "def start(message):\n",
    "    bot.send_message(message.from_user.id, \"Hello! This is bot. I find strings in web-sites. For help type /help\")\n",
    "\n",
    "@bot.message_handler(commands=['help'])#Process /help\n",
    "def show_help(message):\n",
    "    bot.send_message(message.from_user.id,\"Type 'string website' to compute the number of occurrence of string in the website\")\n",
    "\n",
    "@bot.message_handler(content_types=['text'])#Processing the input not shown above\n",
    "def get_text_messages(message):\n",
    "    bot.send_message(message.from_user.id, 'I am starting')#Send message that parcing is started\n",
    "    is_err = False\n",
    "    line = message.text.split()\n",
    "    if len(line) == 0:\n",
    "        bot.send_message(message.from_user.id, 'Error: empty message. Type /help for help')\n",
    "    elif len(line) == 1:\n",
    "        bot.send_message(message.from_user.id, 'Error: message must be \"string url\"')\n",
    "    else:\n",
    "        if len(line) >= 3:\n",
    "            bot.send_message(message.from_user.id, 'Warning: message must be \"string url\"')\n",
    "        num, is_err = fnd_word_in_website(line[1], line[0], is_err)\n",
    "        if is_err == True:\n",
    "            bot.send_message(message.from_user.id, 'Site {:s} is not available'.format(line[1]))\n",
    "        else:\n",
    "            bot.send_message(message.from_user.id, '{:s} found {:d} times'.format(line[0], num))\n",
    "\n",
    "bot.polling()\n"
   ]
  },
  {
   "cell_type": "markdown",
   "metadata": {},
   "source": [
    "## Buttons: Example of Exchange Rates\n",
    "\n"
   ]
  },
  {
   "cell_type": "code",
   "execution_count": null,
   "metadata": {},
   "outputs": [],
   "source": [
    "import requests #https://realpython.com/python-requests/\n",
    "import re\n",
    "import telebot\n",
    "import datetime\n",
    "import pytz\n",
    "from credentials import bot_token, bot_user_name, URL\n",
    "#TIMEZONE = 'Europe/Warsaw'\n",
    "#P_TIMEZONE = pytz.timezone(config.TIMEZONE)\n",
    "bot = telebot.TeleBot(bot_token)\n",
    "\n",
    "@bot.message_handler(commands=['help'])\n",
    "def help_command(message):\n",
    "    keyboard = telebot.types.InlineKeyboardMarkup()\n",
    "    keyboard.add(\n",
    "        telebot.types.InlineKeyboardButton(\n",
    "           'Message to developer', url='telegram.me/s_merlin'\n",
    "        )\n",
    "    )\n",
    "    bot.send_message(\n",
    "        message.chat.id,\n",
    "        '1) To receive a list of available currencies press /exchange.\\n' +\n",
    "        '2) Click on the currency you are interested in.\\n' +\n",
    "        '3) You will receive a message containing information regarding the source and the target currencies, ' +\n",
    "        'buying rates and selling rates.\\n' +\n",
    "        '4) Click “Update” to receive the current information regarding the request. ' +\n",
    "        'The bot will also show the difference between the previous and the current exchange rates.\\n' +\n",
    "        '5) The bot supports inline. Type @<botusername> in any chat and the first letters of a currency.',\n",
    "        reply_markup=keyboard\n",
    "    )\n",
    "\n",
    "#bot.polling()\n"
   ]
  },
  {
   "cell_type": "markdown",
   "metadata": {},
   "source": [
    "### Comments\n",
    "\n",
    "As you can see in the example above, I’ve used an additional parameter `reply_markup` for the `send_message()` method. The method received `InlineKeyboardMarkup` consisting of a single `InlineKeyboardButton` with the text: “Message the developer” and `url=<my_url>`."
   ]
  },
  {
   "cell_type": "markdown",
   "metadata": {},
   "source": [
    "### Add the `/exchange` command handler\n",
    "\n",
    "The /exchange command handler displays a currency choice menu and inline bot keyboard consisting of 3 buttons: USD and EUR (these are the currencies supported by the banking API)."
   ]
  },
  {
   "cell_type": "code",
   "execution_count": null,
   "metadata": {},
   "outputs": [],
   "source": [
    "@bot.message_handler(commands=['exchange'])\n",
    "def exchange_command(message):\n",
    "    keyboard = telebot.types.InlineKeyboardMarkup()\n",
    "    keyboard.row(\n",
    "        telebot.types.InlineKeyboardButton('EUR', callback_data='get-EUR'),\n",
    "        telebot.types.InlineKeyboardButton('USD', callback_data='get-USD')\n",
    "    )\n",
    "\n",
    "    bot.send_message(message.chat.id, 'Click on the currency of choice:', reply_markup=keyboard)\n",
    "\n",
    "\n",
    "#bot.polling()\n"
   ]
  },
  {
   "cell_type": "markdown",
   "metadata": {},
   "source": [
    "### Comments\n",
    "\n",
    "When a user clicks `InlineKeyboardButton` button you'll receive CallbackQuery (its data parameter will contain callback-data) in getUpdates. In such a way, you will know exactly which button a user has pressed and handle it as appropriate."
   ]
  },
  {
   "cell_type": "markdown",
   "metadata": {},
   "source": [
    "## Search for the exchange rate \n",
    "\n",
    "* We use site http://api.nbp.pl/ of PKO Bank Polski\n",
    "* Rates are taken from https://api.nbp.pl/api/exchangerates/rates/a/ __CURRENCY-CODE__ /\n",
    "* Example: https://api.nbp.pl/api/exchangerates/rates/a/usd/"
   ]
  },
  {
   "cell_type": "markdown",
   "metadata": {},
   "source": [
    "### Design\n",
    "\n",
    "* perfromed not as a function (the latter is required for the bot) for educational purpose (may be skipped)\n",
    "* the structure of the <scan><a href = \"https://api.nbp.pl/api/exchangerates/rates/a/usd/\">page</a></scan> is used\n",
    "* inspect that the rate follows substring 'mid' (see line 12 of the cell)"
   ]
  },
  {
   "cell_type": "code",
   "execution_count": null,
   "metadata": {},
   "outputs": [],
   "source": [
    "url = 'https://api.nbp.pl/api/exchangerates/rates/a/usd/'\n",
    "try:\n",
    "    response = requests.get(url)\n",
    "    html = response.text\n",
    "    print(response, html, sep = '\\n')\n",
    "except Exception:\n",
    "    err = 1\n",
    "    print(1)\n",
    "else: #Transfrom text to a single string without EOL and find the index of 'mid'\n",
    "    html1 = ''.join(html).replace('\\n', '')\n",
    "    findin = html1.find('mid')\n",
    "    rate = float(html1[findin+5:findin+10])\n",
    "    print(rate)\n"
   ]
  },
  {
   "cell_type": "markdown",
   "metadata": {},
   "source": [
    "### Code is re-written as a function"
   ]
  },
  {
   "cell_type": "code",
   "execution_count": null,
   "metadata": {},
   "outputs": [],
   "source": [
    "#auxilary function\n",
    "def fnd_rate(url, err):\n",
    "    try:\n",
    "        response = requests.get(url)\n",
    "        html = response.text\n",
    "    except Exception:\n",
    "        err = 1\n",
    "    else: #Transfrom text to a single string without EOL and find the index of 'mid'\n",
    "        html1 = ''.join(html).replace('\\n', '')\n",
    "        findin = html1.find('mid')\n",
    "        rate = float(html1[findin+5:findin+10])\n",
    "    return rate, err"
   ]
  },
  {
   "cell_type": "markdown",
   "metadata": {},
   "source": [
    "### Usage of the API structure\n",
    "\n",
    "The site is user friendly. The data is saved in the json-format, which is naturally to use with the `.json()` method\n",
    "\n",
    "```python\n",
    "response = requests.get(url)\n",
    "json = response.json()\n",
    "```\n",
    "\n",
    "assigns the data as a dictionary to the variable `json`. I recommend first to print this dictionary with\n",
    "```python\n",
    "print(json)\n",
    "```\n",
    "Then you'll see that the required exchange rate is in `json['rates'][0]['mid']`.\n",
    "\n",
    "Mind the call to the zero list element with `[0]`.\n",
    "\n",
    "We end up with a natural version of the <b>find_rate()</b> function."
   ]
  },
  {
   "cell_type": "code",
   "execution_count": null,
   "metadata": {},
   "outputs": [],
   "source": [
    "url = 'https://api.nbp.pl/api/exchangerates/rates/a/usd/'\n",
    "response = requests.get(url)\n",
    "json = response.json()\n",
    "print(json, json['rates'][0]['mid'], sep = '\\n')"
   ]
  },
  {
   "cell_type": "code",
   "execution_count": null,
   "metadata": {},
   "outputs": [],
   "source": [
    "def fnd_rate(url, err):\n",
    "    try:\n",
    "        response = requests.get(url)\n",
    "        json = response.json() #table with data; try print(json)\n",
    "    except Exception:\n",
    "        err = 1\n",
    "    else: \n",
    "        rate = json['rates'][0]['mid']\n",
    "    return rate, err"
   ]
  },
  {
   "cell_type": "markdown",
   "metadata": {},
   "source": [
    "### Write an inline button click handler\n",
    "\n",
    "`pyTelegramBotAPI` offers the `@bot.callback_query_handler` decorator which will pass the `CallbackQuery` object into a nested function."
   ]
  },
  {
   "cell_type": "code",
   "execution_count": null,
   "metadata": {},
   "outputs": [],
   "source": [
    "@bot.callback_query_handler(func=lambda call: True)\n",
    "def iq_callback(query):\n",
    "    data = query.data\n",
    "    if data.startswith('get-'):\n",
    "        get_ex_callback(query)\n",
    "    else:\n",
    "        bot.send_message(message.from_user.id,\\\n",
    "                         'Unexpected failure. Try again later')\n",
    "        \n",
    "def get_ex_callback(query):\n",
    "    bot.answer_callback_query(query.id)\n",
    "    #print(query.id, query.from_user)\n",
    "    #send_exchange_result(query.from_user.id, query.message, query.data[4:])\n",
    "    send_exchange_result(query.from_user.id, query.data[4:])\n",
    "    "
   ]
  },
  {
   "cell_type": "markdown",
   "metadata": {},
   "source": [
    "### Comments\n",
    "\n",
    "* Our `query.data` is ogranized in such a way that it starts with 'get-'; see `exchange_command()` above\n",
    "* Nevertheless, we verify it with `if` in line 4. In case of unexpected error, the bot does nothing\n",
    "* Check the fields of `query` <a href = \"https://python-telegram-bot.readthedocs.io/en/stable/telegram.callbackquery.html\">here</a>\n",
    "* `from_user.id` contains the id of user who sent the request; do not mix it with `id` that contains the id of the bot\n",
    "* the last nested function is `send_exchange_result()` defined below, which \n",
    "    * takes the exchange rate from the correct url (the definition of url requires the currency code `ex_code`) with function `fnd_rate()` defined above\n",
    "    * and send message about the currency rate to `from_id`"
   ]
  },
  {
   "cell_type": "code",
   "execution_count": null,
   "metadata": {},
   "outputs": [],
   "source": [
    "def send_exchange_result(from_id, ex_code):\n",
    "    #url = 'https://api.nbp.pl/api/exchangerates/rates/a/usd/' #example of full url\n",
    "    url = 'https://api.nbp.pl/api/exchangerates/rates/a/' #first part of url\n",
    "    url = url + ex_code.lower() + '/'\n",
    "    bot.send_chat_action(from_id, 'typing')\n",
    "    err = False\n",
    "    rate, err = fnd_rate(url, err)\n",
    "    if err == True:\n",
    "        bot.send_message(from_id, url + 'Unavailable')\n",
    "    else:\n",
    "        bot.send_message(from_id, '1 {:s} = {:f} PLN'.format(ex_code, rate))\n",
    "\n",
    "bot.polling()\n"
   ]
  },
  {
   "cell_type": "markdown",
   "metadata": {},
   "source": [
    "<h2 style=\"background-color:Tomato;\">Task</h2>\n",
    "\n",
    "1. Increase the number of currencies (compulsory)\n",
    "2. Process other requests related to the data\n",
    "    * the bot can respond to the request with the currency code and the range of the dates\n",
    "    * the code extracts the data regarding the exchange rate for the requested range of the dates\n",
    "    * and returns the graph with the data\n",
    "3. Write a bot that finds\n",
    "    * synonyms to words\n",
    "    * the distance between words\n",
    "    * the sum and subtraction of words based on their context"
   ]
  },
  {
   "cell_type": "markdown",
   "metadata": {},
   "source": [
    "## Flask\n",
    "\n",
    "If you run a bot, it will fail with time returning error \"Connection to api.telegram.org timed out.\" \n",
    "\n",
    "You can cope with it by using __webhook__\n",
    "\n",
    "The correct site name must be used\n",
    "\n",
    "````python\n",
    "from flask import Flask, request\n",
    "import logging\n",
    "import telebot\n",
    "from credentials import bot_token, bot_user_name, URL\n",
    "bot = telebot.TeleBot(bot_token)\n",
    "\n",
    "app = Flask(__name__)\n",
    "\n",
    "@bot.message_handler(commands=['start'])\n",
    "def start(message):\n",
    "    bot.send_message(message.chat.id, 'It works!')\n",
    "\n",
    "@app.route(\"/\" + bot_token, methods=['POST'])\n",
    "def getMessage():\n",
    "  bot.process_new_updates([telebot.types.Update.de_json(request.stream.read().decode(\"utf-8\"))])\n",
    "  return \"!\", 200\n",
    "\n",
    "bot.remove_webhook()\n",
    "bot.set_webhook('https://test.com/' + bot_token) #use the correct site name\n",
    "app.run()\n",
    "````"
   ]
  }
 ],
 "metadata": {
  "kernelspec": {
   "display_name": "Python 3 (ipykernel)",
   "language": "python",
   "name": "python3"
  },
  "language_info": {
   "codemirror_mode": {
    "name": "ipython",
    "version": 3
   },
   "file_extension": ".py",
   "mimetype": "text/x-python",
   "name": "python",
   "nbconvert_exporter": "python",
   "pygments_lexer": "ipython3",
   "version": "3.11.7"
  },
  "toc": {
   "base_numbering": 1,
   "nav_menu": {},
   "number_sections": true,
   "sideBar": true,
   "skip_h1_title": true,
   "title_cell": "Table of Contents",
   "title_sidebar": "Contents",
   "toc_cell": false,
   "toc_position": {},
   "toc_section_display": true,
   "toc_window_display": false
  }
 },
 "nbformat": 4,
 "nbformat_minor": 2
}
