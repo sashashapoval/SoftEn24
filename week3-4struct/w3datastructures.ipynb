{
 "cells": [
  {
   "cell_type": "markdown",
   "metadata": {},
   "source": [
    "## Introduction to Data structures <a name=\"datastructures\"></a>"
   ]
  },
  {
   "cell_type": "markdown",
   "metadata": {},
   "source": [
    "While reading, pay attention to the types of brackets."
   ]
  },
  {
   "cell_type": "markdown",
   "metadata": {},
   "source": [
    "**Lists** and arrays are the same thing in Python. https://docs.python.org/3/tutorial/introduction.html#lists and https://docs.python.org/3/tutorial/datastructures.html#more-on-lists"
   ]
  },
  {
   "cell_type": "code",
   "execution_count": 13,
   "metadata": {},
   "outputs": [
    {
     "data": {
      "text/plain": [
       "list"
      ]
     },
     "execution_count": 13,
     "metadata": {},
     "output_type": "execute_result"
    }
   ],
   "source": [
    "vaccination_queue = ['Summer', 'Jerry', 'Beth', 'Rick', 'Morty']\n",
    "type(vaccination_queue)"
   ]
  },
  {
   "cell_type": "code",
   "execution_count": 2,
   "metadata": {},
   "outputs": [
    {
     "name": "stdout",
     "output_type": "stream",
     "text": [
      "<class 'list'>\n",
      "[1, 2, 3, 2022]\n",
      "[   1    2    3 2022] <class 'numpy.ndarray'>\n"
     ]
    }
   ],
   "source": [
    "import numpy as np\n",
    "val = [1, 2, 3, 2022]\n",
    "print(type(val))\n",
    "num_val = np.array(val)\n",
    "print(val)\n",
    "print(num_val, type(num_val))"
   ]
  },
  {
   "cell_type": "code",
   "execution_count": 3,
   "metadata": {},
   "outputs": [
    {
     "data": {
      "text/plain": [
       "['Summer', 'Jerry', 'Beth', 'Rick', 'Morty']"
      ]
     },
     "execution_count": 3,
     "metadata": {},
     "output_type": "execute_result"
    }
   ],
   "source": [
    "# Python keeps the elements of list in the same order\n",
    "vaccination_queue"
   ]
  },
  {
   "cell_type": "markdown",
   "metadata": {},
   "source": [
    "**Tuple**\n",
    "\n",
    "https://docs.python.org/3/tutorial/datastructures.html#tuples-and-sequences"
   ]
  },
  {
   "cell_type": "code",
   "execution_count": 1,
   "metadata": {},
   "outputs": [
    {
     "data": {
      "text/plain": [
       "tuple"
      ]
     },
     "execution_count": 1,
     "metadata": {},
     "output_type": "execute_result"
    }
   ],
   "source": [
    "countries_with_a = ('Afghanistan', 'Albania', 'Algeria', 'Andorra', 'Angola', 'Antigua and Barbuda')\n",
    "type(countries_with_a)"
   ]
  },
  {
   "cell_type": "code",
   "execution_count": 2,
   "metadata": {},
   "outputs": [
    {
     "data": {
      "text/plain": [
       "('Afghanistan',\n",
       " 'Albania',\n",
       " 'Algeria',\n",
       " 'Andorra',\n",
       " 'Angola',\n",
       " 'Antigua and Barbuda')"
      ]
     },
     "execution_count": 2,
     "metadata": {},
     "output_type": "execute_result"
    }
   ],
   "source": [
    "countries_with_a"
   ]
  },
  {
   "cell_type": "markdown",
   "metadata": {},
   "source": [
    "Let's replace one of the countries:"
   ]
  },
  {
   "cell_type": "code",
   "execution_count": 3,
   "metadata": {},
   "outputs": [
    {
     "ename": "TypeError",
     "evalue": "'tuple' object does not support item assignment",
     "output_type": "error",
     "traceback": [
      "\u001b[1;31m---------------------------------------------------------------------------\u001b[0m",
      "\u001b[1;31mTypeError\u001b[0m                                 Traceback (most recent call last)",
      "Cell \u001b[1;32mIn[3], line 1\u001b[0m\n\u001b[1;32m----> 1\u001b[0m countries_with_a[\u001b[38;5;241m0\u001b[39m] \u001b[38;5;241m=\u001b[39m \u001b[38;5;124m'\u001b[39m\u001b[38;5;124mAnother country\u001b[39m\u001b[38;5;124m'\u001b[39m\n",
      "\u001b[1;31mTypeError\u001b[0m: 'tuple' object does not support item assignment"
     ]
    }
   ],
   "source": [
    "countries_with_a[0] = 'Another country'\n"
   ]
  },
  {
   "cell_type": "markdown",
   "metadata": {},
   "source": [
    "The **TypeError** was raised because, unlike lists, tuples are immutable. This is why we cannot change the assigned items."
   ]
  },
  {
   "cell_type": "markdown",
   "metadata": {},
   "source": [
    "### For loop"
   ]
  },
  {
   "cell_type": "code",
   "execution_count": 4,
   "metadata": {},
   "outputs": [
    {
     "name": "stdout",
     "output_type": "stream",
     "text": [
      "Afghanistan\n",
      "Albania\n",
      "Algeria\n",
      "Andorra\n",
      "Angola\n",
      "Antigua and Barbuda\n"
     ]
    }
   ],
   "source": [
    "for i in countries_with_a:\n",
    "    print(i)"
   ]
  },
  {
   "cell_type": "code",
   "execution_count": 5,
   "metadata": {},
   "outputs": [
    {
     "name": "stdout",
     "output_type": "stream",
     "text": [
      "0\n",
      "1\n",
      "2\n",
      "3\n",
      "4\n",
      "5\n"
     ]
    }
   ],
   "source": [
    "for i in range(len(countries_with_a)):\n",
    "    print(i)"
   ]
  },
  {
   "cell_type": "code",
   "execution_count": 6,
   "metadata": {},
   "outputs": [
    {
     "name": "stdout",
     "output_type": "stream",
     "text": [
      "1\n",
      "3\n"
     ]
    }
   ],
   "source": [
    "for i in range(1, len(countries_with_a) - 1, 2):\n",
    "    print(i)\n",
    "#where is number 5?"
   ]
  },
  {
   "cell_type": "code",
   "execution_count": null,
   "metadata": {},
   "outputs": [],
   "source": [
    "for idx, country in enumerate(countries_with_a):\n",
    "    print(idx, country)"
   ]
  },
  {
   "cell_type": "markdown",
   "metadata": {},
   "source": [
    "### While loop"
   ]
  },
  {
   "cell_type": "code",
   "execution_count": null,
   "metadata": {},
   "outputs": [],
   "source": [
    "counter = 1\n",
    "while counter < 6:\n",
    "    print(counter)\n",
    "    counter += 1"
   ]
  },
  {
   "cell_type": "code",
   "execution_count": 7,
   "metadata": {
    "scrolled": true
   },
   "outputs": [
    {
     "name": "stdout",
     "output_type": "stream",
     "text": [
      "Antigua and Barbuda\n",
      "Angola\n",
      "Andorra\n",
      "Algeria\n",
      "Albania\n",
      "Afghanistan\n",
      "There are no countries left on the list\n"
     ]
    }
   ],
   "source": [
    "countries_with_a = list(countries_with_a)\n",
    "counter = len(countries_with_a)\n",
    "\n",
    "while counter > 0:\n",
    "    print(countries_with_a[-1])\n",
    "    countries_with_a.pop()\n",
    "    counter -= 1\n",
    "else:\n",
    "    print(\"There are no countries left on the list\")"
   ]
  },
  {
   "cell_type": "markdown",
   "metadata": {},
   "source": [
    "## Indexing and slicing <a name=\"indexing\"></a>"
   ]
  },
  {
   "cell_type": "code",
   "execution_count": null,
   "metadata": {},
   "outputs": [],
   "source": [
    "vaccination_queue"
   ]
  },
  {
   "cell_type": "code",
   "execution_count": null,
   "metadata": {},
   "outputs": [],
   "source": [
    "# list length\n",
    "len(vaccination_queue)"
   ]
  },
  {
   "cell_type": "markdown",
   "metadata": {},
   "source": [
    "Each item in the list has its own index. 0 - 'Summer', 1 - 'Jerry', etc. You can return an item from a list by its index using square brackets [ ].\n",
    "\n",
    "<img src=\"https://cdn.programiz.com/sites/tutorial2program/files/python-list-index.png\" width=\"500\" height=\"500\" align=\"left\">"
   ]
  },
  {
   "cell_type": "markdown",
   "metadata": {},
   "source": [
    "Mind that indexing in Python starts at 0 instead of 1. \n",
    "\n",
    "Task! Check who is the first in a line,"
   ]
  },
  {
   "cell_type": "code",
   "execution_count": null,
   "metadata": {},
   "outputs": [],
   "source": [
    "# YOUR CODE"
   ]
  },
  {
   "cell_type": "markdown",
   "metadata": {},
   "source": [
    "Who is the last one?"
   ]
  },
  {
   "cell_type": "code",
   "execution_count": null,
   "metadata": {},
   "outputs": [],
   "source": [
    "# YOUR CODE\n"
   ]
  },
  {
   "cell_type": "markdown",
   "metadata": {},
   "source": [
    "or"
   ]
  },
  {
   "cell_type": "code",
   "execution_count": null,
   "metadata": {},
   "outputs": [],
   "source": [
    "# the index of the last element is (length - 1) because indices start at 0 instead of 1\n",
    "\n",
    "vaccination_queue[len(vaccination_queue) - 1]"
   ]
  },
  {
   "cell_type": "markdown",
   "metadata": {},
   "source": [
    "Explanation: **[start index : end index : step]** [more details](https://stackoverflow.com/questions/509211/understanding-slice-notation)"
   ]
  },
  {
   "cell_type": "markdown",
   "metadata": {},
   "source": [
    "['Summer', 'Jerry', 'Beth', 'Rick', 'Morty']\n",
    "\n",
    "    0      1    2     3    4"
   ]
  },
  {
   "cell_type": "code",
   "execution_count": null,
   "metadata": {
    "scrolled": true
   },
   "outputs": [],
   "source": [
    "# all elements starting from the second element\n",
    "vaccination_queue[1:]"
   ]
  },
  {
   "cell_type": "code",
   "execution_count": null,
   "metadata": {},
   "outputs": [],
   "source": [
    "# all elements before the last element\n",
    "vaccination_queue[:-1]"
   ]
  },
  {
   "cell_type": "code",
   "execution_count": null,
   "metadata": {},
   "outputs": [],
   "source": [
    "# all elements with one step skip (keep elements at even indices only)\n",
    "vaccination_queue[::2]"
   ]
  },
  {
   "cell_type": "code",
   "execution_count": null,
   "metadata": {},
   "outputs": [],
   "source": [
    "# all elements in reverse order\n",
    "vaccination_queue[::-1]"
   ]
  },
  {
   "cell_type": "markdown",
   "metadata": {},
   "source": [
    "__Slicing__\n",
    "`slice(start, end, step)`"
   ]
  },
  {
   "cell_type": "code",
   "execution_count": 17,
   "metadata": {},
   "outputs": [
    {
     "name": "stdout",
     "output_type": "stream",
     "text": [
      "['Summer', 'Jerry', 'Beth', 'Rick', 'Morty']\n"
     ]
    },
    {
     "data": {
      "text/plain": [
       "['Jerry', 'Beth']"
      ]
     },
     "execution_count": 17,
     "metadata": {},
     "output_type": "execute_result"
    }
   ],
   "source": [
    "print(vaccination_queue)\n",
    "vaccination_queue[slice(1,3,1)]"
   ]
  },
  {
   "cell_type": "markdown",
   "metadata": {},
   "source": [
    "### Lists methods"
   ]
  },
  {
   "cell_type": "code",
   "execution_count": null,
   "metadata": {},
   "outputs": [],
   "source": [
    "# alternative way to reverse list in place\n",
    "vaccination_queue.reverse()\n",
    "vaccination_queue"
   ]
  },
  {
   "cell_type": "code",
   "execution_count": null,
   "metadata": {},
   "outputs": [],
   "source": [
    "# nested list indexing\n",
    "vaccination_queue.append(['Bad Snuffles', 'Good Snuffles', 'Alternative Snuffles'])\n",
    "vaccination_queue"
   ]
  },
  {
   "cell_type": "code",
   "execution_count": null,
   "metadata": {},
   "outputs": [],
   "source": [
    "vaccination_queue.extend(['Bad Snuffles', 'Good Snuffles', 'Alternative Snuffles'])\n",
    "vaccination_queue"
   ]
  },
  {
   "cell_type": "markdown",
   "metadata": {},
   "source": [
    "__TEST__ `.append()` and `.extend()` methods yourself"
   ]
  },
  {
   "cell_type": "code",
   "execution_count": null,
   "metadata": {},
   "outputs": [],
   "source": [
    "# YOUR CODE"
   ]
  },
  {
   "cell_type": "markdown",
   "metadata": {},
   "source": [
    "**Task!** How to access to the 'Alternative Snuffles'?"
   ]
  },
  {
   "cell_type": "code",
   "execution_count": null,
   "metadata": {},
   "outputs": [],
   "source": [
    "# YOUR CODE"
   ]
  },
  {
   "cell_type": "code",
   "execution_count": 18,
   "metadata": {},
   "outputs": [
    {
     "data": {
      "text/plain": [
       "4.5"
      ]
     },
     "execution_count": 18,
     "metadata": {},
     "output_type": "execute_result"
    }
   ],
   "source": [
    "# Grades for Exam tasks from 1 to 5\n",
    "your_potential_grades = [5, 4.5, 5, 4.2, 5]\n",
    "\n",
    "# Look up your second mark (Task-2)\n",
    "your_potential_grades[1] "
   ]
  },
  {
   "cell_type": "code",
   "execution_count": null,
   "metadata": {},
   "outputs": [],
   "source": [
    "arr = [your_potential_grades[i] for i in range(len(your_potential_grades))]\n",
    "print(arr)"
   ]
  },
  {
   "cell_type": "code",
   "execution_count": null,
   "metadata": {},
   "outputs": [],
   "source": [
    "weight = [0.4, 0.1*0.6, 0.1*0.6, 0.15*0.6, 0.25*0.6]\n",
    "grade_before_rounding = 0\n",
    "for i in range(len(weight)):\n",
    "    grade_before_rounding += weight[i] * arr[i]\n",
    "print(grade_before_rounding)"
   ]
  },
  {
   "cell_type": "markdown",
   "metadata": {},
   "source": [
    "Let's sort the grade **in ascending order** in place (it means, that this list will be stored as sorted). "
   ]
  },
  {
   "cell_type": "code",
   "execution_count": null,
   "metadata": {},
   "outputs": [],
   "source": [
    "# sorting \n",
    "\n",
    "your_potential_grades.sort()\n",
    "your_potential_grades"
   ]
  },
  {
   "cell_type": "code",
   "execution_count": null,
   "metadata": {},
   "outputs": [],
   "source": [
    "# click inside the brackets of sort and push Shift + Tab\n",
    "your_potential_grades.sort()"
   ]
  },
  {
   "cell_type": "markdown",
   "metadata": {},
   "source": [
    "This is how you call the documentation for each function in Python. So, you can see, there are two arguments: key and reverse. Let's use reverse and sort our list **in descending order**."
   ]
  },
  {
   "cell_type": "code",
   "execution_count": 19,
   "metadata": {},
   "outputs": [
    {
     "data": {
      "text/plain": [
       "[5, 5, 5, 4.5, 4.2]"
      ]
     },
     "execution_count": 19,
     "metadata": {},
     "output_type": "execute_result"
    }
   ],
   "source": [
    "your_potential_grades.sort(reverse=True)\n",
    "your_potential_grades"
   ]
  },
  {
   "cell_type": "code",
   "execution_count": 20,
   "metadata": {},
   "outputs": [
    {
     "data": {
      "text/plain": [
       "[4.2, 4.5, 5, 5, 5]"
      ]
     },
     "execution_count": 20,
     "metadata": {},
     "output_type": "execute_result"
    }
   ],
   "source": [
    "# alternative with creteing a copy of the list\n",
    "\n",
    "your_potential_grades = [5, 4.5, 5, 4.2, 5]\n",
    "\n",
    "sorted(your_potential_grades)"
   ]
  },
  {
   "cell_type": "code",
   "execution_count": 21,
   "metadata": {},
   "outputs": [
    {
     "data": {
      "text/plain": [
       "[5, 4.5, 5, 4.2, 5]"
      ]
     },
     "execution_count": 21,
     "metadata": {},
     "output_type": "execute_result"
    }
   ],
   "source": [
    "your_potential_grades"
   ]
  },
  {
   "cell_type": "markdown",
   "metadata": {},
   "source": [
    "Why didn't Python keep your_potential_grades sorted and return the original order of the elements? This is because sorted () creates a copy of your list and then sorts it."
   ]
  },
  {
   "cell_type": "code",
   "execution_count": null,
   "metadata": {},
   "outputs": [],
   "source": [
    "sorted_grades = sorted(your_potential_grades)\n",
    "sorted_grades"
   ]
  },
  {
   "cell_type": "markdown",
   "metadata": {},
   "source": [
    "Your can change the grade you don't like, because lists are mutable. "
   ]
  },
  {
   "cell_type": "code",
   "execution_count": null,
   "metadata": {},
   "outputs": [],
   "source": [
    "# replace\n",
    "print(your_potential_grades[1])\n",
    "your_potential_grades[1] = 5\n",
    "your_potential_grades[1]"
   ]
  },
  {
   "cell_type": "markdown",
   "metadata": {},
   "source": [
    "Imagine, you like this course so much, that you even ask additional special tasks and get 2.5 additional points. "
   ]
  },
  {
   "cell_type": "code",
   "execution_count": null,
   "metadata": {},
   "outputs": [],
   "source": [
    "# add element \n",
    "your_potential_grades.append(2.5)\n",
    "\n",
    "your_potential_grades"
   ]
  },
  {
   "cell_type": "markdown",
   "metadata": {},
   "source": [
    "> __Unfortunately, the rules does not allow to give you additional points__"
   ]
  },
  {
   "cell_type": "code",
   "execution_count": null,
   "metadata": {},
   "outputs": [],
   "source": [
    "# delete element\n",
    "your_potential_grades.remove(2.5)\n",
    "\n",
    "your_potential_grades"
   ]
  },
  {
   "cell_type": "code",
   "execution_count": null,
   "metadata": {},
   "outputs": [],
   "source": [
    "# pop element\n",
    "your_potential_grades.pop()"
   ]
  },
  {
   "cell_type": "code",
   "execution_count": null,
   "metadata": {},
   "outputs": [],
   "source": [
    "your_potential_grades"
   ]
  },
  {
   "cell_type": "markdown",
   "metadata": {},
   "source": [
    "pop() returns the last item in the list and removes it, while the remove() method removes the item you specified in brackets (with whatever index you want) and does not return that value on output."
   ]
  },
  {
   "cell_type": "code",
   "execution_count": null,
   "metadata": {},
   "outputs": [],
   "source": [
    "# pop element\n",
    "your_potential_grades.pop(0)\n",
    "your_potential_grades"
   ]
  },
  {
   "cell_type": "code",
   "execution_count": null,
   "metadata": {},
   "outputs": [],
   "source": [
    "# you can save the result of pop() into a variable\n",
    "last_grade_in_list = your_potential_grades.pop()\n",
    "last_grade_in_list"
   ]
  },
  {
   "cell_type": "code",
   "execution_count": 22,
   "metadata": {},
   "outputs": [
    {
     "data": {
      "text/plain": [
       "[9, 5, 4.5, 5, 4.2, 5]"
      ]
     },
     "execution_count": 22,
     "metadata": {},
     "output_type": "execute_result"
    }
   ],
   "source": [
    "# insert an element at a specific position\n",
    "# 0 - index, 9 - value\n",
    "your_potential_grades.insert(0, 9)\n",
    "your_potential_grades"
   ]
  },
  {
   "cell_type": "code",
   "execution_count": 23,
   "metadata": {},
   "outputs": [
    {
     "data": {
      "text/plain": [
       "[9, 10, 5, 4.5, 5, 4.2, 5]"
      ]
     },
     "execution_count": 23,
     "metadata": {},
     "output_type": "execute_result"
    }
   ],
   "source": [
    "your_potential_grades.insert(1, 10)\n",
    "your_potential_grades"
   ]
  },
  {
   "cell_type": "code",
   "execution_count": 24,
   "metadata": {},
   "outputs": [
    {
     "data": {
      "text/plain": [
       "1"
      ]
     },
     "execution_count": 24,
     "metadata": {},
     "output_type": "execute_result"
    }
   ],
   "source": [
    "# let's count how many times the value 10 is in the list\n",
    "your_potential_grades.count(10)"
   ]
  },
  {
   "cell_type": "markdown",
   "metadata": {},
   "source": [
    "### List comprehensions"
   ]
  },
  {
   "cell_type": "code",
   "execution_count": 25,
   "metadata": {},
   "outputs": [
    {
     "name": "stdout",
     "output_type": "stream",
     "text": [
      "[0, 1, 4, 9, 16, 25, 36]\n",
      "[0, 1, 4, 9, 16, 25, 36]\n",
      "[0, 1, 4, 9, 16, 25, 36]\n"
     ]
    }
   ],
   "source": [
    "some_list = [0, 1, 2, 3, 4, 5, 6]\n",
    "\n",
    "new_list = []\n",
    "for i in some_list:\n",
    "    new_list.append(i ** 2) # square \n",
    "\n",
    "new_list1 = [some_list[i] ** 2 for i in range(len(some_list))]\n",
    "new_list2 = [i ** 2 for i in some_list]\n",
    "print(new_list, new_list1, new_list2, sep = '\\n')"
   ]
  },
  {
   "cell_type": "markdown",
   "metadata": {},
   "source": [
    "Instead of loop with **for**, we can code this operation in one line using list comprehensions:"
   ]
  },
  {
   "cell_type": "code",
   "execution_count": null,
   "metadata": {},
   "outputs": [],
   "source": [
    "another_new_list = [i ** 2 for i in some_list]\n",
    "another_new_list"
   ]
  },
  {
   "cell_type": "markdown",
   "metadata": {},
   "source": [
    "The square brackets around the expression should indicate that we are creating a list. The expression inside the brackets should be read literally: a list of squared elements for (**for**) elements `i` from (**in**) `some_list`."
   ]
  },
  {
   "cell_type": "code",
   "execution_count": null,
   "metadata": {},
   "outputs": [],
   "source": [
    "# filtering using list comprehensions\n",
    "[x for x in another_new_list if x % 2 == 0]"
   ]
  },
  {
   "cell_type": "markdown",
   "metadata": {},
   "source": [
    "% operator returns the remainder of the division. So, ```if x % 2 == 0``` means that if the number x is divisible by 2 and has no remainder (remainder = 0 is True), then we store it in the list, otherwise, delete it. As a result, we get even numbers."
   ]
  },
  {
   "cell_type": "markdown",
   "metadata": {},
   "source": [
    "### Tuples\n",
    "\n",
    "https://www.w3schools.com/python/python_tuples.asp"
   ]
  },
  {
   "cell_type": "code",
   "execution_count": null,
   "metadata": {},
   "outputs": [],
   "source": [
    "info = ('Sherlock Holmes', 'Baker Street 221b', 'Deduction', 'Elementary', 'Dr. Watson')\n",
    "type(info)"
   ]
  },
  {
   "cell_type": "code",
   "execution_count": null,
   "metadata": {},
   "outputs": [],
   "source": [
    "# access item\n",
    "info[3]"
   ]
  },
  {
   "cell_type": "code",
   "execution_count": null,
   "metadata": {},
   "outputs": [],
   "source": [
    "print(info)"
   ]
  },
  {
   "cell_type": "code",
   "execution_count": null,
   "metadata": {},
   "outputs": [],
   "source": [
    "info[-1]"
   ]
  },
  {
   "cell_type": "code",
   "execution_count": null,
   "metadata": {},
   "outputs": [],
   "source": [
    "info[-6]"
   ]
  },
  {
   "cell_type": "code",
   "execution_count": null,
   "metadata": {},
   "outputs": [],
   "source": [
    "# slicing\n",
    "info[2:5]"
   ]
  },
  {
   "cell_type": "code",
   "execution_count": null,
   "metadata": {},
   "outputs": [],
   "source": [
    "info[2:100000000] # the upper bound of index in slicing is unlimited(the same for lists and strings)"
   ]
  },
  {
   "cell_type": "code",
   "execution_count": null,
   "metadata": {},
   "outputs": [],
   "source": [
    "# replacement doesn't work because tuples are immutable\n",
    "info[2] = 'Induction'\n",
    "info"
   ]
  },
  {
   "cell_type": "markdown",
   "metadata": {},
   "source": [
    "However, you can convert your tuple into list, make change and convert it back. "
   ]
  },
  {
   "cell_type": "code",
   "execution_count": null,
   "metadata": {},
   "outputs": [],
   "source": [
    "info = list(info)\n",
    "info, type(info)"
   ]
  },
  {
   "cell_type": "code",
   "execution_count": null,
   "metadata": {},
   "outputs": [],
   "source": [
    "info[2] = 'Induction'\n",
    "info = tuple(info)\n",
    "info"
   ]
  },
  {
   "cell_type": "markdown",
   "metadata": {},
   "source": [
    "> **Once a tuple is created, you cannot add and remove items in it**. Tuples are unchangeable, but you can use the trick with list and convert it back."
   ]
  },
  {
   "cell_type": "markdown",
   "metadata": {},
   "source": [
    "**DIctionaries**"
   ]
  },
  {
   "cell_type": "markdown",
   "metadata": {},
   "source": [
    "A dictionary is an unordered structure, it consists of keys and values. We cannot refer to the object by index, but we can refer to the key."
   ]
  },
  {
   "cell_type": "code",
   "execution_count": 26,
   "metadata": {},
   "outputs": [],
   "source": [
    "president = {\n",
    "  \"name\": \"Uknown\",\n",
    "  \"age\": 81,\n",
    "  \"political party\": 'Democratic',\n",
    "  \"children\" : ['Hunter', 'Beau', 'Ashley', 'Naomi Christina']\n",
    "}"
   ]
  },
  {
   "cell_type": "code",
   "execution_count": 27,
   "metadata": {},
   "outputs": [
    {
     "data": {
      "text/plain": [
       "'Roman said \"something\"'"
      ]
     },
     "execution_count": 27,
     "metadata": {},
     "output_type": "execute_result"
    }
   ],
   "source": [
    "'Roman said \"something\"'"
   ]
  },
  {
   "cell_type": "markdown",
   "metadata": {},
   "source": [
    "We cannot refer to the object by index, but we can refer to the key:"
   ]
  },
  {
   "cell_type": "code",
   "execution_count": 28,
   "metadata": {},
   "outputs": [
    {
     "ename": "KeyError",
     "evalue": "0",
     "output_type": "error",
     "traceback": [
      "\u001b[1;31m---------------------------------------------------------------------------\u001b[0m",
      "\u001b[1;31mKeyError\u001b[0m                                  Traceback (most recent call last)",
      "Cell \u001b[1;32mIn[28], line 1\u001b[0m\n\u001b[1;32m----> 1\u001b[0m \u001b[43mpresident\u001b[49m\u001b[43m[\u001b[49m\u001b[38;5;241;43m0\u001b[39;49m\u001b[43m]\u001b[49m\n",
      "\u001b[1;31mKeyError\u001b[0m: 0"
     ]
    }
   ],
   "source": [
    "president[0]"
   ]
  },
  {
   "cell_type": "code",
   "execution_count": 29,
   "metadata": {},
   "outputs": [
    {
     "data": {
      "text/plain": [
       "81"
      ]
     },
     "execution_count": 29,
     "metadata": {},
     "output_type": "execute_result"
    }
   ],
   "source": [
    "president['age']"
   ]
  },
  {
   "cell_type": "markdown",
   "metadata": {},
   "source": [
    "To find out what keys or values are in the dictionary, you can use the corresponding methods."
   ]
  },
  {
   "cell_type": "code",
   "execution_count": 30,
   "metadata": {},
   "outputs": [
    {
     "data": {
      "text/plain": [
       "dict_keys(['name', 'age', 'political party', 'children'])"
      ]
     },
     "execution_count": 30,
     "metadata": {},
     "output_type": "execute_result"
    }
   ],
   "source": [
    "president.keys()"
   ]
  },
  {
   "cell_type": "code",
   "execution_count": 31,
   "metadata": {},
   "outputs": [
    {
     "ename": "TypeError",
     "evalue": "'dict_keys' object is not subscriptable",
     "output_type": "error",
     "traceback": [
      "\u001b[1;31m---------------------------------------------------------------------------\u001b[0m",
      "\u001b[1;31mTypeError\u001b[0m                                 Traceback (most recent call last)",
      "Cell \u001b[1;32mIn[31], line 1\u001b[0m\n\u001b[1;32m----> 1\u001b[0m \u001b[38;5;28mprint\u001b[39m(\u001b[43mpresident\u001b[49m\u001b[38;5;241;43m.\u001b[39;49m\u001b[43mkeys\u001b[49m\u001b[43m(\u001b[49m\u001b[43m)\u001b[49m\u001b[43m[\u001b[49m\u001b[38;5;241;43m0\u001b[39;49m\u001b[43m]\u001b[49m)\n",
      "\u001b[1;31mTypeError\u001b[0m: 'dict_keys' object is not subscriptable"
     ]
    }
   ],
   "source": [
    "print(president.keys()[0])"
   ]
  },
  {
   "cell_type": "code",
   "execution_count": 32,
   "metadata": {},
   "outputs": [
    {
     "name": "stdout",
     "output_type": "stream",
     "text": [
      "<class 'dict_keys'>\n",
      "name\n"
     ]
    }
   ],
   "source": [
    "print(type(president.keys()))\n",
    "x = list(president.keys())\n",
    "print(x[0])"
   ]
  },
  {
   "cell_type": "code",
   "execution_count": 33,
   "metadata": {},
   "outputs": [
    {
     "data": {
      "text/plain": [
       "dict_values(['Uknown', 81, 'Democratic', ['Hunter', 'Beau', 'Ashley', 'Naomi Christina']])"
      ]
     },
     "execution_count": 33,
     "metadata": {},
     "output_type": "execute_result"
    }
   ],
   "source": [
    "president.values()"
   ]
  },
  {
   "cell_type": "code",
   "execution_count": 34,
   "metadata": {},
   "outputs": [
    {
     "data": {
      "text/plain": [
       "dict_items([('name', 'Uknown'), ('age', 81), ('political party', 'Democratic'), ('children', ['Hunter', 'Beau', 'Ashley', 'Naomi Christina'])])"
      ]
     },
     "execution_count": 34,
     "metadata": {},
     "output_type": "execute_result"
    }
   ],
   "source": [
    "president.items()"
   ]
  },
  {
   "cell_type": "code",
   "execution_count": 35,
   "metadata": {},
   "outputs": [
    {
     "name": "stdout",
     "output_type": "stream",
     "text": [
      "key: name - value: Uknown\n",
      "key: age - value: 81\n",
      "key: political party - value: Democratic\n",
      "key: children - value: ['Hunter', 'Beau', 'Ashley', 'Naomi Christina']\n"
     ]
    }
   ],
   "source": [
    "for key, value in president.items():\n",
    "    print('key:', key, '- value:', value)"
   ]
  },
  {
   "cell_type": "code",
   "execution_count": 36,
   "metadata": {},
   "outputs": [
    {
     "name": "stdout",
     "output_type": "stream",
     "text": [
      "name\n",
      "age\n",
      "political party\n",
      "children\n"
     ]
    }
   ],
   "source": [
    "for key in president:\n",
    "    print(key)"
   ]
  },
  {
   "cell_type": "markdown",
   "metadata": {
    "slideshow": {
     "slide_type": ""
    }
   },
   "source": [
    "Adding key-value pairs to a dictionary is very simple, like replacing a value by index in lists. The deletion is done using the ```del``` function. We can also check the presence of the key in the dictionary."
   ]
  },
  {
   "cell_type": "code",
   "execution_count": 37,
   "metadata": {},
   "outputs": [
    {
     "name": "stdout",
     "output_type": "stream",
     "text": [
      "{'name': 'Joe Biden', 'age': 81, 'political party': 'Democratic', 'children': ['Hunter', 'Beau', 'Ashley', 'Naomi Christina'], 'place of birth': 'Scranton, Pennsylvania, U.S.', 'education': ['University of Delaware (BA)', 'Syracuse University (JD)']}\n"
     ]
    }
   ],
   "source": [
    "president['place of birth'] = 'Scranton, Pennsylvania, U.S.' # new key and value\n",
    "president['education'] = ['University of Delaware (BA)','Syracuse University (JD)']\n",
    "president['name'] = 'Joe Biden'  # overwrite the value in existing key\n",
    "print(president)"
   ]
  },
  {
   "cell_type": "code",
   "execution_count": 38,
   "metadata": {},
   "outputs": [
    {
     "name": "stdout",
     "output_type": "stream",
     "text": [
      "{'name': 'Joe Biden', 'age': 81, 'political party': 'Democratic', 'place of birth': 'Scranton, Pennsylvania, U.S.', 'education': ['University of Delaware (BA)', 'Syracuse University (JD)']}\n"
     ]
    }
   ],
   "source": [
    "del president['children']\n",
    "print(president)"
   ]
  },
  {
   "cell_type": "code",
   "execution_count": 39,
   "metadata": {},
   "outputs": [
    {
     "data": {
      "text/plain": [
       "True"
      ]
     },
     "execution_count": 39,
     "metadata": {},
     "output_type": "execute_result"
    }
   ],
   "source": [
    "'place of birth' in president # is 'place of birth' among keys?"
   ]
  },
  {
   "cell_type": "markdown",
   "metadata": {},
   "source": [
    "**Sets**"
   ]
  },
  {
   "cell_type": "markdown",
   "metadata": {},
   "source": [
    "<img src=\"https://www.learnbyexample.org/wp-content/uploads/python/Python-Set-Operatioons.png\" height=300 width=300>"
   ]
  },
  {
   "cell_type": "code",
   "execution_count": null,
   "metadata": {},
   "outputs": [],
   "source": [
    "european_union = {\"Austria\", \"Belgium\", \"Bulgaria\", \"Croatia\", \"Cyprus\", \"Czech Republic\", \"Denmark\",\n",
    "    \"Estonia\", \"Finland\", \"France\", \"Germany\", \"Greece\", \"Hungary\", \"Ireland\", \"Italy\", \"Latvia\", \n",
    "    \"Lithuania\", \"Luxembourg\", \"Malta\", \"Netherlands\", \"Poland\", \"Portugal\", \"Romania\", \n",
    "    \"Slovakia\", \"Slovenia\", \"Spain\", \"Sweden\"}\n",
    "\n",
    "eurozone = {\"Austria\", \"Belgium\", \"Croatia\", \"Cyprus\", \"Portugal\", \"Spain\", \n",
    "            \"Slovakia\", \"Slovenia\", \"Ireland\", \"Italy\", \"France\", \"Germany\", \"Greece\",\n",
    "            \"Estonia\", \"Finland\", \"Latvia\", \"Lithuania\", \"Luxembourg\", \"Malta\", \"Netherlands\"}"
   ]
  },
  {
   "cell_type": "code",
   "execution_count": null,
   "metadata": {},
   "outputs": [],
   "source": [
    "print(european_union | eurozone)  # union of sets -- we join all unique names from two sets together\n",
    "print(european_union & eurozone)  # intersection -- keep the elements that are in both sets\n",
    "print(european_union - eurozone)  # difference -- elements in the first set, but not in the second\n",
    "print(european_union ^ eurozone)  # symmetric difference -- elements from A | B, but not from A & B"
   ]
  },
  {
   "cell_type": "markdown",
   "metadata": {},
   "source": [
    "Instead of signs as operators you can use methods:"
   ]
  },
  {
   "cell_type": "code",
   "execution_count": null,
   "metadata": {},
   "outputs": [],
   "source": [
    "print(european_union.union(eurozone))\n",
    "print(european_union.intersection(eurozone))\n",
    "print(european_union.difference(eurozone))\n",
    "print(european_union.symmetric_difference(eurozone))"
   ]
  },
  {
   "cell_type": "markdown",
   "metadata": {},
   "source": [
    "Summing up the properties. **Ordered** means that Python stores elements in the same order you specified when you created it. **Mutable** means that we can change the elements, for example, to replace one of the elements with a new value. **Constructor** demonstrates how to create, represent and store each data type. Note the difference in brackets."
   ]
  },
  {
   "cell_type": "markdown",
   "metadata": {},
   "source": [
    "<img src=\"https://miro.medium.com/max/1400/1*Det-kkoSw9T4IZ4XrypVNQ.png\" style=\"width:700px;height:300px\"/>"
   ]
  },
  {
   "cell_type": "markdown",
   "metadata": {},
   "source": [
    "## Exercises"
   ]
  },
  {
   "cell_type": "markdown",
   "metadata": {},
   "source": [
    "**Task 1.** <br>\n",
    "1.1 Create a dictionary with the countries as the keys and information on the population (in millions) as the values. The order is preserved (the first value in ```population_mln``` is for the first country in the list ```countries```, the second value - for the second country, etc.). <br>\n",
    "1.2 Add the new values in this dictionary: Germany - 83, France - 67, China - 140.81. <br>\n",
    "1.3 Oops! We made a mistake for China. It's 1408.1 million. Replace the existing value with the correct one."
   ]
  },
  {
   "cell_type": "code",
   "execution_count": null,
   "metadata": {},
   "outputs": [],
   "source": [
    "countries = ['Italy', 'Poland', 'Austria', 'Australia', 'Cyprus', \n",
    "             'USA', 'Burkina Faso', 'Spain', 'Ukraine']\n",
    "\n",
    "population_mln = [60.3, 37.5, 8.6, 25.4, 0.86, 328, 20.3, 47, 43.8]\n",
    "\n",
    "\n",
    "# YOUR CODE HERE"
   ]
  },
  {
   "cell_type": "markdown",
   "metadata": {},
   "source": [
    "**Task 2.** Write the code to return the second maximum value in the list. This means that it is less than the maximum value, but greater than the others."
   ]
  },
  {
   "cell_type": "code",
   "execution_count": null,
   "metadata": {},
   "outputs": [],
   "source": [
    "array = [59, 7, 9, 87, 1, 0, 2, 20, 62, 120, 121, 98]\n",
    "\n",
    "# YOUR CODE HERE\n",
    "\n",
    "#sort and print the second element\n",
    "#time costly, as it uses O(n*log(n))\n",
    "\n",
    "#think about alternatives"
   ]
  },
  {
   "cell_type": "markdown",
   "metadata": {},
   "source": [
    "## Strings\n",
    "\n",
    "The key operations: concatenation, split, join and extending string with its duplicates by *N* times. "
   ]
  },
  {
   "cell_type": "code",
   "execution_count": 41,
   "metadata": {
    "scrolled": true
   },
   "outputs": [
    {
     "name": "stdout",
     "output_type": "stream",
     "text": [
      "Dear students,\n",
      "\n",
      "welcome to the course on Software Engineering!\n"
     ]
    }
   ],
   "source": [
    "greeting = 'welcome to the course on Software Engineering!'\n",
    "\n",
    "whom = 'Dear students,\\n\\n'\n",
    "\n",
    "# concatenation\n",
    "print(whom + greeting)"
   ]
  },
  {
   "cell_type": "code",
   "execution_count": 40,
   "metadata": {},
   "outputs": [
    {
     "name": "stdout",
     "output_type": "stream",
     "text": [
      "You will need to work very very very very very  hard...\n"
     ]
    }
   ],
   "source": [
    "# repeat by mulyiplicator\n",
    "print('You will need to work', 'very ' * 5, 'hard...')"
   ]
  },
  {
   "cell_type": "code",
   "execution_count": 42,
   "metadata": {},
   "outputs": [
    {
     "name": "stdout",
     "output_type": "stream",
     "text": [
      "False\n"
     ]
    }
   ],
   "source": [
    "# verify whether the string starts with\n",
    "print(greeting.startswith('Chilling'))"
   ]
  },
  {
   "cell_type": "code",
   "execution_count": 48,
   "metadata": {},
   "outputs": [
    {
     "name": "stdout",
     "output_type": "stream",
     "text": [
      "\"greeting\": welcome to the course on Software Engineering!\n",
      "False\n",
      "True\n"
     ]
    }
   ],
   "source": [
    "# string ends with\n",
    "print('\"greeting\":', greeting)\n",
    "print(greeting.endswith('sis!'))\n",
    "print('Recheck it'.endswith('t'))"
   ]
  },
  {
   "cell_type": "code",
   "execution_count": null,
   "metadata": {},
   "outputs": [],
   "source": [
    "# split\n",
    "text_line = 'You need_to split this_sentence into four parts_by underscore sign.'\n",
    "print(text_line.split('_'))"
   ]
  },
  {
   "cell_type": "code",
   "execution_count": null,
   "metadata": {},
   "outputs": [],
   "source": [
    "type(text_line.split('_'))"
   ]
  },
  {
   "cell_type": "code",
   "execution_count": null,
   "metadata": {},
   "outputs": [],
   "source": [
    "# join\n",
    "text_line = 'You need to join this sentence by asterisks instead of white spaces.'\n",
    "'*'.join(text_line.split(' '))"
   ]
  },
  {
   "cell_type": "markdown",
   "metadata": {},
   "source": [
    "The find( ) method returns the index of the first character of the first occurrence of the substring, if contained in the string. If there is no such substring, it returns -1."
   ]
  },
  {
   "cell_type": "code",
   "execution_count": 49,
   "metadata": {},
   "outputs": [
    {
     "data": {
      "text/plain": [
       "159"
      ]
     },
     "execution_count": 49,
     "metadata": {},
     "output_type": "execute_result"
    }
   ],
   "source": [
    "# find\n",
    "\n",
    "prologue = '''The morning had dawned clear and cold, with a crispness that hinted at\n",
    "the end of summer. They set forth at daybreak to see a man beheaded, twenty in all, and\n",
    "Bran rode among them, nervous with excitement. This was the first time he had been deemed\n",
    "old enough to go with his lord father and his brothers to see the king’s justice done. It was\n",
    "the ninth year of summer, and the seventh of Bran’s life'''\n",
    "\n",
    "prologue.find('Bran')"
   ]
  },
  {
   "cell_type": "markdown",
   "metadata": {},
   "source": [
    "The name 'Bran' was found and 159 is the index of the first letter of this word in a string 'prologue'. "
   ]
  },
  {
   "cell_type": "code",
   "execution_count": 50,
   "metadata": {},
   "outputs": [
    {
     "name": "stdout",
     "output_type": "stream",
     "text": [
      "Bran rode among them, nervous with excitement. This was the first time he had been deemed\n",
      "old enough to go with his lord father and his brothers to see the king’s justice done. It was\n",
      "the ninth year of summer, and the seventh of Bran’s life\n"
     ]
    }
   ],
   "source": [
    "print(prologue[prologue.find('Bran'):]) # prints the whole string starting from 'Bran'"
   ]
  },
  {
   "cell_type": "code",
   "execution_count": 51,
   "metadata": {},
   "outputs": [
    {
     "name": "stdout",
     "output_type": "stream",
     "text": [
      "Bran\n"
     ]
    }
   ],
   "source": [
    "print(prologue[prologue.find('Bran'):prologue.find(' rode')]) #slicing"
   ]
  },
  {
   "cell_type": "markdown",
   "metadata": {},
   "source": [
    "Let's make a simple version of sentiment analysis from scratch. If the review contains the word 'bad', then we will write that this is a negative review."
   ]
  },
  {
   "cell_type": "code",
   "execution_count": null,
   "metadata": {},
   "outputs": [],
   "source": [
    "feedback = 'This place was bad enough.'\n",
    "\n",
    "print(feedback)\n",
    "if feedback.find('bad') == -1: # if 'bad' not found\n",
    "    print('Feedback is not negative')\n",
    "else:\n",
    "    print('Feedback is negative')"
   ]
  },
  {
   "cell_type": "code",
   "execution_count": null,
   "metadata": {},
   "outputs": [],
   "source": [
    "# replace\n",
    "statement = '''I take you, Monica, to be my wife.\\\n",
    "I promise to be true to you in good times and in bad, in sickness and in health.\\\n",
    "I will love you and honour you all the days of my life.'''\n",
    "#This is Traditional Wedding Vows\n",
    "\n",
    "statement.replace('Monica', 'Rachel')"
   ]
  },
  {
   "cell_type": "markdown",
   "metadata": {},
   "source": [
    "__Exercise__\n",
    "\n",
    "Write a code that find all entries of substring <code>t</code> in the string <code>s</code> including the intersection. The output is the list of indexes, where each of them corresponds to the first character of <code>t</code>. The code returns <code>None</code> if <code>s</code> is absent"
   ]
  },
  {
   "cell_type": "markdown",
   "metadata": {},
   "source": [
    "**Task 1. Hangman game** \n",
    "\n",
    "You need to write a program for the Hangman word game.\n",
    "\n",
    "One player comes up with a word to guess and uses input() to save it. Only lowercase letters are allowed.\n",
    "\n",
    "The other player must guess the word by suggesting the letters in it. The user provides each new letter using the input() function. Only 10 attemps are allowed. If the word contains a letter, print \"Correct!\". If the letter is incorrect, print \"There is no such letter!\". *Hint: use ```word_set``` to check if the guessed letter is in the word or not.*\n",
    "\n",
    "If all the letters from the word are named before the attempts have ended, you should print “Bingo! The word was X \", where X is the word to guess and stop the game (you can use ```break``` on a separate line with the same indent). *Hint: you can check if a set with named letters equals the set with letters of the initial word.*"
   ]
  },
  {
   "cell_type": "markdown",
   "metadata": {},
   "source": [
    "## Discussion\n",
    "\n",
    "__exit from the enternal cycle__: command `break`"
   ]
  },
  {
   "cell_type": "code",
   "execution_count": null,
   "metadata": {},
   "outputs": [],
   "source": [
    "# test break here\n",
    "i = 0\n",
    "while True:\n",
    "    i += 1\n",
    "    if (i == 5):\n",
    "        print(i)\n",
    "        break"
   ]
  },
  {
   "cell_type": "code",
   "execution_count": null,
   "metadata": {},
   "outputs": [],
   "source": [
    "for i in range(100):\n",
    "    if i == 5:\n",
    "        print(i)\n",
    "        break"
   ]
  },
  {
   "cell_type": "markdown",
   "metadata": {},
   "source": [
    "__Convertion of the word to sets and comparison of sets__"
   ]
  },
  {
   "cell_type": "code",
   "execution_count": null,
   "metadata": {},
   "outputs": [],
   "source": [
    "# compare two sets here"
   ]
  },
  {
   "cell_type": "code",
   "execution_count": 52,
   "metadata": {},
   "outputs": [
    {
     "name": "stdout",
     "output_type": "stream",
     "text": [
      "{'v', 'n', 'i', 's', 't', 'r', 'e', 'U', 'y'}\n",
      "{'v', 'n', 'I', 'a', ' ', 'M', 'u', 'o', 'c', 'l', 'e', 'i', 'y'}\n"
     ]
    }
   ],
   "source": [
    "word = 'University'\n",
    "another_word = 'I love you Monica'\n",
    "print(set(word), set(another_word), sep = '\\n')"
   ]
  },
  {
   "cell_type": "code",
   "execution_count": 53,
   "metadata": {},
   "outputs": [
    {
     "name": "stdout",
     "output_type": "stream",
     "text": [
      "<class 'set'>\n"
     ]
    }
   ],
   "source": [
    "word_set = set(word)\n",
    "print(type(word_set))"
   ]
  },
  {
   "cell_type": "code",
   "execution_count": 54,
   "metadata": {},
   "outputs": [
    {
     "name": "stdout",
     "output_type": "stream",
     "text": [
      "In\n"
     ]
    }
   ],
   "source": [
    "letter = 'i'\n",
    "if letter in word_set:\n",
    "    print('In')\n",
    "else:\n",
    "    print('Out')"
   ]
  },
  {
   "cell_type": "code",
   "execution_count": null,
   "metadata": {},
   "outputs": [],
   "source": [
    "another_letter = 'z'\n",
    "if another_letter in word_set:\n",
    "    print('In')\n",
    "else:\n",
    "    print('Out')"
   ]
  },
  {
   "cell_type": "markdown",
   "metadata": {},
   "source": [
    "## Design of the code\n",
    "\n",
    "1. Get input word with `input()` and covert it to `set`\n",
    "2. Define the set of the correct letters as the emptyset\n",
    "3. Main loop:\n",
    "    * read a new letter with `input()`\n",
    "    * if it is correct:\n",
    "        * place it to the set of the correct letters\n",
    "        * print the set of the correctly guessed letters\n",
    "        * in case the sets of the correct letters and the secret word coincides, break the loop with `break` and give the success message\n",
    "    * else:\n",
    "        * print the error message\n",
    "        * print the set of the correctly guessed letters\n",
    "4. After the loop, print a message if the secret word was not guessed"
   ]
  },
  {
   "cell_type": "markdown",
   "metadata": {},
   "source": [
    "<div style = \"color:red; font-size:36px;\"> End of the task with the game </div>\n",
    "<br><br>"
   ]
  },
  {
   "cell_type": "code",
   "execution_count": null,
   "metadata": {},
   "outputs": [],
   "source": []
  }
 ],
 "metadata": {
  "kernelspec": {
   "display_name": "Python 3 (ipykernel)",
   "language": "python",
   "name": "python3"
  },
  "language_info": {
   "codemirror_mode": {
    "name": "ipython",
    "version": 3
   },
   "file_extension": ".py",
   "mimetype": "text/x-python",
   "name": "python",
   "nbconvert_exporter": "python",
   "pygments_lexer": "ipython3",
   "version": "3.9.18"
  },
  "toc": {
   "base_numbering": 1,
   "nav_menu": {},
   "number_sections": true,
   "sideBar": true,
   "skip_h1_title": true,
   "title_cell": "Table of Contents",
   "title_sidebar": "Contents",
   "toc_cell": false,
   "toc_position": {},
   "toc_section_display": true,
   "toc_window_display": false
  }
 },
 "nbformat": 4,
 "nbformat_minor": 2
}
