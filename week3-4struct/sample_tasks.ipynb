{
 "cells": [
  {
   "cell_type": "markdown",
   "metadata": {},
   "source": [
    "# <center> Sample Tasks </center>\n",
    "\n",
    "**You are encouraged to write a code**\n"
   ]
  },
  {
   "cell_type": "markdown",
   "metadata": {},
   "source": [
    "### Reminder on variable assignment:\n",
    "\n",
    "We can store a value (of different data types: integer and float numbers, strings, data structures) in a variable. We use a variable assignment for it. Let's type something in this format: ```variable_name = value```, where ```=``` is called as assignment operator. If we run this code, Python creates an object for storing this value in memory, it automatically identifies its data type, then it creates a pointer (link) and we can address it by calling the variable name.  We come up with the most appropriate variable name ourselves. When we call a variable's name, we can check what is the value. \n",
    "\n",
    "<img src=\"https://files.software-carpentry.org/training-course/2013/05/Python-variables.png\" alt=\"Drawing\" style=\"width: 500px;\"/>"
   ]
  },
  {
   "cell_type": "markdown",
   "metadata": {},
   "source": [
    "### Task 1. Bank deposit\n",
    "\n",
    "You have decided to take your savings to the bank and open a deposit.The interest rate on the deposit is 5% per annum, which are added to the deposit amount after a year. You are ready to deposit 1000 dollars 60 cents for 3 years. Calculate how much money you can get 3 years after the deposit is closed.\n",
    "\n",
    "Hints: Please note that in order to calculate the interest for the year, it is better to convert the entire deposit amount into cents. Use the standard devision operator (not integer devision) in all calculations. In your final answer, round the cents to two digits after the floating point.\n",
    "\n",
    "*Given:*\n",
    "\n",
    "The variables `interest_rate`, `dollars`, `cents`, `years`.\n",
    "\n",
    "*Output:*\n",
    "\n",
    "Using the function print() display the message in the output: \"In 3 years you will get X dollars Y cents\", where X and Y are replaced by the results of your calculations accordingly."
   ]
  },
  {
   "cell_type": "code",
   "execution_count": 60,
   "metadata": {},
   "outputs": [],
   "source": [
    "interest_rate = 5\n",
    "dollars = 1000\n",
    "cents = 60\n",
    "years = 3"
   ]
  },
  {
   "cell_type": "code",
   "execution_count": 41,
   "metadata": {},
   "outputs": [],
   "source": [
    "# YOUR CODE HERE"
   ]
  },
  {
   "cell_type": "markdown",
   "metadata": {},
   "source": [
    "### Task 2. Bank deposit versus individual investment account\n",
    "\n",
    "Your friend told you, that you can open an individual investment account (IIA) and invest into a pension fund at an expected investment rate of $3\\%$ per annum. The money you contribute is deducted from your taxable income, meaning you pay less in taxes. The tax rate is $18\\%$. You also plan to the same amount of money one and two years later with the same maturity date.\n",
    "\n",
    "1. Calculate which method will bring you more money after 30 years: a bank deposit or an individual investment account? Print the difference in money. \n",
    "2. Calculate what should be a minimum expected investment rate, so that it would be better to use it instead of a bank deposit? The answer should be rounded till 3 digits after the floating point. __This task is more difficult. We return to it later.__ "
   ]
  },
  {
   "cell_type": "code",
   "execution_count": null,
   "metadata": {},
   "outputs": [],
   "source": [
    "# 1. YOUR CODE HERE"
   ]
  },
  {
   "cell_type": "code",
   "execution_count": null,
   "metadata": {},
   "outputs": [],
   "source": [
    "# 2. YOUR CODE HERE"
   ]
  },
  {
   "cell_type": "markdown",
   "metadata": {},
   "source": [
    "### Task 3. User info in a new social network\n",
    "\n",
    "Let's say, you want to create a social network for specialists and fans of international relations. You need to register each user by asking and storing the information about his/her name, surname, age, country, political preference, favorite dictator, favorite diplomat.\n",
    "\n",
    "Write a program using input() and prompts with relevant questions for a new user. After running your code, the user should answer each of your questions. As a result, you should obtain 7 variables (e.g. 'name', 'surname', etc. -- name the variables as you like) with the answers entered by a user. Convert the value in a variable with age into an integer number. Others should be in string format, check that this condition is satisfied.\n",
    "\n",
    "\n",
    "Run your code and answer to your questions by yourself to check that everything works fine and as expected. \n",
    "\n",
    "### Reminder on input() funciton\n",
    "\n",
    "```python\n",
    "my_name = input()  # read a single line and store it in the variable \"my_name\"\n",
    "print('Hi ' + my_name + '!')\n",
    "```\n",
    "\n",
    "or we can add a prompt for a user:\n",
    "\n",
    "```python\n",
    "my_name = input(\"What's your name?\")  # do the same as above + show the message to a user\n",
    "print('Hi ' + my_name + '!')\n",
    "```\n",
    "\n",
    "Try to run these lines of code in a cells (with code format) and see the difference. "
   ]
  },
  {
   "cell_type": "code",
   "execution_count": null,
   "metadata": {},
   "outputs": [],
   "source": [
    "# YOUR CODE HERE"
   ]
  },
  {
   "cell_type": "markdown",
   "metadata": {},
   "source": [
    "### Task 4: Counting Words in a Text File\n",
    "\n",
    "* Input: a text file\n",
    "* Output: the number of lines, words, and characters"
   ]
  },
  {
   "cell_type": "code",
   "execution_count": 3,
   "metadata": {},
   "outputs": [],
   "source": [
    "# YOUR CODE HERE"
   ]
  }
 ],
 "metadata": {
  "kernelspec": {
   "display_name": "Python 3 (ipykernel)",
   "language": "python",
   "name": "python3"
  },
  "language_info": {
   "codemirror_mode": {
    "name": "ipython",
    "version": 3
   },
   "file_extension": ".py",
   "mimetype": "text/x-python",
   "name": "python",
   "nbconvert_exporter": "python",
   "pygments_lexer": "ipython3",
   "version": "3.9.18"
  },
  "toc": {
   "base_numbering": 1,
   "nav_menu": {},
   "number_sections": true,
   "sideBar": true,
   "skip_h1_title": true,
   "title_cell": "Table of Contents",
   "title_sidebar": "Contents",
   "toc_cell": false,
   "toc_position": {},
   "toc_section_display": true,
   "toc_window_display": false
  }
 },
 "nbformat": 4,
 "nbformat_minor": 2
}
