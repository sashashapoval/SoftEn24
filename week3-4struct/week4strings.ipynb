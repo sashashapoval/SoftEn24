{
 "cells": [
  {
   "cell_type": "markdown",
   "id": "e1673fcd",
   "metadata": {
    "slideshow": {
     "slide_type": "slide"
    }
   },
   "source": [
    "**Task 2. String preprocessing**.\n",
    "\n",
    "1. This is a downloaded paragraph from the main page of the United Nations website. Remove all symbols for new lines (\"\\n\"). Transform a list of all sentences into one text (= one string). \n",
    "\n",
    "2. Create a dictionary, where the keys are the words and the values are the numbers how many times each word occured in a given paragraph). Answer to the question what is the most frequent word in this paragraph?\n",
    "\n",
    "For instance: \n",
    "```python\n",
    ">>> your_dict['freedom']\n",
    "Out: 2\n",
    ">>> your_dict['human']\n",
    "Out: 4\n",
    "```"
   ]
  },
  {
   "cell_type": "code",
   "execution_count": 1,
   "id": "b696d374",
   "metadata": {
    "slideshow": {
     "slide_type": "slide"
    }
   },
   "outputs": [],
   "source": [
    "paragraph = [\"What Are Human Rights? Human rights are rights inherent to all human \\n\", \n",
    "\"beings, regardless of race, sex, nationality, ethnicity, language, religion, or \\n\",\n",
    "\"any other status. Human rights include the right to life and liberty, freedom \\n\",\n",
    "\"from slavery and torture, freedom of opinion and expression, the right to work \\n\",\n",
    "\"discrimination. \\nInternational human rights law lays down the obligations of Governments to act in \\n\",\n",
    "\"certain ways or to refrain from certain acts, in order to promote and protect human \\n\",\n",
    "\"rights and fundamental freedoms of individuals or groups. \\n\",\n",
    "\"One of the great achievements of the United Nations is the creation of a comprehensive \\n\",\n",
    "\"body of human rights law — a universal and internationally protected code to which all \\n\",\n",
    "\"nations can subscribe and all people aspire. The United Nations has defined a broad range \\n\",\n",
    "\"of internationally accepted rights, including civil, cultural, economic, political and \\n\",\n",
    "\"social rights. It has also established mechanisms to promote and protect these rights \\n\",\n",
    "\"and to assist states in carrying out their responsibilities.\"]"
   ]
  },
  {
   "cell_type": "markdown",
   "id": "7db74300",
   "metadata": {
    "slideshow": {
     "slide_type": "slide"
    }
   },
   "source": [
    "## Discussion"
   ]
  },
  {
   "cell_type": "markdown",
   "id": "ad5e6352",
   "metadata": {
    "slideshow": {
     "slide_type": "slide"
    }
   },
   "source": [
    "__Study of the data__"
   ]
  },
  {
   "cell_type": "code",
   "execution_count": 2,
   "id": "17279a1b",
   "metadata": {
    "slideshow": {
     "slide_type": "slide"
    }
   },
   "outputs": [
    {
     "name": "stdout",
     "output_type": "stream",
     "text": [
      "['What Are Human Rights? Human rights are rights inherent to all human \\n', 'beings, regardless of race, sex, nationality, ethnicity, language, religion, or \\n', 'any other status. Human rights include the right to life and liberty, freedom \\n', 'from slavery and torture, freedom of opinion and expression, the right to work \\n', 'discrimination. \\nInternational human rights law lays down the obligations of Governments to act in \\n', 'certain ways or to refrain from certain acts, in order to promote and protect human \\n', 'rights and fundamental freedoms of individuals or groups. \\n', 'One of the great achievements of the United Nations is the creation of a comprehensive \\n', 'body of human rights law — a universal and internationally protected code to which all \\n', 'nations can subscribe and all people aspire. The United Nations has defined a broad range \\n', 'of internationally accepted rights, including civil, cultural, economic, political and \\n', 'social rights. It has also established mechanisms to promote and protect these rights \\n', 'and to assist states in carrying out their responsibilities.']\n",
      "13\n",
      "What Are Human Rights? Human rights are rights inherent to all human \n",
      "\n"
     ]
    }
   ],
   "source": [
    "print(paragraph, len(paragraph), paragraph[0], sep = '\\n')"
   ]
  },
  {
   "cell_type": "markdown",
   "id": "89961b6f",
   "metadata": {
    "slideshow": {
     "slide_type": "slide"
    }
   },
   "source": [
    "* Paragraph is the list with strings.\n",
    "* let's join them"
   ]
  },
  {
   "cell_type": "markdown",
   "id": "da8543e9",
   "metadata": {
    "slideshow": {
     "slide_type": "slide"
    }
   },
   "source": [
    "__join__ (<a href = \"https://www.w3schools.com/python/ref_string_join.asp\">example</a>)"
   ]
  },
  {
   "cell_type": "code",
   "execution_count": 3,
   "id": "dfc66a03",
   "metadata": {
    "slideshow": {
     "slide_type": "slide"
    }
   },
   "outputs": [
    {
     "name": "stdout",
     "output_type": "stream",
     "text": [
      "What Are Human Rights? Human rights are rights inherent to all human \n",
      "*beings, regardless of race, sex, nationality, ethnicity, language, religion, or \n",
      "*any other status. Human rights include the right to life and liberty, freedom \n",
      "*from slavery and torture, freedom of opinion and expression, the right to work \n",
      "*discrimination. \n",
      "International human rights law lays down the obligations of Governments to act in \n",
      "*certain ways or to refrain from certain acts, in order to promote and protect human \n",
      "*rights and fundamental freedoms of individuals or groups. \n",
      "*One of the great achievements of the United Nations is the creation of a comprehensive \n",
      "*body of human rights law — a universal and internationally protected code to which all \n",
      "*nations can subscribe and all people aspire. The United Nations has defined a broad range \n",
      "*of internationally accepted rights, including civil, cultural, economic, political and \n",
      "*social rights. It has also established mechanisms to promote and protect these rights \n",
      "*and to assist states in carrying out their responsibilities.\n"
     ]
    }
   ],
   "source": [
    "print('*'.join(paragraph))"
   ]
  },
  {
   "cell_type": "code",
   "execution_count": 3,
   "id": "661ba8a6",
   "metadata": {},
   "outputs": [
    {
     "data": {
      "text/plain": [
       "'What Are Human Rights? Human rights are rights inherent to all human \\nbeings, regardless of race, sex, nationality, ethnicity, language, religion, or \\nany other status. Human rights include the right to life and liberty, freedom \\nfrom slavery and torture, freedom of opinion and expression, the right to work \\nand education, and many more.  Everyone is entitled to these rights, without discrimination. \\nInternational human rights law lays down the obligations of Governments to act in \\ncertain ways or to refrain from certain acts, in order to promote and protect human \\nrights and fundamental freedoms of individuals or groups. \\nOne of the great achievements of the United Nations is the creation of a comprehensive \\nbody of human rights law — a universal and internationally protected code to which all \\nnations can subscribe and all people aspire. The United Nations has defined a broad range \\nof internationally accepted rights, including civil, cultural, economic, political and \\nsocial rights. It has also established mechanisms to promote and protect these rights \\nand to assist states in carrying out their responsibilities.'"
      ]
     },
     "execution_count": 3,
     "metadata": {},
     "output_type": "execute_result"
    }
   ],
   "source": [
    "''.join(paragraph)"
   ]
  },
  {
   "cell_type": "code",
   "execution_count": 4,
   "id": "3d5731c0",
   "metadata": {},
   "outputs": [
    {
     "name": "stdout",
     "output_type": "stream",
     "text": [
      "<class 'str'> <class 'list'>\n"
     ]
    }
   ],
   "source": [
    "print(type('*'.join(paragraph)), type(paragraph))"
   ]
  },
  {
   "cell_type": "code",
   "execution_count": 4,
   "id": "14ef7ab0",
   "metadata": {
    "slideshow": {
     "slide_type": "slide"
    }
   },
   "outputs": [
    {
     "data": {
      "text/plain": [
       "1068"
      ]
     },
     "execution_count": 4,
     "metadata": {},
     "output_type": "execute_result"
    }
   ],
   "source": [
    "len('*'.join(paragraph))"
   ]
  },
  {
   "cell_type": "code",
   "execution_count": 5,
   "id": "73e74907",
   "metadata": {
    "slideshow": {
     "slide_type": "slide"
    }
   },
   "outputs": [
    {
     "name": "stdout",
     "output_type": "stream",
     "text": [
      "1056 <class 'str'>\n"
     ]
    },
    {
     "data": {
      "text/plain": [
       "'What Are Human Rights? Human rights are rights inherent to all human \\nbeings, regardless of race, sex, nationality, ethnicity, language, religion, or \\nany other status. Human rights include the right to life and liberty, freedom \\nfrom slavery and torture, freedom of opinion and expression, the right to work \\ndiscrimination. \\nInternational human rights law lays down the obligations of Governments to act in \\ncertain ways or to refrain from certain acts, in order to promote and protect human \\nrights and fundamental freedoms of individuals or groups. \\nOne of the great achievements of the United Nations is the creation of a comprehensive \\nbody of human rights law — a universal and internationally protected code to which all \\nnations can subscribe and all people aspire. The United Nations has defined a broad range \\nof internationally accepted rights, including civil, cultural, economic, political and \\nsocial rights. It has also established mechanisms to promote and protect these rights \\nand to assist states in carrying out their responsibilities.'"
      ]
     },
     "execution_count": 5,
     "metadata": {},
     "output_type": "execute_result"
    }
   ],
   "source": [
    "print(len(''.join(paragraph)), type(''.join(paragraph)))\n",
    "#print(''.join(paragraph))\n",
    "s = ''.join(paragraph)\n",
    "s"
   ]
  },
  {
   "cell_type": "markdown",
   "id": "f2640b93",
   "metadata": {
    "slideshow": {
     "slide_type": "slide"
    }
   },
   "source": [
    "__replace__ method:\n",
    "````python\n",
    "str.replace(old, new[, max])\n",
    "````\n",
    "* __old__ − This is old substring to be replaced.\n",
    "* __new__ − This is new substring, which would replace old substring.\n",
    "* __max__ − If this optional argument max is given, only the first count occurrences are replaced"
   ]
  },
  {
   "cell_type": "markdown",
   "id": "aa65b8ac",
   "metadata": {},
   "source": [
    "we will delete '\\n'; old = '\\n'\n",
    "new = ''"
   ]
  },
  {
   "cell_type": "code",
   "execution_count": null,
   "id": "3d23e57e",
   "metadata": {},
   "outputs": [],
   "source": [
    "s1 = s.replace('\\n', '')\n",
    "s1"
   ]
  },
  {
   "cell_type": "code",
   "execution_count": 17,
   "id": "b8050b9b",
   "metadata": {
    "slideshow": {
     "slide_type": "slide"
    }
   },
   "outputs": [
    {
     "data": {
      "text/plain": [
       "'What Are Human Rights? Human rights are rights inherent to all human beings, regardless of race, sex, nationality, ethnicity, language, religion, or any other status. Human rights include the right to life and liberty, freedom from slavery and torture, freedom of opinion and expression, the right to work discrimination. International human rights law lays down the obligations of Governments to act in certain ways or to refrain from certain acts, in order to promote and protect human rights and fundamental freedoms of individuals or groups. One of the great achievements of the United Nations is the creation of a comprehensive body of human rights law — a universal and internationally protected code to which all nations can subscribe and all people aspire. The United Nations has defined a broad range of internationally accepted rights, including civil, cultural, economic, political and social rights. It has also established mechanisms to promote and protect these rights and to assist states in carrying out their responsibilities.'"
      ]
     },
     "execution_count": 17,
     "metadata": {},
     "output_type": "execute_result"
    }
   ],
   "source": [
    "paragraph1 = ''.join(paragraph).replace('\\n', '')\n",
    "#print(len(paragraph1))\n",
    "#print(''.join(paragraph).find('\\n'), '*', paragraph1.find('\\n'), sep = '\\n')\n",
    "paragraph1"
   ]
  },
  {
   "cell_type": "markdown",
   "id": "8d9d6c7a",
   "metadata": {
    "slideshow": {
     "slide_type": "slide"
    }
   },
   "source": [
    "__empty dictionary__"
   ]
  },
  {
   "cell_type": "code",
   "execution_count": 11,
   "id": "1801e387",
   "metadata": {
    "slideshow": {
     "slide_type": "slide"
    }
   },
   "outputs": [
    {
     "data": {
      "text/plain": [
       "dict"
      ]
     },
     "execution_count": 11,
     "metadata": {},
     "output_type": "execute_result"
    }
   ],
   "source": [
    "# empty dictionary\n",
    "word_dict = dict({})\n",
    "type(word_dict)"
   ]
  },
  {
   "cell_type": "code",
   "execution_count": 12,
   "id": "fd8aab49",
   "metadata": {
    "slideshow": {
     "slide_type": "slide"
    }
   },
   "outputs": [
    {
     "name": "stdout",
     "output_type": "stream",
     "text": [
      "{'peace': 1}\n",
      "dict_keys(['peace'])\n",
      "dict_values([1])\n",
      "dict_items([('peace', 1)])\n"
     ]
    }
   ],
   "source": [
    "# add to dictionary\n",
    "word_dict.update({\"peace\": 1})\n",
    "print(word_dict, word_dict.keys(), word_dict.values(), word_dict.items(),\\\n",
    "     sep = '\\n')"
   ]
  },
  {
   "cell_type": "markdown",
   "id": "f2391ea3",
   "metadata": {
    "slideshow": {
     "slide_type": "slide"
    }
   },
   "source": [
    "__add new word__"
   ]
  },
  {
   "cell_type": "code",
   "execution_count": 13,
   "id": "bc46bb38",
   "metadata": {
    "slideshow": {
     "slide_type": "slide"
    }
   },
   "outputs": [
    {
     "name": "stdout",
     "output_type": "stream",
     "text": [
      "{'peace': 1, 'Lodz': 1}\n"
     ]
    }
   ],
   "source": [
    "#word_new = 'peace'\n",
    "word_new = 'Lodz'\n",
    "if word_new in word_dict.keys():\n",
    "    word_dict['peace'] += 1\n",
    "    print('yes')\n",
    "else:\n",
    "    word_dict.update({word_new: 1})\n",
    "print(word_dict)"
   ]
  },
  {
   "cell_type": "markdown",
   "id": "ffa1f84f",
   "metadata": {
    "slideshow": {
     "slide_type": "slide"
    }
   },
   "source": [
    "__give it a second thought__\n",
    "<br>\n",
    "<details>\n",
    "  <summary><span style = \"font-weight:bold; color:blue;\"><u><li>what is bad in the previous cell?</u></span>\n",
    "    </summary>\n",
    "  \n",
    "  <li> use the key instead of the string</li>\n",
    "</details>\n"
   ]
  },
  {
   "cell_type": "code",
   "execution_count": null,
   "id": "c5c38cb7",
   "metadata": {
    "slideshow": {
     "slide_type": "slide"
    }
   },
   "outputs": [],
   "source": [
    "word_new = 'Lodz'\n",
    "if word_new in word_dict.keys():\n",
    "    word_dict[word_new] += 1\n",
    "    print('yes')\n",
    "else:\n",
    "    word_dict.update({word_new: 1})\n",
    "print(word_dict)"
   ]
  },
  {
   "cell_type": "markdown",
   "id": "66dadabd",
   "metadata": {},
   "source": [
    "__Splitting the string into words__\n",
    "\n",
    "* Eliminating punctuation (in a naive way)"
   ]
  },
  {
   "cell_type": "code",
   "execution_count": 18,
   "id": "17979203",
   "metadata": {},
   "outputs": [
    {
     "data": {
      "text/plain": [
       "['What',\n",
       " 'Are',\n",
       " 'Human',\n",
       " 'Rights?',\n",
       " 'Human',\n",
       " 'rights',\n",
       " 'are',\n",
       " 'rights',\n",
       " 'inherent',\n",
       " 'to',\n",
       " 'all',\n",
       " 'human',\n",
       " 'beings,',\n",
       " 'regardless',\n",
       " 'of',\n",
       " 'race,',\n",
       " 'sex,',\n",
       " 'nationality,',\n",
       " 'ethnicity,',\n",
       " 'language,',\n",
       " 'religion,',\n",
       " 'or',\n",
       " 'any',\n",
       " 'other',\n",
       " 'status.',\n",
       " 'Human',\n",
       " 'rights',\n",
       " 'include',\n",
       " 'the',\n",
       " 'right',\n",
       " 'to',\n",
       " 'life',\n",
       " 'and',\n",
       " 'liberty,',\n",
       " 'freedom',\n",
       " 'from',\n",
       " 'slavery',\n",
       " 'and',\n",
       " 'torture,',\n",
       " 'freedom',\n",
       " 'of',\n",
       " 'opinion',\n",
       " 'and',\n",
       " 'expression,',\n",
       " 'the',\n",
       " 'right',\n",
       " 'to',\n",
       " 'work',\n",
       " 'discrimination.',\n",
       " 'International',\n",
       " 'human',\n",
       " 'rights',\n",
       " 'law',\n",
       " 'lays',\n",
       " 'down',\n",
       " 'the',\n",
       " 'obligations',\n",
       " 'of',\n",
       " 'Governments',\n",
       " 'to',\n",
       " 'act',\n",
       " 'in',\n",
       " 'certain',\n",
       " 'ways',\n",
       " 'or',\n",
       " 'to',\n",
       " 'refrain',\n",
       " 'from',\n",
       " 'certain',\n",
       " 'acts,',\n",
       " 'in',\n",
       " 'order',\n",
       " 'to',\n",
       " 'promote',\n",
       " 'and',\n",
       " 'protect',\n",
       " 'human',\n",
       " 'rights',\n",
       " 'and',\n",
       " 'fundamental',\n",
       " 'freedoms',\n",
       " 'of',\n",
       " 'individuals',\n",
       " 'or',\n",
       " 'groups.',\n",
       " 'One',\n",
       " 'of',\n",
       " 'the',\n",
       " 'great',\n",
       " 'achievements',\n",
       " 'of',\n",
       " 'the',\n",
       " 'United',\n",
       " 'Nations',\n",
       " 'is',\n",
       " 'the',\n",
       " 'creation',\n",
       " 'of',\n",
       " 'a',\n",
       " 'comprehensive',\n",
       " 'body',\n",
       " 'of',\n",
       " 'human',\n",
       " 'rights',\n",
       " 'law',\n",
       " '—',\n",
       " 'a',\n",
       " 'universal',\n",
       " 'and',\n",
       " 'internationally',\n",
       " 'protected',\n",
       " 'code',\n",
       " 'to',\n",
       " 'which',\n",
       " 'all',\n",
       " 'nations',\n",
       " 'can',\n",
       " 'subscribe',\n",
       " 'and',\n",
       " 'all',\n",
       " 'people',\n",
       " 'aspire.',\n",
       " 'The',\n",
       " 'United',\n",
       " 'Nations',\n",
       " 'has',\n",
       " 'defined',\n",
       " 'a',\n",
       " 'broad',\n",
       " 'range',\n",
       " 'of',\n",
       " 'internationally',\n",
       " 'accepted',\n",
       " 'rights,',\n",
       " 'including',\n",
       " 'civil,',\n",
       " 'cultural,',\n",
       " 'economic,',\n",
       " 'political',\n",
       " 'and',\n",
       " 'social',\n",
       " 'rights.',\n",
       " 'It',\n",
       " 'has',\n",
       " 'also',\n",
       " 'established',\n",
       " 'mechanisms',\n",
       " 'to',\n",
       " 'promote',\n",
       " 'and',\n",
       " 'protect',\n",
       " 'these',\n",
       " 'rights',\n",
       " 'and',\n",
       " 'to',\n",
       " 'assist',\n",
       " 'states',\n",
       " 'in',\n",
       " 'carrying',\n",
       " 'out',\n",
       " 'their',\n",
       " 'responsibilities.']"
      ]
     },
     "execution_count": 18,
     "metadata": {},
     "output_type": "execute_result"
    }
   ],
   "source": [
    "paragraph1.split()"
   ]
  },
  {
   "cell_type": "code",
   "execution_count": 19,
   "id": "86eaa16b",
   "metadata": {},
   "outputs": [
    {
     "name": "stdout",
     "output_type": "stream",
     "text": [
      "What\n",
      "Are\n",
      "Human\n",
      "Rights\n",
      "Human\n",
      "rights\n",
      "are\n",
      "rights\n",
      "inherent\n",
      "to\n",
      "all\n",
      "human\n",
      "beings\n",
      "regardless\n",
      "of\n",
      "race\n",
      "sex\n",
      "nationality\n",
      "ethnicity\n",
      "language\n",
      "religion\n",
      "or\n",
      "any\n",
      "other\n",
      "status.\n",
      "Human\n",
      "rights\n",
      "include\n",
      "the\n",
      "right\n",
      "to\n",
      "life\n",
      "and\n",
      "liberty\n",
      "freedom\n",
      "from\n",
      "slavery\n",
      "and\n",
      "torture\n",
      "freedom\n",
      "of\n",
      "opinion\n",
      "and\n",
      "expression\n",
      "the\n",
      "right\n",
      "to\n",
      "work\n",
      "discrimination.\n",
      "International\n",
      "human\n",
      "rights\n",
      "law\n",
      "lays\n",
      "down\n",
      "the\n",
      "obligations\n",
      "of\n",
      "Governments\n",
      "to\n",
      "act\n",
      "in\n",
      "certain\n",
      "ways\n",
      "or\n",
      "to\n",
      "refrain\n",
      "from\n",
      "certain\n",
      "acts\n",
      "in\n",
      "order\n",
      "to\n",
      "promote\n",
      "and\n",
      "protect\n",
      "human\n",
      "rights\n",
      "and\n",
      "fundamental\n",
      "freedoms\n",
      "of\n",
      "individuals\n",
      "or\n",
      "groups.\n",
      "One\n",
      "of\n",
      "the\n",
      "great\n",
      "achievements\n",
      "of\n",
      "the\n",
      "United\n",
      "Nations\n",
      "is\n",
      "the\n",
      "creation\n",
      "of\n",
      "a\n",
      "comprehensive\n",
      "body\n",
      "of\n",
      "human\n",
      "rights\n",
      "law\n",
      "—\n",
      "a\n",
      "universal\n",
      "and\n",
      "internationally\n",
      "protected\n",
      "code\n",
      "to\n",
      "which\n",
      "all\n",
      "nations\n",
      "can\n",
      "subscribe\n",
      "and\n",
      "all\n",
      "people\n",
      "aspire.\n",
      "The\n",
      "United\n",
      "Nations\n",
      "has\n",
      "defined\n",
      "a\n",
      "broad\n",
      "range\n",
      "of\n",
      "internationally\n",
      "accepted\n",
      "rights\n",
      "including\n",
      "civil\n",
      "cultural\n",
      "economic\n",
      "political\n",
      "and\n",
      "social\n",
      "rights.\n",
      "It\n",
      "has\n",
      "also\n",
      "established\n",
      "mechanisms\n",
      "to\n",
      "promote\n",
      "and\n",
      "protect\n",
      "these\n",
      "rights\n",
      "and\n",
      "to\n",
      "assist\n",
      "states\n",
      "in\n",
      "carrying\n",
      "out\n",
      "their\n",
      "responsibilities.\n"
     ]
    }
   ],
   "source": [
    "for w in paragraph1.split():\n",
    "    #print(w)\n",
    "    w1 = w.replace(',', '').replace('?', '')\n",
    "    print(w1)"
   ]
  },
  {
   "cell_type": "code",
   "execution_count": 20,
   "id": "a8706ea0",
   "metadata": {},
   "outputs": [],
   "source": [
    "word_dict = dict({})\n",
    "for w in paragraph1.split():\n",
    "    #print(type(w))\n",
    "    w1 = w.replace('?', '').replace(',', '')\n",
    "    if w1 in word_dict.keys():\n",
    "        word_dict[w1] += 1\n",
    "    else:\n",
    "        word_dict.update({w1: 1})"
   ]
  },
  {
   "cell_type": "markdown",
   "id": "00c32453",
   "metadata": {},
   "source": [
    "__study__ method `setdefault()` that can be used instead of lines 5-8 of the last cell"
   ]
  },
  {
   "cell_type": "code",
   "execution_count": 21,
   "id": "85fc2e4e",
   "metadata": {},
   "outputs": [
    {
     "data": {
      "text/plain": [
       "2"
      ]
     },
     "execution_count": 21,
     "metadata": {},
     "output_type": "execute_result"
    }
   ],
   "source": [
    "word_dict['freedom']"
   ]
  },
  {
   "cell_type": "markdown",
   "id": "adba80da",
   "metadata": {
    "slideshow": {
     "slide_type": "slide"
    }
   },
   "source": [
    "__look up__\n",
    "\n",
    "* finding the word with the maximal frequency"
   ]
  },
  {
   "cell_type": "code",
   "execution_count": 22,
   "id": "0aa6e512",
   "metadata": {
    "slideshow": {
     "slide_type": "slide"
    },
    "tags": [
     "remove_cell"
    ]
   },
   "outputs": [
    {
     "name": "stdout",
     "output_type": "stream",
     "text": [
      "key: and - value: 10\n"
     ]
    }
   ],
   "source": [
    "isfrst = 1\n",
    "freq_max = -1 #defaul value for the empty dictionary\n",
    "key_max = -1\n",
    "for key, value in word_dict.items():\n",
    "    if isfrst:\n",
    "        #define maximum\n",
    "        freq_max = value\n",
    "        key_max = key\n",
    "        isfrst = 0\n",
    "    else:\n",
    "        #update of the maximum is required\n",
    "        if value > freq_max:\n",
    "            freq_max = value\n",
    "            key_max = key\n",
    "       \n",
    "    # recall \n",
    "print('key:', key_max, '- value:', freq_max) #delete this line from your code"
   ]
  },
  {
   "cell_type": "code",
   "execution_count": 24,
   "id": "9ba184f7",
   "metadata": {
    "slideshow": {
     "slide_type": "slide"
    }
   },
   "outputs": [],
   "source": [
    "isfrst = 1\n",
    "freq_max = -1 #defaul value for the empty dictionary\n",
    "for key, value in word_dict.items():\n",
    "    if isfrst:\n",
    "        #define maximum\n",
    "        isfrst = 0\n",
    "    else:\n",
    "        #update maximum is required\n",
    "        pass #delete this line from your code\n",
    "    # recall \n",
    "    print('key:', key, '- value:', value) #delete this line from your code"
   ]
  },
  {
   "cell_type": "markdown",
   "id": "5b340c8a",
   "metadata": {
    "slideshow": {
     "slide_type": "slide"
    }
   },
   "source": [
    "**Task 3. G7 Summit** \n",
    "\n",
    "You are on the organizing committee of the G7 summit. You need to check in all the participants of the summit in a hotel with double rooms, guided by the rule: ```participants can live in one room if they are of the same sex.``` <br>\n",
    "\n",
    "You have been given a dictionary with information on all participants. \n",
    "\n",
    "Write a function that returns ```True```, if it is possible to check in $X$ participants ($X$ is the number of participants) in $\\frac{X}{2}$ rooms without violating the rule and ```False``` otherwise.\n",
    "\n",
    "```Input:```"
   ]
  },
  {
   "cell_type": "code",
   "execution_count": null,
   "id": "dde0b309",
   "metadata": {
    "slideshow": {
     "slide_type": "slide"
    }
   },
   "outputs": [],
   "source": [
    "participants = {\n",
    "    'John Smith' : {'sex': 'Male', 'country': 'The United Kingdom'},\n",
    "    'Michael Phillips' : {'sex': 'Male', 'country': 'The United Kingdom'},\n",
    "    'Miranda Muller' : {'sex': 'Female', 'country': 'Germany'},\n",
    "    'Anna Schmidt' : {'sex': 'Female', 'country': 'Germany'},\n",
    "    'Giovanni Rossi' : {'sex': 'Male', 'country': 'Italy'},\n",
    "    'Giulia Colombo' : {'sex': 'Female', 'country': 'Italy'},\n",
    "    'Bob Williams' : {'sex': 'Male', 'country': 'Canada'},\n",
    "    'Sarah Harper' : {'sex': 'Female', 'country': 'Canada'},\n",
    "    'John Brown' : {'sex': 'Male', 'country': 'Canada'},\n",
    "    'Maria Davis' : {'sex': 'Female', 'country': 'Canada'},\n",
    "    'Lucas Martin' : {'sex': 'Male', 'country': 'France'},\n",
    "    'Louis Bernard' : {'sex': 'Male', 'country': 'France'},\n",
    "    'Minato Takahashi' : {'sex': 'Male', 'country': 'Japan'},\n",
    "    'Ren Suzuki' : {'sex': 'Male', 'country': 'Japan'},\n",
    "    'Paul Miller' : {'sex': 'Male', 'country': 'USA'},\n",
    "    'Andrew Scott' : {'sex': 'Male', 'country': 'USA'}\n",
    "}"
   ]
  },
  {
   "cell_type": "markdown",
   "id": "e469b470",
   "metadata": {
    "slideshow": {
     "slide_type": "slide"
    }
   },
   "source": [
    "```Output```: ```False``` (because there is odd number of participants of the same sex). "
   ]
  },
  {
   "cell_type": "markdown",
   "id": "25ae9630",
   "metadata": {
    "slideshow": {
     "slide_type": "slide"
    }
   },
   "source": [
    "```Hint:``` Note that the values in a dictionary are also the dictionaries. If you want to access to the value of a particular delegate:\n",
    "\n",
    "```python\n",
    ">>> participants['Ren Suzuki']['sex']\n",
    "Out: Male\n",
    "```"
   ]
  },
  {
   "cell_type": "markdown",
   "id": "9346d896",
   "metadata": {
    "slideshow": {
     "slide_type": "slide"
    }
   },
   "source": [
    "## Discussion\n",
    "\n"
   ]
  },
  {
   "cell_type": "code",
   "execution_count": null,
   "id": "34e13f1e",
   "metadata": {
    "slideshow": {
     "slide_type": "slide"
    }
   },
   "outputs": [],
   "source": [
    "num_male = 0\n",
    "for participant in participants.values():\n",
    "    print(participant['sex'])"
   ]
  },
  {
   "cell_type": "code",
   "execution_count": null,
   "id": "bba6da52",
   "metadata": {
    "tags": [
     "remove_cell"
    ]
   },
   "outputs": [],
   "source": [
    "# Example; do not share with students\n",
    "num_male = 0\n",
    "num_female = 0\n",
    "for participant in participants.values():\n",
    "    if participant['sex'].lower() == 'male':\n",
    "        num_male == 0\n",
    "    if participant['sex'].lower() == 'female':\n",
    "        num_female == 0\n",
    "print(num_male, num_female)\n",
    "print(not bool(num_male % 2 and num_female % 2))\n",
    "        "
   ]
  },
  {
   "cell_type": "code",
   "execution_count": null,
   "id": "a73415cf",
   "metadata": {
    "slideshow": {
     "slide_type": "slide"
    }
   },
   "outputs": [],
   "source": [
    "def check_in(participants):\n",
    "    # YOUR CODE HERE"
   ]
  },
  {
   "cell_type": "code",
   "execution_count": 5,
   "id": "8f522255",
   "metadata": {
    "slideshow": {
     "slide_type": "slide"
    },
    "tags": [
     "remove_cell"
    ]
   },
   "outputs": [
    {
     "name": "stderr",
     "output_type": "stream",
     "text": [
      "[NbConvertApp] Converting notebook week3.ipynb to html\n",
      "[NbConvertApp] Writing 313682 bytes to week3.html\n"
     ]
    }
   ],
   "source": [
    "!jupyter nbconvert --to=html --template myextentionmd2html --TemplateExporter.exclude_output_prompt=True --TemplateExporter.exclude_input_prompt=True --TagRemovePreprocessor.remove_cell_tags=remove_cell --TagRemovePreprocessor.remove_all_outputs_tags=remove_output --TagRemovePreprocessor.remove_input_tags=remove_input week3.ipynb"
   ]
  },
  {
   "cell_type": "code",
   "execution_count": null,
   "id": "dfcd5732",
   "metadata": {},
   "outputs": [],
   "source": []
  }
 ],
 "metadata": {
  "celltoolbar": "Slideshow",
  "kernelspec": {
   "display_name": "Python 3 (ipykernel)",
   "language": "python",
   "name": "python3"
  },
  "language_info": {
   "codemirror_mode": {
    "name": "ipython",
    "version": 3
   },
   "file_extension": ".py",
   "mimetype": "text/x-python",
   "name": "python",
   "nbconvert_exporter": "python",
   "pygments_lexer": "ipython3",
   "version": "3.9.18"
  },
  "toc": {
   "base_numbering": 1,
   "nav_menu": {},
   "number_sections": true,
   "sideBar": true,
   "skip_h1_title": true,
   "title_cell": "Table of Contents",
   "title_sidebar": "Contents",
   "toc_cell": false,
   "toc_position": {},
   "toc_section_display": true,
   "toc_window_display": false
  }
 },
 "nbformat": 4,
 "nbformat_minor": 5
}
