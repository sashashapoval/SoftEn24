{
 "cells": [
  {
   "cell_type": "markdown",
   "id": "43cd41eb",
   "metadata": {},
   "source": [
    "__css link__\n",
    "\n",
    "go to the cell to see\n",
    "\n",
    "\n",
    "<link rel=\"stylesheet\" href=\"./css/style.css\">\n",
    "\n",
    "from IPython.display import HTML\n",
    "HTML('''\n",
    "<script>\n",
    "code_show=false;\n",
    "function code_toggle(){\n",
    "    if(code_show){$('.prompt, .output_stderr, .output_error').hide();}\n",
    "    else{$('.prompt, .output_stderr, .output_error').show();}\n",
    "    code_show=!code_show;\n",
    "}\n",
    "function initialize(){\n",
    "    var output=$('.output_subarea.output_text.output_stream.output_stdout');\n",
    "    $.merge(output,$('.output_subarea.output_text.output_result'));\n",
    "    code_toggle();\n",
    "}\n",
    "$(document).ready(initialize);\n",
    "</script>\n",
    "Click <a href=\"javascript:code_toggle()\">here</a> to show/hide codes in this notebook.\n",
    "''')"
   ]
  },
  {
   "cell_type": "code",
   "execution_count": 1,
   "id": "68018bbf",
   "metadata": {},
   "outputs": [],
   "source": [
    "import numpy as np \n",
    "import pandas as pd\n"
   ]
  },
  {
   "cell_type": "code",
   "execution_count": 4,
   "id": "84e2f427",
   "metadata": {},
   "outputs": [],
   "source": [
    "data = pd.read_csv('./data/data_covid_cases_deaths.csv')"
   ]
  },
  {
   "cell_type": "code",
   "execution_count": 5,
   "id": "cbc1cad8",
   "metadata": {},
   "outputs": [
    {
     "data": {
      "text/plain": [
       "pandas.core.frame.DataFrame"
      ]
     },
     "execution_count": 5,
     "metadata": {},
     "output_type": "execute_result"
    }
   ],
   "source": [
    "type(data)"
   ]
  },
  {
   "cell_type": "code",
   "execution_count": 6,
   "id": "8f5e8b56",
   "metadata": {},
   "outputs": [
    {
     "name": "stdout",
     "output_type": "stream",
     "text": [
      "             date  number of daily cases  number of daily deaths\n",
      "0    Feb 15  2020                      0                       0\n",
      "1    Feb 16  2020                      0                       0\n",
      "2    Feb 17  2020                      0                       0\n",
      "3    Feb 18  2020                      0                       0\n",
      "4    Feb 19  2020                      0                       0\n",
      "..            ...                    ...                     ...\n",
      "776  Apr 01  2022                 148629                     134\n",
      "777  Apr 02  2022                 132114                      68\n",
      "778  Apr 03  2022                 102266                      31\n",
      "779  Apr 04  2022                  27648                     149\n",
      "780  Apr 05  2022                 203021                     129\n",
      "\n",
      "[781 rows x 3 columns]\n"
     ]
    }
   ],
   "source": [
    "print(data)"
   ]
  },
  {
   "cell_type": "markdown",
   "id": "7566a201",
   "metadata": {},
   "source": [
    "## DataFrame as a table\n",
    "\n",
    "As you can see from the result above, the DataFrame is like a table with rows and columns."
   ]
  },
  {
   "cell_type": "markdown",
   "id": "7352f383",
   "metadata": {},
   "source": [
    "## Locate Row\n",
    "\n",
    "Pandas use the `loc` attribute to return one or more specified row(s)"
   ]
  },
  {
   "cell_type": "code",
   "execution_count": 7,
   "id": "0859d237",
   "metadata": {},
   "outputs": [
    {
     "name": "stdout",
     "output_type": "stream",
     "text": [
      "date                      Feb 15  2020\n",
      "number of daily cases                0\n",
      "number of daily deaths               0\n",
      "Name: 0, dtype: object\n"
     ]
    }
   ],
   "source": [
    "print(data.loc[0])"
   ]
  },
  {
   "cell_type": "code",
   "execution_count": 8,
   "id": "95b63103",
   "metadata": {},
   "outputs": [
    {
     "name": "stdout",
     "output_type": "stream",
     "text": [
      "<class 'pandas.core.series.Series'>\n"
     ]
    }
   ],
   "source": [
    "row = data.loc[0]\n",
    "print(type(row))"
   ]
  },
  {
   "cell_type": "markdown",
   "id": "42f21959",
   "metadata": {},
   "source": [
    "## Series (table rows) are limilar to lists"
   ]
  },
  {
   "cell_type": "code",
   "execution_count": 8,
   "id": "632892e5",
   "metadata": {},
   "outputs": [
    {
     "data": {
      "text/plain": [
       "3"
      ]
     },
     "execution_count": 8,
     "metadata": {},
     "output_type": "execute_result"
    }
   ],
   "source": [
    "len(row)"
   ]
  },
  {
   "cell_type": "code",
   "execution_count": 9,
   "id": "43b66382",
   "metadata": {},
   "outputs": [
    {
     "data": {
      "text/plain": [
       "'Feb 15  2020'"
      ]
     },
     "execution_count": 9,
     "metadata": {},
     "output_type": "execute_result"
    }
   ],
   "source": [
    "row[0]"
   ]
  },
  {
   "cell_type": "code",
   "execution_count": 11,
   "id": "0fec33c0",
   "metadata": {},
   "outputs": [
    {
     "name": "stdout",
     "output_type": "stream",
     "text": [
      "Feb 15  2020\n",
      "0\n",
      "0\n"
     ]
    }
   ],
   "source": [
    "for r in row:\n",
    "    print(r)"
   ]
  },
  {
   "cell_type": "code",
   "execution_count": 10,
   "id": "93d8c591",
   "metadata": {},
   "outputs": [
    {
     "name": "stdout",
     "output_type": "stream",
     "text": [
      "<class 'pandas.core.frame.DataFrame'>\n"
     ]
    }
   ],
   "source": [
    "data_part = data.loc[[0, 1]]\n",
    "print(type(data_part))"
   ]
  },
  {
   "cell_type": "markdown",
   "id": "6fb6b4ab",
   "metadata": {},
   "source": [
    "<details>\n",
    "  <summary><span style = \"font-weight:bold; color:blue;\"><li><u>Characterize class to which <code>data_part</code> belongs</u></span><br>\n",
    "    </summary>\n",
    "  \n",
    "  * The same as the initial variable (= table) <code>data</code>\n",
    "</details>"
   ]
  },
  {
   "cell_type": "code",
   "execution_count": 11,
   "id": "ecee4e2f",
   "metadata": {},
   "outputs": [
    {
     "data": {
      "text/plain": [
       "date                      Feb 15  2020\n",
       "number of daily cases                0\n",
       "number of daily deaths               0\n",
       "Name: 0, dtype: object"
      ]
     },
     "execution_count": 11,
     "metadata": {},
     "output_type": "execute_result"
    }
   ],
   "source": [
    "data.loc[[0, 1]].loc[0]"
   ]
  },
  {
   "cell_type": "code",
   "execution_count": 12,
   "id": "4bf34186",
   "metadata": {},
   "outputs": [
    {
     "data": {
      "text/html": [
       "<div>\n",
       "<style scoped>\n",
       "    .dataframe tbody tr th:only-of-type {\n",
       "        vertical-align: middle;\n",
       "    }\n",
       "\n",
       "    .dataframe tbody tr th {\n",
       "        vertical-align: top;\n",
       "    }\n",
       "\n",
       "    .dataframe thead th {\n",
       "        text-align: right;\n",
       "    }\n",
       "</style>\n",
       "<table border=\"1\" class=\"dataframe\">\n",
       "  <thead>\n",
       "    <tr style=\"text-align: right;\">\n",
       "      <th></th>\n",
       "      <th>date</th>\n",
       "      <th>number of daily cases</th>\n",
       "      <th>number of daily deaths</th>\n",
       "    </tr>\n",
       "  </thead>\n",
       "  <tbody>\n",
       "    <tr>\n",
       "      <th>1</th>\n",
       "      <td>Feb 16  2020</td>\n",
       "      <td>0</td>\n",
       "      <td>0</td>\n",
       "    </tr>\n",
       "    <tr>\n",
       "      <th>2</th>\n",
       "      <td>Feb 17  2020</td>\n",
       "      <td>0</td>\n",
       "      <td>0</td>\n",
       "    </tr>\n",
       "  </tbody>\n",
       "</table>\n",
       "</div>"
      ],
      "text/plain": [
       "           date  number of daily cases  number of daily deaths\n",
       "1  Feb 16  2020                      0                       0\n",
       "2  Feb 17  2020                      0                       0"
      ]
     },
     "execution_count": 12,
     "metadata": {},
     "output_type": "execute_result"
    }
   ],
   "source": [
    "data.loc[[1, 2]]"
   ]
  },
  {
   "cell_type": "code",
   "execution_count": 13,
   "id": "a39e6181",
   "metadata": {},
   "outputs": [
    {
     "data": {
      "text/plain": [
       "date                      Feb 16  2020\n",
       "number of daily cases                0\n",
       "number of daily deaths               0\n",
       "Name: 1, dtype: object"
      ]
     },
     "execution_count": 13,
     "metadata": {},
     "output_type": "execute_result"
    }
   ],
   "source": [
    "data.loc[[1, 2]].loc[1]"
   ]
  },
  {
   "cell_type": "markdown",
   "id": "0ae89122",
   "metadata": {},
   "source": [
    "* How many entries are there in the first row?\n",
    "* What is the table element in row 5, column 1 (let us count from $0$)?"
   ]
  },
  {
   "cell_type": "code",
   "execution_count": 146,
   "id": "d039a01d",
   "metadata": {},
   "outputs": [],
   "source": [
    "# write your code\n",
    "\n"
   ]
  },
  {
   "cell_type": "markdown",
   "id": "c9cbfe8e",
   "metadata": {},
   "source": [
    "* What is written in the first column of the output of\n",
    "````python\n",
    "data.loc[0]\n",
    "````\n",
    "* The names of each column.\n",
    "* You can refer to columns by name\n",
    "````\n",
    "data['number of daily cases']\n",
    "````"
   ]
  },
  {
   "cell_type": "code",
   "execution_count": 9,
   "id": "31400e0b",
   "metadata": {},
   "outputs": [
    {
     "data": {
      "text/plain": [
       "0           0\n",
       "1           0\n",
       "2           0\n",
       "3           0\n",
       "4           0\n",
       "        ...  \n",
       "776    148629\n",
       "777    132114\n",
       "778    102266\n",
       "779     27648\n",
       "780    203021\n",
       "Name: number of daily cases, Length: 781, dtype: int64"
      ]
     },
     "execution_count": 9,
     "metadata": {},
     "output_type": "execute_result"
    }
   ],
   "source": [
    "data['number of daily cases']"
   ]
  },
  {
   "cell_type": "code",
   "execution_count": 28,
   "id": "e9b6bcaa",
   "metadata": {},
   "outputs": [
    {
     "data": {
      "text/plain": [
       "781"
      ]
     },
     "execution_count": 28,
     "metadata": {},
     "output_type": "execute_result"
    }
   ],
   "source": [
    "len(data['number of daily cases'])"
   ]
  },
  {
   "cell_type": "code",
   "execution_count": 29,
   "id": "129c9ed5",
   "metadata": {},
   "outputs": [
    {
     "data": {
      "text/plain": [
       "pandas.core.series.Series"
      ]
     },
     "execution_count": 29,
     "metadata": {},
     "output_type": "execute_result"
    }
   ],
   "source": [
    "type(data['number of daily cases'])"
   ]
  },
  {
   "cell_type": "markdown",
   "id": "cf67c7fd",
   "metadata": {},
   "source": [
    "<details>\n",
    "  <summary><span style = \"font-weight:bold; color:blue;\"><li><u>Recall when we dealt with the type <code>data['number of daily cases']</code></u></span><br>\n",
    "    </summary>\n",
    "  \n",
    "  * The same as rows, f.e., <code>data.loc[0]</code>\n",
    "</details>"
   ]
  },
  {
   "cell_type": "markdown",
   "id": "392abc9c",
   "metadata": {},
   "source": [
    "## Headers\n",
    "\n",
    "The `head()` method returns the headers and a specified number of rows, starting from the top."
   ]
  },
  {
   "cell_type": "code",
   "execution_count": 17,
   "id": "aba5d162",
   "metadata": {},
   "outputs": [
    {
     "data": {
      "text/html": [
       "<div>\n",
       "<style scoped>\n",
       "    .dataframe tbody tr th:only-of-type {\n",
       "        vertical-align: middle;\n",
       "    }\n",
       "\n",
       "    .dataframe tbody tr th {\n",
       "        vertical-align: top;\n",
       "    }\n",
       "\n",
       "    .dataframe thead th {\n",
       "        text-align: right;\n",
       "    }\n",
       "</style>\n",
       "<table border=\"1\" class=\"dataframe\">\n",
       "  <thead>\n",
       "    <tr style=\"text-align: right;\">\n",
       "      <th></th>\n",
       "      <th>date</th>\n",
       "      <th>number of daily cases</th>\n",
       "      <th>number of daily deaths</th>\n",
       "    </tr>\n",
       "  </thead>\n",
       "  <tbody>\n",
       "    <tr>\n",
       "      <th>0</th>\n",
       "      <td>Feb 15  2020</td>\n",
       "      <td>0</td>\n",
       "      <td>0</td>\n",
       "    </tr>\n",
       "    <tr>\n",
       "      <th>1</th>\n",
       "      <td>Feb 16  2020</td>\n",
       "      <td>0</td>\n",
       "      <td>0</td>\n",
       "    </tr>\n",
       "    <tr>\n",
       "      <th>2</th>\n",
       "      <td>Feb 17  2020</td>\n",
       "      <td>0</td>\n",
       "      <td>0</td>\n",
       "    </tr>\n",
       "  </tbody>\n",
       "</table>\n",
       "</div>"
      ],
      "text/plain": [
       "           date  number of daily cases  number of daily deaths\n",
       "0  Feb 15  2020                      0                       0\n",
       "1  Feb 16  2020                      0                       0\n",
       "2  Feb 17  2020                      0                       0"
      ]
     },
     "execution_count": 17,
     "metadata": {},
     "output_type": "execute_result"
    }
   ],
   "source": [
    "data.head(3)"
   ]
  },
  {
   "cell_type": "markdown",
   "id": "16237173",
   "metadata": {},
   "source": [
    "This method allows to have a look at the data"
   ]
  },
  {
   "cell_type": "markdown",
   "id": "1c6190a1",
   "metadata": {},
   "source": [
    "There is also a `tail()` method for viewing the last rows of the DataFrame.\n",
    "\n",
    "The `tail()` method returns the headers and a specified number of rows, starting from the bottom."
   ]
  },
  {
   "cell_type": "code",
   "execution_count": 31,
   "id": "40b36999",
   "metadata": {},
   "outputs": [
    {
     "data": {
      "text/html": [
       "<div>\n",
       "<style scoped>\n",
       "    .dataframe tbody tr th:only-of-type {\n",
       "        vertical-align: middle;\n",
       "    }\n",
       "\n",
       "    .dataframe tbody tr th {\n",
       "        vertical-align: top;\n",
       "    }\n",
       "\n",
       "    .dataframe thead th {\n",
       "        text-align: right;\n",
       "    }\n",
       "</style>\n",
       "<table border=\"1\" class=\"dataframe\">\n",
       "  <thead>\n",
       "    <tr style=\"text-align: right;\">\n",
       "      <th></th>\n",
       "      <th>date</th>\n",
       "      <th>number of daily cases</th>\n",
       "      <th>number of daily deaths</th>\n",
       "    </tr>\n",
       "  </thead>\n",
       "  <tbody>\n",
       "    <tr>\n",
       "      <th>776</th>\n",
       "      <td>Apr 01  2022</td>\n",
       "      <td>148629</td>\n",
       "      <td>134</td>\n",
       "    </tr>\n",
       "    <tr>\n",
       "      <th>777</th>\n",
       "      <td>Apr 02  2022</td>\n",
       "      <td>132114</td>\n",
       "      <td>68</td>\n",
       "    </tr>\n",
       "    <tr>\n",
       "      <th>778</th>\n",
       "      <td>Apr 03  2022</td>\n",
       "      <td>102266</td>\n",
       "      <td>31</td>\n",
       "    </tr>\n",
       "    <tr>\n",
       "      <th>779</th>\n",
       "      <td>Apr 04  2022</td>\n",
       "      <td>27648</td>\n",
       "      <td>149</td>\n",
       "    </tr>\n",
       "    <tr>\n",
       "      <th>780</th>\n",
       "      <td>Apr 05  2022</td>\n",
       "      <td>203021</td>\n",
       "      <td>129</td>\n",
       "    </tr>\n",
       "  </tbody>\n",
       "</table>\n",
       "</div>"
      ],
      "text/plain": [
       "             date  number of daily cases  number of daily deaths\n",
       "776  Apr 01  2022                 148629                     134\n",
       "777  Apr 02  2022                 132114                      68\n",
       "778  Apr 03  2022                 102266                      31\n",
       "779  Apr 04  2022                  27648                     149\n",
       "780  Apr 05  2022                 203021                     129"
      ]
     },
     "execution_count": 31,
     "metadata": {},
     "output_type": "execute_result"
    }
   ],
   "source": [
    "data.tail()"
   ]
  },
  {
   "cell_type": "markdown",
   "id": "2c5d962d",
   "metadata": {},
   "source": [
    "## Info About the Data\n",
    "\n",
    "The DataFrames object has a method called `info()`, that gives you more information about the data set."
   ]
  },
  {
   "cell_type": "code",
   "execution_count": 32,
   "id": "891c379b",
   "metadata": {},
   "outputs": [
    {
     "name": "stdout",
     "output_type": "stream",
     "text": [
      "<class 'pandas.core.frame.DataFrame'>\n",
      "RangeIndex: 781 entries, 0 to 780\n",
      "Data columns (total 3 columns):\n",
      " #   Column                  Non-Null Count  Dtype \n",
      "---  ------                  --------------  ----- \n",
      " 0   date                    781 non-null    object\n",
      " 1   number of daily cases   781 non-null    int64 \n",
      " 2   number of daily deaths  781 non-null    int64 \n",
      "dtypes: int64(2), object(1)\n",
      "memory usage: 18.4+ KB\n"
     ]
    }
   ],
   "source": [
    "data.info()"
   ]
  },
  {
   "cell_type": "markdown",
   "id": "73edb98d",
   "metadata": {},
   "source": [
    "### Explanation\n",
    "\n",
    "You see the number of non-null elements in each column"
   ]
  },
  {
   "cell_type": "markdown",
   "id": "7336fdd9",
   "metadata": {},
   "source": [
    "### Number of unique data"
   ]
  },
  {
   "cell_type": "code",
   "execution_count": 18,
   "id": "4afd20e6",
   "metadata": {},
   "outputs": [
    {
     "data": {
      "text/plain": [
       "760"
      ]
     },
     "execution_count": 18,
     "metadata": {},
     "output_type": "execute_result"
    }
   ],
   "source": [
    "data['number of daily cases'].nunique()"
   ]
  },
  {
   "cell_type": "markdown",
   "id": "2e24eb71",
   "metadata": {},
   "source": [
    "## Data Cleaning\n",
    "\n",
    "* Data cleaning means fixing bad data in your data set.\n",
    "\n",
    "* Bad data could be:\n",
    "\n",
    "  * Empty cells\n",
    "  * Data in wrong format\n",
    "  * Wrong data\n",
    "  * Duplicates"
   ]
  },
  {
   "cell_type": "markdown",
   "id": "997e6f51",
   "metadata": {},
   "source": [
    "### Spoiling of the table"
   ]
  },
  {
   "cell_type": "code",
   "execution_count": 39,
   "id": "66fcbc86",
   "metadata": {},
   "outputs": [
    {
     "data": {
      "text/plain": [
       "0"
      ]
     },
     "execution_count": 39,
     "metadata": {},
     "output_type": "execute_result"
    }
   ],
   "source": [
    "data['number of daily cases'][2]"
   ]
  },
  {
   "cell_type": "code",
   "execution_count": 21,
   "id": "cecb5fd7",
   "metadata": {},
   "outputs": [
    {
     "data": {
      "text/plain": [
       "'Feb 17  2020'"
      ]
     },
     "execution_count": 21,
     "metadata": {},
     "output_type": "execute_result"
    }
   ],
   "source": [
    "(data.loc[2])[0]"
   ]
  },
  {
   "cell_type": "code",
   "execution_count": 20,
   "id": "8b2762bc",
   "metadata": {},
   "outputs": [
    {
     "data": {
      "text/plain": [
       "date                      Feb 17  2020\n",
       "number of daily cases                0\n",
       "number of daily deaths               0\n",
       "Name: 2, dtype: object"
      ]
     },
     "execution_count": 20,
     "metadata": {},
     "output_type": "execute_result"
    }
   ],
   "source": [
    "data.loc[2]"
   ]
  },
  {
   "cell_type": "code",
   "execution_count": 22,
   "id": "3f9aafee",
   "metadata": {},
   "outputs": [],
   "source": [
    "#Setting values by label:\n",
    "data.iat[2, 1] = 1"
   ]
  },
  {
   "cell_type": "code",
   "execution_count": 23,
   "id": "5479f1d1",
   "metadata": {},
   "outputs": [
    {
     "data": {
      "text/plain": [
       "date                      Feb 17  2020\n",
       "number of daily cases                1\n",
       "number of daily deaths               0\n",
       "Name: 2, dtype: object"
      ]
     },
     "execution_count": 23,
     "metadata": {},
     "output_type": "execute_result"
    }
   ],
   "source": [
    "data.loc[2]"
   ]
  },
  {
   "cell_type": "code",
   "execution_count": 24,
   "id": "1eb66ec9",
   "metadata": {},
   "outputs": [
    {
     "data": {
      "text/plain": [
       "date                      Feb 17  2020\n",
       "number of daily cases                2\n",
       "number of daily deaths               0\n",
       "Name: 2, dtype: object"
      ]
     },
     "execution_count": 24,
     "metadata": {},
     "output_type": "execute_result"
    }
   ],
   "source": [
    "data.at[2, \"number of daily cases\"] = 2\n",
    "data.loc[2]"
   ]
  },
  {
   "cell_type": "markdown",
   "id": "150d775c",
   "metadata": {},
   "source": [
    "## Sorting"
   ]
  },
  {
   "cell_type": "markdown",
   "id": "3250ccd8",
   "metadata": {},
   "source": [
    "### by axis"
   ]
  },
  {
   "cell_type": "code",
   "execution_count": 10,
   "id": "8256d09c",
   "metadata": {},
   "outputs": [
    {
     "data": {
      "text/html": [
       "<div>\n",
       "<style scoped>\n",
       "    .dataframe tbody tr th:only-of-type {\n",
       "        vertical-align: middle;\n",
       "    }\n",
       "\n",
       "    .dataframe tbody tr th {\n",
       "        vertical-align: top;\n",
       "    }\n",
       "\n",
       "    .dataframe thead th {\n",
       "        text-align: right;\n",
       "    }\n",
       "</style>\n",
       "<table border=\"1\" class=\"dataframe\">\n",
       "  <thead>\n",
       "    <tr style=\"text-align: right;\">\n",
       "      <th></th>\n",
       "      <th>number of daily deaths</th>\n",
       "      <th>number of daily cases</th>\n",
       "      <th>date</th>\n",
       "    </tr>\n",
       "  </thead>\n",
       "  <tbody>\n",
       "    <tr>\n",
       "      <th>0</th>\n",
       "      <td>0</td>\n",
       "      <td>0</td>\n",
       "      <td>Feb 15  2020</td>\n",
       "    </tr>\n",
       "    <tr>\n",
       "      <th>1</th>\n",
       "      <td>0</td>\n",
       "      <td>0</td>\n",
       "      <td>Feb 16  2020</td>\n",
       "    </tr>\n",
       "    <tr>\n",
       "      <th>2</th>\n",
       "      <td>0</td>\n",
       "      <td>0</td>\n",
       "      <td>Feb 17  2020</td>\n",
       "    </tr>\n",
       "    <tr>\n",
       "      <th>3</th>\n",
       "      <td>0</td>\n",
       "      <td>0</td>\n",
       "      <td>Feb 18  2020</td>\n",
       "    </tr>\n",
       "    <tr>\n",
       "      <th>4</th>\n",
       "      <td>0</td>\n",
       "      <td>0</td>\n",
       "      <td>Feb 19  2020</td>\n",
       "    </tr>\n",
       "    <tr>\n",
       "      <th>...</th>\n",
       "      <td>...</td>\n",
       "      <td>...</td>\n",
       "      <td>...</td>\n",
       "    </tr>\n",
       "    <tr>\n",
       "      <th>776</th>\n",
       "      <td>134</td>\n",
       "      <td>148629</td>\n",
       "      <td>Apr 01  2022</td>\n",
       "    </tr>\n",
       "    <tr>\n",
       "      <th>777</th>\n",
       "      <td>68</td>\n",
       "      <td>132114</td>\n",
       "      <td>Apr 02  2022</td>\n",
       "    </tr>\n",
       "    <tr>\n",
       "      <th>778</th>\n",
       "      <td>31</td>\n",
       "      <td>102266</td>\n",
       "      <td>Apr 03  2022</td>\n",
       "    </tr>\n",
       "    <tr>\n",
       "      <th>779</th>\n",
       "      <td>149</td>\n",
       "      <td>27648</td>\n",
       "      <td>Apr 04  2022</td>\n",
       "    </tr>\n",
       "    <tr>\n",
       "      <th>780</th>\n",
       "      <td>129</td>\n",
       "      <td>203021</td>\n",
       "      <td>Apr 05  2022</td>\n",
       "    </tr>\n",
       "  </tbody>\n",
       "</table>\n",
       "<p>781 rows × 3 columns</p>\n",
       "</div>"
      ],
      "text/plain": [
       "     number of daily deaths  number of daily cases          date\n",
       "0                         0                      0  Feb 15  2020\n",
       "1                         0                      0  Feb 16  2020\n",
       "2                         0                      0  Feb 17  2020\n",
       "3                         0                      0  Feb 18  2020\n",
       "4                         0                      0  Feb 19  2020\n",
       "..                      ...                    ...           ...\n",
       "776                     134                 148629  Apr 01  2022\n",
       "777                      68                 132114  Apr 02  2022\n",
       "778                      31                 102266  Apr 03  2022\n",
       "779                     149                  27648  Apr 04  2022\n",
       "780                     129                 203021  Apr 05  2022\n",
       "\n",
       "[781 rows x 3 columns]"
      ]
     },
     "execution_count": 10,
     "metadata": {},
     "output_type": "execute_result"
    }
   ],
   "source": [
    "data.sort_index(axis=1, ascending=False)"
   ]
  },
  {
   "cell_type": "code",
   "execution_count": 11,
   "id": "c09fd4c9",
   "metadata": {},
   "outputs": [
    {
     "data": {
      "text/html": [
       "<div>\n",
       "<style scoped>\n",
       "    .dataframe tbody tr th:only-of-type {\n",
       "        vertical-align: middle;\n",
       "    }\n",
       "\n",
       "    .dataframe tbody tr th {\n",
       "        vertical-align: top;\n",
       "    }\n",
       "\n",
       "    .dataframe thead th {\n",
       "        text-align: right;\n",
       "    }\n",
       "</style>\n",
       "<table border=\"1\" class=\"dataframe\">\n",
       "  <thead>\n",
       "    <tr style=\"text-align: right;\">\n",
       "      <th></th>\n",
       "      <th>date</th>\n",
       "      <th>number of daily cases</th>\n",
       "      <th>number of daily deaths</th>\n",
       "    </tr>\n",
       "  </thead>\n",
       "  <tbody>\n",
       "    <tr>\n",
       "      <th>0</th>\n",
       "      <td>Feb 15  2020</td>\n",
       "      <td>0</td>\n",
       "      <td>0</td>\n",
       "    </tr>\n",
       "    <tr>\n",
       "      <th>1</th>\n",
       "      <td>Feb 16  2020</td>\n",
       "      <td>0</td>\n",
       "      <td>0</td>\n",
       "    </tr>\n",
       "    <tr>\n",
       "      <th>2</th>\n",
       "      <td>Feb 17  2020</td>\n",
       "      <td>0</td>\n",
       "      <td>0</td>\n",
       "    </tr>\n",
       "    <tr>\n",
       "      <th>3</th>\n",
       "      <td>Feb 18  2020</td>\n",
       "      <td>0</td>\n",
       "      <td>0</td>\n",
       "    </tr>\n",
       "    <tr>\n",
       "      <th>4</th>\n",
       "      <td>Feb 19  2020</td>\n",
       "      <td>0</td>\n",
       "      <td>0</td>\n",
       "    </tr>\n",
       "    <tr>\n",
       "      <th>...</th>\n",
       "      <td>...</td>\n",
       "      <td>...</td>\n",
       "      <td>...</td>\n",
       "    </tr>\n",
       "    <tr>\n",
       "      <th>776</th>\n",
       "      <td>Apr 01  2022</td>\n",
       "      <td>148629</td>\n",
       "      <td>134</td>\n",
       "    </tr>\n",
       "    <tr>\n",
       "      <th>777</th>\n",
       "      <td>Apr 02  2022</td>\n",
       "      <td>132114</td>\n",
       "      <td>68</td>\n",
       "    </tr>\n",
       "    <tr>\n",
       "      <th>778</th>\n",
       "      <td>Apr 03  2022</td>\n",
       "      <td>102266</td>\n",
       "      <td>31</td>\n",
       "    </tr>\n",
       "    <tr>\n",
       "      <th>779</th>\n",
       "      <td>Apr 04  2022</td>\n",
       "      <td>27648</td>\n",
       "      <td>149</td>\n",
       "    </tr>\n",
       "    <tr>\n",
       "      <th>780</th>\n",
       "      <td>Apr 05  2022</td>\n",
       "      <td>203021</td>\n",
       "      <td>129</td>\n",
       "    </tr>\n",
       "  </tbody>\n",
       "</table>\n",
       "<p>781 rows × 3 columns</p>\n",
       "</div>"
      ],
      "text/plain": [
       "             date  number of daily cases  number of daily deaths\n",
       "0    Feb 15  2020                      0                       0\n",
       "1    Feb 16  2020                      0                       0\n",
       "2    Feb 17  2020                      0                       0\n",
       "3    Feb 18  2020                      0                       0\n",
       "4    Feb 19  2020                      0                       0\n",
       "..            ...                    ...                     ...\n",
       "776  Apr 01  2022                 148629                     134\n",
       "777  Apr 02  2022                 132114                      68\n",
       "778  Apr 03  2022                 102266                      31\n",
       "779  Apr 04  2022                  27648                     149\n",
       "780  Apr 05  2022                 203021                     129\n",
       "\n",
       "[781 rows x 3 columns]"
      ]
     },
     "execution_count": 11,
     "metadata": {},
     "output_type": "execute_result"
    }
   ],
   "source": [
    "data.sort_index(axis=0, ascending=True)"
   ]
  },
  {
   "cell_type": "markdown",
   "id": "0ae96cac",
   "metadata": {},
   "source": [
    "__Explanation:__\n",
    "<br>\n",
    "We sorted along horizontal and vertical directions according to the title line and ID-field respectively"
   ]
  },
  {
   "cell_type": "markdown",
   "id": "c51057ac",
   "metadata": {},
   "source": [
    "### By value"
   ]
  },
  {
   "cell_type": "code",
   "execution_count": 21,
   "id": "3964f68a",
   "metadata": {},
   "outputs": [
    {
     "data": {
      "text/html": [
       "<div>\n",
       "<style scoped>\n",
       "    .dataframe tbody tr th:only-of-type {\n",
       "        vertical-align: middle;\n",
       "    }\n",
       "\n",
       "    .dataframe tbody tr th {\n",
       "        vertical-align: top;\n",
       "    }\n",
       "\n",
       "    .dataframe thead th {\n",
       "        text-align: right;\n",
       "    }\n",
       "</style>\n",
       "<table border=\"1\" class=\"dataframe\">\n",
       "  <thead>\n",
       "    <tr style=\"text-align: right;\">\n",
       "      <th></th>\n",
       "      <th>date</th>\n",
       "      <th>number of daily cases</th>\n",
       "      <th>number of daily deaths</th>\n",
       "    </tr>\n",
       "  </thead>\n",
       "  <tbody>\n",
       "    <tr>\n",
       "      <th>0</th>\n",
       "      <td>Feb 15  2020</td>\n",
       "      <td>0</td>\n",
       "      <td>0</td>\n",
       "    </tr>\n",
       "    <tr>\n",
       "      <th>193</th>\n",
       "      <td>Aug 26  2020</td>\n",
       "      <td>5095</td>\n",
       "      <td>0</td>\n",
       "    </tr>\n",
       "    <tr>\n",
       "      <th>201</th>\n",
       "      <td>Sep 03  2020</td>\n",
       "      <td>6716</td>\n",
       "      <td>0</td>\n",
       "    </tr>\n",
       "    <tr>\n",
       "      <th>202</th>\n",
       "      <td>Sep 04  2020</td>\n",
       "      <td>8423</td>\n",
       "      <td>0</td>\n",
       "    </tr>\n",
       "    <tr>\n",
       "      <th>18</th>\n",
       "      <td>Mar 04  2020</td>\n",
       "      <td>67</td>\n",
       "      <td>0</td>\n",
       "    </tr>\n",
       "    <tr>\n",
       "      <th>...</th>\n",
       "      <td>...</td>\n",
       "      <td>...</td>\n",
       "      <td>...</td>\n",
       "    </tr>\n",
       "    <tr>\n",
       "      <th>48</th>\n",
       "      <td>Apr 03  2020</td>\n",
       "      <td>4755</td>\n",
       "      <td>1119</td>\n",
       "    </tr>\n",
       "    <tr>\n",
       "      <th>54</th>\n",
       "      <td>Apr 09  2020</td>\n",
       "      <td>3895</td>\n",
       "      <td>1339</td>\n",
       "    </tr>\n",
       "    <tr>\n",
       "      <th>47</th>\n",
       "      <td>Apr 02  2020</td>\n",
       "      <td>1923</td>\n",
       "      <td>1354</td>\n",
       "    </tr>\n",
       "    <tr>\n",
       "      <th>52</th>\n",
       "      <td>Apr 07  2020</td>\n",
       "      <td>3432</td>\n",
       "      <td>1416</td>\n",
       "    </tr>\n",
       "    <tr>\n",
       "      <th>60</th>\n",
       "      <td>Apr 15  2020</td>\n",
       "      <td>2393</td>\n",
       "      <td>1437</td>\n",
       "    </tr>\n",
       "  </tbody>\n",
       "</table>\n",
       "<p>781 rows × 3 columns</p>\n",
       "</div>"
      ],
      "text/plain": [
       "             date  number of daily cases  number of daily deaths\n",
       "0    Feb 15  2020                      0                       0\n",
       "193  Aug 26  2020                   5095                       0\n",
       "201  Sep 03  2020                   6716                       0\n",
       "202  Sep 04  2020                   8423                       0\n",
       "18   Mar 04  2020                     67                       0\n",
       "..            ...                    ...                     ...\n",
       "48   Apr 03  2020                   4755                    1119\n",
       "54   Apr 09  2020                   3895                    1339\n",
       "47   Apr 02  2020                   1923                    1354\n",
       "52   Apr 07  2020                   3432                    1416\n",
       "60   Apr 15  2020                   2393                    1437\n",
       "\n",
       "[781 rows x 3 columns]"
      ]
     },
     "execution_count": 21,
     "metadata": {},
     "output_type": "execute_result"
    }
   ],
   "source": [
    "data.sort_values(by=\"number of daily deaths\")"
   ]
  },
  {
   "cell_type": "code",
   "execution_count": 25,
   "id": "dc25906f",
   "metadata": {},
   "outputs": [
    {
     "data": {
      "text/html": [
       "<div>\n",
       "<style scoped>\n",
       "    .dataframe tbody tr th:only-of-type {\n",
       "        vertical-align: middle;\n",
       "    }\n",
       "\n",
       "    .dataframe tbody tr th {\n",
       "        vertical-align: top;\n",
       "    }\n",
       "\n",
       "    .dataframe thead th {\n",
       "        text-align: right;\n",
       "    }\n",
       "</style>\n",
       "<table border=\"1\" class=\"dataframe\">\n",
       "  <thead>\n",
       "    <tr style=\"text-align: right;\">\n",
       "      <th></th>\n",
       "      <th>date</th>\n",
       "      <th>number of daily cases</th>\n",
       "      <th>number of daily deaths</th>\n",
       "    </tr>\n",
       "  </thead>\n",
       "  <tbody>\n",
       "    <tr>\n",
       "      <th>0</th>\n",
       "      <td>Feb 15  2020</td>\n",
       "      <td>0</td>\n",
       "      <td>0</td>\n",
       "    </tr>\n",
       "    <tr>\n",
       "      <th>168</th>\n",
       "      <td>Aug 01  2020</td>\n",
       "      <td>0</td>\n",
       "      <td>3</td>\n",
       "    </tr>\n",
       "    <tr>\n",
       "      <th>131</th>\n",
       "      <td>Jun 25  2020</td>\n",
       "      <td>0</td>\n",
       "      <td>21</td>\n",
       "    </tr>\n",
       "    <tr>\n",
       "      <th>5</th>\n",
       "      <td>Feb 20  2020</td>\n",
       "      <td>0</td>\n",
       "      <td>0</td>\n",
       "    </tr>\n",
       "    <tr>\n",
       "      <th>7</th>\n",
       "      <td>Feb 22  2020</td>\n",
       "      <td>0</td>\n",
       "      <td>0</td>\n",
       "    </tr>\n",
       "    <tr>\n",
       "      <th>...</th>\n",
       "      <td>...</td>\n",
       "      <td>...</td>\n",
       "      <td>...</td>\n",
       "    </tr>\n",
       "    <tr>\n",
       "      <th>705</th>\n",
       "      <td>Jan 20  2022</td>\n",
       "      <td>425183</td>\n",
       "      <td>245</td>\n",
       "    </tr>\n",
       "    <tr>\n",
       "      <th>711</th>\n",
       "      <td>Jan 26  2022</td>\n",
       "      <td>428008</td>\n",
       "      <td>258</td>\n",
       "    </tr>\n",
       "    <tr>\n",
       "      <th>704</th>\n",
       "      <td>Jan 19  2022</td>\n",
       "      <td>436167</td>\n",
       "      <td>231</td>\n",
       "    </tr>\n",
       "    <tr>\n",
       "      <th>703</th>\n",
       "      <td>Jan 18  2022</td>\n",
       "      <td>464769</td>\n",
       "      <td>375</td>\n",
       "    </tr>\n",
       "    <tr>\n",
       "      <th>710</th>\n",
       "      <td>Jan 25  2022</td>\n",
       "      <td>501635</td>\n",
       "      <td>467</td>\n",
       "    </tr>\n",
       "  </tbody>\n",
       "</table>\n",
       "<p>781 rows × 3 columns</p>\n",
       "</div>"
      ],
      "text/plain": [
       "             date  number of daily cases  number of daily deaths\n",
       "0    Feb 15  2020                      0                       0\n",
       "168  Aug 01  2020                      0                       3\n",
       "131  Jun 25  2020                      0                      21\n",
       "5    Feb 20  2020                      0                       0\n",
       "7    Feb 22  2020                      0                       0\n",
       "..            ...                    ...                     ...\n",
       "705  Jan 20  2022                 425183                     245\n",
       "711  Jan 26  2022                 428008                     258\n",
       "704  Jan 19  2022                 436167                     231\n",
       "703  Jan 18  2022                 464769                     375\n",
       "710  Jan 25  2022                 501635                     467\n",
       "\n",
       "[781 rows x 3 columns]"
      ]
     },
     "execution_count": 25,
     "metadata": {},
     "output_type": "execute_result"
    }
   ],
   "source": [
    "data.sort_values(by=\"number of daily deaths\").sort_values(by=\"number of daily cases\")"
   ]
  },
  {
   "cell_type": "markdown",
   "id": "01c8fd6b",
   "metadata": {},
   "source": [
    "## New column"
   ]
  },
  {
   "cell_type": "code",
   "execution_count": 12,
   "id": "ef53f5af",
   "metadata": {},
   "outputs": [
    {
     "data": {
      "text/html": [
       "<div>\n",
       "<style scoped>\n",
       "    .dataframe tbody tr th:only-of-type {\n",
       "        vertical-align: middle;\n",
       "    }\n",
       "\n",
       "    .dataframe tbody tr th {\n",
       "        vertical-align: top;\n",
       "    }\n",
       "\n",
       "    .dataframe thead th {\n",
       "        text-align: right;\n",
       "    }\n",
       "</style>\n",
       "<table border=\"1\" class=\"dataframe\">\n",
       "  <thead>\n",
       "    <tr style=\"text-align: right;\">\n",
       "      <th></th>\n",
       "      <th>date</th>\n",
       "      <th>number of daily cases</th>\n",
       "      <th>number of daily deaths</th>\n",
       "      <th>new</th>\n",
       "    </tr>\n",
       "  </thead>\n",
       "  <tbody>\n",
       "    <tr>\n",
       "      <th>0</th>\n",
       "      <td>Feb 15  2020</td>\n",
       "      <td>0</td>\n",
       "      <td>0</td>\n",
       "      <td>NaN</td>\n",
       "    </tr>\n",
       "    <tr>\n",
       "      <th>1</th>\n",
       "      <td>Feb 16  2020</td>\n",
       "      <td>0</td>\n",
       "      <td>0</td>\n",
       "      <td>NaN</td>\n",
       "    </tr>\n",
       "    <tr>\n",
       "      <th>2</th>\n",
       "      <td>Feb 17  2020</td>\n",
       "      <td>0</td>\n",
       "      <td>0</td>\n",
       "      <td>NaN</td>\n",
       "    </tr>\n",
       "    <tr>\n",
       "      <th>3</th>\n",
       "      <td>Feb 18  2020</td>\n",
       "      <td>0</td>\n",
       "      <td>0</td>\n",
       "      <td>NaN</td>\n",
       "    </tr>\n",
       "  </tbody>\n",
       "</table>\n",
       "</div>"
      ],
      "text/plain": [
       "           date  number of daily cases  number of daily deaths  new\n",
       "0  Feb 15  2020                      0                       0  NaN\n",
       "1  Feb 16  2020                      0                       0  NaN\n",
       "2  Feb 17  2020                      0                       0  NaN\n",
       "3  Feb 18  2020                      0                       0  NaN"
      ]
     },
     "execution_count": 12,
     "metadata": {},
     "output_type": "execute_result"
    }
   ],
   "source": [
    "data1 = data.reindex(index=range(4), columns=list(data.columns) + [\"new\"])\n",
    "data1"
   ]
  },
  {
   "cell_type": "code",
   "execution_count": 13,
   "id": "31ff1c08",
   "metadata": {},
   "outputs": [
    {
     "data": {
      "text/html": [
       "<div>\n",
       "<style scoped>\n",
       "    .dataframe tbody tr th:only-of-type {\n",
       "        vertical-align: middle;\n",
       "    }\n",
       "\n",
       "    .dataframe tbody tr th {\n",
       "        vertical-align: top;\n",
       "    }\n",
       "\n",
       "    .dataframe thead th {\n",
       "        text-align: right;\n",
       "    }\n",
       "</style>\n",
       "<table border=\"1\" class=\"dataframe\">\n",
       "  <thead>\n",
       "    <tr style=\"text-align: right;\">\n",
       "      <th></th>\n",
       "      <th>date</th>\n",
       "      <th>number of daily cases</th>\n",
       "      <th>number of daily deaths</th>\n",
       "      <th>new</th>\n",
       "    </tr>\n",
       "  </thead>\n",
       "  <tbody>\n",
       "    <tr>\n",
       "      <th>0</th>\n",
       "      <td>Feb 15  2020</td>\n",
       "      <td>0.0</td>\n",
       "      <td>0</td>\n",
       "      <td>NaN</td>\n",
       "    </tr>\n",
       "    <tr>\n",
       "      <th>1</th>\n",
       "      <td>Feb 16  2020</td>\n",
       "      <td>NaN</td>\n",
       "      <td>0</td>\n",
       "      <td>NaN</td>\n",
       "    </tr>\n",
       "    <tr>\n",
       "      <th>2</th>\n",
       "      <td>Feb 17  2020</td>\n",
       "      <td>0.0</td>\n",
       "      <td>0</td>\n",
       "      <td>NaN</td>\n",
       "    </tr>\n",
       "    <tr>\n",
       "      <th>3</th>\n",
       "      <td>Feb 18  2020</td>\n",
       "      <td>0.0</td>\n",
       "      <td>0</td>\n",
       "      <td>NaN</td>\n",
       "    </tr>\n",
       "  </tbody>\n",
       "</table>\n",
       "</div>"
      ],
      "text/plain": [
       "           date  number of daily cases  number of daily deaths  new\n",
       "0  Feb 15  2020                    0.0                       0  NaN\n",
       "1  Feb 16  2020                    NaN                       0  NaN\n",
       "2  Feb 17  2020                    0.0                       0  NaN\n",
       "3  Feb 18  2020                    0.0                       0  NaN"
      ]
     },
     "execution_count": 13,
     "metadata": {},
     "output_type": "execute_result"
    }
   ],
   "source": [
    "data1.at[1, \"number of daily cases\"] = np.nan\n",
    "data1"
   ]
  },
  {
   "cell_type": "markdown",
   "id": "a8f77b64",
   "metadata": {},
   "source": [
    "* Change 1st and 3d variables of the last columnt to 7 and 10 respectively"
   ]
  },
  {
   "cell_type": "code",
   "execution_count": 32,
   "id": "99d3dde2",
   "metadata": {},
   "outputs": [],
   "source": [
    "# Place for your code\n",
    "\n"
   ]
  },
  {
   "cell_type": "code",
   "execution_count": 33,
   "id": "c2b2b280",
   "metadata": {},
   "outputs": [
    {
     "data": {
      "text/html": [
       "<div>\n",
       "<style scoped>\n",
       "    .dataframe tbody tr th:only-of-type {\n",
       "        vertical-align: middle;\n",
       "    }\n",
       "\n",
       "    .dataframe tbody tr th {\n",
       "        vertical-align: top;\n",
       "    }\n",
       "\n",
       "    .dataframe thead th {\n",
       "        text-align: right;\n",
       "    }\n",
       "</style>\n",
       "<table border=\"1\" class=\"dataframe\">\n",
       "  <thead>\n",
       "    <tr style=\"text-align: right;\">\n",
       "      <th></th>\n",
       "      <th>date</th>\n",
       "      <th>number of daily cases</th>\n",
       "      <th>number of daily deaths</th>\n",
       "      <th>new</th>\n",
       "    </tr>\n",
       "  </thead>\n",
       "  <tbody>\n",
       "    <tr>\n",
       "      <th>0</th>\n",
       "      <td>Feb 15  2020</td>\n",
       "      <td>0.0</td>\n",
       "      <td>0</td>\n",
       "      <td>2.0</td>\n",
       "    </tr>\n",
       "    <tr>\n",
       "      <th>1</th>\n",
       "      <td>Feb 16  2020</td>\n",
       "      <td>NaN</td>\n",
       "      <td>0</td>\n",
       "      <td>NaN</td>\n",
       "    </tr>\n",
       "    <tr>\n",
       "      <th>2</th>\n",
       "      <td>Feb 17  2020</td>\n",
       "      <td>2.0</td>\n",
       "      <td>0</td>\n",
       "      <td>NaN</td>\n",
       "    </tr>\n",
       "    <tr>\n",
       "      <th>3</th>\n",
       "      <td>Feb 18  2020</td>\n",
       "      <td>0.0</td>\n",
       "      <td>0</td>\n",
       "      <td>3.0</td>\n",
       "    </tr>\n",
       "  </tbody>\n",
       "</table>\n",
       "</div>"
      ],
      "text/plain": [
       "           date  number of daily cases  number of daily deaths  new\n",
       "0  Feb 15  2020                    0.0                       0  2.0\n",
       "1  Feb 16  2020                    NaN                       0  NaN\n",
       "2  Feb 17  2020                    2.0                       0  NaN\n",
       "3  Feb 18  2020                    0.0                       0  3.0"
      ]
     },
     "execution_count": 33,
     "metadata": {},
     "output_type": "execute_result"
    }
   ],
   "source": [
    "data2 = data1\n",
    "data2"
   ]
  },
  {
   "cell_type": "code",
   "execution_count": 34,
   "id": "6ecba39e",
   "metadata": {},
   "outputs": [
    {
     "data": {
      "text/html": [
       "<div>\n",
       "<style scoped>\n",
       "    .dataframe tbody tr th:only-of-type {\n",
       "        vertical-align: middle;\n",
       "    }\n",
       "\n",
       "    .dataframe tbody tr th {\n",
       "        vertical-align: top;\n",
       "    }\n",
       "\n",
       "    .dataframe thead th {\n",
       "        text-align: right;\n",
       "    }\n",
       "</style>\n",
       "<table border=\"1\" class=\"dataframe\">\n",
       "  <thead>\n",
       "    <tr style=\"text-align: right;\">\n",
       "      <th></th>\n",
       "      <th>date</th>\n",
       "      <th>number of daily cases</th>\n",
       "      <th>number of daily deaths</th>\n",
       "      <th>new</th>\n",
       "    </tr>\n",
       "  </thead>\n",
       "  <tbody>\n",
       "    <tr>\n",
       "      <th>0</th>\n",
       "      <td>Feb 15  2020</td>\n",
       "      <td>0.0</td>\n",
       "      <td>0</td>\n",
       "      <td>2.0</td>\n",
       "    </tr>\n",
       "    <tr>\n",
       "      <th>1</th>\n",
       "      <td>Feb 16  2020</td>\n",
       "      <td>NaN</td>\n",
       "      <td>0</td>\n",
       "      <td>NaN</td>\n",
       "    </tr>\n",
       "    <tr>\n",
       "      <th>2</th>\n",
       "      <td>Feb 17  2020</td>\n",
       "      <td>2.0</td>\n",
       "      <td>0</td>\n",
       "      <td>NaN</td>\n",
       "    </tr>\n",
       "    <tr>\n",
       "      <th>3</th>\n",
       "      <td>Feb 18  2020</td>\n",
       "      <td>0.0</td>\n",
       "      <td>0</td>\n",
       "      <td>3.0</td>\n",
       "    </tr>\n",
       "  </tbody>\n",
       "</table>\n",
       "</div>"
      ],
      "text/plain": [
       "           date  number of daily cases  number of daily deaths  new\n",
       "0  Feb 15  2020                    0.0                       0  2.0\n",
       "1  Feb 16  2020                    NaN                       0  NaN\n",
       "2  Feb 17  2020                    2.0                       0  NaN\n",
       "3  Feb 18  2020                    0.0                       0  3.0"
      ]
     },
     "execution_count": 34,
     "metadata": {},
     "output_type": "execute_result"
    }
   ],
   "source": [
    "data2.at[0, \"new\"] = 2\n",
    "data2.at[3, \"new\"] = 3\n",
    "data1 = data2\n",
    "data1"
   ]
  },
  {
   "cell_type": "markdown",
   "id": "060b5816",
   "metadata": {},
   "source": [
    "### Dropping missing data"
   ]
  },
  {
   "cell_type": "code",
   "execution_count": 35,
   "id": "98377323",
   "metadata": {},
   "outputs": [
    {
     "name": "stdout",
     "output_type": "stream",
     "text": [
      "           date  number of daily cases  number of daily deaths  new\n",
      "0  Feb 15  2020                    0.0                       0  2.0\n",
      "1  Feb 16  2020                    NaN                       0  NaN\n",
      "2  Feb 17  2020                    2.0                       0  NaN\n",
      "3  Feb 18  2020                    0.0                       0  3.0\n",
      "           date  number of daily cases  number of daily deaths  new\n",
      "0  Feb 15  2020                    0.0                       0  2.0\n",
      "3  Feb 18  2020                    0.0                       0  3.0\n"
     ]
    }
   ],
   "source": [
    "data3 = data1.dropna(how=\"any\")\n",
    "print(data1)\n",
    "print(data3)"
   ]
  },
  {
   "cell_type": "markdown",
   "id": "1d850780",
   "metadata": {},
   "source": [
    "### Filling missing data"
   ]
  },
  {
   "cell_type": "code",
   "execution_count": 36,
   "id": "2ab5033f",
   "metadata": {},
   "outputs": [
    {
     "data": {
      "text/html": [
       "<div>\n",
       "<style scoped>\n",
       "    .dataframe tbody tr th:only-of-type {\n",
       "        vertical-align: middle;\n",
       "    }\n",
       "\n",
       "    .dataframe tbody tr th {\n",
       "        vertical-align: top;\n",
       "    }\n",
       "\n",
       "    .dataframe thead th {\n",
       "        text-align: right;\n",
       "    }\n",
       "</style>\n",
       "<table border=\"1\" class=\"dataframe\">\n",
       "  <thead>\n",
       "    <tr style=\"text-align: right;\">\n",
       "      <th></th>\n",
       "      <th>date</th>\n",
       "      <th>number of daily cases</th>\n",
       "      <th>number of daily deaths</th>\n",
       "      <th>new</th>\n",
       "    </tr>\n",
       "  </thead>\n",
       "  <tbody>\n",
       "    <tr>\n",
       "      <th>0</th>\n",
       "      <td>Feb 15  2020</td>\n",
       "      <td>0.0</td>\n",
       "      <td>0</td>\n",
       "      <td>2.0</td>\n",
       "    </tr>\n",
       "    <tr>\n",
       "      <th>1</th>\n",
       "      <td>Feb 16  2020</td>\n",
       "      <td>5.0</td>\n",
       "      <td>0</td>\n",
       "      <td>5.0</td>\n",
       "    </tr>\n",
       "    <tr>\n",
       "      <th>2</th>\n",
       "      <td>Feb 17  2020</td>\n",
       "      <td>2.0</td>\n",
       "      <td>0</td>\n",
       "      <td>5.0</td>\n",
       "    </tr>\n",
       "    <tr>\n",
       "      <th>3</th>\n",
       "      <td>Feb 18  2020</td>\n",
       "      <td>0.0</td>\n",
       "      <td>0</td>\n",
       "      <td>3.0</td>\n",
       "    </tr>\n",
       "  </tbody>\n",
       "</table>\n",
       "</div>"
      ],
      "text/plain": [
       "           date  number of daily cases  number of daily deaths  new\n",
       "0  Feb 15  2020                    0.0                       0  2.0\n",
       "1  Feb 16  2020                    5.0                       0  5.0\n",
       "2  Feb 17  2020                    2.0                       0  5.0\n",
       "3  Feb 18  2020                    0.0                       0  3.0"
      ]
     },
     "execution_count": 36,
     "metadata": {},
     "output_type": "execute_result"
    }
   ],
   "source": [
    "data4 = data1.fillna(value=5)\n",
    "data4"
   ]
  },
  {
   "cell_type": "code",
   "execution_count": 38,
   "id": "531becfa",
   "metadata": {},
   "outputs": [
    {
     "data": {
      "text/plain": [
       "1.0"
      ]
     },
     "execution_count": 38,
     "metadata": {},
     "output_type": "execute_result"
    }
   ],
   "source": [
    "data4['number of daily cases'].median()"
   ]
  },
  {
   "cell_type": "markdown",
   "id": "dd7dc9b9",
   "metadata": {},
   "source": [
    "### Statistical commands\n",
    "\n",
    "* mean\n",
    "* median\n",
    "* max\n",
    "* min\n",
    "* quantile: https://pandas.pydata.org/docs/reference/api/pandas.DataFrame.quantile.html\n",
    "* sum"
   ]
  },
  {
   "cell_type": "markdown",
   "id": "b1aa6d21",
   "metadata": {},
   "source": [
    "## Plotting\n",
    "\n"
   ]
  },
  {
   "cell_type": "code",
   "execution_count": 14,
   "id": "4182962e",
   "metadata": {},
   "outputs": [
    {
     "data": {
      "image/png": "[encoded data removed]",
      "text/plain": [
       "<Figure size 432x288 with 1 Axes>"
      ]
     },
     "metadata": {
      "needs_background": "light"
     },
     "output_type": "display_data"
    }
   ],
   "source": [
    "import matplotlib.pyplot as plt\n",
    "data = pd.read_csv('./data/data_covid_cases_deaths.csv')\n",
    "\n",
    "data.plot()\n",
    "plt.show()"
   ]
  },
  {
   "cell_type": "markdown",
   "id": "ec45b5f4",
   "metadata": {},
   "source": [
    "__Subplots and plot of specific columns__\n",
    "\n",
    "* <code>.subplot()</code> and then specification of the axis with (<code>.plot(ax=ax_name)/code>) for subplots\n",
    "* <code>data['column_name']</code>"
   ]
  },
  {
   "cell_type": "code",
   "execution_count": 44,
   "id": "a81321a8",
   "metadata": {},
   "outputs": [
    {
     "data": {
      "text/plain": [
       "<AxesSubplot:>"
      ]
     },
     "execution_count": 44,
     "metadata": {},
     "output_type": "execute_result"
    },
    {
     "data": {
      "image/png": "[encoded data removed]",
      "text/plain": [
       "<Figure size 432x288 with 2 Axes>"
      ]
     },
     "metadata": {
      "needs_background": "light"
     },
     "output_type": "display_data"
    }
   ],
   "source": [
    "import matplotlib.pyplot as plt\n",
    "fig, axs = plt.subplots(nrows=1, ncols=2)\n",
    "data['number of daily cases'].plot(ax=axs[0])\n",
    "data['number of daily deaths'].plot(ax=axs[1], color='orange')\n"
   ]
  },
  {
   "cell_type": "code",
   "execution_count": 30,
   "id": "10ad7e36",
   "metadata": {},
   "outputs": [
    {
     "data": {
      "image/png": "[encoded data removed]",
      "text/plain": [
       "<Figure size 432x288 with 1 Axes>"
      ]
     },
     "metadata": {
      "needs_background": "light"
     },
     "output_type": "display_data"
    }
   ],
   "source": [
    "import matplotlib.pyplot as plt\n",
    "data = pd.read_csv('./data/data_covid_cases_deaths.csv')\n",
    "\n",
    "data.plot()\n",
    "plt.yscale('log')\n",
    "plt.show()"
   ]
  },
  {
   "cell_type": "code",
   "execution_count": 17,
   "id": "ccc5b958",
   "metadata": {},
   "outputs": [
    {
     "name": "stdout",
     "output_type": "stream",
     "text": [
      "<class 'pandas.core.series.Series'>\n",
      "RangeIndex: 781 entries, 0 to 780\n",
      "Series name: number of daily cases\n",
      "Non-Null Count  Dtype\n",
      "--------------  -----\n",
      "781 non-null    int64\n",
      "dtypes: int64(1)\n",
      "memory usage: 6.2 KB\n"
     ]
    }
   ],
   "source": [
    "data['number of daily cases'].info()"
   ]
  },
  {
   "cell_type": "code",
   "execution_count": 16,
   "id": "98e5415a",
   "metadata": {},
   "outputs": [
    {
     "data": {
      "text/plain": [
       "Text(0, 0.5, 'Number of Daily Cases')"
      ]
     },
     "execution_count": 16,
     "metadata": {},
     "output_type": "execute_result"
    },
    {
     "data": {
      "image/png": "[encoded data removed]",
      "text/plain": [
       "<Figure size 432x288 with 1 Axes>"
      ]
     },
     "metadata": {
      "needs_background": "light"
     },
     "output_type": "display_data"
    }
   ],
   "source": [
    "data['number of daily cases'].plot()\n",
    "plt.ylabel('Number of Daily Cases')"
   ]
  },
  {
   "cell_type": "markdown",
   "id": "634adb2e",
   "metadata": {},
   "source": [
    "### Plotting specific columnts\n",
    "\n",
    "* you can specify them with as above\n",
    "* or path them throw `.columns`"
   ]
  },
  {
   "cell_type": "code",
   "execution_count": 89,
   "id": "35bf80ee",
   "metadata": {},
   "outputs": [
    {
     "data": {
      "image/png": "[encoded data removed]",
      "text/plain": [
       "<Figure size 432x288 with 1 Axes>"
      ]
     },
     "metadata": {
      "needs_background": "light"
     },
     "output_type": "display_data"
    }
   ],
   "source": [
    "import matplotlib.pyplot as plt\n",
    "data = pd.read_csv('./data/data_covid_cases_deaths.csv')\n",
    "\n",
    "plt.plot(data['date'], data['number of daily cases'])\n",
    "plt.show()"
   ]
  },
  {
   "cell_type": "code",
   "execution_count": 18,
   "id": "01e14f9e",
   "metadata": {},
   "outputs": [
    {
     "data": {
      "image/png": "[encoded data removed]",
      "text/plain": [
       "<Figure size 432x288 with 1 Axes>"
      ]
     },
     "metadata": {
      "needs_background": "light"
     },
     "output_type": "display_data"
    }
   ],
   "source": [
    "plt.plot(data[data.columns[0]], data[data.columns[1]], linewidth = 0.5, label = 'cases', marker = '.')\n",
    "plt.legend()\n",
    "plt.show()"
   ]
  },
  {
   "cell_type": "markdown",
   "id": "dcd7073e",
   "metadata": {},
   "source": [
    "### Black area under the graph and splitting the picture into two separate pictures\n",
    "\n",
    "* Black area is a consequency of two many labels that have form of the dates\n",
    "  * A few dates must be specified manually\n",
    "  * and then rotated\n",
    "* `subplot()` method creates subplots"
   ]
  },
  {
   "cell_type": "code",
   "execution_count": 94,
   "id": "c59a2c93",
   "metadata": {},
   "outputs": [
    {
     "data": {
      "image/png": "[encoded data removed]",
      "text/plain": [
       "<Figure size 864x360 with 2 Axes>"
      ]
     },
     "metadata": {
      "needs_background": "light"
     },
     "output_type": "display_data"
    }
   ],
   "source": [
    "fig, axs = plt.subplots(nrows=1, ncols=2, figsize=(12, 5))\n",
    "axs[0].plot(data['date'], data['number of daily cases'])\n",
    "axs[1].plot(data['date'], data['number of daily deaths'])\n",
    "plt.show()"
   ]
  },
  {
   "cell_type": "code",
   "execution_count": 39,
   "id": "a619964b",
   "metadata": {},
   "outputs": [
    {
     "data": {
      "image/png": "[encoded data removed]",
      "text/plain": [
       "<Figure size 864x360 with 2 Axes>"
      ]
     },
     "metadata": {
      "needs_background": "light"
     },
     "output_type": "display_data"
    }
   ],
   "source": [
    "fig, axs = plt.subplots(nrows=1, ncols=2, figsize=(12, 5))\n",
    "d = data['date']\n",
    "cases = data['number of daily cases']\n",
    "deaths = data['number of daily deaths']\n",
    "axs[0].plot(d, cases, color = 'brown')\n",
    "num = 5\n",
    "xlabel_my = []\n",
    "for i in range(0, len(d), int(round(len(d)/num))):\n",
    "    xlabel_my.append(d[i])\n",
    "    #print(d[i])\n",
    "axs[0].set_xticks([d[i] for i in range(0, len(d), int(round(len(d)/num)))])\n",
    "axs[0].set_ylabel('Daily new cases')\n",
    "#axs[0].set_xticklabels(xlabel_my, fontsize = 5)\n",
    "axs[0].set_xticklabels(xlabel_my)\n",
    "\n",
    "axs[1].plot(d, deaths, label = 'Daily deaths')\n",
    "axs[1].set_xticks([d[i] for i in range(0, len(d), int(round(len(d)/num)))])\n",
    "axs[1].set_ylabel('Daily deaths', color = 'green')\n",
    "axs[1].legend()\n",
    "fig.autofmt_xdate(rotation=45) # works if the labels are in the data format\n",
    "plt.savefig('file_name.pdf')\n"
   ]
  },
  {
   "cell_type": "code",
   "execution_count": 40,
   "id": "855ef8ce",
   "metadata": {},
   "outputs": [
    {
     "name": "stdout",
     "output_type": "stream",
     "text": [
      "<class 'pandas.core.frame.DataFrame'>\n",
      "DatetimeIndex: 781 entries, 2020-02-15 to 2022-04-05\n",
      "Data columns (total 2 columns):\n",
      " #   Column                  Non-Null Count  Dtype\n",
      "---  ------                  --------------  -----\n",
      " 0   number of daily cases   781 non-null    int64\n",
      " 1   number of daily deaths  781 non-null    int64\n",
      "dtypes: int64(2)\n",
      "memory usage: 18.3 KB\n"
     ]
    }
   ],
   "source": [
    "data_new = pd.read_csv('./data/data_covid_cases_deaths.csv', parse_dates=['date'], index_col=['date'])\n",
    "data_new.info()"
   ]
  },
  {
   "cell_type": "code",
   "execution_count": 41,
   "id": "50a1a8c4",
   "metadata": {},
   "outputs": [
    {
     "data": {
      "image/png": "[encoded data removed]",
      "text/plain": [
       "<Figure size 720x216 with 1 Axes>"
      ]
     },
     "metadata": {
      "needs_background": "light"
     },
     "output_type": "display_data"
    }
   ],
   "source": [
    "# Create figure and plot space\n",
    "fig, ax = plt.subplots(figsize=(10, 3))\n",
    "\n",
    "# Add x-axis and y-axis\n",
    "ax.bar(data_new.index.values,\n",
    "        data_new['number of daily cases'],\n",
    "        color='purple')\n",
    "\n",
    "# Set title and labels for axes\n",
    "ax.set(xlabel=\"Date\",\n",
    "       ylabel=\"\",\n",
    "       title=\"COVID19-daily cases\")\n",
    "\n",
    "# Rotate tick marks on x-axis\n",
    "plt.setp(ax.get_xticklabels(), rotation=45)\n",
    "\n",
    "plt.show()\n"
   ]
  },
  {
   "cell_type": "markdown",
   "id": "f9732294",
   "metadata": {},
   "source": [
    "## Excercises\n",
    "\n",
    "* Use data from __covid_19_clean.csv__\n",
    "* Read the table to variable `data`\n",
    "* How many rows and columns are there?\n",
    "* How many countries are in the table (be careful, the are replications)?\n",
    "* What are the headers?\n",
    "* Let `data` be the name of your table. Define\n",
    "````python\n",
    "data1 = data[data['Country/Region'] == 'Poland'].iloc[:365]\n",
    "````\n",
    "* find the mean number of deaths in the table `data1`\n",
    "* plot the number of deaths vs. date\n",
    "* plot the number of active cases vs. date\n",
    "* repeat the last constructions for the country of your choice using the whole available range of dates"
   ]
  },
  {
   "cell_type": "code",
   "execution_count": null,
   "id": "d1658cdf",
   "metadata": {},
   "outputs": [],
   "source": []
  }
 ],
 "metadata": {
  "kernelspec": {
   "display_name": "Python 3 (ipykernel)",
   "language": "python",
   "name": "python3"
  },
  "language_info": {
   "codemirror_mode": {
    "name": "ipython",
    "version": 3
   },
   "file_extension": ".py",
   "mimetype": "text/x-python",
   "name": "python",
   "nbconvert_exporter": "python",
   "pygments_lexer": "ipython3",
   "version": "3.9.18"
  },
  "toc": {
   "base_numbering": 1,
   "nav_menu": {},
   "number_sections": true,
   "sideBar": true,
   "skip_h1_title": true,
   "title_cell": "Table of Contents",
   "title_sidebar": "Contents",
   "toc_cell": false,
   "toc_position": {},
   "toc_section_display": true,
   "toc_window_display": false
  }
 },
 "nbformat": 4,
 "nbformat_minor": 5
}
