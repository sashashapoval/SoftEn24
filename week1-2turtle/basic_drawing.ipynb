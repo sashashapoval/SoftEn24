{
 "cells": [
  {
   "cell_type": "markdown",
   "id": "ff296ddf",
   "metadata": {},
   "source": [
    "## My first drawing\n",
    "\n",
    "Drawing with turtle: [Manual](https://docs.python.org/2/library/turtle.html#)\n",
    "\n",
    "### Starting and Ending\n",
    "\n",
    "```python\n",
    "#beginning\n",
    "import turtle #importing library\n",
    "t = turtle.Pen() #creating a new pen (called turtle in this jargon)\n",
    "```\n",
    "\n",
    "* a new window with drawing appears\n",
    "* let's draw something\n",
    "```python\n",
    "t.forward(120)\n",
    "```\n",
    "* the window is inactive now\n",
    "* you can reset it with\n",
    "```python\n",
    "t.reset()\n",
    "```\n",
    "* typed in a separate window\n",
    "* It is also possible to to type in a separate window\n",
    "```python\n",
    "turtle.bye()\n",
    "```\n",
    "the window with drawing disappears, but you may experience an error message when you run the code for the next time. But the second run is expected to be successful.\n",
    "* In contrast, it is possible to type\n",
    "```python\n",
    "turtle.mainloop()\n",
    "```\n",
    "in the last line of the code. Then the window with drawing is clickable. In particular, one may close it clicking the red cross in the upper right window corner.\n"
   ]
  },
  {
   "cell_type": "code",
   "execution_count": 30,
   "id": "f3ad7bec",
   "metadata": {},
   "outputs": [],
   "source": [
    "import turtle #importing library\n",
    "t = turtle.Pen() #creating a new pen (called turtle in this jargon)\n",
    "t.forward(120)"
   ]
  },
  {
   "cell_type": "code",
   "execution_count": 31,
   "id": "e0ce54d9",
   "metadata": {},
   "outputs": [],
   "source": [
    "t.reset()"
   ]
  },
  {
   "cell_type": "code",
   "execution_count": 6,
   "id": "5ab1ffbf",
   "metadata": {},
   "outputs": [],
   "source": [
    "import turtle #importing library\n",
    "t = turtle.Pen() #creating a new pen (called turtle in this jargon)\n",
    "t.forward(120)\n",
    "turtle.mainloop()"
   ]
  },
  {
   "cell_type": "markdown",
   "id": "05a8f2c4",
   "metadata": {},
   "source": [
    "### Saving drawing as an image\n",
    "\n",
    "#### `eps`-output\n",
    "\n",
    "```python\n",
    "from tkinter import *  #library used here to save the file\n",
    "ts = turtle.getscreen() #ts gets the screen with drawing\n",
    "ts.getcanvas().postscript(file = 'arrow.eps') #creating eps-file\n",
    "```"
   ]
  },
  {
   "cell_type": "code",
   "execution_count": 32,
   "id": "d2ed2d95",
   "metadata": {},
   "outputs": [],
   "source": [
    "from tkinter import *  #library used here to save the file\n",
    "import turtle #importing library\n",
    "t = turtle.Pen() #creating a new pen (called turtle in this jargon)\n",
    "t.forward(120)\n",
    "ts = turtle.getscreen()\n",
    "ts.getcanvas().postscript(file = 'arrow.eps')\n",
    "turtle.mainloop()"
   ]
  },
  {
   "cell_type": "markdown",
   "id": "4d2b0b2b",
   "metadata": {},
   "source": [
    "#### eps to jpg\n",
    "\n",
    "* there are many ways to do\n",
    "* I used `ghostscript` installed on my computer. It is unrelated with Python.\n",
    "* !`command` runs the shell `command` within the cell"
   ]
  },
  {
   "cell_type": "code",
   "execution_count": 33,
   "id": "c9ed6f3a",
   "metadata": {},
   "outputs": [
    {
     "name": "stdout",
     "output_type": "stream",
     "text": [
      "GPL Ghostscript 9.27 (2019-04-04)\n",
      "Copyright (C) 2018 Artifex Software, Inc.  All rights reserved.\n",
      "This software is supplied under the GNU AGPLv3 and comes with NO WARRANTY:\n",
      "see the file COPYING for details.\n"
     ]
    }
   ],
   "source": [
    "!\"c:/Program Files/gs/gs9.27/bin/gswin64c.exe\" -sDEVICE=jpeg -dJPEGQ=100 -dNOPAUSE -dBATCH -dSAFER -r300 -sOutputFile=arrow.jpg arrow.eps"
   ]
  },
  {
   "cell_type": "code",
   "execution_count": 20,
   "id": "16bdcb2b",
   "metadata": {},
   "outputs": [
    {
     "name": "stdout",
     "output_type": "stream",
     "text": [
      "GPL Ghostscript 9.27 (2019-04-04)\n",
      "Copyright (C) 2018 Artifex Software, Inc.  All rights reserved.\n",
      "This software is supplied under the GNU AGPLv3 and comes with NO WARRANTY:\n",
      "see the file COPYING for details.\n"
     ]
    }
   ],
   "source": [
    "#controling the image size with -g\n",
    "!\"c:/Program Files/gs/gs9.27/bin/gswin64c.exe\" -sDEVICE=jpeg -g50x30 -dNOPAUSE -dBATCH -dSAFER -r300 -sOutputFile=arrow.jpg arrow.eps"
   ]
  },
  {
   "cell_type": "markdown",
   "id": "c7c597f3",
   "metadata": {},
   "source": [
    "`<img src=\"arrow.jpg\" alt=\"Drawing\" style=\"width: 100px;\"/>` displays our drawing\n",
    "<img src=\"arrow.jpg\" alt=\"Drawing\" style=\"width: 300px; height: 100px;\"/>"
   ]
  },
  {
   "cell_type": "markdown",
   "id": "e2964806",
   "metadata": {},
   "source": [
    "## Simple figures\n",
    "\n",
    "### Square"
   ]
  },
  {
   "cell_type": "code",
   "execution_count": 35,
   "id": "999811dd",
   "metadata": {},
   "outputs": [],
   "source": [
    "import turtle\n",
    "t = turtle.Pen()\n",
    "for _ in range(4):\n",
    "    t.forward(120)\n",
    "    t.left(90) #turn 90 degree left\n",
    "#turtle.mainloop()"
   ]
  },
  {
   "cell_type": "code",
   "execution_count": 37,
   "id": "28e9aaed",
   "metadata": {},
   "outputs": [],
   "source": [
    "t.reset()"
   ]
  },
  {
   "cell_type": "markdown",
   "id": "9ee73d62",
   "metadata": {},
   "source": [
    "__Loops__"
   ]
  },
  {
   "cell_type": "code",
   "execution_count": 36,
   "id": "c61d6a51",
   "metadata": {},
   "outputs": [
    {
     "name": "stdout",
     "output_type": "stream",
     "text": [
      "0\n",
      "1\n",
      "2\n",
      "3\n"
     ]
    }
   ],
   "source": [
    "for i in range(4):\n",
    "    print(i)"
   ]
  },
  {
   "cell_type": "markdown",
   "id": "9f6432aa",
   "metadata": {},
   "source": [
    "<details>\n",
    "  <summary><span style = \"font-weight:bold; color:blue;\"><u><li>Question: </li></u></span>Write the code that draws an equilateral polygon with $6$ sides.\n",
    "  </summary>\n",
    "  \n",
    "  <code>\n",
    "    n = 6\n",
    "    for _ in range(n):\n",
    "        t.forward(120)\n",
    "        t.left(360/n) \n",
    "  </code>\n",
    "\n",
    "</details>\n"
   ]
  },
  {
   "cell_type": "markdown",
   "id": "b7be36d3",
   "metadata": {},
   "source": [
    "### A bit more complicated figures"
   ]
  },
  {
   "cell_type": "markdown",
   "id": "f325d598",
   "metadata": {},
   "source": [
    "<details>\n",
    "  <summary><span style = \"font-weight:bold; color:blue;\"><u><li>Question: </li></u></span>Draw<br><img src=\"snake.jpg\" alt=\"Drawing\" style=\"float:right;width: 250px;margin:-40px 150px -20px 0px;\"/>\n",
    "  </summary>\n",
    "  \n",
    "  <code>\n",
    "    l_big = 100\n",
    "    l_sml = 30\n",
    "    for _ in range(3):\n",
    "        t.left(90)\n",
    "        t.forward(l_big)\n",
    "        t.right(90)\n",
    "        t.forward(l_sml)\n",
    "        t.right(90)\n",
    "        t.forward(l_big)\n",
    "        t.left(90)\n",
    "        t.forward(l_sml)\n",
    "  </code>\n",
    "    \n",
    "  __Saving the code to jpg__ I recommend to crop the figure with a graphical application\n",
    "    \n",
    "  <code>\n",
    "    from tkinter import *  #library used here to save the file\n",
    "    ts = turtle.getscreen()\n",
    "    ts.getcanvas().postscript(file = 'snake.eps')\n",
    "        !\"c:/Program Files/gs/gs9.27/bin/gswin64c.exe\" -sDEVICE=jpeg -dJPEGQ=100 -dNOPAUSE -dBATCH -dSAFER -r300 -sOutputFile=snake.jpg snake.eps\n",
    "  </code>\n",
    "    \n",
    "</details>\n",
    "\n"
   ]
  },
  {
   "cell_type": "markdown",
   "id": "6e3776c6",
   "metadata": {},
   "source": [
    "<details>\n",
    "  <summary><span style = \"font-weight:bold; color:blue;\"><u><li>Question: </li></u></span>Draw<img src=\"two_squares.jpg\" alt=\"Drawing\" style=\"float:right;width: 250px;margin:-50px 150px -20px 0px;\"/>\n",
    "  </summary>\n",
    "  \n",
    "  <code>\n",
    "    for _ in range(4):\n",
    "        t.forward(120)\n",
    "        t.right(90) #turn 90 degree right\n",
    "    for _ in range(4):\n",
    "        t.left(90) #turn 90 degree left\n",
    "        t.forward(120)\n",
    "  </code>\n",
    "    \n",
    "</details>\n"
   ]
  },
  {
   "cell_type": "markdown",
   "id": "9899a22a",
   "metadata": {},
   "source": [
    "<details>\n",
    "  <summary><span style = \"font-weight:bold; color:blue;\"><u><li>Question: </li></u></span>Draw two squares with sides of 50 and 100 as in the sketch<br><img src=\"two_squares_with_single_corner.png\" alt=\"Drawing\" style=\"width: 150px;\"/>\n",
    "  </summary>\n",
    "    \n",
    "  <li>Do it yourself</li>\n",
    "    \n",
    "</details>\n"
   ]
  },
  {
   "cell_type": "markdown",
   "id": "cf44012c",
   "metadata": {},
   "source": [
    "__Moving without drawing__\n",
    "\n",
    "* `penup()` and `pendown()`"
   ]
  },
  {
   "cell_type": "code",
   "execution_count": 53,
   "id": "74533a51",
   "metadata": {},
   "outputs": [],
   "source": [
    "#two separate segments\n",
    "import turtle\n",
    "t = turtle.Pen()\n",
    "t.fd(50)\n",
    "t.pu()\n",
    "t.fd(30)\n",
    "t.pd()\n",
    "t.fd(50)\n"
   ]
  },
  {
   "cell_type": "code",
   "execution_count": 54,
   "id": "d58a3b64",
   "metadata": {},
   "outputs": [],
   "source": [
    "t.reset()"
   ]
  },
  {
   "cell_type": "markdown",
   "id": "48bb2fc8",
   "metadata": {},
   "source": [
    "<details>\n",
    "  <summary><span style = \"font-weight:bold; color:blue;\"><u><li>Question: </li></u></span>Draw the cross as in the sketch<br><img src=\"cross.png\" alt=\"Drawing\" style=\"width: 150px;\"/>\n",
    "  </summary>\n",
    "    \n",
    "  <li>Do it yourself</li>\n",
    "    \n",
    "</details>\n",
    "\n"
   ]
  },
  {
   "cell_type": "markdown",
   "id": "f65bfb7c",
   "metadata": {},
   "source": [
    "<details>\n",
    "  <summary><span style = \"font-weight:bold; color:blue;\"><u><li>Question: </li></u></span>Draw a spiral as in the sketch<br><img src=\"spiral.jpg\" alt=\"Drawing\" style=\"width: 150px;\"/>\n",
    "  </summary>\n",
    "    \n",
    "  <li>Do it yourself</li>\n",
    "    \n",
    "</details>\n"
   ]
  },
  {
   "cell_type": "markdown",
   "id": "f3915729",
   "metadata": {},
   "source": [
    "__Example of a spiral__"
   ]
  },
  {
   "cell_type": "code",
   "execution_count": 57,
   "id": "96a72ebf",
   "metadata": {},
   "outputs": [],
   "source": [
    "#import turtle\n",
    "#t = turtle.Pen()\n",
    "t.speed(0) #to control the speed of the turtle: 0 - very fast; then from 1 to 15 increasing the speed\n",
    "for i in range(400):\n",
    "    t.forward(i)\n",
    "    t.left(91)\n"
   ]
  },
  {
   "cell_type": "code",
   "execution_count": 58,
   "id": "e6eddb02",
   "metadata": {},
   "outputs": [],
   "source": [
    "t.reset()"
   ]
  },
  {
   "cell_type": "markdown",
   "id": "761289e4",
   "metadata": {},
   "source": [
    "<details>\n",
    "  <summary><span style = \"font-weight:bold; color:blue;\"><u><li>Question: </li></u></span>Draw a man as in the sketch<br><img src=\"man.png\" alt=\"Drawing\" style=\"width: 200px;\"/>\n",
    "  </summary>\n",
    "    \n",
    "  <li>Do it yourself</li>\n",
    "    \n",
    "</details>\n",
    "\n"
   ]
  },
  {
   "cell_type": "markdown",
   "id": "8df3e83c",
   "metadata": {},
   "source": [
    "__Changing the position and \"Hello World!\"__"
   ]
  },
  {
   "cell_type": "code",
   "execution_count": 63,
   "id": "768c054c",
   "metadata": {},
   "outputs": [],
   "source": [
    "for _ in range(4):\n",
    "    t.forward(120)\n",
    "    t.left(90)\n",
    "t.penup()\n",
    "t.setpos(0, -30)\n",
    "t.pendown()\n",
    "t.write(\"Hello World!\", font=(\"Arial\", 18, \"normal\"))"
   ]
  },
  {
   "cell_type": "code",
   "execution_count": 64,
   "id": "097a6a93",
   "metadata": {},
   "outputs": [],
   "source": [
    "t.reset()"
   ]
  },
  {
   "cell_type": "markdown",
   "id": "03df6e9c",
   "metadata": {},
   "source": [
    "## Example of a project part with `tkinter`"
   ]
  },
  {
   "cell_type": "markdown",
   "id": "c8569305",
   "metadata": {},
   "source": [
    "### Labyrinth\n",
    "\n",
    "* Goal: a player must reach the marked place of the labyrinth\n",
    "* Done: a simple labyrinth with the description below\n",
    "* To do: \n",
    "    * more advanced labyrinth\n",
    "    * compute the time required for players to reach the goal\n",
    "    * leader board\n",
    "__The current code:__\n",
    "\n",
    "The labyrinth is written in a single cell (as in the first cell)\n",
    "\n",
    "Required\n",
    "- lattice size\n",
    "- inner walls\n",
    "- coordinates of the beginning and the end of the route \n",
    "\n",
    "To launch the code, one has to run two cells:\n",
    "- cell with the labyrinth\n",
    "- the last cell\n",
    "\n",
    "__The task:__ to move the right ball to the gray square by using the arrows\n",
    "\n",
    "__Bonus:__ the ball changes color for a moment when kicking the wall"
   ]
  },
  {
   "cell_type": "code",
   "execution_count": 1,
   "id": "3cde1be3",
   "metadata": {},
   "outputs": [],
   "source": [
    "#labirint 3; the same as 2, but with another (more complicated) finish\n",
    "n_cells_row = 20 # n_cells_row x n_cells_clmn lattice\n",
    "n_cells_clmn = 25\n",
    "\n",
    "def set_labirint(cell, n_cells_row, n_cells_clmn):\n",
    "    global side, offset, clr_wall, wd_wall\n",
    "\n",
    "    #start\n",
    "    i_start = 2\n",
    "    j_start = 0\n",
    "    i_fin = 19\n",
    "    j_fin = 24\n",
    "\n",
    "    #draw inner walls\n",
    "    #horizontal: label the cells to which the wall is at the left\n",
    "    i = 0 #row\n",
    "    tmp = []\n",
    "    for i in range(n_cells_row):\n",
    "        tmp.append([])\n",
    "    tmp[0] = [4, 5, 9, 10, 11, 14, 20]\n",
    "    tmp[1] = [3, 4, 6, 7, 9, 10, 11, 13, 19, 21, 22, 24]\n",
    "    tmp[2] = [1, 3, 5, 10, 12, 14, 20, 21, 22, 23]\n",
    "    tmp[3] = [2, 6, 8, 9, 11, 13, 14, 15, 17, 18, 21, 22, 23]\n",
    "    tmp[4] = [1, 2, 4, 6, 7, 10, 12, 13, 15, 17, 19, 22]\n",
    "    tmp[5] = [1, 3, 5, 6, 8, 10, 12, 15, 17, 19, 21, 23]\n",
    "    tmp[6] = [1, 3, 4, 5, 8, 11, 13, 16, 17, 21, 22]\n",
    "    tmp[7] = [1, 2, 3, 5, 7, 9, 11, 13, 14, 16, 18, 19, 21, 24]\n",
    "    tmp[8] = [1, 3, 6, 8, 10, 11, 12, 14, 15, 17, 19, 21, 24]\n",
    "    tmp[9] = [3, 4, 5, 7, 10, 14, 17, 20, 22, 23]\n",
    "    tmp[10] = [2, 5, 11, 13, 15, 16, 18, 20, 22, 23]\n",
    "    tmp[11] = [1, 4, 5, 9, 10, 12, 14, 15, 17, 18, 19, 21, 22, 24]\n",
    "    tmp[12] = [2, 3, 4, 6, 9, 10, 13, 14, 15, 16, 20, 21, 23]\n",
    "    tmp[13] = [1, 3, 4, 6, 7, 9, 11, 15, 20, 22]\n",
    "    tmp[14] = [1, 3, 5, 7, 8, 9, 11, 16, 20, 21, 23]\n",
    "    tmp[15] = [1, 4, 8, 9, 10, 12, 16, 17, 20, 21, 23, 24]\n",
    "    tmp[16] = [6, 9, 11, 12, 14, 17, 19, 21, 22, 24]\n",
    "    tmp[17] = [2, 4, 10, 11, 15, 17, 21, 23, 24]\n",
    "    tmp[18] = [3, 5, 8, 11, 17, 20, 22]\n",
    "    tmp[19] = [3, 7, 11, 13, 18, 19, 21]\n",
    "    for i in range(n_cells_row):\n",
    "        for k in range(len(tmp[i])):\n",
    "            j = tmp[i][k]\n",
    "            if j > 0 and j < n_cells_clmn:\n",
    "                cell[i][j-1][2] = 1\n",
    "                cell[i][j][0] = 1\n",
    "                coord_tmp = ind2center(i, j, side, offset)\n",
    "                c.create_line(coord_tmp[0] - side/2, coord_tmp[1] - side/2, \\\n",
    "                    coord_tmp[0] - side/2, coord_tmp[1] + side/2, \\\n",
    "                    fill = clr_wall, width = wd_wall)\n",
    "            else:\n",
    "                raise Exception('Cell ({:d}, {:d}) does not have the left boundary'.format(i,j))\n",
    "\n",
    "    #vertial: label the cells to which the wall is at the top\n",
    "    wall_vert = []\n",
    "    for i in range(n_cells_clmn):\n",
    "        wall_vert.append([])\n",
    "    wall_vert[0] = [2, 10, 13, 18]\n",
    "    wall_vert[1] = [1, 2, 7, 9, 12, 14, 19]\n",
    "    wall_vert[2] = [1, 3, 5, 6, 9, 11, 13, 15, 17]\n",
    "    wall_vert[3] = [3, 4, 5, 10, 14, 16, 17]\n",
    "    wall_vert[4] = [2, 3, 4, 7, 11, 15, 16, 19]\n",
    "    wall_vert[5] = [2, 6, 8, 10, 12, 17]\n",
    "    wall_vert[6] = [2, 3, 6, 10, 12, 16, 17, 18, 19]\n",
    "    wall_vert[7] = [1, 3, 4, 6, 11, 13, 16, 17]\n",
    "    wall_vert[8] = [2, 4, 6, 8, 9, 10, 11, 13, 17]\n",
    "    wall_vert[9] = [2, 4, 6, 7, 8, 10, 13, 15, 17, 19]\n",
    "    wall_vert[10] = [1, 3, 5, 7, 10, 12, 14, 16, 19]\n",
    "    wall_vert[11] = [3, 5, 9, 10, 12, 14, 15, 18]\n",
    "    wall_vert[12] = [1, 2, 4, 6, 7, 9, 10, 13, 14, 15, 17, 19]\n",
    "    wall_vert[13] = [1, 3, 5, 6, 9, 11, 13, 14, 15, 16, 17, 18, 19]\n",
    "    wall_vert[14] = [1, 2, 5, 7, 10, 14, 15, 16, 18, 19]\n",
    "    wall_vert[15] = [1, 2, 3, 5, 6, 8, 14, 16, 18, 19]\n",
    "    wall_vert[16] = [1, 2, 4, 7, 9, 11, 12, 13, 14, 17, 19]\n",
    "    wall_vert[17] = [1, 2, 5, 8, 10, 12, 13, 14, 15, 17]\n",
    "    wall_vert[18] = [1, 3, 5, 6, 8, 10, 12, 13, 14, 15, 16, 18]\n",
    "    wall_vert[19] = [3, 4, 6, 7, 10, 12, 14, 16, 18]\n",
    "    wall_vert[20] = [1, 4, 5, 6, 8, 10, 12, 17, 18]\n",
    "    wall_vert[21] = [5, 8, 10, 13, 14, 16]\n",
    "    wall_vert[22] = [1, 5, 7, 8, 12, 14, 15, 17, 19]\n",
    "    wall_vert[23] = [1, 3, 4, 5, 6, 7, 9, 11, 13, 15, 19]\n",
    "    wall_vert[24] = [3, 5, 10, 13, 14]\n",
    "\n",
    "    for j in range(n_cells_clmn):\n",
    "        for k in range(len(wall_vert[j])):\n",
    "            i = wall_vert[j][k]\n",
    "            if i > 0 and i < n_cells_row:\n",
    "                cell[i-1][j][3] = 1\n",
    "                cell[i][j][1] = 1\n",
    "                coord_tmp = ind2center(i, j, side, offset)\n",
    "                c.create_line(coord_tmp[0] - side/2, coord_tmp[1] - side/2, \\\n",
    "                    coord_tmp[0] + side/2, coord_tmp[1] - side/2, \\\n",
    "                    fill = clr_wall, width = wd_wall)\n",
    "            else:\n",
    "                raise Exception('Cell ({:d}, {:d}) does not have the upper boundary'.format(i,j))\n",
    "\n",
    "    return cell, i_start, j_start, i_fin, j_fin"
   ]
  },
  {
   "cell_type": "code",
   "execution_count": 2,
   "id": "d871c199",
   "metadata": {},
   "outputs": [],
   "source": [
    "from tkinter import *\n",
    "root = Tk()\n",
    "side = 20\n",
    "offset = side #offset from all boundaries of the canvas\n",
    "wd_lattice = n_cells_clmn * side\n",
    "ht_lattice = n_cells_row * side\n",
    "wd_canvas = wd_lattice + 2*offset\n",
    "ht_canvas = ht_lattice + 2*offset\n",
    "clr = 'red'\n",
    "clr_instant = 'green'\n",
    "clr_wall = 'blue'\n",
    "shft = side\n",
    "wd_wall = 2\n",
    "\n",
    "def ind2center(i, j, side, offset):\n",
    "    x = offset + j*side + 0.5*side\n",
    "    y = offset + i*side + 0.5*side\n",
    "    return x, y\n",
    "\n",
    "def center2ind(x, y, side, offset):\n",
    "    i = int((y - offset) / side - 0.5)\n",
    "    j = int((x - offset) / side - 0.5)\n",
    "    return i, j\n",
    "\n",
    "c = Canvas(root, width = wd_canvas, height = ht_canvas, bg = \"yellow\")\n",
    "c.focus_set()\n",
    "c.pack()\n",
    "\n",
    "#create the list of cells;\n",
    "#cell[i][j] is the list of five quantities:\n",
    "# is the wall right, above, left, below; is the cell final\n",
    "cell = []\n",
    "for i in range(n_cells_row):\n",
    "    cell.append([])\n",
    "    for j in range(n_cells_clmn):\n",
    "        cell[i].append([])\n",
    "        cell[i][j] = [0, 0, 0, 0, 0]\n",
    "\n",
    "#draw the lattice\n",
    "def draw_lattice(n_cells_row, n_cells_clmn, offset, side, \\\n",
    "                 wd_canvas, ht_canvas):\n",
    "    for i in range(n_cells_row+1):\n",
    "        for j in range(n_cells_clmn+1):\n",
    "            c.create_line(offset + j*side, offset, \\\n",
    "                      offset + j*side, ht_canvas - offset, fill = 'gray')\n",
    "            c.create_line(offset, offset + i*side, \\\n",
    "                      wd_canvas - offset, offset + i*side, fill = 'gray')\n",
    "\n",
    "draw_lattice(n_cells_row, n_cells_clmn, offset, side, wd_canvas, ht_canvas)\n",
    "\n",
    "#draw walls: outer walls\n",
    "c.create_line(offset, offset, offset, ht_canvas - offset, \\\n",
    "              fill = clr_wall, width = wd_wall)\n",
    "c.create_line(wd_canvas - offset, offset, wd_canvas - offset, \\\n",
    "              ht_canvas - offset, fill = clr_wall, width = wd_wall)\n",
    "c.create_line(offset, offset, wd_canvas - offset, offset, \\\n",
    "              fill = clr_wall, width = wd_wall)\n",
    "c.create_line(offset, ht_canvas - offset, wd_canvas - offset, \\\n",
    "              ht_canvas - offset, fill = clr_wall, width = wd_wall)\n",
    "#write the outer walls to cells\n",
    "for i in range(n_cells_row):\n",
    "    cell[i][0][0] = 1 #left row; the wall is at the left\n",
    "    cell[i][-1][2] = 1 #right row; the wall is at the right\n",
    "for j in range(n_cells_clmn):\n",
    "    cell[0][j][1] = 1 #top column; the wall above\n",
    "    cell[-1][j][3] = 1 #bottom column; the wall is below\n",
    "\n",
    "c.create_text(offset, offset/2, text = \\\n",
    "    'SSh', font=('Arial', 10, 'bold'))\n",
    "\n",
    "    \n",
    "cell, i_start, j_start, i_fin, j_fin = set_labirint(cell, n_cells_row, n_cells_clmn)\n",
    "\n",
    "#draw ball in (i_start, j_start)\n",
    "coord_tmp = ind2center(i_start, j_start, side, offset)\n",
    "ball_scale = 0.7\n",
    "x_nw = coord_tmp[0] - ball_scale*side/2 \n",
    "y_nw = coord_tmp[1] - ball_scale*side/2 \n",
    "x_se = coord_tmp[0] + ball_scale*side/2 \n",
    "y_se = coord_tmp[1] + ball_scale*side/2 \n",
    "ball = c.create_oval(x_nw, y_nw, x_se, y_se, fill = clr)\n",
    "\n",
    "#Mark the final cell\n",
    "coord_tmp = ind2center(i_fin, j_fin, side, offset)\n",
    "c.create_rectangle(coord_tmp[0] - side/2, coord_tmp[1] - side/2, \\\n",
    "        coord_tmp[0] + side/2, coord_tmp[1] + side/2, fill = 'grey')\n",
    "\n",
    "def clr_change():\n",
    "    global ball\n",
    "    global clr\n",
    "    c.itemconfig(ball, fill = clr)\n",
    "\n",
    "def checkfinish(i, j):\n",
    "    if (i, j) == (i_fin, j_fin):\n",
    "        c.create_text(wd_canvas/2, ht_canvas/2, text = \\\n",
    "            'Hurrah! You won', font=('Arial', 24, 'bold'))\n",
    "        root.focus_set()\n",
    "    \n",
    "def moveleft(event, shft):\n",
    "    global clr_instant\n",
    "    coord_new = c.coords(event)\n",
    "    i, j = center2ind((coord_new[0] + coord_new[2]) / 2,\\\n",
    "            (coord_new[1] + coord_new[3]) / 2, side, offset)\n",
    "    if cell[i][j][0]:\n",
    "        c.itemconfig(event, fill = clr_instant)\n",
    "        c.after(500, clr_change)\n",
    "    else:\n",
    "        c.move(event, -shft, 0)\n",
    "        j = j - 1\n",
    "        checkfinish(i, j)\n",
    "\n",
    "def moveup(event, shft):\n",
    "    global clr_instant\n",
    "    coord_new = c.coords(event)\n",
    "    i, j = center2ind((coord_new[0] + coord_new[2]) / 2,\\\n",
    "            (coord_new[1] + coord_new[3]) / 2, side, offset)\n",
    "    if cell[i][j][1]:\n",
    "        c.itemconfig(event, fill = clr_instant)\n",
    "        c.after(500, clr_change)\n",
    "    else:\n",
    "        c.move(event, 0, -shft)\n",
    "        i = i - 1\n",
    "        checkfinish(i, j)\n",
    "\n",
    "def moveright(event, shft):\n",
    "    global clr_instant\n",
    "    global n_cells_row\n",
    "    coord_new = c.coords(event)\n",
    "    i, j = center2ind((coord_new[0] + coord_new[2]) / 2,\\\n",
    "            (coord_new[1] + coord_new[3]) / 2, side, offset)\n",
    "    if cell[i][j][2]:\n",
    "        c.itemconfig(event, fill = clr_instant)\n",
    "        c.after(500, clr_change)\n",
    "    else:\n",
    "        c.move(event, shft, 0)\n",
    "        j = j + 1\n",
    "        checkfinish(i, j)\n",
    "\n",
    "def movedown(event, shft):\n",
    "    global clr_instant\n",
    "    global n_cells_row\n",
    "    coord_new = c.coords(event)\n",
    "    i, j = center2ind((coord_new[0] + coord_new[2]) / 2,\\\n",
    "            (coord_new[1] + coord_new[3]) / 2, side, offset)\n",
    "    if cell[i][j][3]:\n",
    "        c.itemconfig(event, fill = clr_instant)\n",
    "        c.after(500, clr_change)\n",
    "    else:\n",
    "        c.move(event, 0, shft)\n",
    "        i = i +1\n",
    "        checkfinish(i, j)\n",
    "\n",
    "c.bind('<Up>', lambda event: moveup(ball, shft))\n",
    "c.bind('<Down>', lambda event: movedown(ball, shft))\n",
    "c.bind('<Left>', lambda event: moveleft(ball, shft))\n",
    "c.bind('<Right>', lambda event: moveright(ball, shft))\n",
    "coord_new = c.coords(ball)\n",
    "\n",
    "mainloop()"
   ]
  },
  {
   "cell_type": "code",
   "execution_count": null,
   "id": "56795c0a",
   "metadata": {},
   "outputs": [],
   "source": []
  }
 ],
 "metadata": {
  "kernelspec": {
   "display_name": "Python 3 (ipykernel)",
   "language": "python",
   "name": "python3"
  },
  "language_info": {
   "codemirror_mode": {
    "name": "ipython",
    "version": 3
   },
   "file_extension": ".py",
   "mimetype": "text/x-python",
   "name": "python",
   "nbconvert_exporter": "python",
   "pygments_lexer": "ipython3",
   "version": "3.9.18"
  },
  "toc": {
   "base_numbering": 1,
   "nav_menu": {},
   "number_sections": true,
   "sideBar": true,
   "skip_h1_title": false,
   "title_cell": "Table of Contents",
   "title_sidebar": "Contents",
   "toc_cell": false,
   "toc_position": {},
   "toc_section_display": true,
   "toc_window_display": false
  }
 },
 "nbformat": 4,
 "nbformat_minor": 5
}
