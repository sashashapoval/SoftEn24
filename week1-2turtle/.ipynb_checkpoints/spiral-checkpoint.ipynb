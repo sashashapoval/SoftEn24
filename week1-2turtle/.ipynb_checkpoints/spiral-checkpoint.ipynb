{
 "cells": [
  {
   "cell_type": "code",
   "execution_count": 3,
   "metadata": {},
   "outputs": [],
   "source": [
    "import turtle\n",
    "t = turtle.Pen()\n",
    "for _ in range(4):\n",
    "    t.forward(120)\n",
    "    t.left(90)\n"
   ]
  },
  {
   "cell_type": "code",
   "execution_count": 4,
   "metadata": {},
   "outputs": [],
   "source": [
    "t.reset()"
   ]
  },
  {
   "cell_type": "code",
   "execution_count": 14,
   "metadata": {},
   "outputs": [],
   "source": [
    "import turtle\n",
    "t = turtle.Pen()\n",
    "for _ in range(5):\n",
    "    t.forward(120)\n",
    "    t.left(72)"
   ]
  },
  {
   "cell_type": "code",
   "execution_count": 17,
   "metadata": {},
   "outputs": [],
   "source": [
    "t.reset()"
   ]
  },
  {
   "cell_type": "code",
   "execution_count": 11,
   "metadata": {},
   "outputs": [],
   "source": [
    "import turtle\n",
    "t = turtle.Pen()\n",
    "t.speed(2)\n",
    "turtle.bgcolor(\"yellow\")\n",
    "#turtle.color(\"blue\")\n",
    "for _ in range(4):\n",
    "    t.forward(120)\n",
    "    t.left(90)\n",
    "t.penup()\n",
    "#t.right(90)\n",
    "#t.forward(20)\n",
    "t.goto(0, -30)\n",
    "t.write(\"It's my first picture\", font=(\"Arial\", 18, \"normal\"))"
   ]
  },
  {
   "cell_type": "code",
   "execution_count": 20,
   "metadata": {},
   "outputs": [],
   "source": [
    "import turtle\n",
    "t = turtle.Pen()\n",
    "turtle.bgcolor('white')\n",
    "t.color('blue', 'yellow')\n",
    "t.begin_fill()\n",
    "for i in range(18):\n",
    "    t.forward(150)\n",
    "    t.left(100)\n",
    "t.end_fill()\n"
   ]
  },
  {
   "cell_type": "code",
   "execution_count": null,
   "metadata": {},
   "outputs": [],
   "source": [
    "import turtle\n",
    "t = turtle.Pen()\n",
    "for i in range(10):\n",
    "    t.forward(50)\n",
    "    t.left(60)\n",
    "    "
   ]
  },
  {
   "cell_type": "code",
   "execution_count": null,
   "metadata": {},
   "outputs": [],
   "source": [
    "t.reset()"
   ]
  },
  {
   "cell_type": "code",
   "execution_count": null,
   "metadata": {},
   "outputs": [],
   "source": [
    "import turtle\n",
    "t = turtle.Pen()\n",
    "for i in range(500):\n",
    "    t.forward(i)\n",
    "    t.left(91)\n"
   ]
  },
  {
   "cell_type": "code",
   "execution_count": null,
   "metadata": {},
   "outputs": [],
   "source": [
    "import turtle\n",
    "t = turtle.Pen()\n",
    "t.pencolor(\"red\")\n",
    "for i in range(90):\n",
    "    t.circle(i)\n",
    "    t.left(91)\n"
   ]
  },
  {
   "cell_type": "code",
   "execution_count": 22,
   "metadata": {},
   "outputs": [],
   "source": [
    "import turtle\n",
    "t = turtle.Pen()\n",
    "for i in range(400):\n",
    "    t.forward(i)\n",
    "    t.left(91)\n",
    "    \n"
   ]
  },
  {
   "cell_type": "code",
   "execution_count": 21,
   "metadata": {},
   "outputs": [],
   "source": [
    "t.reset()"
   ]
  },
  {
   "cell_type": "code",
   "execution_count": null,
   "metadata": {},
   "outputs": [],
   "source": [
    "import turtle\n",
    "t = turtle.Pen()\n",
    "t.pencolor(\"red\")\n",
    "for i in range(4):\n",
    "    t.forward(50)\n",
    "    t.left(90)"
   ]
  },
  {
   "cell_type": "code",
   "execution_count": null,
   "metadata": {},
   "outputs": [],
   "source": [
    "import turtle\n",
    "t = turtle.Pen()\n",
    "colors = [\"red\", \"blue\", \"yellow\", \"green\"]\n",
    "for i in range(100):\n",
    "    t.pencolor(colors[i%4])\n",
    "    t.circle(i)\n",
    "    t.left(91)\n"
   ]
  },
  {
   "cell_type": "code",
   "execution_count": null,
   "metadata": {},
   "outputs": [],
   "source": [
    "import turtle\n",
    "t = turtle.Pen()\n",
    "turtle.bgcolor(\"black\")\n",
    "side = eval(input(\"type the number of sides <= 7 \"))\n",
    "colors = [\"red\", \"orange\", \"yellow\", \"purple\", \"green\", \"magenta\", \"blue\"]\n",
    "for i in range(20):\n",
    "    t.pencolor(colors[i%side])\n",
    "    t.circle(i)\n",
    "    t.left(360/side+1)\n"
   ]
  },
  {
   "cell_type": "code",
   "execution_count": null,
   "metadata": {},
   "outputs": [],
   "source": [
    "t.reset()"
   ]
  },
  {
   "cell_type": "code",
   "execution_count": null,
   "metadata": {},
   "outputs": [],
   "source": [
    "import turtle\n",
    "turtle.bgcolor(\"black\")\n",
    "t = turtle.Pen()\n",
    "colors = [\"red\", \"blue\", \"yellow\", \"green\"]\n",
    "for i in range(50):\n",
    "    t.pencolor(colors[i%4])\n",
    "    t.circle(i)\n",
    "    t.left(91)\n"
   ]
  },
  {
   "cell_type": "code",
   "execution_count": null,
   "metadata": {},
   "outputs": [],
   "source": [
    "t.reset()"
   ]
  },
  {
   "cell_type": "code",
   "execution_count": null,
   "metadata": {},
   "outputs": [],
   "source": [
    "#Color spiral\n",
    "import turtle\n",
    "turtle.bgcolor(\"black\")\n",
    "t = turtle.Pen()\n",
    "sides = 6\n",
    "colors = [\"red\", \"blue\", \"yellow\", \"green\", \"purple\", \"salmon\"]\n",
    "for i in range(50):\n",
    "    t.pencolor(colors[i%sides])\n",
    "    t.circle(i)\n",
    "    t.left(360/sides + 1)\n",
    "    t.width(i * sides / 200) #width of the pen (lines)\n"
   ]
  },
  {
   "cell_type": "code",
   "execution_count": null,
   "metadata": {},
   "outputs": [],
   "source": [
    "t.reset()"
   ]
  },
  {
   "cell_type": "code",
   "execution_count": null,
   "metadata": {},
   "outputs": [],
   "source": [
    "#Color spiral with pre-defined number of sides\n",
    "import turtle\n",
    "import sys\n",
    "turtle.bgcolor(\"black\")\n",
    "t = turtle.Pen()\n",
    "sides = eval(input(\"Type the number of sides: integer from 2 to 6: \"))\n",
    "if sides < 2 or sides > 6:\n",
    "    print(\"The number of sizes must be from 2 to 6, but you type \", sides)\n",
    "    sys.exit()\n",
    "colors = [\"red\", \"blue\", \"yellow\", \"green\", \"purple\", \"salmon\"]\n",
    "for i in range(50):\n",
    "    t.pencolor(colors[i%sides])\n",
    "    t.circle(i)\n",
    "    t.left(360/sides + 1)\n",
    "    t.width(i * sides / 200) #width of the pen (lines)\n",
    "    t.left(90)\n"
   ]
  },
  {
   "cell_type": "code",
   "execution_count": null,
   "metadata": {},
   "outputs": [],
   "source": [
    "t.reset()"
   ]
  },
  {
   "cell_type": "code",
   "execution_count": null,
   "metadata": {},
   "outputs": [],
   "source": [
    "import turtle\n",
    "t = turtle.Pen()\n",
    "turtle.bgcolor(\"black\")\n",
    "colors = [\"red\", \"purple\", \"yellow\", \"white\"]\n",
    "#Ask the user name\n",
    "name = input(\"What is your name? \")\n",
    "for i in range(100):\n",
    "    t.pencolor(colors[i%4])\n",
    "    t.penup() #Stop drawing\n",
    "    t.forward(4 * i)\n",
    "    t.pendown() #Write the name and increase the font\n",
    "    t.write(name, font = (\"Arial\", int((i+4) / 4), \"bold\"))\n",
    "    t.left(91)\n"
   ]
  },
  {
   "cell_type": "markdown",
   "metadata": {},
   "source": [
    "## The First Project: Requirements\n",
    "\n",
    "1. Authorship\n",
    "2. Loop\n",
    "3. Conditional\n",
    "4. Writing\n",
    "5. Beauty"
   ]
  },
  {
   "cell_type": "code",
   "execution_count": null,
   "metadata": {},
   "outputs": [],
   "source": [
    "turtle.bye()"
   ]
  },
  {
   "cell_type": "code",
   "execution_count": null,
   "metadata": {},
   "outputs": [],
   "source": []
  }
 ],
 "metadata": {
  "kernelspec": {
   "display_name": "Python 3 (ipykernel)",
   "language": "python",
   "name": "python3"
  },
  "language_info": {
   "codemirror_mode": {
    "name": "ipython",
    "version": 3
   },
   "file_extension": ".py",
   "mimetype": "text/x-python",
   "name": "python",
   "nbconvert_exporter": "python",
   "pygments_lexer": "ipython3",
   "version": "3.9.12"
  },
  "toc": {
   "base_numbering": 1,
   "nav_menu": {},
   "number_sections": true,
   "sideBar": true,
   "skip_h1_title": true,
   "title_cell": "Table of Contents",
   "title_sidebar": "Contents",
   "toc_cell": false,
   "toc_position": {},
   "toc_section_display": true,
   "toc_window_display": false
  }
 },
 "nbformat": 4,
 "nbformat_minor": 2
}
