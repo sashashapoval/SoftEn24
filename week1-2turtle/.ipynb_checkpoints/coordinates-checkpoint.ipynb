{
 "cells": [
  {
   "cell_type": "code",
   "execution_count": 2,
   "id": "9a28bfa2",
   "metadata": {},
   "outputs": [],
   "source": [
    "#Draw image and return home\n",
    "def draw_image(points, scale = 1):\n",
    "    po = [[p[0] * scale, p[1] * scale] for p in points]\n",
    "    t.penup()\n",
    "    t.setx(po[0][0]) \n",
    "    t.sety(po[0][1])\n",
    "    t.pendown()\n",
    "    for p in po:\n",
    "        t.goto(p[0], p[1])\n",
    "    t.penup()\n",
    "    t.home()\n",
    "    t.pendown()\n",
    "    return\n",
    "\n",
    "#Draw dot and return home\n",
    "def draw_dot(dot, scale = 1, size = 5, color = 'black'):\n",
    "    dot = [dot[0] * scale, dot[1] * scale]\n",
    "    t.penup()\n",
    "    t.goto(dot[0], dot[1])\n",
    "    t.pendown()\n",
    "    t.dot(size, color)\n",
    "    t.penup()\n",
    "    t.home()\n",
    "    t.pendown()\n",
    "    return"
   ]
  },
  {
   "cell_type": "code",
   "execution_count": 36,
   "id": "667e92bf",
   "metadata": {},
   "outputs": [],
   "source": [
    "#to reset the turtle\n",
    "t.reset()"
   ]
  },
  {
   "cell_type": "code",
   "execution_count": 35,
   "id": "b5f4f30d",
   "metadata": {},
   "outputs": [
    {
     "ename": "KeyboardInterrupt",
     "evalue": "",
     "output_type": "error",
     "traceback": [
      "\u001b[1;31m---------------------------------------------------------------------------\u001b[0m",
      "\u001b[1;31mKeyboardInterrupt\u001b[0m                         Traceback (most recent call last)",
      "\u001b[1;32m~\\AppData\\Local\\Temp/ipykernel_14308/4069602750.py\u001b[0m in \u001b[0;36m<module>\u001b[1;34m\u001b[0m\n\u001b[0;32m     10\u001b[0m \u001b[0mdraw_dot\u001b[0m\u001b[1;33m(\u001b[0m\u001b[0mdot\u001b[0m\u001b[1;33m,\u001b[0m \u001b[0mscale\u001b[0m\u001b[1;33m)\u001b[0m\u001b[1;33m\u001b[0m\u001b[1;33m\u001b[0m\u001b[0m\n\u001b[0;32m     11\u001b[0m \u001b[1;33m\u001b[0m\u001b[0m\n\u001b[1;32m---> 12\u001b[1;33m \u001b[0mturtle\u001b[0m\u001b[1;33m.\u001b[0m\u001b[0mmainloop\u001b[0m\u001b[1;33m(\u001b[0m\u001b[1;33m)\u001b[0m\u001b[1;33m\u001b[0m\u001b[1;33m\u001b[0m\u001b[0m\n\u001b[0m",
      "\u001b[1;32mC:\\Anaconda3\\lib\\turtle.py\u001b[0m in \u001b[0;36mmainloop\u001b[1;34m()\u001b[0m\n",
      "\u001b[1;32mC:\\Anaconda3\\lib\\turtle.py\u001b[0m in \u001b[0;36mmainloop\u001b[1;34m(self)\u001b[0m\n\u001b[0;32m    810\u001b[0m \u001b[1;33m\u001b[0m\u001b[0m\n\u001b[0;32m    811\u001b[0m         \"\"\"\n\u001b[1;32m--> 812\u001b[1;33m         \u001b[0mself\u001b[0m\u001b[1;33m.\u001b[0m\u001b[0mcv\u001b[0m\u001b[1;33m.\u001b[0m\u001b[0mtk\u001b[0m\u001b[1;33m.\u001b[0m\u001b[0mmainloop\u001b[0m\u001b[1;33m(\u001b[0m\u001b[1;33m)\u001b[0m\u001b[1;33m\u001b[0m\u001b[1;33m\u001b[0m\u001b[0m\n\u001b[0m\u001b[0;32m    813\u001b[0m \u001b[1;33m\u001b[0m\u001b[0m\n\u001b[0;32m    814\u001b[0m     \u001b[1;32mdef\u001b[0m \u001b[0mtextinput\u001b[0m\u001b[1;33m(\u001b[0m\u001b[0mself\u001b[0m\u001b[1;33m,\u001b[0m \u001b[0mtitle\u001b[0m\u001b[1;33m,\u001b[0m \u001b[0mprompt\u001b[0m\u001b[1;33m)\u001b[0m\u001b[1;33m:\u001b[0m\u001b[1;33m\u001b[0m\u001b[1;33m\u001b[0m\u001b[0m\n",
      "\u001b[1;31mKeyboardInterrupt\u001b[0m: "
     ]
    }
   ],
   "source": [
    "import turtle\n",
    "t=turtle.Turtle()\n",
    "turtle.delay(40) #delay in miliseconds at each step\n",
    "scale = 10 #scales the image\n",
    "\n",
    "points = [[1, 13], [3, 13], [4, 14], [5, 14], [6, 15], [6, 14], [9, 11], [18, 11], [20, 9], [20, 5], [19, 3], [19, 7], [17, 1], [15, 1], [16, 2], [16, 4], [15, 7], [13, 6], [10, 7], [9, 7], [8, 6], [7, 2], [7, 1], [5, 1], [6, 2], [6, 7], [5, 8], [4, 11], [1, 12], [1, 13]]\n",
    "dot = [4, 13]\n",
    "\n",
    "draw_image(points, scale)\n",
    "draw_dot(dot, scale)\n",
    "\n",
    "turtle.mainloop()\n"
   ]
  },
  {
   "cell_type": "code",
   "execution_count": 30,
   "id": "67a79bff",
   "metadata": {},
   "outputs": [],
   "source": [
    "t.reset()"
   ]
  },
  {
   "cell_type": "code",
   "execution_count": 31,
   "id": "569d2c71",
   "metadata": {},
   "outputs": [
    {
     "ename": "KeyboardInterrupt",
     "evalue": "",
     "output_type": "error",
     "traceback": [
      "\u001b[1;31m---------------------------------------------------------------------------\u001b[0m",
      "\u001b[1;31mKeyboardInterrupt\u001b[0m                         Traceback (most recent call last)",
      "\u001b[1;32m~\\AppData\\Local\\Temp/ipykernel_14308/4091432511.py\u001b[0m in \u001b[0;36m<module>\u001b[1;34m\u001b[0m\n\u001b[0;32m     16\u001b[0m \u001b[0mdraw_dot\u001b[0m\u001b[1;33m(\u001b[0m\u001b[0mdot2\u001b[0m\u001b[1;33m,\u001b[0m \u001b[0mscale\u001b[0m\u001b[1;33m)\u001b[0m\u001b[1;33m\u001b[0m\u001b[1;33m\u001b[0m\u001b[0m\n\u001b[0;32m     17\u001b[0m \u001b[1;33m\u001b[0m\u001b[0m\n\u001b[1;32m---> 18\u001b[1;33m \u001b[0mturtle\u001b[0m\u001b[1;33m.\u001b[0m\u001b[0mmainloop\u001b[0m\u001b[1;33m(\u001b[0m\u001b[1;33m)\u001b[0m\u001b[1;33m\u001b[0m\u001b[1;33m\u001b[0m\u001b[0m\n\u001b[0m",
      "\u001b[1;32mC:\\Anaconda3\\lib\\turtle.py\u001b[0m in \u001b[0;36mmainloop\u001b[1;34m()\u001b[0m\n",
      "\u001b[1;32mC:\\Anaconda3\\lib\\turtle.py\u001b[0m in \u001b[0;36mmainloop\u001b[1;34m(self)\u001b[0m\n\u001b[0;32m    810\u001b[0m \u001b[1;33m\u001b[0m\u001b[0m\n\u001b[0;32m    811\u001b[0m         \"\"\"\n\u001b[1;32m--> 812\u001b[1;33m         \u001b[0mself\u001b[0m\u001b[1;33m.\u001b[0m\u001b[0mcv\u001b[0m\u001b[1;33m.\u001b[0m\u001b[0mtk\u001b[0m\u001b[1;33m.\u001b[0m\u001b[0mmainloop\u001b[0m\u001b[1;33m(\u001b[0m\u001b[1;33m)\u001b[0m\u001b[1;33m\u001b[0m\u001b[1;33m\u001b[0m\u001b[0m\n\u001b[0m\u001b[0;32m    813\u001b[0m \u001b[1;33m\u001b[0m\u001b[0m\n\u001b[0;32m    814\u001b[0m     \u001b[1;32mdef\u001b[0m \u001b[0mtextinput\u001b[0m\u001b[1;33m(\u001b[0m\u001b[0mself\u001b[0m\u001b[1;33m,\u001b[0m \u001b[0mtitle\u001b[0m\u001b[1;33m,\u001b[0m \u001b[0mprompt\u001b[0m\u001b[1;33m)\u001b[0m\u001b[1;33m:\u001b[0m\u001b[1;33m\u001b[0m\u001b[1;33m\u001b[0m\u001b[0m\n",
      "\u001b[1;31mKeyboardInterrupt\u001b[0m: "
     ]
    }
   ],
   "source": [
    "import turtle\n",
    "t=turtle.Turtle()\n",
    "turtle.delay(60) #delay in miliseconds at each step\n",
    "scale = 10 #scales the image\n",
    "\n",
    "points1 = [3, 4], [4, 5], [4, 6], [3, 7], [2, 7], [1, 6], [1, 4], [3, 2], [6, 2], [6, 5], [9, 8], [8, 9], [7, 8], [5, 8], [3, 10], [3, 12], [5, 14], [7, 14], [8, 13], [9, 14], [8, 15], [8, 17], [10, 19], [12, 19], [14, 17], [14, 15], [13, 14], [17, 10], [17, 9], [16, 8], [12, 8], [15, 5], [15, 4], [14, 4], [15, 3], [15, 2], [14, 1], [7, 1], [6, 2]\n",
    "points2 = [17, 12], [16, 10], [18, 11]\n",
    "points3 = [14, 7], [15, 9], [15, 7]\n",
    "dot1 = [10, 11]\n",
    "dot2 = [12, 13]\n",
    "\n",
    "draw_image(points1, scale)\n",
    "draw_image(points2, scale)\n",
    "draw_image(points3, scale)\n",
    "draw_dot(dot1, scale)\n",
    "draw_dot(dot2, scale)\n",
    "\n",
    "turtle.mainloop()\n"
   ]
  },
  {
   "cell_type": "code",
   "execution_count": null,
   "id": "b2a64cc8",
   "metadata": {},
   "outputs": [],
   "source": []
  }
 ],
 "metadata": {
  "kernelspec": {
   "display_name": "Python 3 (ipykernel)",
   "language": "python",
   "name": "python3"
  },
  "language_info": {
   "codemirror_mode": {
    "name": "ipython",
    "version": 3
   },
   "file_extension": ".py",
   "mimetype": "text/x-python",
   "name": "python",
   "nbconvert_exporter": "python",
   "pygments_lexer": "ipython3",
   "version": "3.9.7"
  }
 },
 "nbformat": 4,
 "nbformat_minor": 5
}
