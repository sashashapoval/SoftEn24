{
 "cells": [
  {
   "cell_type": "markdown",
   "id": "5d328037",
   "metadata": {},
   "source": [
    "__Problem 1__\n",
    "\n",
    "Draw a house as in the picture. \n",
    "<br>Write your name with 18 point font. \n",
    "<span><img src=\"house4test.jpg\" alt=\"Drawing\" style=\"float:right;width: 100px;margin:-60px 50px -10px 0px;\"/></span>"
   ]
  },
  {
   "cell_type": "markdown",
   "id": "0c74bb8e",
   "metadata": {},
   "source": [
    "__Problem 2__\n",
    "\n",
    "Draw an equilateral polygon with $n$ sides, where the number $n$ is given by a user (with the `input()` command). The colors has to be varied from red `(255, 0, 0)` to black `(0, 0, 0)` smoothly."
   ]
  },
  {
   "cell_type": "markdown",
   "id": "7a184127",
   "metadata": {},
   "source": [
    "__Problem 3__\n",
    "\n",
    "Draw 20 segments, similar to the example. Each segment is of a certain color. Use 4 colors that you like.\n",
    "<span><img src=\"segments4test.png\" alt=\"Drawing\" style=\"float:right;width: 200px;margin:-10px 50px -50px 0px;\"/></span>"
   ]
  },
  {
   "cell_type": "markdown",
   "id": "a1ca32c5",
   "metadata": {},
   "source": [
    "__Problem 4__\n",
    "\n",
    "Draw $10\\times 10$ square consisting of cells of different colors. \n",
    "<br>The colors populate the square symmetrically, \n",
    "<br> where the center is most close to black. \n",
    "<br> In the sample, the corner cells are defined as `(90, 90, 0)` \n",
    "<br>in the `(255, 255, 255) rgb` color scheme.\n",
    "<span><img src=\"square_clr4test.jpg\" alt=\"Drawing\" style=\"float:right;width: 200px;margin:-100px 50px -10px 0px;\"/></span>"
   ]
  },
  {
   "cell_type": "code",
   "execution_count": 22,
   "id": "6acc3d9b",
   "metadata": {},
   "outputs": [],
   "source": [
    "import turtle\n",
    "t = turtle.Pen()\n"
   ]
  },
  {
   "cell_type": "code",
   "execution_count": 18,
   "id": "e6e9418d",
   "metadata": {},
   "outputs": [],
   "source": [
    "x = -20\n",
    "y = 0\n",
    "t.pu()\n",
    "t.setpos(x, y)\n",
    "t.pd()\n",
    "t.setpos(x + 40,  y)\n",
    "t.setpos(x + 40, y + 40)\n",
    "t.setpos(x + 20, y + 70)\n",
    "t.setpos(x, y + 40)\n",
    "t.setpos(x, y)\n",
    "t.setpos(x, y + 40)\n",
    "t.setpos(x + 40, y + 40)\n",
    "t.pu()\n",
    "t.setpos(x, y-40)\n",
    "t.pd()\n",
    "t.write('Name', font=(\"Arial\", 18, \"normal\"))\n"
   ]
  },
  {
   "cell_type": "code",
   "execution_count": 19,
   "id": "aba6240c",
   "metadata": {},
   "outputs": [
    {
     "name": "stdout",
     "output_type": "stream",
     "text": [
      "GPL Ghostscript 9.27 (2019-04-04)\n",
      "Copyright (C) 2018 Artifex Software, Inc.  All rights reserved.\n",
      "This software is supplied under the GNU AGPLv3 and comes with NO WARRANTY:\n",
      "see the file COPYING for details.\n",
      "Loading NimbusSans-Regular font from %rom%Resource/Font/NimbusSans-Regular... 4293304 2779961 1892424 594010 3 done.\n"
     ]
    }
   ],
   "source": [
    "fname = 'house4test'\n",
    "convert_screen2eps_and_jpg(fname)"
   ]
  },
  {
   "cell_type": "code",
   "execution_count": 23,
   "id": "3b5e461a",
   "metadata": {},
   "outputs": [],
   "source": [
    "t.reset()"
   ]
  },
  {
   "cell_type": "code",
   "execution_count": 12,
   "id": "3d19d8ec",
   "metadata": {},
   "outputs": [],
   "source": [
    "lng = 20\n",
    "for x in range(-100, 100, lng):\n",
    "    for y in range(-100, 100, lng):\n",
    "        t.pu()\n",
    "        t.setpos(x, y)\n",
    "        t.pd()\n",
    "        #t.fillcolor((x % 255)/255, (y % 255)/255, 0)\n",
    "        t.fillcolor(abs(x+lng/2) / 100, abs(y+lng/2) / 100, 0)\n",
    "        t.begin_fill()\n",
    "        for _ in range(4):\n",
    "            t.fd(lng)\n",
    "            t.left(90)\n",
    "        t.end_fill()\n"
   ]
  },
  {
   "cell_type": "code",
   "execution_count": 13,
   "id": "138c3fa0",
   "metadata": {},
   "outputs": [],
   "source": [
    "from tkinter import *  #library used here to save the file\n",
    "def convert_screen2eps_and_jpg(fname):\n",
    "    turtle.getscreen().getcanvas().postscript(file = f'{fname}.eps')\n",
    "    !\"c:/Program Files/gs/gs9.27/bin/gswin64c.exe\" -sDEVICE=jpeg -dJPEGQ=100 -dNOPAUSE -dBATCH -dSAFER -r300 -sOutputFile={fname}.jpg {fname}.eps"
   ]
  },
  {
   "cell_type": "code",
   "execution_count": 14,
   "id": "c8979ceb",
   "metadata": {},
   "outputs": [
    {
     "name": "stdout",
     "output_type": "stream",
     "text": [
      "GPL Ghostscript 9.27 (2019-04-04)\n",
      "Copyright (C) 2018 Artifex Software, Inc.  All rights reserved.\n",
      "This software is supplied under the GNU AGPLv3 and comes with NO WARRANTY:\n",
      "see the file COPYING for details.\n"
     ]
    }
   ],
   "source": [
    "fname = 'square_clr4test'\n",
    "convert_screen2eps_and_jpg(fname)"
   ]
  },
  {
   "cell_type": "code",
   "execution_count": 24,
   "id": "e4f9ee09",
   "metadata": {},
   "outputs": [],
   "source": [
    "turtle.bye()"
   ]
  },
  {
   "cell_type": "code",
   "execution_count": null,
   "id": "f5a1627b",
   "metadata": {},
   "outputs": [],
   "source": []
  }
 ],
 "metadata": {
  "kernelspec": {
   "display_name": "Python 3 (ipykernel)",
   "language": "python",
   "name": "python3"
  },
  "language_info": {
   "codemirror_mode": {
    "name": "ipython",
    "version": 3
   },
   "file_extension": ".py",
   "mimetype": "text/x-python",
   "name": "python",
   "nbconvert_exporter": "python",
   "pygments_lexer": "ipython3",
   "version": "3.9.18"
  },
  "toc": {
   "base_numbering": 1,
   "nav_menu": {},
   "number_sections": true,
   "sideBar": true,
   "skip_h1_title": false,
   "title_cell": "Table of Contents",
   "title_sidebar": "Contents",
   "toc_cell": false,
   "toc_position": {},
   "toc_section_display": true,
   "toc_window_display": false
  }
 },
 "nbformat": 4,
 "nbformat_minor": 5
}
