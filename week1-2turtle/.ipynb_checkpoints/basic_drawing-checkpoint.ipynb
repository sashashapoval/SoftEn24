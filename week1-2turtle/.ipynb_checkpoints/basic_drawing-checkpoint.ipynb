{
 "cells": [
  {
   "cell_type": "markdown",
   "id": "ff296ddf",
   "metadata": {},
   "source": [
    "## My first drawing\n",
    "\n",
    "### Starting and Ending\n",
    "\n",
    "```python\n",
    "#beginning\n",
    "import turtle #importing library\n",
    "t = turtle.Pen() #creating a new pen (called turtle in this jargon)\n",
    "```\n",
    "\n",
    "* a new window with drawing appears\n",
    "* let's draw something\n",
    "```python\n",
    "t.forward(120)\n",
    "```\n",
    "* the window is inactive now\n",
    "* you can reset it with\n",
    "```python\n",
    "t.reset()\n",
    "```\n",
    "* typed in a separate window\n",
    "* It is also possible to to type in a separate window\n",
    "```python\n",
    "turtle.bye()\n",
    "```\n",
    "the window with drawing disappears, but you may experience an error message when you run the code for the next time. But the second run is expected to be successful.\n",
    "* In contrast, it is possible to type\n",
    "```python\n",
    "turtle.mainloop()\n",
    "```\n",
    "in the last line of the code. Then the window with drawing is clickable. In particular, one may close it clicking the red cross in the upper right window corner.\n"
   ]
  },
  {
   "cell_type": "code",
   "execution_count": 30,
   "id": "f3ad7bec",
   "metadata": {},
   "outputs": [],
   "source": [
    "import turtle #importing library\n",
    "t = turtle.Pen() #creating a new pen (called turtle in this jargon)\n",
    "t.forward(120)"
   ]
  },
  {
   "cell_type": "code",
   "execution_count": 31,
   "id": "e0ce54d9",
   "metadata": {},
   "outputs": [],
   "source": [
    "t.reset()"
   ]
  },
  {
   "cell_type": "code",
   "execution_count": 6,
   "id": "5ab1ffbf",
   "metadata": {},
   "outputs": [],
   "source": [
    "import turtle #importing library\n",
    "t = turtle.Pen() #creating a new pen (called turtle in this jargon)\n",
    "t.forward(120)\n",
    "turtle.mainloop()"
   ]
  },
  {
   "cell_type": "markdown",
   "id": "05a8f2c4",
   "metadata": {},
   "source": [
    "### Saving drawing as an image\n",
    "\n",
    "#### `eps`-output\n",
    "\n",
    "```python\n",
    "from tkinter import *  #library used here to save the file\n",
    "ts = turtle.getscreen() #ts gets the screen with drawing\n",
    "ts.getcanvas().postscript(file = 'arrow.eps') #creating eps-file\n",
    "```"
   ]
  },
  {
   "cell_type": "code",
   "execution_count": 32,
   "id": "d2ed2d95",
   "metadata": {},
   "outputs": [],
   "source": [
    "from tkinter import *  #library used here to save the file\n",
    "import turtle #importing library\n",
    "t = turtle.Pen() #creating a new pen (called turtle in this jargon)\n",
    "t.forward(120)\n",
    "ts = turtle.getscreen()\n",
    "ts.getcanvas().postscript(file = 'arrow.eps')\n",
    "turtle.mainloop()"
   ]
  },
  {
   "cell_type": "markdown",
   "id": "4d2b0b2b",
   "metadata": {},
   "source": [
    "#### eps to jpg\n",
    "\n",
    "* there are many ways to do\n",
    "* I used `ghostscript` installed on my computer. It is unrelated with Python.\n",
    "* !`command` runs the shell `command` within the cell"
   ]
  },
  {
   "cell_type": "code",
   "execution_count": 33,
   "id": "c9ed6f3a",
   "metadata": {},
   "outputs": [
    {
     "name": "stdout",
     "output_type": "stream",
     "text": [
      "GPL Ghostscript 9.27 (2019-04-04)\n",
      "Copyright (C) 2018 Artifex Software, Inc.  All rights reserved.\n",
      "This software is supplied under the GNU AGPLv3 and comes with NO WARRANTY:\n",
      "see the file COPYING for details.\n"
     ]
    }
   ],
   "source": [
    "!\"c:/Program Files/gs/gs9.27/bin/gswin64c.exe\" -sDEVICE=jpeg -dJPEGQ=100 -dNOPAUSE -dBATCH -dSAFER -r300 -sOutputFile=arrow.jpg arrow.eps"
   ]
  },
  {
   "cell_type": "code",
   "execution_count": 20,
   "id": "16bdcb2b",
   "metadata": {},
   "outputs": [
    {
     "name": "stdout",
     "output_type": "stream",
     "text": [
      "GPL Ghostscript 9.27 (2019-04-04)\n",
      "Copyright (C) 2018 Artifex Software, Inc.  All rights reserved.\n",
      "This software is supplied under the GNU AGPLv3 and comes with NO WARRANTY:\n",
      "see the file COPYING for details.\n"
     ]
    }
   ],
   "source": [
    "#controling the image size with -g\n",
    "!\"c:/Program Files/gs/gs9.27/bin/gswin64c.exe\" -sDEVICE=jpeg -g50x30 -dNOPAUSE -dBATCH -dSAFER -r300 -sOutputFile=arrow.jpg arrow.eps"
   ]
  },
  {
   "cell_type": "markdown",
   "id": "c7c597f3",
   "metadata": {},
   "source": [
    "`<img src=\"arrow.jpg\" alt=\"Drawing\" style=\"width: 100px;\"/>` displays our drawing\n",
    "<img src=\"arrow.jpg\" alt=\"Drawing\" style=\"width: 300px; height: 100px;\"/>"
   ]
  },
  {
   "cell_type": "markdown",
   "id": "e2964806",
   "metadata": {},
   "source": [
    "## Simple figures\n",
    "\n",
    "### Square"
   ]
  },
  {
   "cell_type": "code",
   "execution_count": 35,
   "id": "999811dd",
   "metadata": {},
   "outputs": [],
   "source": [
    "import turtle\n",
    "t = turtle.Pen()\n",
    "for _ in range(4):\n",
    "    t.forward(120)\n",
    "    t.left(90) #turn 90 degree left\n",
    "#turtle.mainloop()"
   ]
  },
  {
   "cell_type": "code",
   "execution_count": 37,
   "id": "28e9aaed",
   "metadata": {},
   "outputs": [],
   "source": [
    "t.reset()"
   ]
  },
  {
   "cell_type": "markdown",
   "id": "9ee73d62",
   "metadata": {},
   "source": [
    "__Loops__"
   ]
  },
  {
   "cell_type": "code",
   "execution_count": 36,
   "id": "c61d6a51",
   "metadata": {},
   "outputs": [
    {
     "name": "stdout",
     "output_type": "stream",
     "text": [
      "0\n",
      "1\n",
      "2\n",
      "3\n"
     ]
    }
   ],
   "source": [
    "for i in range(4):\n",
    "    print(i)"
   ]
  },
  {
   "cell_type": "markdown",
   "id": "9f6432aa",
   "metadata": {},
   "source": [
    "<details>\n",
    "  <summary><span style = \"font-weight:bold; color:blue;\"><u><li>Question: </li></u></span>Write the code that draws an equilateral polygon with $6$ sides.\n",
    "  </summary>\n",
    "  \n",
    "  <code>\n",
    "    n = 6\n",
    "    for _ in range(n):\n",
    "        t.forward(120)\n",
    "        t.left(360/n) \n",
    "  </code>\n",
    "\n",
    "</details>\n"
   ]
  },
  {
   "cell_type": "markdown",
   "id": "b7be36d3",
   "metadata": {},
   "source": [
    "### A bit more complicated figures"
   ]
  },
  {
   "cell_type": "markdown",
   "id": "f325d598",
   "metadata": {},
   "source": [
    "<details>\n",
    "  <summary><span style = \"font-weight:bold; color:blue;\"><u><li>Question: </li></u></span>Draw<br><img src=\"snake.jpg\" alt=\"Drawing\" style=\"width: 150px; height: 60px;\"/>\n",
    "  </summary>\n",
    "  \n",
    "  <code>\n",
    "    l_big = 100\n",
    "    l_sml = 30\n",
    "    for _ in range(3):\n",
    "        t.left(90)\n",
    "        t.forward(l_big)\n",
    "        t.right(90)\n",
    "        t.forward(l_sml)\n",
    "        t.right(90)\n",
    "        t.forward(l_big)\n",
    "        t.left(90)\n",
    "        t.forward(l_sml)\n",
    "  </code>\n",
    "    \n",
    "  __Saving the code to jpg__ I recommend to crop the figure with a graphical application\n",
    "    \n",
    "  <code>\n",
    "    from tkinter import *  #library used here to save the file\n",
    "    ts = turtle.getscreen()\n",
    "    ts.getcanvas().postscript(file = 'snake.eps')\n",
    "        !\"c:/Program Files/gs/gs9.27/bin/gswin64c.exe\" -sDEVICE=jpeg -dJPEGQ=100 -dNOPAUSE -dBATCH -dSAFER -r300 -sOutputFile=snake.jpg snake.eps\n",
    "  </code>\n",
    "    \n",
    "</details>\n",
    "\n"
   ]
  },
  {
   "cell_type": "markdown",
   "id": "6e3776c6",
   "metadata": {},
   "source": [
    "<details>\n",
    "  <summary><span style = \"font-weight:bold; color:blue;\"><u><li>Question: </li></u></span>Draw<br><img src=\"two_squares.jpg\" alt=\"Drawing\" style=\"width: 150px;\"/>\n",
    "  </summary>\n",
    "  \n",
    "  <code>\n",
    "    for _ in range(4):\n",
    "        t.forward(120)\n",
    "        t.right(90) #turn 90 degree right\n",
    "    for _ in range(4):\n",
    "        t.left(90) #turn 90 degree left\n",
    "        t.forward(120)\n",
    "  </code>\n",
    "    \n",
    "</details>\n"
   ]
  },
  {
   "cell_type": "markdown",
   "id": "9899a22a",
   "metadata": {},
   "source": [
    "<details>\n",
    "  <summary><span style = \"font-weight:bold; color:blue;\"><u><li>Question: </li></u></span>Draw two squares with sides of 50 and 100 as in the sketch<br><img src=\"two_squares_with_single_corner.png\" alt=\"Drawing\" style=\"width: 150px;\"/>\n",
    "  </summary>\n",
    "    \n",
    "  <li>Do it yourself</li>\n",
    "    \n",
    "</details>\n"
   ]
  },
  {
   "cell_type": "markdown",
   "id": "cf44012c",
   "metadata": {},
   "source": [
    "__Moving without drawing__\n",
    "\n",
    "* `penup()` and `pendown()`"
   ]
  },
  {
   "cell_type": "code",
   "execution_count": 53,
   "id": "74533a51",
   "metadata": {},
   "outputs": [],
   "source": [
    "#two separate segments\n",
    "import turtle\n",
    "t = turtle.Pen()\n",
    "t.fd(50)\n",
    "t.pu()\n",
    "t.fd(30)\n",
    "t.pd()\n",
    "t.fd(50)\n"
   ]
  },
  {
   "cell_type": "code",
   "execution_count": 54,
   "id": "d58a3b64",
   "metadata": {},
   "outputs": [],
   "source": [
    "t.reset()"
   ]
  },
  {
   "cell_type": "markdown",
   "id": "48bb2fc8",
   "metadata": {},
   "source": [
    "<details>\n",
    "  <summary><span style = \"font-weight:bold; color:blue;\"><u><li>Question: </li></u></span>Draw the cross as in the sketch<br><img src=\"cross.png\" alt=\"Drawing\" style=\"width: 150px;\"/>\n",
    "  </summary>\n",
    "    \n",
    "  <li>Do it yourself</li>\n",
    "    \n",
    "</details>\n",
    "\n"
   ]
  },
  {
   "cell_type": "markdown",
   "id": "f65bfb7c",
   "metadata": {},
   "source": [
    "<details>\n",
    "  <summary><span style = \"font-weight:bold; color:blue;\"><u><li>Question: </li></u></span>Draw a spiral as in the sketch<br><img src=\"spiral.jpg\" alt=\"Drawing\" style=\"width: 150px;\"/>\n",
    "  </summary>\n",
    "    \n",
    "  <li>Do it yourself</li>\n",
    "    \n",
    "</details>\n"
   ]
  },
  {
   "cell_type": "markdown",
   "id": "f3915729",
   "metadata": {},
   "source": [
    "__Example of a spiral__"
   ]
  },
  {
   "cell_type": "code",
   "execution_count": 57,
   "id": "96a72ebf",
   "metadata": {},
   "outputs": [],
   "source": [
    "#import turtle\n",
    "#t = turtle.Pen()\n",
    "t.speed(0) #to control the speed of the turtle: 0 - very fast; then from 1 to 15 increasing the speed\n",
    "for i in range(400):\n",
    "    t.forward(i)\n",
    "    t.left(91)\n"
   ]
  },
  {
   "cell_type": "code",
   "execution_count": 58,
   "id": "e6eddb02",
   "metadata": {},
   "outputs": [],
   "source": [
    "t.reset()"
   ]
  },
  {
   "cell_type": "markdown",
   "id": "761289e4",
   "metadata": {},
   "source": [
    "<details>\n",
    "  <summary><span style = \"font-weight:bold; color:blue;\"><u><li>Question: </li></u></span>Draw a man as in the sketch<br><img src=\"man.png\" alt=\"Drawing\" style=\"width: 200px;\"/>\n",
    "  </summary>\n",
    "    \n",
    "  <li>Do it yourself</li>\n",
    "    \n",
    "</details>\n",
    "\n"
   ]
  },
  {
   "cell_type": "markdown",
   "id": "8df3e83c",
   "metadata": {},
   "source": [
    "__Changing the position and \"Hello World!\"__"
   ]
  },
  {
   "cell_type": "code",
   "execution_count": 63,
   "id": "768c054c",
   "metadata": {},
   "outputs": [],
   "source": [
    "for _ in range(4):\n",
    "    t.forward(120)\n",
    "    t.left(90)\n",
    "t.penup()\n",
    "t.setpos(0, -30)\n",
    "t.pendown()\n",
    "t.write(\"Hello World!\", font=(\"Arial\", 18, \"normal\"))"
   ]
  },
  {
   "cell_type": "code",
   "execution_count": 64,
   "id": "097a6a93",
   "metadata": {},
   "outputs": [],
   "source": [
    "t.reset()"
   ]
  },
  {
   "cell_type": "code",
   "execution_count": null,
   "id": "0472d0d4",
   "metadata": {},
   "outputs": [],
   "source": []
  }
 ],
 "metadata": {
  "kernelspec": {
   "display_name": "Python 3 (ipykernel)",
   "language": "python",
   "name": "python3"
  },
  "language_info": {
   "codemirror_mode": {
    "name": "ipython",
    "version": 3
   },
   "file_extension": ".py",
   "mimetype": "text/x-python",
   "name": "python",
   "nbconvert_exporter": "python",
   "pygments_lexer": "ipython3",
   "version": "3.9.18"
  },
  "toc": {
   "base_numbering": 1,
   "nav_menu": {},
   "number_sections": true,
   "sideBar": true,
   "skip_h1_title": false,
   "title_cell": "Table of Contents",
   "title_sidebar": "Contents",
   "toc_cell": false,
   "toc_position": {},
   "toc_section_display": true,
   "toc_window_display": false
  }
 },
 "nbformat": 4,
 "nbformat_minor": 5
}
