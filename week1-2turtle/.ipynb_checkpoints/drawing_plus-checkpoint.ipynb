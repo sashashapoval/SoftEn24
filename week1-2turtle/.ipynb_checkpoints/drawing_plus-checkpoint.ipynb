{
 "cells": [
  {
   "cell_type": "markdown",
   "id": "904600d5",
   "metadata": {},
   "source": [
    "# Some more drawing\n",
    "\n",
    "## Repeating"
   ]
  },
  {
   "cell_type": "markdown",
   "id": "65da99c8",
   "metadata": {},
   "source": [
    "<details>\n",
    "  <summary><span style = \"font-weight:bold; color:blue;\"><u><li>Question: </li></u></span>Write the code that draws an equilateral polygon with $8$ sides.\n",
    "  </summary>\n",
    "  \n",
    "  <code>\n",
    "    n = 8\n",
    "    for _ in range(n):\n",
    "        t.forward(120)\n",
    "        t.left(360/n) \n",
    "  </code>\n",
    "\n",
    "</details>"
   ]
  },
  {
   "cell_type": "markdown",
   "id": "0e9bf50b",
   "metadata": {},
   "source": [
    "__Generalization__\n",
    "\n",
    "Let's make an equilateral polygon, where the number of sides is defined by a user.\n",
    "\n",
    "Commands:\n",
    "* `input()` : for input\n",
    "* `eval()` : to transform the input into the numerical value"
   ]
  },
  {
   "cell_type": "code",
   "execution_count": 1,
   "id": "81ec003b",
   "metadata": {},
   "outputs": [
    {
     "name": "stdout",
     "output_type": "stream",
     "text": [
      "type the number of sides 8\n"
     ]
    }
   ],
   "source": [
    "import turtle\n",
    "t = turtle.Pen()\n",
    "n = eval(input(\"type the number of sides \"))\n",
    "for _ in range(n):\n",
    "    t.forward(80)\n",
    "    t.left(360/n) \n"
   ]
  },
  {
   "cell_type": "code",
   "execution_count": 2,
   "id": "59e8c76e",
   "metadata": {},
   "outputs": [],
   "source": [
    "t.reset()\n"
   ]
  },
  {
   "cell_type": "markdown",
   "id": "e90bd233",
   "metadata": {},
   "source": [
    "<details>\n",
    "  <summary><span style = \"font-weight:bold; color:blue;\"><u><li>Question: </li></u></span>How can one imitate a circle\n",
    "  </summary>\n",
    "  \n",
    "  Draw an equilateral polygon with a large number of sides\n",
    "\n",
    "</details>"
   ]
  },
  {
   "cell_type": "markdown",
   "id": "30bafbce",
   "metadata": {},
   "source": [
    "## Colors\n",
    "\n",
    "* `turtle.bgcolor()` for background color\n",
    "* `t.color()` : for the pen color\n",
    "* `t.begin_fill()` ... `t.end_fill()` : to fill in"
   ]
  },
  {
   "cell_type": "code",
   "execution_count": 9,
   "id": "f7a1d2a1",
   "metadata": {},
   "outputs": [],
   "source": [
    "t.speed(0)\n",
    "n = 100\n",
    "t.pu()\n",
    "t.setpos(0, -150)\n",
    "t.pd()\n",
    "t.color('blue', 'yellow')\n",
    "t.begin_fill()\n",
    "for _ in range(n):\n",
    "    t.forward(10)\n",
    "    t.left(360/n) \n",
    "t.end_fill()"
   ]
  },
  {
   "cell_type": "code",
   "execution_count": 24,
   "id": "8b8ab15c",
   "metadata": {},
   "outputs": [],
   "source": [
    "#do not forget to reset the picture if you do not use mainloop()\n",
    "t.reset()"
   ]
  },
  {
   "cell_type": "markdown",
   "id": "62414fae",
   "metadata": {},
   "source": [
    "<details>\n",
    "  <summary><span style = \"font-weight:bold; color:blue;\"><u><li>Question: </li></u></span><span>Draw the following figure with 18 angles<img src=\"18angle.jpg\" alt=\"Drawing\" style=\"float:right;width: 500px;margin:-250px 150px -300px 0px;\"/></span>\n",
    "  </summary>\n",
    "  \n",
    "  <code>\n",
    "turtle.bgcolor('white')\n",
    "t.color('blue', 'yellow')\n",
    "t.begin_fill()\n",
    "for i in range(18):\n",
    "    t.forward(150)\n",
    "    t.left(100)\n",
    "t.end_fill()  </code>\n",
    "    \n",
    "</details>\n"
   ]
  },
  {
   "cell_type": "markdown",
   "id": "4e6c48ce",
   "metadata": {},
   "source": [
    "> Mind the non-colored areas within the figure"
   ]
  },
  {
   "cell_type": "code",
   "execution_count": 22,
   "id": "df26422c",
   "metadata": {},
   "outputs": [],
   "source": [
    "#used to save the above figure\n",
    "from tkinter import *  #library used here to save the file\n",
    "def convert_screen2eps_and_jpg(fname):\n",
    "    turtle.getscreen().getcanvas().postscript(file = f'{fname}.eps')\n",
    "    !\"c:/Program Files/gs/gs9.27/bin/gswin64c.exe\" -sDEVICE=jpeg -dJPEGQ=100 -dNOPAUSE -dBATCH -dSAFER -r300 -sOutputFile={fname}.jpg {fname}.eps"
   ]
  },
  {
   "cell_type": "code",
   "execution_count": 23,
   "id": "4f776b6a",
   "metadata": {},
   "outputs": [
    {
     "name": "stdout",
     "output_type": "stream",
     "text": [
      "GPL Ghostscript 9.27 (2019-04-04)\n",
      "Copyright (C) 2018 Artifex Software, Inc.  All rights reserved.\n",
      "This software is supplied under the GNU AGPLv3 and comes with NO WARRANTY:\n",
      "see the file COPYING for details.\n"
     ]
    }
   ],
   "source": [
    "fname = '18angle'\n",
    "convert_screen2eps_and_jpg(fname)"
   ]
  },
  {
   "cell_type": "markdown",
   "id": "bfd47e14",
   "metadata": {},
   "source": [
    "## Examples of commands affecting the properties of the image"
   ]
  },
  {
   "cell_type": "code",
   "execution_count": 27,
   "id": "ca00a82f",
   "metadata": {},
   "outputs": [],
   "source": [
    "turtle.getscreen().bgcolor(\"orange\") # changing background\n",
    "t.pencolor(\"purple\") # pen color\n",
    "t.fillcolor(\"pink\") # fill color\n",
    "t.pensize(10) # pen size\n",
    "t.begin_fill()# starting filling\n",
    "t.circle(50) #circle\n",
    "t.end_fill() # ending filling\n"
   ]
  },
  {
   "cell_type": "code",
   "execution_count": 28,
   "id": "30c1d7ee",
   "metadata": {},
   "outputs": [],
   "source": [
    "t.reset()"
   ]
  },
  {
   "cell_type": "markdown",
   "id": "5578d706",
   "metadata": {},
   "source": [
    "<details>\n",
    "  <summary><span style = \"font-weight:bold; color:blue;\"><u><li>Question: </li></u></span><span>Draw a square with green contour and yellow filling. Change the default side width.</span>\n",
    "  </summary>\n",
    "  \n",
    "</details>\n"
   ]
  },
  {
   "cell_type": "markdown",
   "id": "36afa16b",
   "metadata": {},
   "source": [
    "__Examples of colors__\n",
    "\n",
    "```python\n",
    "t.pencolor(255, 0, 0) # red\n",
    "t.pencolor(0, 255, 0) # green\n",
    "t.pencolor(0, 0, 255) # blue\n",
    "t.pencolor(0, 0, 0) # black\n",
    "t.pencolor(255, 255, 255) # white\n",
    "t.pencolor(c, c, c) # c \\in [0, 255], various types of gray\n",
    "```"
   ]
  },
  {
   "cell_type": "code",
   "execution_count": null,
   "id": "a3461656",
   "metadata": {},
   "outputs": [],
   "source": [
    "import turtle\n",
    "t = turtle.Pen()\n",
    "t.speed(0)\n",
    "turtle.bgcolor(\"gray\")\n",
    "side = eval(input(\"type the number of sides <= 7 \"))\n",
    "colors = [\"red\", \"orange\", \"yellow\", \"purple\", \"green\", \"magenta\", \"blue\"]\n",
    "for i in range(200):\n",
    "    t.pencolor(colors[i%side])\n",
    "    t.circle(i)\n",
    "    t.left(360/side+1)\n"
   ]
  },
  {
   "cell_type": "code",
   "execution_count": 45,
   "id": "5242e3ef",
   "metadata": {},
   "outputs": [],
   "source": [
    "t.reset()"
   ]
  },
  {
   "cell_type": "markdown",
   "id": "4dacf248",
   "metadata": {},
   "source": [
    "<details>\n",
    "  <summary><span style = \"font-weight:bold; color:blue;\"><u><li>Question: </li></u></span><span>Draw the following target<img src=\"target.png\" alt=\"Drawing\" style=\"float:right;width: 200px;margin:-10px 50px -5px 0px;\"/></span>\n",
    "  </summary>\n",
    "  \n",
    "  <code>\n",
    "turtle.bgcolor('white')\n",
    "clr = ['red', 'green']\n",
    "t.speed(0)\n",
    "for i in range(10):\n",
    "    t.color(clr[i%2])\n",
    "    t.pu()\n",
    "    t.rt(90)\n",
    "    t.fd(100-i*10)\n",
    "    t.lt(90)\n",
    "    t.pd()\n",
    "    t.begin_fill()\n",
    "    t.circle(100-i*10)\n",
    "    t.end_fill()\n",
    "    t.pu()\n",
    "    t.lt(90)\n",
    "    t.fd(100-i*10)\n",
    "    t.rt(90)\n",
    "    t.pd()\n",
    "  </code>\n",
    "    \n",
    "</details>\n"
   ]
  },
  {
   "cell_type": "markdown",
   "id": "ffbd348a",
   "metadata": {},
   "source": [
    "<details>\n",
    "  <summary><span style = \"font-weight:bold; color:blue;\"><u><li>Question: </li></u></span><span>Draw the following 4 segments<br>where colors smoothly vary from black to white<img src=\"4segments.jpg\" alt=\"Drawing\" style=\"float:right;width: 300px;margin:-15px 50px -50px 0px;\"/></span>\n",
    "  </summary>\n",
    "  \n",
    "  <code>\n",
    "#four arrow with changing colors from black to white\n",
    "turtle.colormode(1)\n",
    "t.pu()\n",
    "t.fd(-200)\n",
    "t.pd()\n",
    "for i in range(4):\n",
    "    for n in range(10):\n",
    "        c = n*28/255\n",
    "        t.pencolor(c,c,c)\n",
    "        t.fd(10)\n",
    "  </code>\n",
    "    \n",
    "</details>\n"
   ]
  },
  {
   "cell_type": "markdown",
   "id": "cd478e1f",
   "metadata": {},
   "source": [
    "<details>\n",
    "  <summary><span style = \"font-weight:bold; color:blue;\"><u><li>Question: </li></u></span><span>Draw a chess board<img src=\"chess_board.png\" alt=\"Drawing\" style=\"float:right;width: 200px;margin:-10px 50px -5px 0px;\"/></span>\n",
    "  </summary>\n",
    "  \n",
    "  <code>\n",
    "  </code>\n",
    "    \n",
    "</details>\n"
   ]
  },
  {
   "cell_type": "code",
   "execution_count": 46,
   "id": "f1ae71ec",
   "metadata": {},
   "outputs": [],
   "source": [
    "turtle.bye()"
   ]
  },
  {
   "cell_type": "code",
   "execution_count": null,
   "id": "38684cec",
   "metadata": {},
   "outputs": [],
   "source": []
  }
 ],
 "metadata": {
  "kernelspec": {
   "display_name": "Python 3 (ipykernel)",
   "language": "python",
   "name": "python3"
  },
  "language_info": {
   "codemirror_mode": {
    "name": "ipython",
    "version": 3
   },
   "file_extension": ".py",
   "mimetype": "text/x-python",
   "name": "python",
   "nbconvert_exporter": "python",
   "pygments_lexer": "ipython3",
   "version": "3.9.18"
  },
  "toc": {
   "base_numbering": 1,
   "nav_menu": {},
   "number_sections": true,
   "sideBar": true,
   "skip_h1_title": false,
   "title_cell": "Table of Contents",
   "title_sidebar": "Contents",
   "toc_cell": false,
   "toc_position": {},
   "toc_section_display": true,
   "toc_window_display": false
  }
 },
 "nbformat": 4,
 "nbformat_minor": 5
}
