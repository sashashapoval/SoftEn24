{
 "cells": [
  {
   "cell_type": "markdown",
   "id": "5b5c6ad9",
   "metadata": {},
   "source": [
    "__Problem 1__\n",
    "\n",
    "Draw a house as in the picture. \n",
    "<br>Write your name with 18 point font. \n",
    "<span><img src=\"house4test.jpg\" alt=\"Drawing\" style=\"float:right;width: 100px;margin:-60px 50px -5px 0px;\"/></span>"
   ]
  },
  {
   "cell_type": "markdown",
   "id": "937433a6",
   "metadata": {},
   "source": [
    "__Problem 2__\n",
    "\n",
    "Draw an equilateral polygon with $n$ sides, where the number $n$ is given by a user (with the `input()` command). The colors has to be varied from red `(255, 0, 0)` to black `(0, 0, 0)` smoothly."
   ]
  },
  {
   "cell_type": "markdown",
   "id": "73365e66",
   "metadata": {},
   "source": [
    "__Problem 3__\n",
    "\n",
    "Draw 20 segments, similar to the example. Each segment is of a certain color. Use 4 colors that you like.\n",
    "<span><img src=\"segments4test.png\" alt=\"Drawing\" style=\"float:right;width: 200px;margin:-10px 50px -3px 0px;\"/></span>"
   ]
  },
  {
   "cell_type": "markdown",
   "id": "3d778e24",
   "metadata": {},
   "source": [
    "__Problem 4__\n",
    "\n",
    "Draw $10\\times 10$ square consisting of cells of different colors. \n",
    "<br>The colors populate the square symmetrically, \n",
    "<br> where the center is most close to black. \n",
    "<br> In the sample, the corner cells are defined as `(90, 90, 0)` \n",
    "<br>in the `(255, 255, 255) rgb` color scheme.\n",
    "<span><img src=\"square_clr4test.jpg\" alt=\"Drawing\" style=\"float:right;width: 200px;margin:-100px 50px -3px 0px;\"/></span>"
   ]
  }
 ],
 "metadata": {
  "kernelspec": {
   "display_name": "Python 3 (ipykernel)",
   "language": "python",
   "name": "python3"
  },
  "language_info": {
   "codemirror_mode": {
    "name": "ipython",
    "version": 3
   },
   "file_extension": ".py",
   "mimetype": "text/x-python",
   "name": "python",
   "nbconvert_exporter": "python",
   "pygments_lexer": "ipython3",
   "version": "3.9.18"
  },
  "toc": {
   "base_numbering": 1,
   "nav_menu": {},
   "number_sections": true,
   "sideBar": true,
   "skip_h1_title": false,
   "title_cell": "Table of Contents",
   "title_sidebar": "Contents",
   "toc_cell": false,
   "toc_position": {},
   "toc_section_display": true,
   "toc_window_display": false
  }
 },
 "nbformat": 4,
 "nbformat_minor": 5
}
